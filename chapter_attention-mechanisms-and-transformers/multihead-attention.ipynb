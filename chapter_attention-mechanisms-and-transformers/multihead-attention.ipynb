{
 "cells": [
  {
   "cell_type": "markdown",
   "id": "6c786e3a",
   "metadata": {},
   "source": [
    "Installing (updating) the following libraries for your Sagemaker\n",
    "instance."
   ]
  },
  {
   "cell_type": "code",
   "execution_count": null,
   "id": "da1534dc",
   "metadata": {},
   "outputs": [],
   "source": [
    "!pip install ..  # installing d2l\n",
    "!pip install -U mxnet-cu101==1.7.0\n"
   ]
  },
  {
   "cell_type": "markdown",
   "id": "5fd0ee20",
   "metadata": {
    "origin_pos": 1
   },
   "source": [
    "# Multi-Head Attention\n",
    ":label:`sec_multihead-attention`\n",
    "\n",
    "\n",
    "In practice,\n",
    "given the same set of queries, keys, and values\n",
    "we may want our model to\n",
    "combine knowledge from\n",
    "different behaviors of the same attention mechanism,\n",
    "such as capturing dependencies of various ranges (e.g., shorter-range vs. longer-range)\n",
    "within a sequence.\n",
    "Thus, \n",
    "it may be beneficial \n",
    "to allow our attention mechanism\n",
    "to jointly use different representation subspaces\n",
    "of queries, keys, and values.\n",
    "\n",
    "\n",
    "\n",
    "To this end,\n",
    "instead of performing a single attention pooling,\n",
    "queries, keys, and values\n",
    "can be transformed\n",
    "with $h$ independently learned linear projections.\n",
    "Then these $h$ projected queries, keys, and values\n",
    "are fed into attention pooling in parallel.\n",
    "In the end,\n",
    "$h$ attention pooling outputs\n",
    "are concatenated and \n",
    "transformed with another learned linear projection\n",
    "to produce the final output.\n",
    "This design\n",
    "is called *multi-head attention*,\n",
    "where each of the $h$ attention pooling outputs\n",
    "is a *head* :cite:`Vaswani.Shazeer.Parmar.ea.2017`.\n",
    "Using fully connected layers\n",
    "to perform learnable linear transformations,\n",
    ":numref:`fig_multi-head-attention`\n",
    "describes multi-head attention.\n",
    "\n",
    "![Multi-head attention, where multiple heads are concatenated then linearly transformed.](../img/multi-head-attention.svg)\n",
    ":label:`fig_multi-head-attention`\n",
    "\n",
    "\n",
    "\n",
    "\n",
    "## Model\n",
    "\n",
    "Before providing the implementation of multi-head attention,\n",
    "let's formalize this model mathematically.\n",
    "Given a query $\\mathbf{q} \\in \\mathbb{R}^{d_q}$,\n",
    "a key $\\mathbf{k} \\in \\mathbb{R}^{d_k}$,\n",
    "and a value $\\mathbf{v} \\in \\mathbb{R}^{d_v}$,\n",
    "each attention head $\\mathbf{h}_i$  ($i = 1, \\ldots, h$)\n",
    "is computed as\n",
    "\n",
    "$$\\mathbf{h}_i = f(\\mathbf W_i^{(q)}\\mathbf q, \\mathbf W_i^{(k)}\\mathbf k,\\mathbf W_i^{(v)}\\mathbf v) \\in \\mathbb R^{p_v},$$\n",
    "\n",
    "where learnable parameters\n",
    "$\\mathbf W_i^{(q)}\\in\\mathbb R^{p_q\\times d_q}$,\n",
    "$\\mathbf W_i^{(k)}\\in\\mathbb R^{p_k\\times d_k}$\n",
    "and $\\mathbf W_i^{(v)}\\in\\mathbb R^{p_v\\times d_v}$,\n",
    "and\n",
    "$f$ is attention pooling,\n",
    "such as\n",
    "additive attention and scaled dot-product attention\n",
    "in :numref:`sec_attention-scoring-functions`.\n",
    "The multi-head attention output\n",
    "is another linear transformation via \n",
    "learnable parameters\n",
    "$\\mathbf W_o\\in\\mathbb R^{p_o\\times h p_v}$\n",
    "of the concatenation of $h$ heads:\n",
    "\n",
    "$$\\mathbf W_o \\begin{bmatrix}\\mathbf h_1\\\\\\vdots\\\\\\mathbf h_h\\end{bmatrix} \\in \\mathbb{R}^{p_o}.$$\n",
    "\n",
    "Based on this design,\n",
    "each head may attend to different parts of the input.\n",
    "More sophisticated functions than the simple weighted average\n",
    "can be expressed.\n"
   ]
  },
  {
   "cell_type": "code",
   "execution_count": 1,
   "id": "f0eb5319",
   "metadata": {
    "execution": {
     "iopub.execute_input": "2022-07-13T09:14:30.179087Z",
     "iopub.status.busy": "2022-07-13T09:14:30.178523Z",
     "iopub.status.idle": "2022-07-13T09:14:32.701029Z",
     "shell.execute_reply": "2022-07-13T09:14:32.700074Z"
    },
    "origin_pos": 2,
    "tab": [
     "mxnet"
    ]
   },
   "outputs": [],
   "source": [
    "import math\n",
    "from mxnet import autograd, np, npx\n",
    "from mxnet.gluon import nn\n",
    "from d2l import mxnet as d2l\n",
    "\n",
    "npx.set_np()"
   ]
  },
  {
   "cell_type": "markdown",
   "id": "30dd70f5",
   "metadata": {
    "origin_pos": 5
   },
   "source": [
    "## Implementation\n",
    "\n",
    "In our implementation,\n",
    "we [**choose the scaled dot-product attention\n",
    "for each head**] of the multi-head attention.\n",
    "To avoid significant growth\n",
    "of computational cost and parameterization cost,\n",
    "we set\n",
    "$p_q = p_k = p_v = p_o / h$.\n",
    "Note that $h$ heads\n",
    "can be computed in parallel\n",
    "if we set\n",
    "the number of outputs of linear transformations\n",
    "for the query, key, and value\n",
    "to $p_q h = p_k h = p_v h = p_o$.\n",
    "In the following implementation,\n",
    "$p_o$ is specified via the argument `num_hiddens`.\n"
   ]
  },
  {
   "cell_type": "code",
   "execution_count": 2,
   "id": "bb12a6f9",
   "metadata": {
    "execution": {
     "iopub.execute_input": "2022-07-13T09:14:32.705545Z",
     "iopub.status.busy": "2022-07-13T09:14:32.704933Z",
     "iopub.status.idle": "2022-07-13T09:14:32.714098Z",
     "shell.execute_reply": "2022-07-13T09:14:32.713162Z"
    },
    "origin_pos": 6,
    "tab": [
     "mxnet"
    ]
   },
   "outputs": [],
   "source": [
    "#@save\n",
    "class MultiHeadAttention(d2l.Module):\n",
    "    \"\"\"Multi-head attention.\"\"\"\n",
    "    def __init__(self, num_hiddens, num_heads, dropout, use_bias=False,\n",
    "                 **kwargs):\n",
    "        super().__init__()\n",
    "        self.num_heads = num_heads\n",
    "        self.attention = d2l.DotProductAttention(dropout, num_heads)\n",
    "        self.W_q = nn.Dense(num_hiddens, use_bias=use_bias, flatten=False)\n",
    "        self.W_k = nn.Dense(num_hiddens, use_bias=use_bias, flatten=False)\n",
    "        self.W_v = nn.Dense(num_hiddens, use_bias=use_bias, flatten=False)\n",
    "        self.W_o = nn.Dense(num_hiddens, use_bias=use_bias, flatten=False)\n",
    "\n",
    "    def forward(self, queries, keys, values, valid_lens, window_mask=None):\n",
    "        # Shape of queries, keys, or values:\n",
    "        # (batch_size, no. of queries or key-value pairs, num_hiddens)\n",
    "        # Shape of valid_lens: (batch_size,) or (batch_size, no. of queries)\n",
    "        # After transposing, shape of output queries, keys, or values:\n",
    "        # (batch_size * num_heads, no. of queries or key-value pairs,\n",
    "        # num_hiddens / num_heads)\n",
    "        queries = self.transpose_qkv(self.W_q(queries))\n",
    "        keys = self.transpose_qkv(self.W_k(keys))\n",
    "        values = self.transpose_qkv(self.W_v(values))\n",
    "\n",
    "        if valid_lens is not None:\n",
    "            # On axis 0, copy the first item (scalar or vector) for num_heads\n",
    "            # times, then copy the next item, and so on\n",
    "            valid_lens = valid_lens.repeat(self.num_heads, axis=0)\n",
    "\n",
    "        # Shape of output: (batch_size * num_heads, no. of queries,\n",
    "        # num_hiddens / num_heads)\n",
    "        output = self.attention(queries, keys, values, valid_lens,\n",
    "                                window_mask)\n",
    "\n",
    "        # Shape of output_concat: (batch_size, no. of queries, num_hiddens)\n",
    "        output_concat = self.transpose_output(output)\n",
    "        return self.W_o(output_concat)"
   ]
  },
  {
   "cell_type": "markdown",
   "id": "7e0c4952",
   "metadata": {
    "origin_pos": 9
   },
   "source": [
    "To allow for [**parallel computation of multiple heads**],\n",
    "the above `MultiHeadAttention` class uses two transposition methods as defined below.\n",
    "Specifically,\n",
    "the `transpose_output` method reverses the operation\n",
    "of the `transpose_qkv` method.\n"
   ]
  },
  {
   "cell_type": "code",
   "execution_count": 3,
   "id": "1d26c14d",
   "metadata": {
    "execution": {
     "iopub.execute_input": "2022-07-13T09:14:32.717944Z",
     "iopub.status.busy": "2022-07-13T09:14:32.717434Z",
     "iopub.status.idle": "2022-07-13T09:14:32.724141Z",
     "shell.execute_reply": "2022-07-13T09:14:32.723278Z"
    },
    "origin_pos": 10,
    "tab": [
     "mxnet"
    ]
   },
   "outputs": [],
   "source": [
    "@d2l.add_to_class(MultiHeadAttention)  #@save\n",
    "def transpose_qkv(self, X):\n",
    "    \"\"\"Transposition for parallel computation of multiple attention heads.\"\"\"\n",
    "    # Shape of input X: (batch_size, no. of queries or key-value pairs,\n",
    "    # num_hiddens). Shape of output X: (batch_size, no. of queries or\n",
    "    # key-value pairs, num_heads, num_hiddens / num_heads)\n",
    "    X = X.reshape(X.shape[0], X.shape[1], self.num_heads, -1)\n",
    "    # Shape of output X: (batch_size, num_heads, no. of queries or key-value\n",
    "    # pairs, num_hiddens / num_heads)\n",
    "    X = X.transpose(0, 2, 1, 3)\n",
    "    # Shape of output: (batch_size * num_heads, no. of queries or key-value\n",
    "    # pairs, num_hiddens / num_heads)\n",
    "    return X.reshape(-1, X.shape[2], X.shape[3])\n",
    "\n",
    "@d2l.add_to_class(MultiHeadAttention)  #@save\n",
    "def transpose_output(self, X):\n",
    "    \"\"\"Reverse the operation of transpose_qkv.\"\"\"\n",
    "    X = X.reshape(-1, self.num_heads, X.shape[1], X.shape[2])\n",
    "    X = X.transpose(0, 2, 1, 3)\n",
    "    return X.reshape(X.shape[0], X.shape[1], -1)"
   ]
  },
  {
   "cell_type": "markdown",
   "id": "cc226554",
   "metadata": {
    "origin_pos": 13
   },
   "source": [
    "Let's [**test our implemented**] `MultiHeadAttention` class\n",
    "using a toy example where keys and values are the same.\n",
    "As a result,\n",
    "the shape of the multi-head attention output\n",
    "is (`batch_size`, `num_queries`, `num_hiddens`).\n"
   ]
  },
  {
   "cell_type": "code",
   "execution_count": 4,
   "id": "0c3332ce",
   "metadata": {
    "execution": {
     "iopub.execute_input": "2022-07-13T09:14:32.727843Z",
     "iopub.status.busy": "2022-07-13T09:14:32.727380Z",
     "iopub.status.idle": "2022-07-13T09:14:32.732307Z",
     "shell.execute_reply": "2022-07-13T09:14:32.731470Z"
    },
    "origin_pos": 14,
    "tab": [
     "mxnet"
    ]
   },
   "outputs": [],
   "source": [
    "num_hiddens, num_heads = 100, 5\n",
    "attention = MultiHeadAttention(num_hiddens, num_heads, 0.5)\n",
    "attention.initialize()"
   ]
  },
  {
   "cell_type": "code",
   "execution_count": 5,
   "id": "3cd3afc8",
   "metadata": {
    "execution": {
     "iopub.execute_input": "2022-07-13T09:14:32.736000Z",
     "iopub.status.busy": "2022-07-13T09:14:32.735339Z",
     "iopub.status.idle": "2022-07-13T09:14:32.749798Z",
     "shell.execute_reply": "2022-07-13T09:14:32.748682Z"
    },
    "origin_pos": 17,
    "tab": [
     "mxnet"
    ]
   },
   "outputs": [],
   "source": [
    "batch_size, num_queries, num_kvpairs, valid_lens = 2, 4, 6, np.array([3, 2])\n",
    "X = np.ones((batch_size, num_queries, num_hiddens))\n",
    "Y = np.ones((batch_size, num_kvpairs, num_hiddens))\n",
    "d2l.check_shape(attention(X, Y, Y, valid_lens),\n",
    "                (batch_size, num_queries, num_hiddens))"
   ]
  },
  {
   "cell_type": "markdown",
   "id": "5399a26e",
   "metadata": {
    "origin_pos": 19
   },
   "source": [
    "## Summary\n",
    "\n",
    "* Multi-head attention combines knowledge of the same attention pooling via different representation subspaces of queries, keys, and values.\n",
    "* To compute multiple heads of multi-head attention in parallel, proper tensor manipulation is needed.\n",
    "\n",
    "\n",
    "\n",
    "## Exercises\n",
    "\n",
    "1. Visualize attention weights of multiple heads in this experiment.\n",
    "1. Suppose that we have a trained model based on multi-head attention and we want to prune least important attention heads to increase the prediction speed. How can we design experiments to measure the importance of an attention head?\n"
   ]
  },
  {
   "cell_type": "markdown",
   "id": "9acfe6ad",
   "metadata": {
    "origin_pos": 20,
    "tab": [
     "mxnet"
    ]
   },
   "source": [
    "[Discussions](https://discuss.d2l.ai/t/1634)\n"
   ]
  }
 ],
 "metadata": {
  "kernelspec": {
   "display_name": "conda_mxnet_p36",
   "name": "conda_mxnet_p36"
  },
  "language_info": {
   "name": "python"
  }
 },
 "nbformat": 4,
 "nbformat_minor": 5
}