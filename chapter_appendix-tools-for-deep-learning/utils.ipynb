{
 "cells": [
  {
   "cell_type": "markdown",
   "id": "b79faba6",
   "metadata": {},
   "source": [
    "Installing (updating) the following libraries for your Sagemaker\n",
    "instance."
   ]
  },
  {
   "cell_type": "code",
   "execution_count": null,
   "id": "b131485e",
   "metadata": {},
   "outputs": [],
   "source": [
    "!pip install -U mxnet-cu101==1.7.0\n",
    "!pip install ..  # installing d2l\n"
   ]
  },
  {
   "cell_type": "markdown",
   "id": "5612f7ab",
   "metadata": {
    "origin_pos": 1
   },
   "source": [
    "# Utility Functions and Classes\n",
    ":label:`sec_utils`\n",
    "\n",
    "\n",
    "This section contains the implementations of utility functions and classes used in this book.\n"
   ]
  },
  {
   "cell_type": "code",
   "execution_count": 1,
   "id": "8cee3118",
   "metadata": {
    "execution": {
     "iopub.execute_input": "2022-09-07T22:46:18.846004Z",
     "iopub.status.busy": "2022-09-07T22:46:18.845208Z",
     "iopub.status.idle": "2022-09-07T22:46:21.199729Z",
     "shell.execute_reply": "2022-09-07T22:46:21.198862Z"
    },
    "origin_pos": 2,
    "tab": [
     "mxnet"
    ]
   },
   "outputs": [],
   "source": [
    "import collections\n",
    "import inspect\n",
    "import random\n",
    "from IPython import display\n",
    "from mxnet import autograd, gluon, np, npx\n",
    "from mxnet.gluon import nn\n",
    "from d2l import mxnet as d2l\n",
    "\n",
    "npx.set_np()"
   ]
  },
  {
   "cell_type": "markdown",
   "id": "cba54644",
   "metadata": {
    "origin_pos": 5
   },
   "source": [
    "Hyperparameters.\n"
   ]
  },
  {
   "cell_type": "code",
   "execution_count": 2,
   "id": "ccb5964d",
   "metadata": {
    "execution": {
     "iopub.execute_input": "2022-09-07T22:46:21.204610Z",
     "iopub.status.busy": "2022-09-07T22:46:21.203890Z",
     "iopub.status.idle": "2022-09-07T22:46:21.209814Z",
     "shell.execute_reply": "2022-09-07T22:46:21.209091Z"
    },
    "origin_pos": 6,
    "tab": [
     "mxnet"
    ]
   },
   "outputs": [],
   "source": [
    "@d2l.add_to_class(d2l.HyperParameters)  #@save\n",
    "def save_hyperparameters(self, ignore=[]):\n",
    "    \"\"\"Save function arguments into class attributes.\"\"\"\n",
    "    frame = inspect.currentframe().f_back\n",
    "    _, _, _, local_vars = inspect.getargvalues(frame)\n",
    "    self.hparams = {k:v for k, v in local_vars.items()\n",
    "                    if k not in set(ignore+['self']) and not k.startswith('_')}\n",
    "    for k, v in self.hparams.items():\n",
    "        setattr(self, k, v)"
   ]
  },
  {
   "cell_type": "markdown",
   "id": "b94e0d76",
   "metadata": {
    "origin_pos": 7
   },
   "source": [
    "Progress bar.\n"
   ]
  },
  {
   "cell_type": "code",
   "execution_count": 3,
   "id": "f4c993d2",
   "metadata": {
    "attributes": {
     "classes": [],
     "id": "",
     "n": "22"
    },
    "execution": {
     "iopub.execute_input": "2022-09-07T22:46:21.213333Z",
     "iopub.status.busy": "2022-09-07T22:46:21.212827Z",
     "iopub.status.idle": "2022-09-07T22:46:21.223723Z",
     "shell.execute_reply": "2022-09-07T22:46:21.222617Z"
    },
    "origin_pos": 8,
    "tab": [
     "mxnet"
    ]
   },
   "outputs": [],
   "source": [
    "@d2l.add_to_class(d2l.ProgressBoard)  #@save\n",
    "def draw(self, x, y, label, every_n=1):\n",
    "    Point = collections.namedtuple('Point', ['x', 'y'])\n",
    "    if not hasattr(self, 'raw_points'):\n",
    "        self.raw_points = collections.OrderedDict()\n",
    "        self.data = collections.OrderedDict()\n",
    "    if label not in self.raw_points:\n",
    "        self.raw_points[label] = []\n",
    "        self.data[label] = []\n",
    "    points = self.raw_points[label]\n",
    "    line = self.data[label]\n",
    "    points.append(Point(x, y))\n",
    "    if len(points) != every_n:\n",
    "        return\n",
    "    mean = lambda x: sum(x) / len(x)\n",
    "    line.append(Point(mean([p.x for p in points]),\n",
    "                      mean([p.y for p in points])))\n",
    "    points.clear()\n",
    "    if not self.display:\n",
    "        return\n",
    "    d2l.use_svg_display()\n",
    "    if self.fig is None:\n",
    "        self.fig = d2l.plt.figure(figsize=self.figsize)\n",
    "    plt_lines, labels = [], []\n",
    "    for (k, v), ls, color in zip(self.data.items(), self.ls, self.colors):\n",
    "        plt_lines.append(d2l.plt.plot([p.x for p in v], [p.y for p in v],\n",
    "                                      linestyle=ls, color=color)[0])\n",
    "        labels.append(k)\n",
    "    axes = self.axes if self.axes else d2l.plt.gca()\n",
    "    if self.xlim: axes.set_xlim(self.xlim)\n",
    "    if self.ylim: axes.set_ylim(self.ylim)\n",
    "    if not self.xlabel: self.xlabel = self.x\n",
    "    axes.set_xlabel(self.xlabel)\n",
    "    axes.set_ylabel(self.ylabel)\n",
    "    axes.set_xscale(self.xscale)\n",
    "    axes.set_yscale(self.yscale)\n",
    "    axes.legend(plt_lines, labels)\n",
    "    display.display(self.fig)\n",
    "    display.clear_output(wait=True)"
   ]
  },
  {
   "cell_type": "markdown",
   "id": "1ae28215",
   "metadata": {
    "origin_pos": 9
   },
   "source": [
    "Trainer\n",
    "\n",
    "A bunch of functions that will be deprecated:\n"
   ]
  },
  {
   "cell_type": "code",
   "execution_count": 4,
   "id": "5f195b3a",
   "metadata": {
    "execution": {
     "iopub.execute_input": "2022-09-07T22:46:21.228132Z",
     "iopub.status.busy": "2022-09-07T22:46:21.227868Z",
     "iopub.status.idle": "2022-09-07T22:46:21.247689Z",
     "shell.execute_reply": "2022-09-07T22:46:21.246933Z"
    },
    "origin_pos": 10,
    "tab": [
     "mxnet"
    ]
   },
   "outputs": [],
   "source": [
    "def load_array(data_arrays, batch_size, is_train=True):  #@save\n",
    "    \"\"\"Construct a Gluon data iterator.\"\"\"\n",
    "    dataset = gluon.data.ArrayDataset(*data_arrays)\n",
    "    return gluon.data.DataLoader(dataset, batch_size, shuffle=is_train)\n",
    "\n",
    "def synthetic_data(w, b, num_examples):  #@save\n",
    "    \"\"\"Generate y = Xw + b + noise.\"\"\"\n",
    "    X = np.random.normal(0, 1, (num_examples, len(w)))\n",
    "    y = np.dot(X, w) + b\n",
    "    y += np.random.normal(0, 0.01, y.shape)\n",
    "    return X, y.reshape((-1, 1))\n",
    "\n",
    "def sgd(params, lr, batch_size):  #@save\n",
    "    \"\"\"Minibatch stochastic gradient descent.\"\"\"\n",
    "    for param in params:\n",
    "        param[:] = param - lr * param.grad / batch_size\n",
    "\n",
    "def get_dataloader_workers():  #@save\n",
    "    \"\"\"Use 4 processes to read the data except for Windows.\"\"\"\n",
    "    return 0 if sys.platform.startswith('win') else 4\n",
    "\n",
    "def load_data_fashion_mnist(batch_size, resize=None):  #@save\n",
    "    \"\"\"Download the Fashion-MNIST dataset and then load it into memory.\"\"\"\n",
    "    dataset = gluon.data.vision\n",
    "    trans = [dataset.transforms.ToTensor()]\n",
    "    if resize:\n",
    "        trans.insert(0, dataset.transforms.Resize(resize))\n",
    "    trans = dataset.transforms.Compose(trans)\n",
    "    mnist_train = dataset.FashionMNIST(train=True).transform_first(trans)\n",
    "    mnist_test = dataset.FashionMNIST(train=False).transform_first(trans)\n",
    "    return (gluon.data.DataLoader(mnist_train, batch_size, shuffle=True,\n",
    "                                  num_workers=get_dataloader_workers()),\n",
    "            gluon.data.DataLoader(mnist_test, batch_size, shuffle=False,\n",
    "                                  num_workers=get_dataloader_workers()))\n",
    "\n",
    "def evaluate_accuracy_gpu(net, data_iter, device=None):  #@save\n",
    "    \"\"\"Compute the accuracy for a model on a dataset using a GPU.\"\"\"\n",
    "    if not device:  # Query the first device where the first parameter is on\n",
    "        device = list(net.collect_params().values())[0].list_ctx()[0]\n",
    "    # No. of correct predictions, no. of predictions\n",
    "    metric = d2l.Accumulator(2)\n",
    "    for X, y in data_iter:\n",
    "        X, y = X.as_in_ctx(device), y.as_in_ctx(device)\n",
    "        metric.add(d2l.accuracy(net(X), y), d2l.size(y))\n",
    "    return metric[0] / metric[1]\n",
    "\n",
    "#@save\n",
    "def train_ch6(net, train_iter, test_iter, num_epochs, lr, device):\n",
    "    \"\"\"Train a model with a GPU (defined in Chapter 6).\"\"\"\n",
    "    net.initialize(force_reinit=True, ctx=device, init=init.Xavier())\n",
    "    loss = gluon.loss.SoftmaxCrossEntropyLoss()\n",
    "    trainer = gluon.Trainer(net.collect_params(),\n",
    "                            'sgd', {'learning_rate': lr})\n",
    "    animator = d2l.Animator(xlabel='epoch', xlim=[1, num_epochs],\n",
    "                            legend=['train loss', 'train acc', 'test acc'])\n",
    "    timer, num_batches = d2l.Timer(), len(train_iter)\n",
    "    for epoch in range(num_epochs):\n",
    "        # Sum of training loss, sum of training accuracy, no. of examples\n",
    "        metric = d2l.Accumulator(3)\n",
    "        for i, (X, y) in enumerate(train_iter):\n",
    "            timer.start()\n",
    "            # Here is the major difference from `d2l.train_epoch_ch3`\n",
    "            X, y = X.as_in_ctx(device), y.as_in_ctx(device)\n",
    "            with autograd.record():\n",
    "                y_hat = net(X)\n",
    "                l = loss(y_hat, y)\n",
    "            l.backward()\n",
    "            trainer.step(X.shape[0])\n",
    "            metric.add(l.sum(), d2l.accuracy(y_hat, y), X.shape[0])\n",
    "            timer.stop()\n",
    "            train_l = metric[0] / metric[2]\n",
    "            train_acc = metric[1] / metric[2]\n",
    "            if (i + 1) % (num_batches // 5) == 0 or i == num_batches - 1:\n",
    "                animator.add(epoch + (i + 1) / num_batches,\n",
    "                             (train_l, train_acc, None))\n",
    "        test_acc = evaluate_accuracy_gpu(net, test_iter)\n",
    "        animator.add(epoch + 1, (None, None, test_acc))\n",
    "    print(f'loss {train_l:.3f}, train acc {train_acc:.3f}, '\n",
    "          f'test acc {test_acc:.3f}')\n",
    "    print(f'{metric[2] * num_epochs / timer.sum():.1f} examples/sec '\n",
    "          f'on {str(device)}')\n",
    "\n",
    "def grad_clipping(net, theta):  #@save\n",
    "    \"\"\"Clip the gradient.\"\"\"\n",
    "    if isinstance(net, gluon.Block):\n",
    "        params = [p.data() for p in net.collect_params().values()]\n",
    "    else:\n",
    "        params = net.params\n",
    "    norm = math.sqrt(sum((p.grad ** 2).sum() for p in params))\n",
    "    if norm > theta:\n",
    "        for param in params:\n",
    "            param.grad[:] *= theta / norm"
   ]
  },
  {
   "cell_type": "code",
   "execution_count": 5,
   "id": "d7767bcb",
   "metadata": {
    "execution": {
     "iopub.execute_input": "2022-09-07T22:46:21.252115Z",
     "iopub.status.busy": "2022-09-07T22:46:21.251559Z",
     "iopub.status.idle": "2022-09-07T22:46:21.256682Z",
     "shell.execute_reply": "2022-09-07T22:46:21.255931Z"
    },
    "origin_pos": 13,
    "tab": [
     "mxnet"
    ]
   },
   "outputs": [],
   "source": [
    "def evaluate_accuracy(net, data_iter):  #@save\n",
    "    \"\"\"Compute the accuracy for a model on a dataset.\"\"\"\n",
    "    metric = Accumulator(2)  # No. of correct predictions, no. of predictions\n",
    "    for X, y in data_iter:\n",
    "        metric.add(accuracy(net(X), y), d2l.size(y))\n",
    "    return metric[0] / metric[1]"
   ]
  },
  {
   "cell_type": "code",
   "execution_count": 6,
   "id": "16bb5686",
   "metadata": {
    "execution": {
     "iopub.execute_input": "2022-09-07T22:46:21.260231Z",
     "iopub.status.busy": "2022-09-07T22:46:21.259962Z",
     "iopub.status.idle": "2022-09-07T22:46:21.278198Z",
     "shell.execute_reply": "2022-09-07T22:46:21.277428Z"
    },
    "origin_pos": 14,
    "tab": [
     "mxnet"
    ]
   },
   "outputs": [],
   "source": [
    "def linreg(X, w, b):  #@save\n",
    "    \"\"\"The linear regression model.\"\"\"\n",
    "    return np.dot(X, w) + b\n",
    "\n",
    "def squared_loss(y_hat, y):  #@save\n",
    "    \"\"\"Squared loss.\"\"\"\n",
    "    return (y_hat - y.reshape(y_hat.shape)) ** 2 / 2\n",
    "\n",
    "def get_fashion_mnist_labels(labels):  #@save\n",
    "    \"\"\"Return text labels for the Fashion-MNIST dataset.\"\"\"\n",
    "    text_labels = ['t-shirt', 'trouser', 'pullover', 'dress', 'coat',\n",
    "                   'sandal', 'shirt', 'sneaker', 'bag', 'ankle boot']\n",
    "    return [text_labels[int(i)] for i in labels]\n",
    "\n",
    "def show_images(imgs, num_rows, num_cols, titles=None, scale=1.5):  #@save\n",
    "    \"\"\"Plot a list of images.\"\"\"\n",
    "    figsize = (num_cols * scale, num_rows * scale)\n",
    "    _, axes = d2l.plt.subplots(num_rows, num_cols, figsize=figsize)\n",
    "    axes = axes.flatten()\n",
    "    for i, (ax, img) in enumerate(zip(axes, imgs)):\n",
    "        try:\n",
    "            img = img.asnumpy()\n",
    "        except:\n",
    "            pass\n",
    "        ax.imshow(img)\n",
    "        ax.axes.get_xaxis().set_visible(False)\n",
    "        ax.axes.get_yaxis().set_visible(False)\n",
    "        if titles:\n",
    "            ax.set_title(titles[i])\n",
    "    return axes\n",
    "\n",
    "class Animator:  #@save\n",
    "    \"\"\"For plotting data in animation.\"\"\"\n",
    "    def __init__(self, xlabel=None, ylabel=None, legend=None, xlim=None,\n",
    "                 ylim=None, xscale='linear', yscale='linear',\n",
    "                 fmts=('-', 'm--', 'g-.', 'r:'), nrows=1, ncols=1,\n",
    "                 figsize=(3.5, 2.5)):\n",
    "        # Incrementally plot multiple lines\n",
    "        if legend is None:\n",
    "            legend = []\n",
    "        d2l.use_svg_display()\n",
    "        self.fig, self.axes = d2l.plt.subplots(nrows, ncols, figsize=figsize)\n",
    "        if nrows * ncols == 1:\n",
    "            self.axes = [self.axes, ]\n",
    "        # Use a lambda function to capture arguments\n",
    "        self.config_axes = lambda: d2l.set_axes(\n",
    "            self.axes[0], xlabel, ylabel, xlim, ylim, xscale, yscale, legend)\n",
    "        self.X, self.Y, self.fmts = None, None, fmts\n",
    "\n",
    "    def add(self, x, y):\n",
    "        # Add multiple data points into the figure\n",
    "        if not hasattr(y, \"__len__\"):\n",
    "            y = [y]\n",
    "        n = len(y)\n",
    "        if not hasattr(x, \"__len__\"):\n",
    "            x = [x] * n\n",
    "        if not self.X:\n",
    "            self.X = [[] for _ in range(n)]\n",
    "        if not self.Y:\n",
    "            self.Y = [[] for _ in range(n)]\n",
    "        for i, (a, b) in enumerate(zip(x, y)):\n",
    "            if a is not None and b is not None:\n",
    "                self.X[i].append(a)\n",
    "                self.Y[i].append(b)\n",
    "        self.axes[0].cla()\n",
    "        for x, y, fmt in zip(self.X, self.Y, self.fmts):\n",
    "            self.axes[0].plot(x, y, fmt)\n",
    "        self.config_axes()\n",
    "        display.display(self.fig)\n",
    "        display.clear_output(wait=True)\n",
    "\n",
    "class Accumulator:  #@save\n",
    "    \"\"\"For accumulating sums over `n` variables.\"\"\"\n",
    "    def __init__(self, n):\n",
    "        self.data = [0.0] * n\n",
    "\n",
    "    def add(self, *args):\n",
    "        self.data = [a + float(b) for a, b in zip(self.data, args)]\n",
    "\n",
    "    def reset(self):\n",
    "        self.data = [0.0] * len(self.data)\n",
    "\n",
    "    def __getitem__(self, idx):\n",
    "        return self.data[idx]\n",
    "\n",
    "\n",
    "def accuracy(y_hat, y):  #@save\n",
    "    \"\"\"Compute the number of correct predictions.\"\"\"\n",
    "    if len(y_hat.shape) > 1 and y_hat.shape[1] > 1:\n",
    "        y_hat = y_hat.argmax(axis=1)\n",
    "    cmp = y_hat.astype(y.dtype) == y\n",
    "    return float(cmp.astype(y.dtype).sum())"
   ]
  },
  {
   "cell_type": "code",
   "execution_count": 7,
   "id": "9a3b7cf3",
   "metadata": {
    "execution": {
     "iopub.execute_input": "2022-09-07T22:46:21.281807Z",
     "iopub.status.busy": "2022-09-07T22:46:21.281216Z",
     "iopub.status.idle": "2022-09-07T22:46:21.290944Z",
     "shell.execute_reply": "2022-09-07T22:46:21.289957Z"
    },
    "origin_pos": 15,
    "tab": [
     "mxnet"
    ]
   },
   "outputs": [],
   "source": [
    "import hashlib\n",
    "import os\n",
    "import tarfile\n",
    "import zipfile\n",
    "import requests\n",
    "\n",
    "\n",
    "def download(url, folder='../data', sha1_hash=None):  #@save\n",
    "    \"\"\"Download a file to folder and return the local filepath.\"\"\"\n",
    "    if not url.startswith('http'):\n",
    "        # For back compatability\n",
    "        url, sha1_hash = DATA_HUB[url]\n",
    "    os.makedirs(folder, exist_ok=True)\n",
    "    fname = os.path.join(folder, url.split('/')[-1])\n",
    "    # Check if hit cache\n",
    "    if os.path.exists(fname) and sha1_hash:\n",
    "        sha1 = hashlib.sha1()\n",
    "        with open(fname, 'rb') as f:\n",
    "            while True:\n",
    "                data = f.read(1048576)\n",
    "                if not data:\n",
    "                    break\n",
    "                sha1.update(data)\n",
    "        if sha1.hexdigest() == sha1_hash:\n",
    "            return fname\n",
    "    # Download\n",
    "    print(f'Downloading {fname} from {url}...')\n",
    "    r = requests.get(url, stream=True, verify=True)\n",
    "    with open(fname, 'wb') as f:\n",
    "        f.write(r.content)\n",
    "    return fname\n",
    "\n",
    "def extract(filename, folder=None):  #@save\n",
    "    \"\"\"Extract a zip/tar file into folder.\"\"\"\n",
    "    base_dir = os.path.dirname(filename)\n",
    "    _, ext = os.path.splitext(filename)\n",
    "    assert ext in ('.zip', '.tar', '.gz'), 'Only support zip/tar files.'\n",
    "    if ext == '.zip':\n",
    "        fp = zipfile.ZipFile(filename, 'r')\n",
    "    else:\n",
    "        fp = tarfile.open(filename, 'r')\n",
    "    if folder is None:\n",
    "        folder = base_dir\n",
    "    fp.extractall(folder)"
   ]
  },
  {
   "cell_type": "code",
   "execution_count": 8,
   "id": "2b4f111f",
   "metadata": {
    "execution": {
     "iopub.execute_input": "2022-09-07T22:46:21.294683Z",
     "iopub.status.busy": "2022-09-07T22:46:21.294099Z",
     "iopub.status.idle": "2022-09-07T22:46:21.300430Z",
     "shell.execute_reply": "2022-09-07T22:46:21.299571Z"
    },
    "origin_pos": 16,
    "tab": [
     "mxnet"
    ]
   },
   "outputs": [],
   "source": [
    "def download_extract(name, folder=None):  #@save\n",
    "    \"\"\"Download and extract a zip/tar file.\"\"\"\n",
    "    fname = download(name)\n",
    "    base_dir = os.path.dirname(fname)\n",
    "    data_dir, ext = os.path.splitext(fname)\n",
    "    if ext == '.zip':\n",
    "        fp = zipfile.ZipFile(fname, 'r')\n",
    "    elif ext in ('.tar', '.gz'):\n",
    "        fp = tarfile.open(fname, 'r')\n",
    "    else:\n",
    "        assert False, 'Only zip/tar files can be extracted.'\n",
    "    fp.extractall(base_dir)\n",
    "    return os.path.join(base_dir, folder) if folder else data_dir\n",
    "\n",
    "\n",
    "def tokenize(lines, token='word'):  #@save\n",
    "    \"\"\"Split text lines into word or character tokens.\"\"\"\n",
    "    assert token in ('word', 'char'), 'Unknown token type: ' + token\n",
    "    return [line.split() if token == 'word' else list(line) for line in lines]"
   ]
  },
  {
   "cell_type": "code",
   "execution_count": 9,
   "id": "e45c7317",
   "metadata": {
    "execution": {
     "iopub.execute_input": "2022-09-07T22:46:21.303801Z",
     "iopub.status.busy": "2022-09-07T22:46:21.303247Z",
     "iopub.status.idle": "2022-09-07T22:46:21.307822Z",
     "shell.execute_reply": "2022-09-07T22:46:21.307082Z"
    },
    "origin_pos": 18,
    "tab": [
     "mxnet"
    ]
   },
   "outputs": [],
   "source": [
    "def evaluate_loss(net, data_iter, loss):  #@save\n",
    "    \"\"\"Evaluate the loss of a model on the given dataset.\"\"\"\n",
    "    metric = d2l.Accumulator(2)  # Sum of losses, no. of examples\n",
    "    for X, y in data_iter:\n",
    "        l = loss(net(X), y)\n",
    "        metric.add(l.sum(), d2l.size(l))\n",
    "    return metric[0] / metric[1]"
   ]
  },
  {
   "cell_type": "markdown",
   "id": "6448ef12",
   "metadata": {
    "origin_pos": 21
   },
   "source": [
    "More for the attention chapter.\n"
   ]
  },
  {
   "cell_type": "code",
   "execution_count": 10,
   "id": "c64f402c",
   "metadata": {
    "execution": {
     "iopub.execute_input": "2022-09-07T22:46:21.312051Z",
     "iopub.status.busy": "2022-09-07T22:46:21.311468Z",
     "iopub.status.idle": "2022-09-07T22:46:21.325001Z",
     "shell.execute_reply": "2022-09-07T22:46:21.324250Z"
    },
    "origin_pos": 22,
    "tab": [
     "mxnet"
    ]
   },
   "outputs": [],
   "source": [
    "#@save\n",
    "d2l.DATA_HUB['fra-eng'] = (d2l.DATA_URL + 'fra-eng.zip',\n",
    "                           '94646ad1522d915e7b0f9296181140edcf86a4f5')\n",
    "\n",
    "#@save\n",
    "def read_data_nmt():\n",
    "    \"\"\"Load the English-French dataset.\"\"\"\n",
    "    data_dir = d2l.download_extract('fra-eng')\n",
    "    with open(os.path.join(data_dir, 'fra.txt'), 'r') as f:\n",
    "        return f.read()\n",
    "\n",
    "#@save\n",
    "def preprocess_nmt(text):\n",
    "    \"\"\"Preprocess the English-French dataset.\"\"\"\n",
    "    def no_space(char, prev_char):\n",
    "        return char in set(',.!?') and prev_char != ' '\n",
    "\n",
    "    # Replace non-breaking space with space, and convert uppercase letters to\n",
    "    # lowercase ones\n",
    "    text = text.replace('\\u202f', ' ').replace('\\xa0', ' ').lower()\n",
    "    # Insert space between words and punctuation marks\n",
    "    out = [' ' + char if i > 0 and no_space(char, text[i - 1]) else char\n",
    "           for i, char in enumerate(text)]\n",
    "    return ''.join(out)\n",
    "\n",
    "#@save\n",
    "def tokenize_nmt(text, num_examples=None):\n",
    "    \"\"\"Tokenize the English-French dataset.\"\"\"\n",
    "    source, target = [], []\n",
    "    for i, line in enumerate(text.split('\\n')):\n",
    "        if num_examples and i > num_examples:\n",
    "            break\n",
    "        parts = line.split('\\t')\n",
    "        if len(parts) == 2:\n",
    "            source.append(parts[0].split(' '))\n",
    "            target.append(parts[1].split(' '))\n",
    "    return source, target\n",
    "\n",
    "\n",
    "#@save\n",
    "def truncate_pad(line, num_steps, padding_token):\n",
    "    \"\"\"Truncate or pad sequences.\"\"\"\n",
    "    if len(line) > num_steps:\n",
    "        return line[:num_steps]  # Truncate\n",
    "    return line + [padding_token] * (num_steps - len(line))  # Pad\n",
    "\n",
    "\n",
    "#@save\n",
    "def build_array_nmt(lines, vocab, num_steps):\n",
    "    \"\"\"Transform text sequences of machine translation into minibatches.\"\"\"\n",
    "    lines = [vocab[l] for l in lines]\n",
    "    lines = [l + [vocab['<eos>']] for l in lines]\n",
    "    array = np.array([truncate_pad(\n",
    "        l, num_steps, vocab['<pad>']) for l in lines])\n",
    "    valid_len = (array != vocab['<pad>']).astype(np.int32).sum(1)\n",
    "    return array, valid_len\n",
    "\n",
    "\n",
    "#@save\n",
    "def load_data_nmt(batch_size, num_steps, num_examples=600):\n",
    "    \"\"\"Return the iterator and the vocabularies of the translation dataset.\"\"\"\n",
    "    text = preprocess_nmt(read_data_nmt())\n",
    "    source, target = tokenize_nmt(text, num_examples)\n",
    "    src_vocab = d2l.Vocab(source, min_freq=2,\n",
    "                          reserved_tokens=['<pad>', '<bos>', '<eos>'])\n",
    "    tgt_vocab = d2l.Vocab(target, min_freq=2,\n",
    "                          reserved_tokens=['<pad>', '<bos>', '<eos>'])\n",
    "    src_array, src_valid_len = build_array_nmt(source, src_vocab, num_steps)\n",
    "    tgt_array, tgt_valid_len = build_array_nmt(target, tgt_vocab, num_steps)\n",
    "    data_arrays = (src_array, src_valid_len, tgt_array, tgt_valid_len)\n",
    "    data_iter = d2l.load_array(data_arrays, batch_size)\n",
    "    return data_iter, src_vocab, tgt_vocab"
   ]
  },
  {
   "cell_type": "code",
   "execution_count": 11,
   "id": "6e5fb878",
   "metadata": {
    "execution": {
     "iopub.execute_input": "2022-09-07T22:46:21.328720Z",
     "iopub.status.busy": "2022-09-07T22:46:21.328448Z",
     "iopub.status.idle": "2022-09-07T22:46:21.344394Z",
     "shell.execute_reply": "2022-09-07T22:46:21.343477Z"
    },
    "origin_pos": 23,
    "tab": [
     "mxnet"
    ]
   },
   "outputs": [],
   "source": [
    "#@save\n",
    "class MaskedSoftmaxCELoss(gluon.loss.SoftmaxCELoss):\n",
    "    \"\"\"The softmax cross-entropy loss with masks.\"\"\"\n",
    "    # `pred` shape: (`batch_size`, `num_steps`, `vocab_size`)\n",
    "    # `label` shape: (`batch_size`, `num_steps`)\n",
    "    # `valid_len` shape: (`batch_size`,)\n",
    "    def forward(self, pred, label, valid_len):\n",
    "        # `weights` shape: (`batch_size`, `num_steps`, 1)\n",
    "        weights = np.expand_dims(np.ones_like(label), axis=-1)\n",
    "        weights = npx.sequence_mask(weights, valid_len, True, axis=1)\n",
    "        return super(MaskedSoftmaxCELoss, self).forward(pred, label, weights)\n",
    "\n",
    "#@save\n",
    "def train_seq2seq(net, data_iter, lr, num_epochs, tgt_vocab, device):\n",
    "    \"\"\"Train a model for sequence to sequence.\"\"\"\n",
    "    net.initialize(init.Xavier(), force_reinit=True, ctx=device)\n",
    "    trainer = gluon.Trainer(net.collect_params(), 'adam',\n",
    "                            {'learning_rate': lr})\n",
    "    loss = MaskedSoftmaxCELoss()\n",
    "    animator = d2l.Animator(xlabel='epoch', ylabel='loss',\n",
    "                            xlim=[10, num_epochs])\n",
    "    for epoch in range(num_epochs):\n",
    "        timer = d2l.Timer()\n",
    "        metric = d2l.Accumulator(2)  # Sum of training loss, no. of tokens\n",
    "        for batch in data_iter:\n",
    "            X, X_valid_len, Y, Y_valid_len = [\n",
    "                x.as_in_ctx(device) for x in batch]\n",
    "            bos = np.array(\n",
    "                [tgt_vocab['<bos>']] * Y.shape[0], ctx=device).reshape(-1, 1)\n",
    "            dec_input = np.concatenate([bos, Y[:, :-1]], 1)  # Teacher forcing\n",
    "            with autograd.record():\n",
    "                Y_hat, _ = net(X, dec_input, X_valid_len)\n",
    "                l = loss(Y_hat, Y, Y_valid_len)\n",
    "            l.backward()\n",
    "            d2l.grad_clipping(net, 1)\n",
    "            num_tokens = Y_valid_len.sum()\n",
    "            trainer.step(num_tokens)\n",
    "            metric.add(l.sum(), num_tokens)\n",
    "        if (epoch + 1) % 10 == 0:\n",
    "            animator.add(epoch + 1, (metric[0] / metric[1],))\n",
    "    print(f'loss {metric[0] / metric[1]:.3f}, {metric[1] / timer.stop():.1f} '\n",
    "          f'tokens/sec on {str(device)}')\n",
    "\n",
    "#@save\n",
    "def predict_seq2seq(net, src_sentence, src_vocab, tgt_vocab, num_steps,\n",
    "                    device, save_attention_weights=False):\n",
    "    \"\"\"Predict for sequence to sequence.\"\"\"\n",
    "    src_tokens = src_vocab[src_sentence.lower().split(' ')] + [\n",
    "        src_vocab['<eos>']]\n",
    "    enc_valid_len = np.array([len(src_tokens)], ctx=device)\n",
    "    src_tokens = d2l.truncate_pad(src_tokens, num_steps, src_vocab['<pad>'])\n",
    "    # Add the batch axis\n",
    "    enc_X = np.expand_dims(np.array(src_tokens, ctx=device), axis=0)\n",
    "    enc_outputs = net.encoder(enc_X, enc_valid_len)\n",
    "    dec_state = net.decoder.init_state(enc_outputs, enc_valid_len)\n",
    "    # Add the batch axis\n",
    "    dec_X = np.expand_dims(np.array([tgt_vocab['<bos>']], ctx=device), axis=0)\n",
    "    output_seq, attention_weight_seq = [], []\n",
    "    for _ in range(num_steps):\n",
    "        Y, dec_state = net.decoder(dec_X, dec_state)\n",
    "        # We use the token with the highest prediction likelihood as input\n",
    "        # of the decoder at the next time step\n",
    "        dec_X = Y.argmax(axis=2)\n",
    "        pred = dec_X.squeeze(axis=0).astype('int32').item()\n",
    "        # Save attention weights (to be covered later)\n",
    "        if save_attention_weights:\n",
    "            attention_weight_seq.append(net.decoder.attention_weights)\n",
    "        # Once the end-of-sequence token is predicted, the generation of the\n",
    "        # output sequence is complete\n",
    "        if pred == tgt_vocab['<eos>']:\n",
    "            break\n",
    "        output_seq.append(pred)\n",
    "    return ' '.join(tgt_vocab.to_tokens(output_seq)), attention_weight_seq"
   ]
  }
 ],
 "metadata": {
  "kernelspec": {
   "display_name": "conda_mxnet_p36",
   "name": "conda_mxnet_p36"
  },
  "language_info": {
   "name": "python"
  }
 },
 "nbformat": 4,
 "nbformat_minor": 5
}