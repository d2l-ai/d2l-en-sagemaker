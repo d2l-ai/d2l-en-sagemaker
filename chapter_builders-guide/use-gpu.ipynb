{
 "cells": [
  {
   "cell_type": "markdown",
   "id": "d81ccd68",
   "metadata": {},
   "source": [
    "Installing (updating) the following libraries for your Sagemaker\n",
    "instance."
   ]
  },
  {
   "cell_type": "code",
   "execution_count": null,
   "id": "0e83c756",
   "metadata": {},
   "outputs": [],
   "source": [
    "!pip install ..  # installing d2l\n",
    "!pip install -U mxnet-cu101==1.7.0\n"
   ]
  },
  {
   "cell_type": "markdown",
   "id": "ccca5a5c",
   "metadata": {
    "origin_pos": 1
   },
   "source": [
    "# GPUs\n",
    ":label:`sec_use_gpu`\n",
    "\n",
    "In :numref:`tab_intro_decade`, we discussed the rapid growth\n",
    "of computation over the past two decades.\n",
    "In a nutshell, GPU performance has increased\n",
    "by a factor of 1000 every decade since 2000.\n",
    "This offers great opportunities but it also suggests\n",
    "a significant need to provide such performance.\n",
    "\n",
    "\n",
    "In this section, we begin to discuss how to harness\n",
    "this computational performance for your research.\n",
    "First by using single GPUs and at a later point,\n",
    "how to use multiple GPUs and multiple servers (with multiple GPUs).\n",
    "\n",
    "Specifically, we will discuss how\n",
    "to use a single NVIDIA GPU for calculations.\n",
    "First, make sure you have at least one NVIDIA GPU installed.\n",
    "Then, download the [NVIDIA driver and CUDA](https://developer.nvidia.com/cuda-downloads)\n",
    "and follow the prompts to set the appropriate path.\n",
    "Once these preparations are complete,\n",
    "the `nvidia-smi` command can be used\n",
    "to (**view the graphics card information**).\n"
   ]
  },
  {
   "cell_type": "code",
   "execution_count": 1,
   "id": "5d522256",
   "metadata": {
    "execution": {
     "iopub.execute_input": "2022-08-29T23:02:14.739029Z",
     "iopub.status.busy": "2022-08-29T23:02:14.738212Z",
     "iopub.status.idle": "2022-08-29T23:02:15.737331Z",
     "shell.execute_reply": "2022-08-29T23:02:15.736094Z"
    },
    "origin_pos": 2,
    "tab": [
     "mxnet"
    ]
   },
   "outputs": [
    {
     "name": "stdout",
     "output_type": "stream",
     "text": [
      "Mon Aug 29 23:02:15 2022       \r\n",
      "+-----------------------------------------------------------------------------+\r\n",
      "| NVIDIA-SMI 460.106.00   Driver Version: 460.106.00   CUDA Version: 11.2     |\r\n",
      "|-------------------------------+----------------------+----------------------+\r\n",
      "| GPU  Name        Persistence-M| Bus-Id        Disp.A | Volatile Uncorr. ECC |\r\n",
      "| Fan  Temp  Perf  Pwr:Usage/Cap|         Memory-Usage | GPU-Util  Compute M. |\r\n",
      "|                               |                      |               MIG M. |\r\n",
      "|===============================+======================+======================|\r\n",
      "|   0  Tesla V100-SXM2...  Off  | 00000000:00:1B.0 Off |                    0 |\r\n",
      "| N/A   62C    P0    65W / 300W |   1760MiB / 16160MiB |      0%      Default |\r\n",
      "|                               |                      |                  N/A |\r\n",
      "+-------------------------------+----------------------+----------------------+\r\n"
     ]
    },
    {
     "name": "stdout",
     "output_type": "stream",
     "text": [
      "|   1  Tesla V100-SXM2...  Off  | 00000000:00:1C.0 Off |                    0 |\r\n",
      "| N/A   51C    P0    59W / 300W |      3MiB / 16160MiB |      0%      Default |\r\n",
      "|                               |                      |                  N/A |\r\n",
      "+-------------------------------+----------------------+----------------------+\r\n",
      "|   2  Tesla V100-SXM2...  Off  | 00000000:00:1D.0 Off |                    0 |\r\n",
      "| N/A   44C    P0    37W / 300W |      3MiB / 16160MiB |      0%      Default |\r\n",
      "|                               |                      |                  N/A |\r\n",
      "+-------------------------------+----------------------+----------------------+\r\n",
      "|   3  Tesla V100-SXM2...  Off  | 00000000:00:1E.0 Off |                    0 |\r\n",
      "| N/A   43C    P0    54W / 300W |    752MiB / 16160MiB |      4%      Default |\r\n",
      "|                               |                      |                  N/A |\r\n",
      "+-------------------------------+----------------------+----------------------+\r\n",
      "                                                                               \r\n",
      "+-----------------------------------------------------------------------------+\r\n",
      "| Processes:                                                                  |\r\n",
      "|  GPU   GI   CI        PID   Type   Process name                  GPU Memory |\r\n",
      "|        ID   ID                                                   Usage      |\r\n",
      "|=============================================================================|\r\n",
      "|    3   N/A  N/A     96721      C   ...l-en-release-0/bin/python      751MiB |\r\n",
      "+-----------------------------------------------------------------------------+\r\n"
     ]
    }
   ],
   "source": [
    "!nvidia-smi"
   ]
  },
  {
   "cell_type": "markdown",
   "id": "780ec5e1",
   "metadata": {
    "origin_pos": 3,
    "tab": [
     "mxnet"
    ]
   },
   "source": [
    "You might have noticed that a MXNet tensor\n",
    "looks almost identical to a NumPy `ndarray`.\n",
    "But there are a few crucial differences.\n",
    "One of the key features that distinguishes MXNet\n",
    "from NumPy is its support for diverse hardware devices.\n",
    "\n",
    "In MXNet, every array has a context.\n",
    "So far, by default, all variables\n",
    "and associated computation\n",
    "have been assigned to the CPU.\n",
    "Typically, other contexts might be various GPUs.\n",
    "Things can get even hairier when\n",
    "we deploy jobs across multiple servers.\n",
    "By assigning arrays to contexts intelligently,\n",
    "we can minimize the time spent\n",
    "transferring data between devices.\n",
    "For example, when training neural networks on a server with a GPU,\n",
    "we typically prefer for the model's parameters to live on the GPU.\n",
    "\n",
    "Next, we need to confirm that\n",
    "the GPU version of MXNet is installed.\n",
    "If a CPU version of MXNet is already installed,\n",
    "we need to uninstall it first.\n",
    "For example, use the `pip uninstall mxnet` command,\n",
    "then install the corresponding MXNet version\n",
    "according to your CUDA version.\n",
    "Assuming you have CUDA 10.0 installed,\n",
    "you can install the MXNet version\n",
    "that supports CUDA 10.0 via `pip install mxnet-cu100`.\n"
   ]
  },
  {
   "cell_type": "markdown",
   "id": "d4278900",
   "metadata": {
    "origin_pos": 5
   },
   "source": [
    "To run the programs in this section,\n",
    "you need at least two GPUs.\n",
    "Note that this might be extravagant for most desktop computers\n",
    "but it is easily available in the cloud, e.g.,\n",
    "by using the AWS EC2 multi-GPU instances.\n",
    "Almost all other sections do *not* require multiple GPUs.\n",
    "Instead, this is simply to illustrate\n",
    "how data flow between different devices.\n",
    "\n",
    "## [**Computing Devices**]\n",
    "\n",
    "We can specify devices, such as CPUs and GPUs,\n",
    "for storage and calculation.\n",
    "By default, tensors are created in the main memory\n",
    "and then use the CPU to calculate it.\n"
   ]
  },
  {
   "cell_type": "markdown",
   "id": "eae06f94",
   "metadata": {
    "origin_pos": 6,
    "tab": [
     "mxnet"
    ]
   },
   "source": [
    "In MXNet, the CPU and GPU can be indicated by `cpu()` and `gpu()`.\n",
    "It should be noted that `cpu()`\n",
    "(or any integer in the parentheses)\n",
    "means all physical CPUs and memory.\n",
    "This means that MXNet's calculations\n",
    "will try to use all CPU cores.\n",
    "However, `gpu()` only represents one card\n",
    "and the corresponding memory.\n",
    "If there are multiple GPUs, we use `gpu(i)`\n",
    "to represent the $i^\\mathrm{th}$ GPU ($i$ starts from 0).\n",
    "Also, `gpu(0)` and `gpu()` are equivalent.\n"
   ]
  },
  {
   "cell_type": "code",
   "execution_count": 2,
   "id": "85000b31",
   "metadata": {
    "execution": {
     "iopub.execute_input": "2022-08-29T23:02:15.743314Z",
     "iopub.status.busy": "2022-08-29T23:02:15.742541Z",
     "iopub.status.idle": "2022-08-29T23:02:18.293271Z",
     "shell.execute_reply": "2022-08-29T23:02:18.292209Z"
    },
    "origin_pos": 8,
    "tab": [
     "mxnet"
    ]
   },
   "outputs": [],
   "source": [
    "from mxnet import np, npx\n",
    "from mxnet.gluon import nn\n",
    "from d2l import mxnet as d2l\n",
    "\n",
    "npx.set_np()"
   ]
  },
  {
   "cell_type": "code",
   "execution_count": 3,
   "id": "f15500e4",
   "metadata": {
    "execution": {
     "iopub.execute_input": "2022-08-29T23:02:18.298340Z",
     "iopub.status.busy": "2022-08-29T23:02:18.297360Z",
     "iopub.status.idle": "2022-08-29T23:02:18.306063Z",
     "shell.execute_reply": "2022-08-29T23:02:18.305140Z"
    },
    "origin_pos": 11,
    "tab": [
     "mxnet"
    ]
   },
   "outputs": [
    {
     "data": {
      "text/plain": [
       "(cpu(0), gpu(0), gpu(1))"
      ]
     },
     "execution_count": 3,
     "metadata": {},
     "output_type": "execute_result"
    }
   ],
   "source": [
    "def cpu():  #@save\n",
    "    return npx.cpu()\n",
    "def gpu(i=0):  #@save\n",
    "    return npx.gpu(i)\n",
    "cpu(), gpu(), gpu(1)"
   ]
  },
  {
   "cell_type": "markdown",
   "id": "d0cb6140",
   "metadata": {
    "origin_pos": 12
   },
   "source": [
    "We can (**query the number of available GPUs.**)\n"
   ]
  },
  {
   "cell_type": "code",
   "execution_count": 4,
   "id": "f9ee5942",
   "metadata": {
    "execution": {
     "iopub.execute_input": "2022-08-29T23:02:18.310377Z",
     "iopub.status.busy": "2022-08-29T23:02:18.309614Z",
     "iopub.status.idle": "2022-08-29T23:02:18.315718Z",
     "shell.execute_reply": "2022-08-29T23:02:18.314748Z"
    },
    "origin_pos": 13,
    "tab": [
     "mxnet"
    ]
   },
   "outputs": [
    {
     "data": {
      "text/plain": [
       "2"
      ]
     },
     "execution_count": 4,
     "metadata": {},
     "output_type": "execute_result"
    }
   ],
   "source": [
    "def num_gpus():  #@save\n",
    "    return npx.num_gpus()\n",
    "num_gpus()"
   ]
  },
  {
   "cell_type": "markdown",
   "id": "e8d7a99c",
   "metadata": {
    "origin_pos": 14
   },
   "source": [
    "Now we [**define two convenient functions that allow us\n",
    "to run code even if the requested GPUs do not exist.**]\n"
   ]
  },
  {
   "cell_type": "code",
   "execution_count": 5,
   "id": "a888a86f",
   "metadata": {
    "execution": {
     "iopub.execute_input": "2022-08-29T23:02:18.320247Z",
     "iopub.status.busy": "2022-08-29T23:02:18.319549Z",
     "iopub.status.idle": "2022-08-29T23:02:18.328957Z",
     "shell.execute_reply": "2022-08-29T23:02:18.328064Z"
    },
    "origin_pos": 15,
    "tab": [
     "mxnet"
    ]
   },
   "outputs": [
    {
     "data": {
      "text/plain": [
       "(gpu(0), cpu(0), [gpu(0), gpu(1)])"
      ]
     },
     "execution_count": 5,
     "metadata": {},
     "output_type": "execute_result"
    }
   ],
   "source": [
    "def try_gpu(i=0):  #@save\n",
    "    \"\"\"Return gpu(i) if exists, otherwise return cpu().\"\"\"\n",
    "    if num_gpus() >= i + 1:\n",
    "        return gpu(i)\n",
    "    return cpu()\n",
    "\n",
    "def try_all_gpus():  #@save\n",
    "    \"\"\"Return all available GPUs, or [cpu(),] if no GPU exists.\"\"\"\n",
    "    return [gpu(i) for i in range(num_gpus())]\n",
    "\n",
    "try_gpu(), try_gpu(10), try_all_gpus()"
   ]
  },
  {
   "cell_type": "markdown",
   "id": "ba46bdb9",
   "metadata": {
    "origin_pos": 16
   },
   "source": [
    "## Tensors and GPUs\n",
    "\n",
    "By default, tensors are created on the CPU.\n",
    "We can [**query the device where the tensor is located.**]\n"
   ]
  },
  {
   "cell_type": "code",
   "execution_count": 6,
   "id": "67402f8c",
   "metadata": {
    "execution": {
     "iopub.execute_input": "2022-08-29T23:02:18.333536Z",
     "iopub.status.busy": "2022-08-29T23:02:18.332769Z",
     "iopub.status.idle": "2022-08-29T23:02:18.339983Z",
     "shell.execute_reply": "2022-08-29T23:02:18.339100Z"
    },
    "origin_pos": 17,
    "tab": [
     "mxnet"
    ]
   },
   "outputs": [
    {
     "data": {
      "text/plain": [
       "cpu(0)"
      ]
     },
     "execution_count": 6,
     "metadata": {},
     "output_type": "execute_result"
    }
   ],
   "source": [
    "x = np.array([1, 2, 3])\n",
    "x.ctx"
   ]
  },
  {
   "cell_type": "markdown",
   "id": "f5d1f030",
   "metadata": {
    "origin_pos": 20
   },
   "source": [
    "It is important to note that whenever we want\n",
    "to operate on multiple terms,\n",
    "they need to be on the same device.\n",
    "For instance, if we sum two tensors,\n",
    "we need to make sure that both arguments\n",
    "live on the same device---otherwise the framework\n",
    "would not know where to store the result\n",
    "or even how to decide where to perform the computation.\n",
    "\n",
    "### Storage on the GPU\n",
    "\n",
    "There are several ways to [**store a tensor on the GPU.**]\n",
    "For example, we can specify a storage device when creating a tensor.\n",
    "Next, we create the tensor variable `X` on the first `gpu`.\n",
    "The tensor created on a GPU only consumes the memory of this GPU.\n",
    "We can use the `nvidia-smi` command to view GPU memory usage.\n",
    "In general, we need to make sure that we do not create data that exceeds the GPU memory limit.\n"
   ]
  },
  {
   "cell_type": "code",
   "execution_count": 7,
   "id": "04a914ed",
   "metadata": {
    "execution": {
     "iopub.execute_input": "2022-08-29T23:02:18.344436Z",
     "iopub.status.busy": "2022-08-29T23:02:18.343682Z",
     "iopub.status.idle": "2022-08-29T23:02:22.376403Z",
     "shell.execute_reply": "2022-08-29T23:02:22.375168Z"
    },
    "origin_pos": 21,
    "tab": [
     "mxnet"
    ]
   },
   "outputs": [
    {
     "data": {
      "text/plain": [
       "array([[1., 1., 1.],\n",
       "       [1., 1., 1.]], ctx=gpu(0))"
      ]
     },
     "execution_count": 7,
     "metadata": {},
     "output_type": "execute_result"
    }
   ],
   "source": [
    "X = np.ones((2, 3), ctx=try_gpu())\n",
    "X"
   ]
  },
  {
   "cell_type": "markdown",
   "id": "a7a61f3b",
   "metadata": {
    "origin_pos": 24
   },
   "source": [
    "Assuming that you have at least two GPUs, the following code will (**create a random tensor on the second GPU.**)\n"
   ]
  },
  {
   "cell_type": "code",
   "execution_count": 8,
   "id": "5003381e",
   "metadata": {
    "execution": {
     "iopub.execute_input": "2022-08-29T23:02:22.380815Z",
     "iopub.status.busy": "2022-08-29T23:02:22.380095Z",
     "iopub.status.idle": "2022-08-29T23:02:26.587446Z",
     "shell.execute_reply": "2022-08-29T23:02:26.586498Z"
    },
    "origin_pos": 25,
    "tab": [
     "mxnet"
    ]
   },
   "outputs": [
    {
     "data": {
      "text/plain": [
       "array([[0.67478997, 0.07540122, 0.9956977 ],\n",
       "       [0.09488854, 0.415456  , 0.11231736]], ctx=gpu(1))"
      ]
     },
     "execution_count": 8,
     "metadata": {},
     "output_type": "execute_result"
    }
   ],
   "source": [
    "Y = np.random.uniform(size=(2, 3), ctx=try_gpu(1))\n",
    "Y"
   ]
  },
  {
   "cell_type": "markdown",
   "id": "c076f77e",
   "metadata": {
    "origin_pos": 28
   },
   "source": [
    "### Copying\n",
    "\n",
    "[**If we want to compute `X + Y`,\n",
    "we need to decide where to perform this operation.**]\n",
    "For instance, as shown in :numref:`fig_copyto`,\n",
    "we can transfer `X` to the second GPU\n",
    "and perform the operation there.\n",
    "*Do not* simply add `X` and `Y`,\n",
    "since this will result in an exception.\n",
    "The runtime engine would not know what to do:\n",
    "it cannot find data on the same device and it fails.\n",
    "Since `Y` lives on the second GPU,\n",
    "we need to move `X` there before we can add the two.\n",
    "\n",
    "![Copy data to perform an operation on the same device.](../img/copyto.svg)\n",
    ":label:`fig_copyto`\n"
   ]
  },
  {
   "cell_type": "code",
   "execution_count": 9,
   "id": "f453e2b9",
   "metadata": {
    "execution": {
     "iopub.execute_input": "2022-08-29T23:02:26.592570Z",
     "iopub.status.busy": "2022-08-29T23:02:26.591545Z",
     "iopub.status.idle": "2022-08-29T23:02:26.599113Z",
     "shell.execute_reply": "2022-08-29T23:02:26.598127Z"
    },
    "origin_pos": 29,
    "tab": [
     "mxnet"
    ]
   },
   "outputs": [
    {
     "name": "stdout",
     "output_type": "stream",
     "text": [
      "[[1. 1. 1.]\n",
      " [1. 1. 1.]] @gpu(0)\n",
      "[[1. 1. 1.]\n",
      " [1. 1. 1.]] @gpu(1)\n"
     ]
    }
   ],
   "source": [
    "Z = X.copyto(try_gpu(1))\n",
    "print(X)\n",
    "print(Z)"
   ]
  },
  {
   "cell_type": "markdown",
   "id": "5d0203ab",
   "metadata": {
    "origin_pos": 32
   },
   "source": [
    "Now that [**the data is on the same GPU\n",
    "(both `Z` and `Y` are),\n",
    "we can add them up.**]\n"
   ]
  },
  {
   "cell_type": "code",
   "execution_count": 10,
   "id": "e7e229a3",
   "metadata": {
    "execution": {
     "iopub.execute_input": "2022-08-29T23:02:26.603619Z",
     "iopub.status.busy": "2022-08-29T23:02:26.603032Z",
     "iopub.status.idle": "2022-08-29T23:02:26.612829Z",
     "shell.execute_reply": "2022-08-29T23:02:26.610253Z"
    },
    "origin_pos": 33,
    "tab": [
     "mxnet"
    ]
   },
   "outputs": [
    {
     "data": {
      "text/plain": [
       "array([[1.6747899, 1.0754012, 1.9956977],\n",
       "       [1.0948886, 1.415456 , 1.1123173]], ctx=gpu(1))"
      ]
     },
     "execution_count": 10,
     "metadata": {},
     "output_type": "execute_result"
    }
   ],
   "source": [
    "Y + Z"
   ]
  },
  {
   "cell_type": "markdown",
   "id": "550190b1",
   "metadata": {
    "origin_pos": 34,
    "tab": [
     "mxnet"
    ]
   },
   "source": [
    "Imagine that your variable `Z` already lives on your second GPU.\n",
    "What happens if we still call  `Z.copyto(gpu(1))`?\n",
    "It will make a copy and allocate new memory,\n",
    "even though that variable already lives on the desired device.\n",
    "There are times where, depending on the environment our code is running in,\n",
    "two variables may already live on the same device.\n",
    "So we want to make a copy only if the variables\n",
    "currently live in different devices.\n",
    "In these cases, we can call `as_in_ctx`.\n",
    "If the variable already live in the specified device\n",
    "then this is a no-op.\n",
    "Unless you specifically want to make a copy,\n",
    "`as_in_ctx` is the method of choice.\n"
   ]
  },
  {
   "cell_type": "code",
   "execution_count": 11,
   "id": "46ed0b7f",
   "metadata": {
    "execution": {
     "iopub.execute_input": "2022-08-29T23:02:26.621084Z",
     "iopub.status.busy": "2022-08-29T23:02:26.620156Z",
     "iopub.status.idle": "2022-08-29T23:02:26.625757Z",
     "shell.execute_reply": "2022-08-29T23:02:26.624970Z"
    },
    "origin_pos": 37,
    "tab": [
     "mxnet"
    ]
   },
   "outputs": [
    {
     "data": {
      "text/plain": [
       "True"
      ]
     },
     "execution_count": 11,
     "metadata": {},
     "output_type": "execute_result"
    }
   ],
   "source": [
    "Z.as_in_ctx(try_gpu(1)) is Z"
   ]
  },
  {
   "cell_type": "markdown",
   "id": "1cc902d7",
   "metadata": {
    "origin_pos": 40
   },
   "source": [
    "### Side Notes\n",
    "\n",
    "People use GPUs to do machine learning\n",
    "because they expect them to be fast.\n",
    "But transferring variables between devices is slow.\n",
    "So we want you to be 100% certain\n",
    "that you want to do something slow before we let you do it.\n",
    "If the deep learning framework just did the copy automatically\n",
    "without crashing then you might not realize\n",
    "that you had written some slow code.\n",
    "\n",
    "Also, transferring data between devices (CPU, GPUs, and other machines)\n",
    "is something that is much slower than computation.\n",
    "It also makes parallelization a lot more difficult,\n",
    "since we have to wait for data to be sent (or rather to be received)\n",
    "before we can proceed with more operations.\n",
    "This is why copy operations should be taken with great care.\n",
    "As a rule of thumb, many small operations\n",
    "are much worse than one big operation.\n",
    "Moreover, several operations at a time\n",
    "are much better than many single operations interspersed in the code\n",
    "unless you know what you are doing.\n",
    "This is the case since such operations can block if one device\n",
    "has to wait for the other before it can do something else.\n",
    "It is a bit like ordering your coffee in a queue\n",
    "rather than pre-ordering it by phone\n",
    "and finding out that it is ready when you are.\n",
    "\n",
    "Last, when we print tensors or convert tensors to the NumPy format,\n",
    "if the data is not in the main memory,\n",
    "the framework will copy it to the main memory first,\n",
    "resulting in additional transmission overhead.\n",
    "Even worse, it is now subject to the dreaded global interpreter lock\n",
    "that makes everything wait for Python to complete.\n",
    "\n",
    "\n",
    "## [**Neural Networks and GPUs**]\n",
    "\n",
    "Similarly, a neural network model can specify devices.\n",
    "The following code puts the model parameters on the GPU.\n"
   ]
  },
  {
   "cell_type": "code",
   "execution_count": 12,
   "id": "605ee123",
   "metadata": {
    "execution": {
     "iopub.execute_input": "2022-08-29T23:02:26.630249Z",
     "iopub.status.busy": "2022-08-29T23:02:26.629481Z",
     "iopub.status.idle": "2022-08-29T23:02:26.638105Z",
     "shell.execute_reply": "2022-08-29T23:02:26.637046Z"
    },
    "origin_pos": 41,
    "tab": [
     "mxnet"
    ]
   },
   "outputs": [],
   "source": [
    "net = nn.Sequential()\n",
    "net.add(nn.Dense(1))\n",
    "net.initialize(ctx=try_gpu())"
   ]
  },
  {
   "cell_type": "markdown",
   "id": "00c26a15",
   "metadata": {
    "origin_pos": 44
   },
   "source": [
    "We will see many more examples of\n",
    "how to run models on GPUs in the following chapters,\n",
    "simply since they will become somewhat more computationally intensive.\n",
    "\n",
    "When the input is a tensor on the GPU, the model will calculate the result on the same GPU.\n"
   ]
  },
  {
   "cell_type": "code",
   "execution_count": 13,
   "id": "6dcd3c0c",
   "metadata": {
    "execution": {
     "iopub.execute_input": "2022-08-29T23:02:26.642639Z",
     "iopub.status.busy": "2022-08-29T23:02:26.641837Z",
     "iopub.status.idle": "2022-08-29T23:02:26.658483Z",
     "shell.execute_reply": "2022-08-29T23:02:26.657342Z"
    },
    "origin_pos": 45,
    "tab": [
     "mxnet"
    ]
   },
   "outputs": [
    {
     "data": {
      "text/plain": [
       "array([[0.04995865],\n",
       "       [0.04995865]], ctx=gpu(0))"
      ]
     },
     "execution_count": 13,
     "metadata": {},
     "output_type": "execute_result"
    }
   ],
   "source": [
    "net(X)"
   ]
  },
  {
   "cell_type": "markdown",
   "id": "3b741918",
   "metadata": {
    "origin_pos": 46
   },
   "source": [
    "Let's (**confirm that the model parameters are stored on the same GPU.**)\n"
   ]
  },
  {
   "cell_type": "code",
   "execution_count": 14,
   "id": "ce250367",
   "metadata": {
    "execution": {
     "iopub.execute_input": "2022-08-29T23:02:26.662516Z",
     "iopub.status.busy": "2022-08-29T23:02:26.661667Z",
     "iopub.status.idle": "2022-08-29T23:02:26.668777Z",
     "shell.execute_reply": "2022-08-29T23:02:26.667649Z"
    },
    "origin_pos": 47,
    "tab": [
     "mxnet"
    ]
   },
   "outputs": [
    {
     "data": {
      "text/plain": [
       "gpu(0)"
      ]
     },
     "execution_count": 14,
     "metadata": {},
     "output_type": "execute_result"
    }
   ],
   "source": [
    "net[0].weight.data().ctx"
   ]
  },
  {
   "cell_type": "markdown",
   "id": "a042cbdc",
   "metadata": {
    "origin_pos": 50
   },
   "source": [
    "Let the trainer support GPU.\n"
   ]
  },
  {
   "cell_type": "code",
   "execution_count": 15,
   "id": "6588f8af",
   "metadata": {
    "execution": {
     "iopub.execute_input": "2022-08-29T23:02:26.673031Z",
     "iopub.status.busy": "2022-08-29T23:02:26.672169Z",
     "iopub.status.idle": "2022-08-29T23:02:26.679079Z",
     "shell.execute_reply": "2022-08-29T23:02:26.677958Z"
    },
    "origin_pos": 51,
    "tab": [
     "mxnet"
    ]
   },
   "outputs": [],
   "source": [
    "@d2l.add_to_class(d2l.Module)  #@save\n",
    "def set_scratch_params_device(self, device):\n",
    "    for attr in dir(self):\n",
    "        a = getattr(self, attr)\n",
    "        if isinstance(a, np.ndarray):\n",
    "            with autograd.record():\n",
    "                setattr(self, attr, a.as_in_ctx(device))\n",
    "            getattr(self, attr).attach_grad()\n",
    "        if isinstance(a, d2l.Module):\n",
    "            a.set_scratch_params_device(device)\n",
    "        if isinstance(a, list):\n",
    "            for elem in a:\n",
    "                elem.set_scratch_params_device(device)"
   ]
  },
  {
   "cell_type": "code",
   "execution_count": 16,
   "id": "a3898416",
   "metadata": {
    "execution": {
     "iopub.execute_input": "2022-08-29T23:02:26.683053Z",
     "iopub.status.busy": "2022-08-29T23:02:26.682252Z",
     "iopub.status.idle": "2022-08-29T23:02:26.690229Z",
     "shell.execute_reply": "2022-08-29T23:02:26.688930Z"
    },
    "origin_pos": 52,
    "tab": [
     "mxnet"
    ]
   },
   "outputs": [],
   "source": [
    "@d2l.add_to_class(d2l.Trainer)  #@save\n",
    "def __init__(self, max_epochs, num_gpus=0, gradient_clip_val=0):\n",
    "    self.save_hyperparameters()\n",
    "    self.gpus = [d2l.gpu(i) for i in range(min(num_gpus, d2l.num_gpus()))]\n",
    "\n",
    "@d2l.add_to_class(d2l.Trainer)  #@save\n",
    "def prepare_batch(self, batch):\n",
    "    if self.gpus:\n",
    "        batch = [a.as_in_context(self.gpus[0]) for a in batch]\n",
    "    return batch\n",
    "\n",
    "@d2l.add_to_class(d2l.Trainer)  #@save\n",
    "def prepare_model(self, model):\n",
    "    model.trainer = self\n",
    "    model.board.xlim = [0, self.max_epochs]\n",
    "    if self.gpus:\n",
    "        model.collect_params().reset_ctx(self.gpus[0])\n",
    "        model.set_scratch_params_device(self.gpus[0])\n",
    "    self.model = model"
   ]
  },
  {
   "cell_type": "markdown",
   "id": "00aeb9e9",
   "metadata": {
    "origin_pos": 53
   },
   "source": [
    "In short, as long as all data and parameters are on the same device, we can learn models efficiently. In the following chapters we will see several such examples.\n",
    "\n",
    "## Summary\n",
    "\n",
    "* We can specify devices for storage and calculation, such as the CPU or GPU.\n",
    "  By default, data is created in the main memory\n",
    "  and then uses the CPU for calculations.\n",
    "* The deep learning framework requires all input data for calculation\n",
    "  to be on the same device,\n",
    "  be it CPU or the same GPU.\n",
    "* You can lose significant performance by moving data without care.\n",
    "  A typical mistake is as follows: computing the loss\n",
    "  for every minibatch on the GPU and reporting it back\n",
    "  to the user on the command line (or logging it in a NumPy `ndarray`)\n",
    "  will trigger a global interpreter lock which stalls all GPUs.\n",
    "  It is much better to allocate memory\n",
    "  for logging inside the GPU and only move larger logs.\n",
    "\n",
    "## Exercises\n",
    "\n",
    "1. Try a larger computation task, such as the multiplication of large matrices,\n",
    "   and see the difference in speed between the CPU and GPU.\n",
    "   What about a task with a small amount of calculations?\n",
    "1. How should we read and write model parameters on the GPU?\n",
    "1. Measure the time it takes to compute 1000\n",
    "   matrix-matrix multiplications of $100 \\times 100$ matrices\n",
    "   and log the Frobenius norm of the output matrix one result at a time\n",
    "   vs. keeping a log on the GPU and transferring only the final result.\n",
    "1. Measure how much time it takes to perform two matrix-matrix multiplications\n",
    "   on two GPUs at the same time vs. in sequence\n",
    "   on one GPU. Hint: you should see almost linear scaling.\n"
   ]
  },
  {
   "cell_type": "markdown",
   "id": "2d2b06ba",
   "metadata": {
    "origin_pos": 54,
    "tab": [
     "mxnet"
    ]
   },
   "source": [
    "[Discussions](https://discuss.d2l.ai/t/62)\n"
   ]
  }
 ],
 "metadata": {
  "kernelspec": {
   "display_name": "conda_mxnet_p36",
   "name": "conda_mxnet_p36"
  },
  "language_info": {
   "name": "python"
  }
 },
 "nbformat": 4,
 "nbformat_minor": 5
}