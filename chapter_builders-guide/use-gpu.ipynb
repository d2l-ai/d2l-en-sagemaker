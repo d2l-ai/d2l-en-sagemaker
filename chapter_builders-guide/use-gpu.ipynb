{
 "cells": [
  {
   "cell_type": "markdown",
   "id": "9f7eb9a0",
   "metadata": {},
   "source": [
    "Installing (updating) the following libraries for your Sagemaker\n",
    "instance."
   ]
  },
  {
   "cell_type": "code",
   "execution_count": null,
   "id": "ed1c600d",
   "metadata": {},
   "outputs": [],
   "source": [
    "!pip install ..  # installing d2l\n",
    "!pip install -U mxnet-cu112==1.9.1\n"
   ]
  },
  {
   "cell_type": "markdown",
   "id": "3d3721c7",
   "metadata": {
    "origin_pos": 1
   },
   "source": [
    "# GPUs\n",
    ":label:`sec_use_gpu`\n",
    "\n",
    "In :numref:`tab_intro_decade`, we illustrated the rapid growth\n",
    "of computation over the past two decades.\n",
    "In a nutshell, GPU performance has increased\n",
    "by a factor of 1000 every decade since 2000.\n",
    "This offers great opportunities but it also suggests\n",
    "that there was significant demand for such performance.\n",
    "\n",
    "\n",
    "In this section, we begin to discuss how to harness\n",
    "this computational performance for your research.\n",
    "First by using a single GPU and at a later point,\n",
    "how to use multiple GPUs and multiple servers (with multiple GPUs).\n",
    "\n",
    "Specifically, we will discuss how\n",
    "to use a single NVIDIA GPU for calculations.\n",
    "First, make sure you have at least one NVIDIA GPU installed.\n",
    "Then, download the [NVIDIA driver and CUDA](https://developer.nvidia.com/cuda-downloads)\n",
    "and follow the prompts to set the appropriate path.\n",
    "Once these preparations are complete,\n",
    "the `nvidia-smi` command can be used\n",
    "to (**view the graphics card information**).\n"
   ]
  },
  {
   "cell_type": "markdown",
   "id": "fd1fe235",
   "metadata": {
    "origin_pos": 2,
    "tab": [
     "mxnet"
    ]
   },
   "source": [
    "You might have noticed that a MXNet tensor\n",
    "looks almost identical to a NumPy `ndarray`.\n",
    "But there are a few crucial differences.\n",
    "One of the key features that distinguishes MXNet\n",
    "from NumPy is its support for diverse hardware devices.\n",
    "\n",
    "In MXNet, every array has a context.\n",
    "So far, by default, all variables\n",
    "and associated computation\n",
    "have been assigned to the CPU.\n",
    "Typically, other contexts might be various GPUs.\n",
    "Things can get even hairier when\n",
    "we deploy jobs across multiple servers.\n",
    "By assigning arrays to contexts intelligently,\n",
    "we can minimize the time spent\n",
    "transferring data between devices.\n",
    "For example, when training neural networks on a server with a GPU,\n",
    "we typically prefer for the model's parameters to live on the GPU.\n",
    "\n",
    "Next, we need to confirm that\n",
    "the GPU version of MXNet is installed.\n",
    "If a CPU version of MXNet is already installed,\n",
    "we need to uninstall it first.\n",
    "For example, use the `pip uninstall mxnet` command,\n",
    "then install the corresponding MXNet version\n",
    "according to your CUDA version.\n",
    "Assuming you have CUDA 10.0 installed,\n",
    "you can install the MXNet version\n",
    "that supports CUDA 10.0 via `pip install mxnet-cu100`.\n"
   ]
  },
  {
   "cell_type": "markdown",
   "id": "a734c297",
   "metadata": {
    "origin_pos": 4
   },
   "source": [
    "To run the programs in this section,\n",
    "you need at least two GPUs.\n",
    "Note that this might be extravagant for most desktop computers\n",
    "but it is easily available in the cloud, e.g.,\n",
    "by using the AWS EC2 multi-GPU instances.\n",
    "Almost all other sections do *not* require multiple GPUs, but here we simply wish to illustrate data flow between different devices.\n"
   ]
  },
  {
   "cell_type": "code",
   "execution_count": 1,
   "id": "7f112330",
   "metadata": {
    "execution": {
     "iopub.execute_input": "2023-08-18T07:26:51.388063Z",
     "iopub.status.busy": "2023-08-18T07:26:51.387533Z",
     "iopub.status.idle": "2023-08-18T07:26:55.526854Z",
     "shell.execute_reply": "2023-08-18T07:26:55.525951Z"
    },
    "origin_pos": 5,
    "tab": [
     "mxnet"
    ]
   },
   "outputs": [],
   "source": [
    "from mxnet import np, npx\n",
    "from mxnet.gluon import nn\n",
    "from d2l import mxnet as d2l\n",
    "\n",
    "npx.set_np()"
   ]
  },
  {
   "cell_type": "markdown",
   "id": "c2514046",
   "metadata": {
    "origin_pos": 9
   },
   "source": [
    "## [**Computing Devices**]\n",
    "\n",
    "We can specify devices, such as CPUs and GPUs,\n",
    "for storage and calculation.\n",
    "By default, tensors are created in the main memory\n",
    "and then the CPU is used for calculations.\n"
   ]
  },
  {
   "cell_type": "markdown",
   "id": "5d2c69db",
   "metadata": {
    "origin_pos": 10,
    "tab": [
     "mxnet"
    ]
   },
   "source": [
    "In MXNet, the CPU and GPU can be indicated by `cpu()` and `gpu()`.\n",
    "It should be noted that `cpu()`\n",
    "(or any integer in the parentheses)\n",
    "means all physical CPUs and memory.\n",
    "This means that MXNet's calculations\n",
    "will try to use all CPU cores.\n",
    "However, `gpu()` only represents one card\n",
    "and the corresponding memory.\n",
    "If there are multiple GPUs, we use `gpu(i)`\n",
    "to represent the $i^\\textrm{th}$ GPU ($i$ starts from 0).\n",
    "Also, `gpu(0)` and `gpu()` are equivalent.\n"
   ]
  },
  {
   "cell_type": "code",
   "execution_count": 2,
   "id": "2ec8dfa4",
   "metadata": {
    "execution": {
     "iopub.execute_input": "2023-08-18T07:26:55.531321Z",
     "iopub.status.busy": "2023-08-18T07:26:55.530647Z",
     "iopub.status.idle": "2023-08-18T07:26:55.538747Z",
     "shell.execute_reply": "2023-08-18T07:26:55.537688Z"
    },
    "origin_pos": 13,
    "tab": [
     "mxnet"
    ]
   },
   "outputs": [
    {
     "data": {
      "text/plain": [
       "(cpu(0), gpu(0), gpu(1))"
      ]
     },
     "execution_count": 2,
     "metadata": {},
     "output_type": "execute_result"
    }
   ],
   "source": [
    "def cpu():  #@save\n",
    "    \"\"\"Get the CPU device.\"\"\"\n",
    "    return npx.cpu()\n",
    "def gpu(i=0):  #@save\n",
    "    \"\"\"Get a GPU device.\"\"\"\n",
    "    return npx.gpu(i)\n",
    "cpu(), gpu(), gpu(1)"
   ]
  },
  {
   "cell_type": "markdown",
   "id": "7bc27937",
   "metadata": {
    "origin_pos": 14
   },
   "source": [
    "We can (**query the number of available GPUs.**)\n"
   ]
  },
  {
   "cell_type": "code",
   "execution_count": 3,
   "id": "e3370d33",
   "metadata": {
    "execution": {
     "iopub.execute_input": "2023-08-18T07:26:55.542733Z",
     "iopub.status.busy": "2023-08-18T07:26:55.542464Z",
     "iopub.status.idle": "2023-08-18T07:26:55.548177Z",
     "shell.execute_reply": "2023-08-18T07:26:55.547169Z"
    },
    "origin_pos": 16,
    "tab": [
     "mxnet"
    ]
   },
   "outputs": [
    {
     "data": {
      "text/plain": [
       "2"
      ]
     },
     "execution_count": 3,
     "metadata": {},
     "output_type": "execute_result"
    }
   ],
   "source": [
    "def num_gpus():  #@save\n",
    "    \"\"\"Get the number of available GPUs.\"\"\"\n",
    "    return npx.num_gpus()\n",
    "num_gpus()"
   ]
  },
  {
   "cell_type": "markdown",
   "id": "14c2dafa",
   "metadata": {
    "origin_pos": 17
   },
   "source": [
    "Now we [**define two convenient functions that allow us\n",
    "to run code even if the requested GPUs do not exist.**]\n"
   ]
  },
  {
   "cell_type": "code",
   "execution_count": 4,
   "id": "591626ca",
   "metadata": {
    "execution": {
     "iopub.execute_input": "2023-08-18T07:26:55.551859Z",
     "iopub.status.busy": "2023-08-18T07:26:55.551347Z",
     "iopub.status.idle": "2023-08-18T07:26:55.558951Z",
     "shell.execute_reply": "2023-08-18T07:26:55.558125Z"
    },
    "origin_pos": 18,
    "tab": [
     "mxnet"
    ]
   },
   "outputs": [
    {
     "data": {
      "text/plain": [
       "(gpu(0), cpu(0), [gpu(0), gpu(1)])"
      ]
     },
     "execution_count": 4,
     "metadata": {},
     "output_type": "execute_result"
    }
   ],
   "source": [
    "def try_gpu(i=0):  #@save\n",
    "    \"\"\"Return gpu(i) if exists, otherwise return cpu().\"\"\"\n",
    "    if num_gpus() >= i + 1:\n",
    "        return gpu(i)\n",
    "    return cpu()\n",
    "\n",
    "def try_all_gpus():  #@save\n",
    "    \"\"\"Return all available GPUs, or [cpu(),] if no GPU exists.\"\"\"\n",
    "    return [gpu(i) for i in range(num_gpus())]\n",
    "\n",
    "try_gpu(), try_gpu(10), try_all_gpus()"
   ]
  },
  {
   "cell_type": "markdown",
   "id": "2f6b8441",
   "metadata": {
    "origin_pos": 19
   },
   "source": [
    "## Tensors and GPUs\n"
   ]
  },
  {
   "cell_type": "markdown",
   "id": "27c39c3b",
   "metadata": {
    "origin_pos": 21,
    "tab": [
     "mxnet"
    ]
   },
   "source": [
    "By default, tensors are created on the CPU.\n",
    "We can [**query the device where the tensor is located.**]\n"
   ]
  },
  {
   "cell_type": "code",
   "execution_count": 5,
   "id": "01fa6d66",
   "metadata": {
    "execution": {
     "iopub.execute_input": "2023-08-18T07:26:55.562651Z",
     "iopub.status.busy": "2023-08-18T07:26:55.562129Z",
     "iopub.status.idle": "2023-08-18T07:26:55.570298Z",
     "shell.execute_reply": "2023-08-18T07:26:55.569213Z"
    },
    "origin_pos": 23,
    "tab": [
     "mxnet"
    ]
   },
   "outputs": [
    {
     "name": "stdout",
     "output_type": "stream",
     "text": [
      "[07:26:55] ../src/storage/storage.cc:196: Using Pooled (Naive) StorageManager for CPU\n"
     ]
    },
    {
     "data": {
      "text/plain": [
       "cpu(0)"
      ]
     },
     "execution_count": 5,
     "metadata": {},
     "output_type": "execute_result"
    }
   ],
   "source": [
    "x = np.array([1, 2, 3])\n",
    "x.ctx"
   ]
  },
  {
   "cell_type": "markdown",
   "id": "35a728dc",
   "metadata": {
    "origin_pos": 27
   },
   "source": [
    "It is important to note that whenever we want\n",
    "to operate on multiple terms,\n",
    "they need to be on the same device.\n",
    "For instance, if we sum two tensors,\n",
    "we need to make sure that both arguments\n",
    "live on the same device---otherwise the framework\n",
    "would not know where to store the result\n",
    "or even how to decide where to perform the computation.\n",
    "\n",
    "### Storage on the GPU\n",
    "\n",
    "There are several ways to [**store a tensor on the GPU.**]\n",
    "For example, we can specify a storage device when creating a tensor.\n",
    "Next, we create the tensor variable `X` on the first `gpu`.\n",
    "The tensor created on a GPU only consumes the memory of this GPU.\n",
    "We can use the `nvidia-smi` command to view GPU memory usage.\n",
    "In general, we need to make sure that we do not create data that exceeds the GPU memory limit.\n"
   ]
  },
  {
   "cell_type": "code",
   "execution_count": 6,
   "id": "591442bc",
   "metadata": {
    "execution": {
     "iopub.execute_input": "2023-08-18T07:26:55.574163Z",
     "iopub.status.busy": "2023-08-18T07:26:55.573507Z",
     "iopub.status.idle": "2023-08-18T07:26:56.072553Z",
     "shell.execute_reply": "2023-08-18T07:26:56.071537Z"
    },
    "origin_pos": 28,
    "tab": [
     "mxnet"
    ]
   },
   "outputs": [
    {
     "name": "stdout",
     "output_type": "stream",
     "text": [
      "[07:26:56] ../src/storage/storage.cc:196: Using Pooled (Naive) StorageManager for GPU\n"
     ]
    },
    {
     "data": {
      "text/plain": [
       "array([[1., 1., 1.],\n",
       "       [1., 1., 1.]], ctx=gpu(0))"
      ]
     },
     "execution_count": 6,
     "metadata": {},
     "output_type": "execute_result"
    }
   ],
   "source": [
    "X = np.ones((2, 3), ctx=try_gpu())\n",
    "X"
   ]
  },
  {
   "cell_type": "markdown",
   "id": "a8a1ba19",
   "metadata": {
    "origin_pos": 32
   },
   "source": [
    "Assuming that you have at least two GPUs, the following code will (**create a random tensor, `Y`, on the second GPU.**)\n"
   ]
  },
  {
   "cell_type": "code",
   "execution_count": 7,
   "id": "85740373",
   "metadata": {
    "execution": {
     "iopub.execute_input": "2023-08-18T07:26:56.076461Z",
     "iopub.status.busy": "2023-08-18T07:26:56.075899Z",
     "iopub.status.idle": "2023-08-18T07:26:56.647338Z",
     "shell.execute_reply": "2023-08-18T07:26:56.646255Z"
    },
    "origin_pos": 33,
    "tab": [
     "mxnet"
    ]
   },
   "outputs": [
    {
     "name": "stdout",
     "output_type": "stream",
     "text": [
      "[07:26:56] ../src/storage/storage.cc:196: Using Pooled (Naive) StorageManager for GPU\n"
     ]
    },
    {
     "data": {
      "text/plain": [
       "array([[0.67478997, 0.07540122, 0.9956977 ],\n",
       "       [0.09488854, 0.415456  , 0.11231736]], ctx=gpu(1))"
      ]
     },
     "execution_count": 7,
     "metadata": {},
     "output_type": "execute_result"
    }
   ],
   "source": [
    "Y = np.random.uniform(size=(2, 3), ctx=try_gpu(1))\n",
    "Y"
   ]
  },
  {
   "cell_type": "markdown",
   "id": "25fab3c1",
   "metadata": {
    "origin_pos": 37
   },
   "source": [
    "### Copying\n",
    "\n",
    "[**If we want to compute `X + Y`,\n",
    "we need to decide where to perform this operation.**]\n",
    "For instance, as shown in :numref:`fig_copyto`,\n",
    "we can transfer `X` to the second GPU\n",
    "and perform the operation there.\n",
    "*Do not* simply add `X` and `Y`,\n",
    "since this will result in an exception.\n",
    "The runtime engine would not know what to do:\n",
    "it cannot find data on the same device and it fails.\n",
    "Since `Y` lives on the second GPU,\n",
    "we need to move `X` there before we can add the two.\n",
    "\n",
    "![Copy data to perform an operation on the same device.](../img/copyto.svg)\n",
    ":label:`fig_copyto`\n"
   ]
  },
  {
   "cell_type": "code",
   "execution_count": 8,
   "id": "425ab2f9",
   "metadata": {
    "execution": {
     "iopub.execute_input": "2023-08-18T07:26:56.651397Z",
     "iopub.status.busy": "2023-08-18T07:26:56.650834Z",
     "iopub.status.idle": "2023-08-18T07:26:56.657076Z",
     "shell.execute_reply": "2023-08-18T07:26:56.656133Z"
    },
    "origin_pos": 38,
    "tab": [
     "mxnet"
    ]
   },
   "outputs": [
    {
     "name": "stdout",
     "output_type": "stream",
     "text": [
      "[[1. 1. 1.]\n",
      " [1. 1. 1.]] @gpu(0)\n",
      "[[1. 1. 1.]\n",
      " [1. 1. 1.]] @gpu(1)\n"
     ]
    }
   ],
   "source": [
    "Z = X.copyto(try_gpu(1))\n",
    "print(X)\n",
    "print(Z)"
   ]
  },
  {
   "cell_type": "markdown",
   "id": "b0e03f2c",
   "metadata": {
    "origin_pos": 42
   },
   "source": [
    "Now that [**the data (both `Z` and `Y`) are on the same GPU), we can add them up.**]\n"
   ]
  },
  {
   "cell_type": "code",
   "execution_count": 9,
   "id": "81ee4847",
   "metadata": {
    "execution": {
     "iopub.execute_input": "2023-08-18T07:26:56.660689Z",
     "iopub.status.busy": "2023-08-18T07:26:56.660176Z",
     "iopub.status.idle": "2023-08-18T07:26:56.884755Z",
     "shell.execute_reply": "2023-08-18T07:26:56.883730Z"
    },
    "origin_pos": 43,
    "tab": [
     "mxnet"
    ]
   },
   "outputs": [
    {
     "data": {
      "text/plain": [
       "array([[1.6747899, 1.0754012, 1.9956977],\n",
       "       [1.0948886, 1.415456 , 1.1123173]], ctx=gpu(1))"
      ]
     },
     "execution_count": 9,
     "metadata": {},
     "output_type": "execute_result"
    }
   ],
   "source": [
    "Y + Z"
   ]
  },
  {
   "cell_type": "markdown",
   "id": "db2be60b",
   "metadata": {
    "origin_pos": 44,
    "tab": [
     "mxnet"
    ]
   },
   "source": [
    "Imagine that your variable `Z` already lives on your second GPU.\n",
    "What happens if we still call  `Z.copyto(gpu(1))`?\n",
    "It will make a copy and allocate new memory,\n",
    "even though that variable already lives on the desired device.\n",
    "There are times where, depending on the environment our code is running in,\n",
    "two variables may already live on the same device.\n",
    "So we want to make a copy only if the variables\n",
    "currently live in different devices.\n",
    "In these cases, we can call `as_in_ctx`.\n",
    "If the variable already live in the specified device\n",
    "then this is a no-op.\n",
    "Unless you specifically want to make a copy,\n",
    "`as_in_ctx` is the method of choice.\n"
   ]
  },
  {
   "cell_type": "code",
   "execution_count": 10,
   "id": "154eba05",
   "metadata": {
    "execution": {
     "iopub.execute_input": "2023-08-18T07:26:56.888666Z",
     "iopub.status.busy": "2023-08-18T07:26:56.888091Z",
     "iopub.status.idle": "2023-08-18T07:26:56.893695Z",
     "shell.execute_reply": "2023-08-18T07:26:56.892698Z"
    },
    "origin_pos": 48,
    "tab": [
     "mxnet"
    ]
   },
   "outputs": [
    {
     "data": {
      "text/plain": [
       "True"
      ]
     },
     "execution_count": 10,
     "metadata": {},
     "output_type": "execute_result"
    }
   ],
   "source": [
    "Z.as_in_ctx(try_gpu(1)) is Z"
   ]
  },
  {
   "cell_type": "markdown",
   "id": "9ee0da1a",
   "metadata": {
    "origin_pos": 52
   },
   "source": [
    "### Side Notes\n",
    "\n",
    "People use GPUs to do machine learning\n",
    "because they expect them to be fast.\n",
    "But transferring variables between devices is slow: much slower than computation.\n",
    "So we want you to be 100% certain\n",
    "that you want to do something slow before we let you do it.\n",
    "If the deep learning framework just did the copy automatically\n",
    "without crashing then you might not realize\n",
    "that you had written some slow code.\n",
    "\n",
    "Transferring data is not only slow, it also makes parallelization a lot more difficult,\n",
    "since we have to wait for data to be sent (or rather to be received)\n",
    "before we can proceed with more operations.\n",
    "This is why copy operations should be taken with great care.\n",
    "As a rule of thumb, many small operations\n",
    "are much worse than one big operation.\n",
    "Moreover, several operations at a time\n",
    "are much better than many single operations interspersed in the code\n",
    "unless you know what you are doing.\n",
    "This is the case since such operations can block if one device\n",
    "has to wait for the other before it can do something else.\n",
    "It is a bit like ordering your coffee in a queue\n",
    "rather than pre-ordering it by phone\n",
    "and finding out that it is ready when you are.\n",
    "\n",
    "Last, when we print tensors or convert tensors to the NumPy format,\n",
    "if the data is not in the main memory,\n",
    "the framework will copy it to the main memory first,\n",
    "resulting in additional transmission overhead.\n",
    "Even worse, it is now subject to the dreaded global interpreter lock\n",
    "that makes everything wait for Python to complete.\n",
    "\n",
    "\n",
    "## [**Neural Networks and GPUs**]\n",
    "\n",
    "Similarly, a neural network model can specify devices.\n",
    "The following code puts the model parameters on the GPU.\n"
   ]
  },
  {
   "cell_type": "code",
   "execution_count": 11,
   "id": "1ab5d78e",
   "metadata": {
    "execution": {
     "iopub.execute_input": "2023-08-18T07:26:56.897394Z",
     "iopub.status.busy": "2023-08-18T07:26:56.896873Z",
     "iopub.status.idle": "2023-08-18T07:26:56.903083Z",
     "shell.execute_reply": "2023-08-18T07:26:56.902300Z"
    },
    "origin_pos": 53,
    "tab": [
     "mxnet"
    ]
   },
   "outputs": [],
   "source": [
    "net = nn.Sequential()\n",
    "net.add(nn.Dense(1))\n",
    "net.initialize(ctx=try_gpu())"
   ]
  },
  {
   "cell_type": "markdown",
   "id": "12790f9c",
   "metadata": {
    "origin_pos": 57
   },
   "source": [
    "We will see many more examples of\n",
    "how to run models on GPUs in the following chapters,\n",
    "simply because the models will become somewhat more computationally intensive.\n",
    "\n",
    "For example, when the input is a tensor on the GPU, the model will calculate the result on the same GPU.\n"
   ]
  },
  {
   "cell_type": "code",
   "execution_count": 12,
   "id": "4fad0598",
   "metadata": {
    "execution": {
     "iopub.execute_input": "2023-08-18T07:26:56.906672Z",
     "iopub.status.busy": "2023-08-18T07:26:56.906167Z",
     "iopub.status.idle": "2023-08-18T07:26:56.923852Z",
     "shell.execute_reply": "2023-08-18T07:26:56.922829Z"
    },
    "origin_pos": 58,
    "tab": [
     "mxnet"
    ]
   },
   "outputs": [
    {
     "data": {
      "text/plain": [
       "array([[0.04995865],\n",
       "       [0.04995865]], ctx=gpu(0))"
      ]
     },
     "execution_count": 12,
     "metadata": {},
     "output_type": "execute_result"
    }
   ],
   "source": [
    "net(X)"
   ]
  },
  {
   "cell_type": "markdown",
   "id": "19250b09",
   "metadata": {
    "origin_pos": 60
   },
   "source": [
    "Let's (**confirm that the model parameters are stored on the same GPU.**)\n"
   ]
  },
  {
   "cell_type": "code",
   "execution_count": 13,
   "id": "77a53342",
   "metadata": {
    "execution": {
     "iopub.execute_input": "2023-08-18T07:26:56.927646Z",
     "iopub.status.busy": "2023-08-18T07:26:56.927101Z",
     "iopub.status.idle": "2023-08-18T07:26:56.932621Z",
     "shell.execute_reply": "2023-08-18T07:26:56.931687Z"
    },
    "origin_pos": 61,
    "tab": [
     "mxnet"
    ]
   },
   "outputs": [
    {
     "data": {
      "text/plain": [
       "gpu(0)"
      ]
     },
     "execution_count": 13,
     "metadata": {},
     "output_type": "execute_result"
    }
   ],
   "source": [
    "net[0].weight.data().ctx"
   ]
  },
  {
   "cell_type": "markdown",
   "id": "99d25dcb",
   "metadata": {
    "origin_pos": 65
   },
   "source": [
    "Let the trainer support GPU.\n"
   ]
  },
  {
   "cell_type": "code",
   "execution_count": 14,
   "id": "40250b96",
   "metadata": {
    "execution": {
     "iopub.execute_input": "2023-08-18T07:26:56.936428Z",
     "iopub.status.busy": "2023-08-18T07:26:56.935811Z",
     "iopub.status.idle": "2023-08-18T07:26:56.941839Z",
     "shell.execute_reply": "2023-08-18T07:26:56.940876Z"
    },
    "origin_pos": 66,
    "tab": [
     "mxnet"
    ]
   },
   "outputs": [],
   "source": [
    "@d2l.add_to_class(d2l.Module)  #@save\n",
    "def set_scratch_params_device(self, device):\n",
    "    for attr in dir(self):\n",
    "        a = getattr(self, attr)\n",
    "        if isinstance(a, np.ndarray):\n",
    "            with autograd.record():\n",
    "                setattr(self, attr, a.as_in_ctx(device))\n",
    "            getattr(self, attr).attach_grad()\n",
    "        if isinstance(a, d2l.Module):\n",
    "            a.set_scratch_params_device(device)\n",
    "        if isinstance(a, list):\n",
    "            for elem in a:\n",
    "                elem.set_scratch_params_device(device)"
   ]
  },
  {
   "cell_type": "code",
   "execution_count": 15,
   "id": "b57f1de0",
   "metadata": {
    "execution": {
     "iopub.execute_input": "2023-08-18T07:26:56.945417Z",
     "iopub.status.busy": "2023-08-18T07:26:56.944902Z",
     "iopub.status.idle": "2023-08-18T07:26:56.951929Z",
     "shell.execute_reply": "2023-08-18T07:26:56.950957Z"
    },
    "origin_pos": 67,
    "tab": [
     "mxnet"
    ]
   },
   "outputs": [],
   "source": [
    "@d2l.add_to_class(d2l.Trainer)  #@save\n",
    "def __init__(self, max_epochs, num_gpus=0, gradient_clip_val=0):\n",
    "    self.save_hyperparameters()\n",
    "    self.gpus = [d2l.gpu(i) for i in range(min(num_gpus, d2l.num_gpus()))]\n",
    "\n",
    "@d2l.add_to_class(d2l.Trainer)  #@save\n",
    "def prepare_batch(self, batch):\n",
    "    if self.gpus:\n",
    "        batch = [a.as_in_context(self.gpus[0]) for a in batch]\n",
    "    return batch\n",
    "\n",
    "@d2l.add_to_class(d2l.Trainer)  #@save\n",
    "def prepare_model(self, model):\n",
    "    model.trainer = self\n",
    "    model.board.xlim = [0, self.max_epochs]\n",
    "    if self.gpus:\n",
    "        model.collect_params().reset_ctx(self.gpus[0])\n",
    "        model.set_scratch_params_device(self.gpus[0])\n",
    "    self.model = model"
   ]
  },
  {
   "cell_type": "markdown",
   "id": "e2652331",
   "metadata": {
    "origin_pos": 69
   },
   "source": [
    "In short, as long as all data and parameters are on the same device, we can learn models efficiently. In the following chapters we will see several such examples.\n",
    "\n",
    "## Summary\n",
    "\n",
    "We can specify devices for storage and calculation, such as the CPU or GPU.\n",
    "  By default, data is created in the main memory\n",
    "  and then uses the CPU for calculations.\n",
    "The deep learning framework requires all input data for calculation\n",
    "  to be on the same device,\n",
    "  be it CPU or the same GPU.\n",
    "You can lose significant performance by moving data without care.\n",
    "  A typical mistake is as follows: computing the loss\n",
    "  for every minibatch on the GPU and reporting it back\n",
    "  to the user on the command line (or logging it in a NumPy `ndarray`)\n",
    "  will trigger a global interpreter lock which stalls all GPUs.\n",
    "  It is much better to allocate memory\n",
    "  for logging inside the GPU and only move larger logs.\n",
    "\n",
    "## Exercises\n",
    "\n",
    "1. Try a larger computation task, such as the multiplication of large matrices,\n",
    "   and see the difference in speed between the CPU and GPU.\n",
    "   What about a task with a small number of calculations?\n",
    "1. How should we read and write model parameters on the GPU?\n",
    "1. Measure the time it takes to compute 1000\n",
    "   matrix--matrix multiplications of $100 \\times 100$ matrices\n",
    "   and log the Frobenius norm of the output matrix one result at a time. Compare it with keeping a log on the GPU and transferring only the final result.\n",
    "1. Measure how much time it takes to perform two matrix--matrix multiplications\n",
    "   on two GPUs at the same time. Compare it with computing in in sequence\n",
    "   on one GPU. Hint: you should see almost linear scaling.\n"
   ]
  },
  {
   "cell_type": "markdown",
   "id": "25880893",
   "metadata": {
    "origin_pos": 70,
    "tab": [
     "mxnet"
    ]
   },
   "source": [
    "[Discussions](https://discuss.d2l.ai/t/62)\n"
   ]
  }
 ],
 "metadata": {
  "kernelspec": {
   "display_name": "conda_mxnet_p36",
   "name": "conda_mxnet_p36"
  },
  "language_info": {
   "name": "python"
  },
  "required_libs": []
 },
 "nbformat": 4,
 "nbformat_minor": 5
}