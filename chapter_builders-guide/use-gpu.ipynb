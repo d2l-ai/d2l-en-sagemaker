{
 "cells": [
  {
   "cell_type": "markdown",
   "id": "5fc84b7f",
   "metadata": {},
   "source": [
    "Installing (updating) the following libraries for your Sagemaker\n",
    "instance."
   ]
  },
  {
   "cell_type": "code",
   "execution_count": null,
   "id": "4767f2c0",
   "metadata": {},
   "outputs": [],
   "source": [
    "!pip install -U mxnet-cu101==1.7.0\n",
    "!pip install ..  # installing d2l\n"
   ]
  },
  {
   "cell_type": "markdown",
   "id": "27420778",
   "metadata": {
    "origin_pos": 1
   },
   "source": [
    "# GPUs\n",
    ":label:`sec_use_gpu`\n",
    "\n",
    "In :numref:`tab_intro_decade`, we discussed the rapid growth\n",
    "of computation over the past two decades.\n",
    "In a nutshell, GPU performance has increased\n",
    "by a factor of 1000 every decade since 2000.\n",
    "This offers great opportunities but it also suggests\n",
    "a significant need to provide such performance.\n",
    "\n",
    "\n",
    "In this section, we begin to discuss how to harness\n",
    "this computational performance for your research.\n",
    "First by using single GPUs and at a later point,\n",
    "how to use multiple GPUs and multiple servers (with multiple GPUs).\n",
    "\n",
    "Specifically, we will discuss how\n",
    "to use a single NVIDIA GPU for calculations.\n",
    "First, make sure you have at least one NVIDIA GPU installed.\n",
    "Then, download the [NVIDIA driver and CUDA](https://developer.nvidia.com/cuda-downloads)\n",
    "and follow the prompts to set the appropriate path.\n",
    "Once these preparations are complete,\n",
    "the `nvidia-smi` command can be used\n",
    "to (**view the graphics card information**).\n"
   ]
  },
  {
   "cell_type": "code",
   "execution_count": 1,
   "id": "0fca1922",
   "metadata": {
    "execution": {
     "iopub.execute_input": "2022-08-19T17:50:01.641138Z",
     "iopub.status.busy": "2022-08-19T17:50:01.640607Z",
     "iopub.status.idle": "2022-08-19T17:50:02.543432Z",
     "shell.execute_reply": "2022-08-19T17:50:02.542381Z"
    },
    "origin_pos": 2,
    "tab": [
     "mxnet"
    ]
   },
   "outputs": [
    {
     "name": "stdout",
     "output_type": "stream",
     "text": [
      "Fri Aug 19 17:50:02 2022       \r\n",
      "+-----------------------------------------------------------------------------+\r\n",
      "| NVIDIA-SMI 460.106.00   Driver Version: 460.106.00   CUDA Version: 11.2     |\r\n",
      "|-------------------------------+----------------------+----------------------+\r\n",
      "| GPU  Name        Persistence-M| Bus-Id        Disp.A | Volatile Uncorr. ECC |\r\n",
      "| Fan  Temp  Perf  Pwr:Usage/Cap|         Memory-Usage | GPU-Util  Compute M. |\r\n",
      "|                               |                      |               MIG M. |\r\n",
      "|===============================+======================+======================|\r\n",
      "|   0  Tesla V100-SXM2...  Off  | 00000000:00:1B.0 Off |                    0 |\r\n",
      "| N/A   57C    P0    56W / 300W |   1760MiB / 16160MiB |      0%      Default |\r\n",
      "|                               |                      |                  N/A |\r\n",
      "+-------------------------------+----------------------+----------------------+\r\n"
     ]
    },
    {
     "name": "stdout",
     "output_type": "stream",
     "text": [
      "|   1  Tesla V100-SXM2...  Off  | 00000000:00:1C.0 Off |                    0 |\r\n",
      "| N/A   46C    P0    36W / 300W |      3MiB / 16160MiB |      0%      Default |\r\n",
      "|                               |                      |                  N/A |\r\n",
      "+-------------------------------+----------------------+----------------------+\r\n",
      "|   2  Tesla V100-SXM2...  Off  | 00000000:00:1D.0 Off |                    0 |\r\n",
      "| N/A   48C    P0    38W / 300W |      3MiB / 16160MiB |      0%      Default |\r\n",
      "|                               |                      |                  N/A |\r\n",
      "+-------------------------------+----------------------+----------------------+\r\n",
      "|   3  Tesla V100-SXM2...  Off  | 00000000:00:1E.0 Off |                    0 |\r\n",
      "| N/A   58C    P0    43W / 300W |      3MiB / 16160MiB |      0%      Default |\r\n",
      "|                               |                      |                  N/A |\r\n",
      "+-------------------------------+----------------------+----------------------+\r\n",
      "                                                                               \r\n",
      "+-----------------------------------------------------------------------------+\r\n",
      "| Processes:                                                                  |\r\n",
      "|  GPU   GI   CI        PID   Type   Process name                  GPU Memory |\r\n",
      "|        ID   ID                                                   Usage      |\r\n",
      "|=============================================================================|\r\n",
      "+-----------------------------------------------------------------------------+\r\n"
     ]
    }
   ],
   "source": [
    "!nvidia-smi"
   ]
  },
  {
   "cell_type": "markdown",
   "id": "efeac110",
   "metadata": {
    "origin_pos": 3,
    "tab": [
     "mxnet"
    ]
   },
   "source": [
    "You might have noticed that a MXNet tensor\n",
    "looks almost identical to a NumPy `ndarray`.\n",
    "But there are a few crucial differences.\n",
    "One of the key features that distinguishes MXNet\n",
    "from NumPy is its support for diverse hardware devices.\n",
    "\n",
    "In MXNet, every array has a context.\n",
    "So far, by default, all variables\n",
    "and associated computation\n",
    "have been assigned to the CPU.\n",
    "Typically, other contexts might be various GPUs.\n",
    "Things can get even hairier when\n",
    "we deploy jobs across multiple servers.\n",
    "By assigning arrays to contexts intelligently,\n",
    "we can minimize the time spent\n",
    "transferring data between devices.\n",
    "For example, when training neural networks on a server with a GPU,\n",
    "we typically prefer for the model's parameters to live on the GPU.\n",
    "\n",
    "Next, we need to confirm that\n",
    "the GPU version of MXNet is installed.\n",
    "If a CPU version of MXNet is already installed,\n",
    "we need to uninstall it first.\n",
    "For example, use the `pip uninstall mxnet` command,\n",
    "then install the corresponding MXNet version\n",
    "according to your CUDA version.\n",
    "Assuming you have CUDA 10.0 installed,\n",
    "you can install the MXNet version\n",
    "that supports CUDA 10.0 via `pip install mxnet-cu100`.\n"
   ]
  },
  {
   "cell_type": "markdown",
   "id": "e56966bb",
   "metadata": {
    "origin_pos": 5
   },
   "source": [
    "To run the programs in this section,\n",
    "you need at least two GPUs.\n",
    "Note that this might be extravagant for most desktop computers\n",
    "but it is easily available in the cloud, e.g.,\n",
    "by using the AWS EC2 multi-GPU instances.\n",
    "Almost all other sections do *not* require multiple GPUs.\n",
    "Instead, this is simply to illustrate\n",
    "how data flow between different devices.\n",
    "\n",
    "## [**Computing Devices**]\n",
    "\n",
    "We can specify devices, such as CPUs and GPUs,\n",
    "for storage and calculation.\n",
    "By default, tensors are created in the main memory\n",
    "and then use the CPU to calculate it.\n"
   ]
  },
  {
   "cell_type": "markdown",
   "id": "4facb21f",
   "metadata": {
    "origin_pos": 6,
    "tab": [
     "mxnet"
    ]
   },
   "source": [
    "In MXNet, the CPU and GPU can be indicated by `cpu()` and `gpu()`.\n",
    "It should be noted that `cpu()`\n",
    "(or any integer in the parentheses)\n",
    "means all physical CPUs and memory.\n",
    "This means that MXNet's calculations\n",
    "will try to use all CPU cores.\n",
    "However, `gpu()` only represents one card\n",
    "and the corresponding memory.\n",
    "If there are multiple GPUs, we use `gpu(i)`\n",
    "to represent the $i^\\mathrm{th}$ GPU ($i$ starts from 0).\n",
    "Also, `gpu(0)` and `gpu()` are equivalent.\n"
   ]
  },
  {
   "cell_type": "code",
   "execution_count": 2,
   "id": "0bfa7af6",
   "metadata": {
    "execution": {
     "iopub.execute_input": "2022-08-19T17:50:02.549557Z",
     "iopub.status.busy": "2022-08-19T17:50:02.548980Z",
     "iopub.status.idle": "2022-08-19T17:50:04.754043Z",
     "shell.execute_reply": "2022-08-19T17:50:04.753194Z"
    },
    "origin_pos": 8,
    "tab": [
     "mxnet"
    ]
   },
   "outputs": [],
   "source": [
    "from d2l import mxnet as d2l\n",
    "from mxnet import np, npx\n",
    "from mxnet.gluon import nn\n",
    "\n",
    "npx.set_np()"
   ]
  },
  {
   "cell_type": "code",
   "execution_count": 3,
   "id": "9eb07ad3",
   "metadata": {
    "execution": {
     "iopub.execute_input": "2022-08-19T17:50:04.796534Z",
     "iopub.status.busy": "2022-08-19T17:50:04.795838Z",
     "iopub.status.idle": "2022-08-19T17:50:04.804669Z",
     "shell.execute_reply": "2022-08-19T17:50:04.803637Z"
    },
    "origin_pos": 11,
    "tab": [
     "mxnet"
    ]
   },
   "outputs": [
    {
     "data": {
      "text/plain": [
       "(cpu(0), gpu(0), gpu(1))"
      ]
     },
     "execution_count": 3,
     "metadata": {},
     "output_type": "execute_result"
    }
   ],
   "source": [
    "def cpu():  #@save\n",
    "    return npx.cpu()\n",
    "def gpu(i=0):  #@save\n",
    "    return npx.gpu(i)\n",
    "cpu(), gpu(), gpu(1)"
   ]
  },
  {
   "cell_type": "markdown",
   "id": "bcfd0078",
   "metadata": {
    "origin_pos": 12
   },
   "source": [
    "We can (**query the number of available GPUs.**)\n"
   ]
  },
  {
   "cell_type": "code",
   "execution_count": 4,
   "id": "388f8d29",
   "metadata": {
    "execution": {
     "iopub.execute_input": "2022-08-19T17:50:04.808205Z",
     "iopub.status.busy": "2022-08-19T17:50:04.807675Z",
     "iopub.status.idle": "2022-08-19T17:50:04.813755Z",
     "shell.execute_reply": "2022-08-19T17:50:04.812921Z"
    },
    "origin_pos": 13,
    "tab": [
     "mxnet"
    ]
   },
   "outputs": [
    {
     "data": {
      "text/plain": [
       "2"
      ]
     },
     "execution_count": 4,
     "metadata": {},
     "output_type": "execute_result"
    }
   ],
   "source": [
    "def num_gpus():  #@save\n",
    "    return npx.num_gpus()\n",
    "num_gpus()"
   ]
  },
  {
   "cell_type": "markdown",
   "id": "5b7bd6ff",
   "metadata": {
    "origin_pos": 14
   },
   "source": [
    "Now we [**define two convenient functions that allow us\n",
    "to run code even if the requested GPUs do not exist.**]\n"
   ]
  },
  {
   "cell_type": "code",
   "execution_count": 5,
   "id": "7559642f",
   "metadata": {
    "execution": {
     "iopub.execute_input": "2022-08-19T17:50:04.817568Z",
     "iopub.status.busy": "2022-08-19T17:50:04.816905Z",
     "iopub.status.idle": "2022-08-19T17:50:04.823961Z",
     "shell.execute_reply": "2022-08-19T17:50:04.823158Z"
    },
    "origin_pos": 15,
    "tab": [
     "mxnet"
    ]
   },
   "outputs": [
    {
     "data": {
      "text/plain": [
       "(gpu(0), cpu(0), [gpu(0), gpu(1)])"
      ]
     },
     "execution_count": 5,
     "metadata": {},
     "output_type": "execute_result"
    }
   ],
   "source": [
    "def try_gpu(i=0):  #@save\n",
    "    \"\"\"Return gpu(i) if exists, otherwise return cpu().\"\"\"\n",
    "    if num_gpus() >= i + 1:\n",
    "        return gpu(i)\n",
    "    return cpu()\n",
    "\n",
    "def try_all_gpus():  #@save\n",
    "    \"\"\"Return all available GPUs, or [cpu(),] if no GPU exists.\"\"\"\n",
    "    return [gpu(i) for i in range(num_gpus())]\n",
    "\n",
    "try_gpu(), try_gpu(10), try_all_gpus()"
   ]
  },
  {
   "cell_type": "markdown",
   "id": "4a03b03c",
   "metadata": {
    "origin_pos": 16
   },
   "source": [
    "## Tensors and GPUs\n",
    "\n",
    "By default, tensors are created on the CPU.\n",
    "We can [**query the device where the tensor is located.**]\n"
   ]
  },
  {
   "cell_type": "code",
   "execution_count": 6,
   "id": "af006e12",
   "metadata": {
    "execution": {
     "iopub.execute_input": "2022-08-19T17:50:04.827379Z",
     "iopub.status.busy": "2022-08-19T17:50:04.826898Z",
     "iopub.status.idle": "2022-08-19T17:50:04.836081Z",
     "shell.execute_reply": "2022-08-19T17:50:04.835310Z"
    },
    "origin_pos": 17,
    "tab": [
     "mxnet"
    ]
   },
   "outputs": [
    {
     "data": {
      "text/plain": [
       "cpu(0)"
      ]
     },
     "execution_count": 6,
     "metadata": {},
     "output_type": "execute_result"
    }
   ],
   "source": [
    "x = np.array([1, 2, 3])\n",
    "x.ctx"
   ]
  },
  {
   "cell_type": "markdown",
   "id": "ea37842e",
   "metadata": {
    "origin_pos": 20
   },
   "source": [
    "It is important to note that whenever we want\n",
    "to operate on multiple terms,\n",
    "they need to be on the same device.\n",
    "For instance, if we sum two tensors,\n",
    "we need to make sure that both arguments\n",
    "live on the same device---otherwise the framework\n",
    "would not know where to store the result\n",
    "or even how to decide where to perform the computation.\n",
    "\n",
    "### Storage on the GPU\n",
    "\n",
    "There are several ways to [**store a tensor on the GPU.**]\n",
    "For example, we can specify a storage device when creating a tensor.\n",
    "Next, we create the tensor variable `X` on the first `gpu`.\n",
    "The tensor created on a GPU only consumes the memory of this GPU.\n",
    "We can use the `nvidia-smi` command to view GPU memory usage.\n",
    "In general, we need to make sure that we do not create data that exceeds the GPU memory limit.\n"
   ]
  },
  {
   "cell_type": "code",
   "execution_count": 7,
   "id": "9898db8e",
   "metadata": {
    "execution": {
     "iopub.execute_input": "2022-08-19T17:50:04.839469Z",
     "iopub.status.busy": "2022-08-19T17:50:04.838934Z",
     "iopub.status.idle": "2022-08-19T17:50:12.279533Z",
     "shell.execute_reply": "2022-08-19T17:50:12.278436Z"
    },
    "origin_pos": 21,
    "tab": [
     "mxnet"
    ]
   },
   "outputs": [
    {
     "data": {
      "text/plain": [
       "array([[1., 1., 1.],\n",
       "       [1., 1., 1.]], ctx=gpu(0))"
      ]
     },
     "execution_count": 7,
     "metadata": {},
     "output_type": "execute_result"
    }
   ],
   "source": [
    "X = np.ones((2, 3), ctx=try_gpu())\n",
    "X"
   ]
  },
  {
   "cell_type": "markdown",
   "id": "77749aa2",
   "metadata": {
    "origin_pos": 24
   },
   "source": [
    "Assuming that you have at least two GPUs, the following code will (**create a random tensor on the second GPU.**)\n"
   ]
  },
  {
   "cell_type": "code",
   "execution_count": 8,
   "id": "7ef5c7c4",
   "metadata": {
    "execution": {
     "iopub.execute_input": "2022-08-19T17:50:12.284395Z",
     "iopub.status.busy": "2022-08-19T17:50:12.283559Z",
     "iopub.status.idle": "2022-08-19T17:50:16.454087Z",
     "shell.execute_reply": "2022-08-19T17:50:16.453065Z"
    },
    "origin_pos": 25,
    "tab": [
     "mxnet"
    ]
   },
   "outputs": [
    {
     "data": {
      "text/plain": [
       "array([[0.67478997, 0.07540122, 0.9956977 ],\n",
       "       [0.09488854, 0.415456  , 0.11231736]], ctx=gpu(1))"
      ]
     },
     "execution_count": 8,
     "metadata": {},
     "output_type": "execute_result"
    }
   ],
   "source": [
    "Y = np.random.uniform(size=(2, 3), ctx=try_gpu(1))\n",
    "Y"
   ]
  },
  {
   "cell_type": "markdown",
   "id": "eb3644ff",
   "metadata": {
    "origin_pos": 28
   },
   "source": [
    "### Copying\n",
    "\n",
    "[**If we want to compute `X + Y`,\n",
    "we need to decide where to perform this operation.**]\n",
    "For instance, as shown in :numref:`fig_copyto`,\n",
    "we can transfer `X` to the second GPU\n",
    "and perform the operation there.\n",
    "*Do not* simply add `X` and `Y`,\n",
    "since this will result in an exception.\n",
    "The runtime engine would not know what to do:\n",
    "it cannot find data on the same device and it fails.\n",
    "Since `Y` lives on the second GPU,\n",
    "we need to move `X` there before we can add the two.\n",
    "\n",
    "![Copy data to perform an operation on the same device.](../img/copyto.svg)\n",
    ":label:`fig_copyto`\n"
   ]
  },
  {
   "cell_type": "code",
   "execution_count": 9,
   "id": "ed8203ba",
   "metadata": {
    "execution": {
     "iopub.execute_input": "2022-08-19T17:50:16.459455Z",
     "iopub.status.busy": "2022-08-19T17:50:16.458771Z",
     "iopub.status.idle": "2022-08-19T17:50:16.466418Z",
     "shell.execute_reply": "2022-08-19T17:50:16.465408Z"
    },
    "origin_pos": 29,
    "tab": [
     "mxnet"
    ]
   },
   "outputs": [
    {
     "name": "stdout",
     "output_type": "stream",
     "text": [
      "[[1. 1. 1.]\n",
      " [1. 1. 1.]] @gpu(0)\n",
      "[[1. 1. 1.]\n",
      " [1. 1. 1.]] @gpu(1)\n"
     ]
    }
   ],
   "source": [
    "Z = X.copyto(try_gpu(1))\n",
    "print(X)\n",
    "print(Z)"
   ]
  },
  {
   "cell_type": "markdown",
   "id": "af580635",
   "metadata": {
    "origin_pos": 32
   },
   "source": [
    "Now that [**the data is on the same GPU\n",
    "(both `Z` and `Y` are),\n",
    "we can add them up.**]\n"
   ]
  },
  {
   "cell_type": "code",
   "execution_count": 10,
   "id": "5c67011b",
   "metadata": {
    "execution": {
     "iopub.execute_input": "2022-08-19T17:50:16.471443Z",
     "iopub.status.busy": "2022-08-19T17:50:16.470801Z",
     "iopub.status.idle": "2022-08-19T17:50:16.480814Z",
     "shell.execute_reply": "2022-08-19T17:50:16.479797Z"
    },
    "origin_pos": 33,
    "tab": [
     "mxnet"
    ]
   },
   "outputs": [
    {
     "data": {
      "text/plain": [
       "array([[1.6747899, 1.0754012, 1.9956977],\n",
       "       [1.0948886, 1.415456 , 1.1123173]], ctx=gpu(1))"
      ]
     },
     "execution_count": 10,
     "metadata": {},
     "output_type": "execute_result"
    }
   ],
   "source": [
    "Y + Z"
   ]
  },
  {
   "cell_type": "markdown",
   "id": "a4981e11",
   "metadata": {
    "origin_pos": 34,
    "tab": [
     "mxnet"
    ]
   },
   "source": [
    "Imagine that your variable `Z` already lives on your second GPU.\n",
    "What happens if we still call  `Z.copyto(gpu(1))`?\n",
    "It will make a copy and allocate new memory,\n",
    "even though that variable already lives on the desired device.\n",
    "There are times where, depending on the environment our code is running in,\n",
    "two variables may already live on the same device.\n",
    "So we want to make a copy only if the variables\n",
    "currently live in different devices.\n",
    "In these cases, we can call `as_in_ctx`.\n",
    "If the variable already live in the specified device\n",
    "then this is a no-op.\n",
    "Unless you specifically want to make a copy,\n",
    "`as_in_ctx` is the method of choice.\n"
   ]
  },
  {
   "cell_type": "code",
   "execution_count": 11,
   "id": "cdf7d3f2",
   "metadata": {
    "execution": {
     "iopub.execute_input": "2022-08-19T17:50:16.485606Z",
     "iopub.status.busy": "2022-08-19T17:50:16.484978Z",
     "iopub.status.idle": "2022-08-19T17:50:16.491410Z",
     "shell.execute_reply": "2022-08-19T17:50:16.490401Z"
    },
    "origin_pos": 37,
    "tab": [
     "mxnet"
    ]
   },
   "outputs": [
    {
     "data": {
      "text/plain": [
       "True"
      ]
     },
     "execution_count": 11,
     "metadata": {},
     "output_type": "execute_result"
    }
   ],
   "source": [
    "Z.as_in_ctx(try_gpu(1)) is Z"
   ]
  },
  {
   "cell_type": "markdown",
   "id": "2134852c",
   "metadata": {
    "origin_pos": 40
   },
   "source": [
    "### Side Notes\n",
    "\n",
    "People use GPUs to do machine learning\n",
    "because they expect them to be fast.\n",
    "But transferring variables between devices is slow.\n",
    "So we want you to be 100% certain\n",
    "that you want to do something slow before we let you do it.\n",
    "If the deep learning framework just did the copy automatically\n",
    "without crashing then you might not realize\n",
    "that you had written some slow code.\n",
    "\n",
    "Also, transferring data between devices (CPU, GPUs, and other machines)\n",
    "is something that is much slower than computation.\n",
    "It also makes parallelization a lot more difficult,\n",
    "since we have to wait for data to be sent (or rather to be received)\n",
    "before we can proceed with more operations.\n",
    "This is why copy operations should be taken with great care.\n",
    "As a rule of thumb, many small operations\n",
    "are much worse than one big operation.\n",
    "Moreover, several operations at a time\n",
    "are much better than many single operations interspersed in the code\n",
    "unless you know what you are doing.\n",
    "This is the case since such operations can block if one device\n",
    "has to wait for the other before it can do something else.\n",
    "It is a bit like ordering your coffee in a queue\n",
    "rather than pre-ordering it by phone\n",
    "and finding out that it is ready when you are.\n",
    "\n",
    "Last, when we print tensors or convert tensors to the NumPy format,\n",
    "if the data is not in the main memory,\n",
    "the framework will copy it to the main memory first,\n",
    "resulting in additional transmission overhead.\n",
    "Even worse, it is now subject to the dreaded global interpreter lock\n",
    "that makes everything wait for Python to complete.\n",
    "\n",
    "\n",
    "## [**Neural Networks and GPUs**]\n",
    "\n",
    "Similarly, a neural network model can specify devices.\n",
    "The following code puts the model parameters on the GPU.\n"
   ]
  },
  {
   "cell_type": "code",
   "execution_count": 12,
   "id": "9d525c2c",
   "metadata": {
    "execution": {
     "iopub.execute_input": "2022-08-19T17:50:16.496301Z",
     "iopub.status.busy": "2022-08-19T17:50:16.495674Z",
     "iopub.status.idle": "2022-08-19T17:50:16.503488Z",
     "shell.execute_reply": "2022-08-19T17:50:16.502484Z"
    },
    "origin_pos": 41,
    "tab": [
     "mxnet"
    ]
   },
   "outputs": [],
   "source": [
    "net = nn.Sequential()\n",
    "net.add(nn.Dense(1))\n",
    "net.initialize(ctx=try_gpu())"
   ]
  },
  {
   "cell_type": "markdown",
   "id": "b1e731c2",
   "metadata": {
    "origin_pos": 44
   },
   "source": [
    "We will see many more examples of\n",
    "how to run models on GPUs in the following chapters,\n",
    "simply since they will become somewhat more computationally intensive.\n",
    "\n",
    "When the input is a tensor on the GPU, the model will calculate the result on the same GPU.\n"
   ]
  },
  {
   "cell_type": "code",
   "execution_count": 13,
   "id": "32c246e8",
   "metadata": {
    "execution": {
     "iopub.execute_input": "2022-08-19T17:50:16.508269Z",
     "iopub.status.busy": "2022-08-19T17:50:16.507622Z",
     "iopub.status.idle": "2022-08-19T17:50:16.521988Z",
     "shell.execute_reply": "2022-08-19T17:50:16.521050Z"
    },
    "origin_pos": 45,
    "tab": [
     "mxnet"
    ]
   },
   "outputs": [
    {
     "data": {
      "text/plain": [
       "array([[0.04995865],\n",
       "       [0.04995865]], ctx=gpu(0))"
      ]
     },
     "execution_count": 13,
     "metadata": {},
     "output_type": "execute_result"
    }
   ],
   "source": [
    "net(X)"
   ]
  },
  {
   "cell_type": "markdown",
   "id": "4934abb8",
   "metadata": {
    "origin_pos": 46
   },
   "source": [
    "Let's (**confirm that the model parameters are stored on the same GPU.**)\n"
   ]
  },
  {
   "cell_type": "code",
   "execution_count": 14,
   "id": "fd67e265",
   "metadata": {
    "execution": {
     "iopub.execute_input": "2022-08-19T17:50:16.526401Z",
     "iopub.status.busy": "2022-08-19T17:50:16.525770Z",
     "iopub.status.idle": "2022-08-19T17:50:16.531907Z",
     "shell.execute_reply": "2022-08-19T17:50:16.531018Z"
    },
    "origin_pos": 47,
    "tab": [
     "mxnet"
    ]
   },
   "outputs": [
    {
     "data": {
      "text/plain": [
       "gpu(0)"
      ]
     },
     "execution_count": 14,
     "metadata": {},
     "output_type": "execute_result"
    }
   ],
   "source": [
    "net[0].weight.data().ctx"
   ]
  },
  {
   "cell_type": "markdown",
   "id": "949f5e2d",
   "metadata": {
    "origin_pos": 50
   },
   "source": [
    "Let the trainer support GPU.\n"
   ]
  },
  {
   "cell_type": "code",
   "execution_count": 15,
   "id": "397b7d29",
   "metadata": {
    "execution": {
     "iopub.execute_input": "2022-08-19T17:50:16.536200Z",
     "iopub.status.busy": "2022-08-19T17:50:16.535569Z",
     "iopub.status.idle": "2022-08-19T17:50:16.542828Z",
     "shell.execute_reply": "2022-08-19T17:50:16.541859Z"
    },
    "origin_pos": 51,
    "tab": [
     "mxnet"
    ]
   },
   "outputs": [],
   "source": [
    "@d2l.add_to_class(d2l.Module)  #@save\n",
    "def set_scratch_params_device(self, device):\n",
    "    for attr in dir(self):\n",
    "        a = getattr(self, attr)\n",
    "        if isinstance(a, np.ndarray):\n",
    "            with autograd.record():\n",
    "                setattr(self, attr, a.as_in_ctx(device))\n",
    "            getattr(self, attr).attach_grad()\n",
    "        if isinstance(a, d2l.Module):\n",
    "            a.set_scratch_params_device(device)\n",
    "        if isinstance(a, list):\n",
    "            for elem in a:\n",
    "                elem.set_scratch_params_device(device)"
   ]
  },
  {
   "cell_type": "code",
   "execution_count": 16,
   "id": "53cd2899",
   "metadata": {
    "execution": {
     "iopub.execute_input": "2022-08-19T17:50:16.547111Z",
     "iopub.status.busy": "2022-08-19T17:50:16.546298Z",
     "iopub.status.idle": "2022-08-19T17:50:16.555046Z",
     "shell.execute_reply": "2022-08-19T17:50:16.554057Z"
    },
    "origin_pos": 52,
    "tab": [
     "mxnet"
    ]
   },
   "outputs": [],
   "source": [
    "@d2l.add_to_class(d2l.Trainer)  #@save\n",
    "def __init__(self, max_epochs, num_gpus=0, gradient_clip_val=0):\n",
    "    self.save_hyperparameters()\n",
    "    self.gpus = [d2l.gpu(i) for i in range(min(num_gpus, d2l.num_gpus()))]\n",
    "\n",
    "@d2l.add_to_class(d2l.Trainer)  #@save\n",
    "def prepare_batch(self, batch):\n",
    "    if self.gpus:\n",
    "        batch = [a.as_in_context(self.gpus[0]) for a in batch]\n",
    "    return batch\n",
    "\n",
    "@d2l.add_to_class(d2l.Trainer)  #@save\n",
    "def prepare_model(self, model):\n",
    "    model.trainer = self\n",
    "    model.board.xlim = [0, self.max_epochs]\n",
    "    if self.gpus:\n",
    "        model.collect_params().reset_ctx(self.gpus[0])\n",
    "        model.set_scratch_params_device(self.gpus[0])\n",
    "    self.model = model"
   ]
  },
  {
   "cell_type": "markdown",
   "id": "6d1386a4",
   "metadata": {
    "origin_pos": 53
   },
   "source": [
    "In short, as long as all data and parameters are on the same device, we can learn models efficiently. In the following chapters we will see several such examples.\n",
    "\n",
    "## Summary\n",
    "\n",
    "* We can specify devices for storage and calculation, such as the CPU or GPU.\n",
    "  By default, data is created in the main memory\n",
    "  and then uses the CPU for calculations.\n",
    "* The deep learning framework requires all input data for calculation\n",
    "  to be on the same device,\n",
    "  be it CPU or the same GPU.\n",
    "* You can lose significant performance by moving data without care.\n",
    "  A typical mistake is as follows: computing the loss\n",
    "  for every minibatch on the GPU and reporting it back\n",
    "  to the user on the command line (or logging it in a NumPy `ndarray`)\n",
    "  will trigger a global interpreter lock which stalls all GPUs.\n",
    "  It is much better to allocate memory\n",
    "  for logging inside the GPU and only move larger logs.\n",
    "\n",
    "## Exercises\n",
    "\n",
    "1. Try a larger computation task, such as the multiplication of large matrices,\n",
    "   and see the difference in speed between the CPU and GPU.\n",
    "   What about a task with a small amount of calculations?\n",
    "1. How should we read and write model parameters on the GPU?\n",
    "1. Measure the time it takes to compute 1000\n",
    "   matrix-matrix multiplications of $100 \\times 100$ matrices\n",
    "   and log the Frobenius norm of the output matrix one result at a time\n",
    "   vs. keeping a log on the GPU and transferring only the final result.\n",
    "1. Measure how much time it takes to perform two matrix-matrix multiplications\n",
    "   on two GPUs at the same time vs. in sequence\n",
    "   on one GPU. Hint: you should see almost linear scaling.\n"
   ]
  },
  {
   "cell_type": "markdown",
   "id": "31488539",
   "metadata": {
    "origin_pos": 54,
    "tab": [
     "mxnet"
    ]
   },
   "source": [
    "[Discussions](https://discuss.d2l.ai/t/62)\n"
   ]
  }
 ],
 "metadata": {
  "kernelspec": {
   "display_name": "conda_mxnet_p36",
   "name": "conda_mxnet_p36"
  },
  "language_info": {
   "name": "python"
  }
 },
 "nbformat": 4,
 "nbformat_minor": 5
}