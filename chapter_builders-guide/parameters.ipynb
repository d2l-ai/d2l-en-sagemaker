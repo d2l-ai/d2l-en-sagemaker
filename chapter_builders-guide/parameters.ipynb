{
 "cells": [
  {
   "cell_type": "markdown",
   "id": "5e2701be",
   "metadata": {},
   "source": [
    "Installing (updating) the following libraries for your Sagemaker\n",
    "instance."
   ]
  },
  {
   "cell_type": "code",
   "execution_count": null,
   "id": "c727e8a1",
   "metadata": {},
   "outputs": [],
   "source": [
    "!pip install -U mxnet-cu101==1.7.0\n"
   ]
  },
  {
   "cell_type": "markdown",
   "id": "797c1ae5",
   "metadata": {
    "origin_pos": 0
   },
   "source": [
    "# Parameter Management\n",
    "\n",
    "Once we have chosen an architecture\n",
    "and set our hyperparameters,\n",
    "we proceed to the training loop,\n",
    "where our goal is to find parameter values\n",
    "that minimize our loss function.\n",
    "After training, we will need these parameters\n",
    "in order to make future predictions.\n",
    "Additionally, we will sometimes wish\n",
    "to extract the parameters\n",
    "either to reuse them in some other context,\n",
    "to save our model to disk so that\n",
    "it may be executed in other software,\n",
    "or for examination in the hope of\n",
    "gaining scientific understanding.\n",
    "\n",
    "Most of the time, we will be able\n",
    "to ignore the nitty-gritty details\n",
    "of how parameters are declared\n",
    "and manipulated, relying on deep learning frameworks\n",
    "to do the heavy lifting.\n",
    "However, when we move away from\n",
    "stacked architectures with standard layers,\n",
    "we will sometimes need to get into the weeds\n",
    "of declaring and manipulating parameters.\n",
    "In this section, we cover the following:\n",
    "\n",
    "* Accessing parameters for debugging, diagnostics, and visualizations.\n",
    "* Sharing parameters across different model components.\n",
    "\n",
    "(**We start by focusing on an MLP with one hidden layer.**)\n"
   ]
  },
  {
   "cell_type": "code",
   "execution_count": 1,
   "id": "e4f630d0",
   "metadata": {
    "execution": {
     "iopub.execute_input": "2022-08-29T07:38:05.326126Z",
     "iopub.status.busy": "2022-08-29T07:38:05.325471Z",
     "iopub.status.idle": "2022-08-29T07:38:07.190307Z",
     "shell.execute_reply": "2022-08-29T07:38:07.188892Z"
    },
    "origin_pos": 2,
    "tab": [
     "mxnet"
    ]
   },
   "outputs": [
    {
     "data": {
      "text/plain": [
       "(2, 1)"
      ]
     },
     "execution_count": 1,
     "metadata": {},
     "output_type": "execute_result"
    }
   ],
   "source": [
    "from mxnet import init, np, npx\n",
    "from mxnet.gluon import nn\n",
    "\n",
    "npx.set_np()\n",
    "\n",
    "net = nn.Sequential()\n",
    "net.add(nn.Dense(8, activation='relu'))\n",
    "net.add(nn.Dense(1))\n",
    "net.initialize()  # Use the default initialization method\n",
    "\n",
    "X = np.random.uniform(size=(2, 4))\n",
    "net(X).shape"
   ]
  },
  {
   "cell_type": "markdown",
   "id": "3964b776",
   "metadata": {
    "origin_pos": 5
   },
   "source": [
    "## [**Parameter Access**]\n",
    "\n",
    "Let's start with how to access parameters\n",
    "from the models that you already know.\n",
    "When a model is defined via the `Sequential` class,\n",
    "we can first access any layer by indexing\n",
    "into the model as though it were a list.\n",
    "Each layer's parameters are conveniently\n",
    "located in its attribute.\n",
    "We can inspect the parameters of the second fully connected layer as follows.\n"
   ]
  },
  {
   "cell_type": "code",
   "execution_count": 2,
   "id": "ae66650c",
   "metadata": {
    "execution": {
     "iopub.execute_input": "2022-08-29T07:38:07.195671Z",
     "iopub.status.busy": "2022-08-29T07:38:07.194875Z",
     "iopub.status.idle": "2022-08-29T07:38:07.203135Z",
     "shell.execute_reply": "2022-08-29T07:38:07.202028Z"
    },
    "origin_pos": 6,
    "tab": [
     "mxnet"
    ]
   },
   "outputs": [
    {
     "data": {
      "text/plain": [
       "dense1_ (\n",
       "  Parameter dense1_weight (shape=(1, 8), dtype=float32)\n",
       "  Parameter dense1_bias (shape=(1,), dtype=float32)\n",
       ")"
      ]
     },
     "execution_count": 2,
     "metadata": {},
     "output_type": "execute_result"
    }
   ],
   "source": [
    "net[1].params"
   ]
  },
  {
   "cell_type": "markdown",
   "id": "e0026b97",
   "metadata": {
    "origin_pos": 9
   },
   "source": [
    "We can see that this fully connected layer\n",
    "contains two parameters,\n",
    "corresponding to that layer's\n",
    "weights and biases, respectively.\n",
    "\n",
    "\n",
    "### [**Targeted Parameters**]\n",
    "\n",
    "Note that each parameter is represented\n",
    "as an instance of the parameter class.\n",
    "To do anything useful with the parameters,\n",
    "we first need to access the underlying numerical values.\n",
    "There are several ways to do this.\n",
    "Some are simpler while others are more general.\n",
    "The following code extracts the bias\n",
    "from the second neural network layer, which returns a parameter class instance, and\n",
    "further accesses that parameter's value.\n"
   ]
  },
  {
   "cell_type": "code",
   "execution_count": 3,
   "id": "1e4ef75b",
   "metadata": {
    "execution": {
     "iopub.execute_input": "2022-08-29T07:38:07.208759Z",
     "iopub.status.busy": "2022-08-29T07:38:07.208105Z",
     "iopub.status.idle": "2022-08-29T07:38:07.222361Z",
     "shell.execute_reply": "2022-08-29T07:38:07.221290Z"
    },
    "origin_pos": 10,
    "tab": [
     "mxnet"
    ]
   },
   "outputs": [
    {
     "data": {
      "text/plain": [
       "(mxnet.gluon.parameter.Parameter, array([0.]))"
      ]
     },
     "execution_count": 3,
     "metadata": {},
     "output_type": "execute_result"
    }
   ],
   "source": [
    "type(net[1].bias), net[1].bias.data()"
   ]
  },
  {
   "cell_type": "markdown",
   "id": "48cf36e1",
   "metadata": {
    "origin_pos": 13,
    "tab": [
     "mxnet"
    ]
   },
   "source": [
    "Parameters are complex objects,\n",
    "containing values, gradients,\n",
    "and additional information.\n",
    "That's why we need to request the value explicitly.\n",
    "\n",
    "In addition to the value, each parameter also allows us to access the gradient. Because we have not invoked backpropagation for this network yet, it is in its initial state.\n"
   ]
  },
  {
   "cell_type": "code",
   "execution_count": 4,
   "id": "2394ae04",
   "metadata": {
    "execution": {
     "iopub.execute_input": "2022-08-29T07:38:07.227260Z",
     "iopub.status.busy": "2022-08-29T07:38:07.226369Z",
     "iopub.status.idle": "2022-08-29T07:38:07.235003Z",
     "shell.execute_reply": "2022-08-29T07:38:07.233756Z"
    },
    "origin_pos": 14,
    "tab": [
     "mxnet"
    ]
   },
   "outputs": [
    {
     "data": {
      "text/plain": [
       "array([[0., 0., 0., 0., 0., 0., 0., 0.]])"
      ]
     },
     "execution_count": 4,
     "metadata": {},
     "output_type": "execute_result"
    }
   ],
   "source": [
    "net[1].weight.grad()"
   ]
  },
  {
   "cell_type": "markdown",
   "id": "e8ed1e69",
   "metadata": {
    "origin_pos": 16
   },
   "source": [
    "### [**All Parameters at Once**]\n",
    "\n",
    "When we need to perform operations on all parameters,\n",
    "accessing them one-by-one can grow tedious.\n",
    "The situation can grow especially unwieldy\n",
    "when we work with more complex modules (e.g., nested modules),\n",
    "since we would need to recurse\n",
    "through the entire tree to extract\n",
    "each sub-module's parameters. Below we demonstrate accessing the parameters of all layers.\n"
   ]
  },
  {
   "cell_type": "code",
   "execution_count": 5,
   "id": "ef8f5762",
   "metadata": {
    "execution": {
     "iopub.execute_input": "2022-08-29T07:38:07.239452Z",
     "iopub.status.busy": "2022-08-29T07:38:07.238510Z",
     "iopub.status.idle": "2022-08-29T07:38:07.245489Z",
     "shell.execute_reply": "2022-08-29T07:38:07.244327Z"
    },
    "origin_pos": 17,
    "tab": [
     "mxnet"
    ]
   },
   "outputs": [
    {
     "data": {
      "text/plain": [
       "sequential0_ (\n",
       "  Parameter dense0_weight (shape=(8, 4), dtype=float32)\n",
       "  Parameter dense0_bias (shape=(8,), dtype=float32)\n",
       "  Parameter dense1_weight (shape=(1, 8), dtype=float32)\n",
       "  Parameter dense1_bias (shape=(1,), dtype=float32)\n",
       ")"
      ]
     },
     "execution_count": 5,
     "metadata": {},
     "output_type": "execute_result"
    }
   ],
   "source": [
    "net.collect_params()"
   ]
  },
  {
   "cell_type": "markdown",
   "id": "ce859363",
   "metadata": {
    "origin_pos": 20
   },
   "source": [
    "## [**Tied Parameters**]\n",
    "\n",
    "Often, we want to share parameters across multiple layers.\n",
    "Let's see how to do this elegantly.\n",
    "In the following we allocate a fully connected layer\n",
    "and then use its parameters specifically\n",
    "to set those of another layer.\n",
    "Here we need to run the forward propagation\n",
    "`net(X)` before accessing the parameters.\n"
   ]
  },
  {
   "cell_type": "code",
   "execution_count": 6,
   "id": "3a81b907",
   "metadata": {
    "execution": {
     "iopub.execute_input": "2022-08-29T07:38:07.249017Z",
     "iopub.status.busy": "2022-08-29T07:38:07.248411Z",
     "iopub.status.idle": "2022-08-29T07:38:07.274818Z",
     "shell.execute_reply": "2022-08-29T07:38:07.273376Z"
    },
    "origin_pos": 21,
    "tab": [
     "mxnet"
    ]
   },
   "outputs": [
    {
     "name": "stdout",
     "output_type": "stream",
     "text": [
      "[ True  True  True  True  True  True  True  True]\n",
      "[ True  True  True  True  True  True  True  True]\n"
     ]
    }
   ],
   "source": [
    "net = nn.Sequential()\n",
    "# We need to give the shared layer a name so that we can refer to its\n",
    "# parameters\n",
    "shared = nn.Dense(8, activation='relu')\n",
    "net.add(nn.Dense(8, activation='relu'),\n",
    "        shared,\n",
    "        nn.Dense(8, activation='relu', params=shared.params),\n",
    "        nn.Dense(10))\n",
    "net.initialize()\n",
    "\n",
    "X = np.random.uniform(size=(2, 20))\n",
    "net(X)\n",
    "\n",
    "# Check whether the parameters are the same\n",
    "print(net[1].weight.data()[0] == net[2].weight.data()[0])\n",
    "net[1].weight.data()[0, 0] = 100\n",
    "# Make sure that they are actually the same object rather than just having the\n",
    "# same value\n",
    "print(net[1].weight.data()[0] == net[2].weight.data()[0])"
   ]
  },
  {
   "cell_type": "markdown",
   "id": "1634aab1",
   "metadata": {
    "origin_pos": 24
   },
   "source": [
    "This example shows that the parameters\n",
    "of the second and third layer are tied.\n",
    "They are not just equal, they are\n",
    "represented by the same exact tensor.\n",
    "Thus, if we change one of the parameters,\n",
    "the other one changes, too.\n",
    "You might wonder,\n",
    "when parameters are tied\n",
    "what happens to the gradients?\n",
    "Since the model parameters contain gradients,\n",
    "the gradients of the second hidden layer\n",
    "and the third hidden layer are added together\n",
    "during backpropagation.\n",
    "\n",
    "## Summary\n",
    "\n",
    "We have several ways to access and tie model parameters.\n",
    "\n",
    "\n",
    "## Exercises\n",
    "\n",
    "1. Use the `NestMLP` model defined in :numref:`sec_model_construction` and access the parameters of the various layers.\n",
    "1. Construct an MLP containing a shared parameter layer and train it. During the training process, observe the model parameters and gradients of each layer.\n",
    "1. Why is sharing parameters a good idea?\n"
   ]
  },
  {
   "cell_type": "markdown",
   "id": "f4024c54",
   "metadata": {
    "origin_pos": 25,
    "tab": [
     "mxnet"
    ]
   },
   "source": [
    "[Discussions](https://discuss.d2l.ai/t/56)\n"
   ]
  }
 ],
 "metadata": {
  "kernelspec": {
   "display_name": "conda_mxnet_p36",
   "name": "conda_mxnet_p36"
  },
  "language_info": {
   "name": "python"
  }
 },
 "nbformat": 4,
 "nbformat_minor": 5
}