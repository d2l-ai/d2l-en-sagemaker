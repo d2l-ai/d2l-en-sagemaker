{
 "cells": [
  {
   "cell_type": "markdown",
   "id": "0e048a7d",
   "metadata": {},
   "source": [
    "Installing (updating) the following libraries for your Sagemaker\n",
    "instance."
   ]
  },
  {
   "cell_type": "code",
   "execution_count": null,
   "id": "43a7e01f",
   "metadata": {},
   "outputs": [],
   "source": [
    "!pip install -U mxnet-cu112==1.9.1\n"
   ]
  },
  {
   "cell_type": "markdown",
   "id": "23d343d0",
   "metadata": {
    "origin_pos": 1
   },
   "source": [
    "# Parameter Initialization\n",
    "\n",
    "Now that we know how to access the parameters,\n",
    "let's look at how to initialize them properly.\n",
    "We discussed the need for proper initialization in :numref:`sec_numerical_stability`.\n",
    "The deep learning framework provides default random initializations to its layers.\n",
    "However, we often want to initialize our weights\n",
    "according to various other protocols. The framework provides most commonly\n",
    "used protocols, and also allows to create a custom initializer.\n"
   ]
  },
  {
   "cell_type": "code",
   "execution_count": 1,
   "id": "9465b56f",
   "metadata": {
    "execution": {
     "iopub.execute_input": "2023-08-14T16:46:16.943155Z",
     "iopub.status.busy": "2023-08-14T16:46:16.942582Z",
     "iopub.status.idle": "2023-08-14T16:46:18.743542Z",
     "shell.execute_reply": "2023-08-14T16:46:18.742160Z"
    },
    "origin_pos": 2,
    "tab": [
     "mxnet"
    ]
   },
   "outputs": [],
   "source": [
    "from mxnet import init, np, npx\n",
    "from mxnet.gluon import nn\n",
    "\n",
    "npx.set_np()"
   ]
  },
  {
   "cell_type": "markdown",
   "id": "b1639c80",
   "metadata": {
    "origin_pos": 6,
    "tab": [
     "mxnet"
    ]
   },
   "source": [
    "By default, MXNet initializes weight parameters by randomly drawing from a uniform distribution $U(-0.07, 0.07)$,\n",
    "clearing bias parameters to zero.\n",
    "MXNet's `init` module provides a variety\n",
    "of preset initialization methods.\n"
   ]
  },
  {
   "cell_type": "code",
   "execution_count": 2,
   "id": "aca55645",
   "metadata": {
    "execution": {
     "iopub.execute_input": "2023-08-14T16:46:18.749135Z",
     "iopub.status.busy": "2023-08-14T16:46:18.748130Z",
     "iopub.status.idle": "2023-08-14T16:46:18.805387Z",
     "shell.execute_reply": "2023-08-14T16:46:18.804207Z"
    },
    "origin_pos": 10,
    "tab": [
     "mxnet"
    ]
   },
   "outputs": [
    {
     "name": "stdout",
     "output_type": "stream",
     "text": [
      "[16:46:18] ../src/storage/storage.cc:196: Using Pooled (Naive) StorageManager for CPU\n"
     ]
    },
    {
     "data": {
      "text/plain": [
       "(2, 1)"
      ]
     },
     "execution_count": 2,
     "metadata": {},
     "output_type": "execute_result"
    }
   ],
   "source": [
    "net = nn.Sequential()\n",
    "net.add(nn.Dense(8, activation='relu'))\n",
    "net.add(nn.Dense(1))\n",
    "net.initialize()  # Use the default initialization method\n",
    "\n",
    "X = np.random.uniform(size=(2, 4))\n",
    "net(X).shape"
   ]
  },
  {
   "cell_type": "markdown",
   "id": "9d679b23",
   "metadata": {
    "origin_pos": 14
   },
   "source": [
    "## [**Built-in Initialization**]\n",
    "\n",
    "Let's begin by calling on built-in initializers.\n",
    "The code below initializes all weight parameters\n",
    "as Gaussian random variables\n",
    "with standard deviation 0.01, while bias parameters are cleared to zero.\n"
   ]
  },
  {
   "cell_type": "code",
   "execution_count": 3,
   "id": "fbe090e8",
   "metadata": {
    "execution": {
     "iopub.execute_input": "2023-08-14T16:46:18.809568Z",
     "iopub.status.busy": "2023-08-14T16:46:18.808715Z",
     "iopub.status.idle": "2023-08-14T16:46:18.820485Z",
     "shell.execute_reply": "2023-08-14T16:46:18.819334Z"
    },
    "origin_pos": 15,
    "tab": [
     "mxnet"
    ]
   },
   "outputs": [
    {
     "data": {
      "text/plain": [
       "array([ 0.00354961, -0.00614133,  0.0107317 ,  0.01830765])"
      ]
     },
     "execution_count": 3,
     "metadata": {},
     "output_type": "execute_result"
    }
   ],
   "source": [
    "# Here force_reinit ensures that parameters are freshly initialized even if\n",
    "# they were already initialized previously\n",
    "net.initialize(init=init.Normal(sigma=0.01), force_reinit=True)\n",
    "net[0].weight.data()[0]"
   ]
  },
  {
   "cell_type": "markdown",
   "id": "0fe52eca",
   "metadata": {
    "origin_pos": 19
   },
   "source": [
    "We can also initialize all the parameters\n",
    "to a given constant value (say, 1).\n"
   ]
  },
  {
   "cell_type": "code",
   "execution_count": 4,
   "id": "bf1fff47",
   "metadata": {
    "execution": {
     "iopub.execute_input": "2023-08-14T16:46:18.825440Z",
     "iopub.status.busy": "2023-08-14T16:46:18.824659Z",
     "iopub.status.idle": "2023-08-14T16:46:18.835807Z",
     "shell.execute_reply": "2023-08-14T16:46:18.834782Z"
    },
    "origin_pos": 20,
    "tab": [
     "mxnet"
    ]
   },
   "outputs": [
    {
     "data": {
      "text/plain": [
       "array([1., 1., 1., 1.])"
      ]
     },
     "execution_count": 4,
     "metadata": {},
     "output_type": "execute_result"
    }
   ],
   "source": [
    "net.initialize(init=init.Constant(1), force_reinit=True)\n",
    "net[0].weight.data()[0]"
   ]
  },
  {
   "cell_type": "markdown",
   "id": "74f18980",
   "metadata": {
    "origin_pos": 24
   },
   "source": [
    "[**We can also apply different initializers for certain blocks.**]\n",
    "For example, below we initialize the first layer\n",
    "with the Xavier initializer\n",
    "and initialize the second layer\n",
    "to a constant value of 42.\n"
   ]
  },
  {
   "cell_type": "code",
   "execution_count": 5,
   "id": "0a620fa8",
   "metadata": {
    "execution": {
     "iopub.execute_input": "2023-08-14T16:46:18.839315Z",
     "iopub.status.busy": "2023-08-14T16:46:18.838978Z",
     "iopub.status.idle": "2023-08-14T16:46:18.848779Z",
     "shell.execute_reply": "2023-08-14T16:46:18.847840Z"
    },
    "origin_pos": 25,
    "tab": [
     "mxnet"
    ]
   },
   "outputs": [
    {
     "name": "stdout",
     "output_type": "stream",
     "text": [
      "[-0.26102373  0.15249556 -0.19274211 -0.24742058]\n",
      "[[42. 42. 42. 42. 42. 42. 42. 42.]]\n"
     ]
    }
   ],
   "source": [
    "net[0].weight.initialize(init=init.Xavier(), force_reinit=True)\n",
    "net[1].initialize(init=init.Constant(42), force_reinit=True)\n",
    "print(net[0].weight.data()[0])\n",
    "print(net[1].weight.data())"
   ]
  },
  {
   "cell_type": "markdown",
   "id": "e4646c5e",
   "metadata": {
    "origin_pos": 29
   },
   "source": [
    "### [**Custom Initialization**]\n",
    "\n",
    "Sometimes, the initialization methods we need\n",
    "are not provided by the deep learning framework.\n",
    "In the example below, we define an initializer\n",
    "for any weight parameter $w$ using the following strange distribution:\n",
    "\n",
    "$$\n",
    "\\begin{aligned}\n",
    "    w \\sim \\begin{cases}\n",
    "        U(5, 10) & \\textrm{ with probability } \\frac{1}{4} \\\\\n",
    "            0    & \\textrm{ with probability } \\frac{1}{2} \\\\\n",
    "        U(-10, -5) & \\textrm{ with probability } \\frac{1}{4}\n",
    "    \\end{cases}\n",
    "\\end{aligned}\n",
    "$$\n"
   ]
  },
  {
   "cell_type": "markdown",
   "id": "751abe74",
   "metadata": {
    "origin_pos": 30,
    "tab": [
     "mxnet"
    ]
   },
   "source": [
    "Here we define a subclass of the `Initializer` class.\n",
    "Usually, we only need to implement the `_init_weight` function\n",
    "which takes a tensor argument (`data`)\n",
    "and assigns to it the desired initialized values.\n"
   ]
  },
  {
   "cell_type": "code",
   "execution_count": 6,
   "id": "32fb9a89",
   "metadata": {
    "execution": {
     "iopub.execute_input": "2023-08-14T16:46:18.852355Z",
     "iopub.status.busy": "2023-08-14T16:46:18.852073Z",
     "iopub.status.idle": "2023-08-14T16:46:18.866011Z",
     "shell.execute_reply": "2023-08-14T16:46:18.864982Z"
    },
    "origin_pos": 34,
    "tab": [
     "mxnet"
    ]
   },
   "outputs": [
    {
     "name": "stdout",
     "output_type": "stream",
     "text": [
      "Init dense0_weight (8, 4)\n",
      "Init dense1_weight (1, 8)\n"
     ]
    },
    {
     "data": {
      "text/plain": [
       "array([[-6.0683527,  8.991421 , -0.       ,  0.       ],\n",
       "       [ 6.4198647, -9.728567 , -8.057975 ,  0.       ]])"
      ]
     },
     "execution_count": 6,
     "metadata": {},
     "output_type": "execute_result"
    }
   ],
   "source": [
    "class MyInit(init.Initializer):\n",
    "    def _init_weight(self, name, data):\n",
    "        print('Init', name, data.shape)\n",
    "        data[:] = np.random.uniform(-10, 10, data.shape)\n",
    "        data *= np.abs(data) >= 5\n",
    "\n",
    "net.initialize(MyInit(), force_reinit=True)\n",
    "net[0].weight.data()[:2]"
   ]
  },
  {
   "cell_type": "markdown",
   "id": "07a34440",
   "metadata": {
    "origin_pos": 38,
    "tab": [
     "mxnet"
    ]
   },
   "source": [
    "Note that we always have the option\n",
    "of setting parameters directly.\n"
   ]
  },
  {
   "cell_type": "code",
   "execution_count": 7,
   "id": "f6fc4f97",
   "metadata": {
    "execution": {
     "iopub.execute_input": "2023-08-14T16:46:18.870102Z",
     "iopub.status.busy": "2023-08-14T16:46:18.869451Z",
     "iopub.status.idle": "2023-08-14T16:46:18.878441Z",
     "shell.execute_reply": "2023-08-14T16:46:18.877348Z"
    },
    "origin_pos": 40,
    "tab": [
     "mxnet"
    ]
   },
   "outputs": [
    {
     "data": {
      "text/plain": [
       "array([42.      ,  9.991421,  1.      ,  1.      ])"
      ]
     },
     "execution_count": 7,
     "metadata": {},
     "output_type": "execute_result"
    }
   ],
   "source": [
    "net[0].weight.data()[:] += 1\n",
    "net[0].weight.data()[0, 0] = 42\n",
    "net[0].weight.data()[0]"
   ]
  },
  {
   "cell_type": "markdown",
   "id": "77596744",
   "metadata": {
    "origin_pos": 43
   },
   "source": [
    "## Summary\n",
    "\n",
    "We can initialize parameters using built-in and custom initializers.\n",
    "\n",
    "## Exercises\n",
    "\n",
    "Look up the online documentation for more built-in initializers.\n"
   ]
  },
  {
   "cell_type": "markdown",
   "id": "db2e0ea5",
   "metadata": {
    "origin_pos": 44,
    "tab": [
     "mxnet"
    ]
   },
   "source": [
    "[Discussions](https://discuss.d2l.ai/t/8089)\n"
   ]
  }
 ],
 "metadata": {
  "kernelspec": {
   "display_name": "conda_mxnet_p36",
   "name": "conda_mxnet_p36"
  },
  "language_info": {
   "name": "python"
  },
  "required_libs": []
 },
 "nbformat": 4,
 "nbformat_minor": 5
}