{
 "cells": [
  {
   "cell_type": "markdown",
   "metadata": {},
   "source": [
    "Installing (updating) the following libraries for your Sagemaker\n",
    "instance."
   ]
  },
  {
   "cell_type": "code",
   "execution_count": null,
   "metadata": {},
   "outputs": [],
   "source": [
    "!pip install ..  # installing d2l\n",
    "!pip install -U mxnet-cu101==1.7.0\n"
   ]
  },
  {
   "cell_type": "markdown",
   "metadata": {
    "origin_pos": 0
   },
   "source": [
    "# Implementação Concisa de Regressão Linear\n",
    ":label:`sec_linear_concise`\n",
    "\n",
    "\n",
    "Amplo e intenso interesse em *deep learning* nos últimos anos\n",
    "inspiraram empresas, acadêmicos e amadores\n",
    "para desenvolver uma variedade de estruturas de código aberto maduras\n",
    "para automatizar o trabalho repetitivo de implementação\n",
    "algoritmos de aprendizagem baseados em gradiente.\n",
    "Em :numref:`sec_linear_scratch`, contamos apenas com\n",
    "(i) tensores para armazenamento de dados e álgebra linear;\n",
    "e (ii) auto diferenciação para cálculo de gradientes.\n",
    "Na prática, porque iteradores de dados, funções de perda, otimizadores,\n",
    "e camadas de rede neural\n",
    "são tão comuns que as bibliotecas modernas também implementam esses componentes para nós.\n",
    "\n",
    "Nesta seção, (**mostraremos como implementar\n",
    "o modelo de regressão linear**) de:numref:`sec_linear_scratch`\n",
    "(**de forma concisa, usando APIs de alto nível**) de estruturas de *deep learning*.\n",
    "\n",
    "\n",
    "## Gerando the Dataset\n",
    "\n",
    "Para começar, vamos gerar o mesmo conjunto de dados como em\n",
    ":numref:`sec_linear_scratch`.\n"
   ]
  },
  {
   "cell_type": "code",
   "execution_count": 1,
   "metadata": {
    "origin_pos": 1,
    "tab": [
     "mxnet"
    ]
   },
   "outputs": [],
   "source": [
    "from mxnet import autograd, gluon, np, npx\n",
    "from d2l import mxnet as d2l\n",
    "\n",
    "npx.set_np()"
   ]
  },
  {
   "cell_type": "code",
   "execution_count": 2,
   "metadata": {
    "origin_pos": 4,
    "tab": [
     "mxnet"
    ]
   },
   "outputs": [],
   "source": [
    "true_w = np.array([2, -3.4])\n",
    "true_b = 4.2\n",
    "features, labels = d2l.synthetic_data(true_w, true_b, 1000)"
   ]
  },
  {
   "cell_type": "markdown",
   "metadata": {
    "origin_pos": 5
   },
   "source": [
    "## Lendo o Dataset\n",
    "\n",
    "Em vez de usar nosso próprio iterador,\n",
    "podemos [**chamar a API existente em uma estrutura para ler os dados.**]\n",
    "Passamos *`features`* e *`labels`* como argumentos e especificamos *`batch_size`*\n",
    "ao instanciar um objeto iterador de dados.\n",
    "Além disso, o valor booleano `is_train`\n",
    "indica se ou não\n",
    "queremos que o objeto iterador de dados embaralhe os dados\n",
    "em cada época (passe pelo conjunto de dados).\n"
   ]
  },
  {
   "cell_type": "code",
   "execution_count": 3,
   "metadata": {
    "origin_pos": 6,
    "tab": [
     "mxnet"
    ]
   },
   "outputs": [],
   "source": [
    "def load_array(data_arrays, batch_size, is_train=True):  #@save\n",
    "    \"\"\"Construct a Gluon data iterator.\"\"\"\n",
    "    dataset = gluon.data.ArrayDataset(*data_arrays)\n",
    "    return gluon.data.DataLoader(dataset, batch_size, shuffle=is_train)"
   ]
  },
  {
   "cell_type": "code",
   "execution_count": 4,
   "metadata": {
    "origin_pos": 9,
    "tab": [
     "mxnet"
    ]
   },
   "outputs": [],
   "source": [
    "batch_size = 10\n",
    "data_iter = load_array((features, labels), batch_size)"
   ]
  },
  {
   "cell_type": "markdown",
   "metadata": {
    "origin_pos": 10
   },
   "source": [
    "Now we can use `data_iter` in much the same way as we called\n",
    "the `data_iter` function in :numref:`sec_linear_scratch`.\n",
    "To verify that it is working, we can read and print\n",
    "the first minibatch of examples.\n",
    "Comparing with :numref:`sec_linear_scratch`,\n",
    "here we use `iter` to construct a Python iterator and use `next` to obtain the first item from the iterator.\n"
   ]
  },
  {
   "cell_type": "code",
   "execution_count": 5,
   "metadata": {
    "origin_pos": 11,
    "tab": [
     "mxnet"
    ]
   },
   "outputs": [
    {
     "data": {
      "text/plain": [
       "[array([[-0.6015945 ,  0.29670078],\n",
       "        [-1.9421831 ,  0.39020136],\n",
       "        [ 1.3099662 , -0.49157172],\n",
       "        [ 0.17462298, -0.6705778 ],\n",
       "        [-0.05871473,  0.60052294],\n",
       "        [ 1.0442022 ,  0.47742996],\n",
       "        [ 1.2208143 ,  0.34541664],\n",
       "        [ 1.0702589 ,  0.22332872],\n",
       "        [ 0.7740038 ,  0.4838046 ],\n",
       "        [-0.63442576,  1.5001022 ]]),\n",
       " array([[ 1.9725974],\n",
       "        [-1.0176986],\n",
       "        [ 8.485775 ],\n",
       "        [ 6.8331265],\n",
       "        [ 2.034631 ],\n",
       "        [ 4.670243 ],\n",
       "        [ 5.472156 ],\n",
       "        [ 5.5869737],\n",
       "        [ 4.0968843],\n",
       "        [-2.1558237]])]"
      ]
     },
     "execution_count": 5,
     "metadata": {},
     "output_type": "execute_result"
    }
   ],
   "source": [
    "next(iter(data_iter))"
   ]
  },
  {
   "cell_type": "markdown",
   "metadata": {
    "origin_pos": 12
   },
   "source": [
    "## Definindo o Modelo\n",
    "\n",
    "\n",
    "Quando implementamos a regressão linear do zero\n",
    "em :numref:`sec_linear_scratch`,\n",
    "definimos nossos parâmetros de modelo explicitamente\n",
    "e codificamos os cálculos para produzir saída\n",
    "usando operações básicas de álgebra linear.\n",
    "Você *deveria* saber como fazer isso.\n",
    "Mas quando seus modelos ficam mais complexos,\n",
    "e uma vez que você tem que fazer isso quase todos os dias,\n",
    "você ficará feliz com a ajuda.\n",
    "A situação é semelhante a codificar seu próprio blog do zero.\n",
    "Fazer uma ou duas vezes é gratificante e instrutivo,\n",
    "mas você seria um péssimo desenvolvedor da web\n",
    "se toda vez que você precisava de um blog você passava um mês\n",
    "reinventando tudo.\n",
    "\n",
    "Para operações padrão, podemos [**usar as camadas predefinidas de uma estrutura,**]\n",
    "o que nos permite focar especialmente\n",
    "nas camadas usadas para construir o modelo\n",
    "em vez de ter que se concentrar na implementação.\n",
    "Vamos primeiro definir uma variável de modelo `net`,\n",
    "que se refere a uma instância da classe `Sequential`.\n",
    "A classe `Sequential` define um contêiner\n",
    "para várias camadas que serão encadeadas.\n",
    "Dados dados de entrada, uma instância `Sequential` passa por\n",
    "a primeira camada, por sua vez passando a saída\n",
    "como entrada da segunda camada e assim por diante.\n",
    "No exemplo a seguir, nosso modelo consiste em apenas uma camada,\n",
    "portanto, não precisamos realmente de `Sequencial`.\n",
    "Mas como quase todos os nossos modelos futuros\n",
    "envolverão várias camadas,\n",
    "vamos usá-lo de qualquer maneira apenas para familiarizá-lo\n",
    "com o fluxo de trabalho mais padrão.\n",
    "\n",
    "Lembre-se da arquitetura de uma rede de camada única, conforme mostrado em :numref:`fig_single_neuron`.\n",
    "Diz-se que a camada está *totalmente conectada*\n",
    "porque cada uma de suas entradas está conectada a cada uma de suas saídas\n",
    "por meio de uma multiplicação de matriz-vetor.\n"
   ]
  },
  {
   "cell_type": "markdown",
   "metadata": {
    "origin_pos": 13,
    "tab": [
     "mxnet"
    ]
   },
   "source": [
    "No Gluon, a camada totalmente conectada é definida na classe `Densa`.\n",
    "Uma vez que queremos apenas gerar uma única saída escalar,\n",
    "nós definimos esse número para 1.\n",
    "\n",
    "É importante notar que, por conveniência,\n",
    "Gluon não exige que especifiquemos\n",
    "a forma de entrada para cada camada.\n",
    "Então, aqui, não precisamos dizer ao Gluon\n",
    "quantas entradas vão para esta camada linear.\n",
    "Quando tentamos primeiro passar dados por meio de nosso modelo,\n",
    "por exemplo, quando executamos `net (X)` mais tarde,\n",
    "o Gluon irá inferir automaticamente o número de entradas para cada camada.\n",
    "Descreveremos como isso funciona com mais detalhes posteriormente.\n"
   ]
  },
  {
   "cell_type": "markdown",
   "metadata": {
    "origin_pos": 14
   },
   "source": [
    ": begin_tab: `pytorch`\n",
    "No PyTorch, a camada totalmente conectada é definida na classe `Linear`. Observe que passamos dois argumentos para `nn.Linear`. O primeiro especifica a dimensão do recurso de entrada, que é 2, e o segundo é a dimensão do recurso de saída, que é um escalar único e, portanto, 1.\n"
   ]
  },
  {
   "cell_type": "code",
   "execution_count": 6,
   "metadata": {
    "origin_pos": 16,
    "tab": [
     "mxnet"
    ]
   },
   "outputs": [],
   "source": [
    "# `nn` is an abbreviation for neural networks\n",
    "from mxnet.gluon import nn\n",
    "\n",
    "net = nn.Sequential()\n",
    "net.add(nn.Dense(1))"
   ]
  },
  {
   "cell_type": "markdown",
   "metadata": {
    "origin_pos": 19
   },
   "source": [
    "## Inicializando os Parâmetros do Modelo\n",
    "\n",
    "\n",
    "Antes de usar `net`, precisamos (**inicializar os parâmetros do modelo,**)\n",
    "como os pesos e *bias* no modelo de regressão linear.\n",
    "As estruturas de *deep learning* geralmente têm uma maneira predefinida de inicializar os parâmetros.\n",
    "Aqui especificamos que cada parâmetro de peso\n",
    "deve ser amostrado aleatoriamente a partir de uma distribuição normal\n",
    "com média 0 e desvio padrão 0,01.\n",
    "O parâmetro bias será inicializado em zero.\n"
   ]
  },
  {
   "cell_type": "markdown",
   "metadata": {
    "origin_pos": 20,
    "tab": [
     "mxnet"
    ]
   },
   "source": [
    "Vamos importar o módulo *`initializer`* do MXNet.\n",
    "Este módulo fornece vários métodos para inicialização de parâmetros do modelo.\n",
    "Gluon disponibiliza `init` como um atalho (abreviatura)\n",
    "para acessar o pacote `initializer`.\n",
    "Nós apenas especificamos como inicializar o peso chamando `init.Normal (sigma = 0,01)`.\n",
    "Os parâmetros de polarização são inicializados em zero por padrão.\n"
   ]
  },
  {
   "cell_type": "code",
   "execution_count": 7,
   "metadata": {
    "origin_pos": 23,
    "tab": [
     "mxnet"
    ]
   },
   "outputs": [],
   "source": [
    "from mxnet import init\n",
    "\n",
    "net.initialize(init.Normal(sigma=0.01))"
   ]
  },
  {
   "cell_type": "markdown",
   "metadata": {
    "origin_pos": 26,
    "tab": [
     "mxnet"
    ]
   },
   "source": [
    "O código acima pode parecer simples, mas você deve observar\n",
    "que algo estranho está acontecendo aqui.\n",
    "Estamos inicializando parâmetros para uma rede\n",
    "mesmo que Gluon ainda não saiba\n",
    "quantas dimensões a entrada terá!\n",
    "Pode ser 2 como em nosso exemplo ou pode ser 2.000.\n",
    "Gluon nos permite fugir com isso porque, nos bastidores,\n",
    "a inicialização é, na verdade, *adiada*.\n",
    "A inicialização real ocorrerá apenas\n",
    "quando tentamos, pela primeira vez, passar dados pela rede.\n",
    "Apenas tome cuidado para lembrar que, uma vez que os parâmetros\n",
    "ainda não foram inicializados,\n",
    "não podemos acessá-los ou manipulá-los.\n"
   ]
  },
  {
   "cell_type": "markdown",
   "metadata": {
    "origin_pos": 29
   },
   "source": [
    "## Definindo a Função de Perda\n"
   ]
  },
  {
   "cell_type": "markdown",
   "metadata": {
    "origin_pos": 30,
    "tab": [
     "mxnet"
    ]
   },
   "source": [
    "No Gluon, o módulo `loss` define várias funções de perda.\n",
    "Neste exemplo, usaremos a implementação de perda quadrática do  Gluon (`L2Loss`).\n"
   ]
  },
  {
   "cell_type": "code",
   "execution_count": 8,
   "metadata": {
    "origin_pos": 33,
    "tab": [
     "mxnet"
    ]
   },
   "outputs": [],
   "source": [
    "loss = gluon.loss.L2Loss()"
   ]
  },
  {
   "cell_type": "markdown",
   "metadata": {
    "origin_pos": 36
   },
   "source": [
    "## Definindo o Algoritmo de Otimização\n"
   ]
  },
  {
   "cell_type": "markdown",
   "metadata": {
    "origin_pos": 37,
    "tab": [
     "mxnet"
    ]
   },
   "source": [
    "O gradiente descendente estocástico de *minibatch* é uma ferramenta padrão\n",
    "para otimizar redes neurais\n",
    "e assim o Gluon o apoia ao lado de uma série de\n",
    "variações desse algoritmo por meio de sua classe *`Trainer`*.\n",
    "Quando instanciamos o *`Trainer`*,\n",
    "iremos especificar os parâmetros para otimizar\n",
    "(que pode ser obtido em nosso modelo `net` via` net.collect_params ()`),\n",
    "o algoritmo de otimização que desejamos usar (`sgd`),\n",
    "e um dicionário de hiperparâmetros\n",
    "exigido por nosso algoritmo de otimização.\n",
    "O gradiente descendente estocástico de *minibatch* requer apenas que definamos o valor *`learning_rate`*, que é definido como 0,03 aqui.\n"
   ]
  },
  {
   "cell_type": "code",
   "execution_count": 9,
   "metadata": {
    "origin_pos": 40,
    "tab": [
     "mxnet"
    ]
   },
   "outputs": [],
   "source": [
    "from mxnet import gluon\n",
    "\n",
    "trainer = gluon.Trainer(net.collect_params(), 'sgd', {'learning_rate': 0.03})"
   ]
  },
  {
   "cell_type": "markdown",
   "metadata": {
    "origin_pos": 43
   },
   "source": [
    "## Treinamento\n",
    "\n",
    "\n",
    "Você deve ter notado que expressar nosso modelo por meio\n",
    "APIs de alto nível de uma estrutura de *deep learning*\n",
    "requer comparativamente poucas linhas de código.\n",
    "Não tivemos que alocar parâmetros individualmente,\n",
    "definir nossa função de perda ou implementar o gradiente descendente estocástico de *minibatch*.\n",
    "Assim que começarmos a trabalhar com modelos muito mais complexos,\n",
    "as vantagens das APIs de alto nível aumentarão consideravelmente.\n",
    "No entanto, uma vez que temos todas as peças básicas no lugar,\n",
    "[**o loop de treinamento em si é surpreendentemente semelhante\n",
    "ao que fizemos ao implementar tudo do zero.**]\n",
    "\n",
    "Para refrescar sua memória: para anguns números de épocas,\n",
    "faremos uma passagem completa sobre o conjunto de dados (*`train_data`*),\n",
    "pegando iterativamente um *minibatch* de entradas\n",
    "e os *labels* de verdade fundamental correspondentes.\n",
    "Para cada *minibatch*, passamos pelo seguinte ritual:\n",
    "\n",
    "* Gerar previsões chamando `net (X)` e calcular a perda `l` (a propagação direta).\n",
    "* Calcular gradientes executando a retropropagação.\n",
    "* Atualizar os parâmetros do modelo invocando nosso otimizador.\n",
    "\n",
    "Para uma boa medida, calculamos a perda após cada época e a imprimimos para monitorar o progresso.\n"
   ]
  },
  {
   "cell_type": "code",
   "execution_count": 10,
   "metadata": {
    "origin_pos": 44,
    "tab": [
     "mxnet"
    ]
   },
   "outputs": [
    {
     "name": "stdout",
     "output_type": "stream",
     "text": [
      "[03:41:18] src/base.cc:49: GPU context requested, but no GPUs found.\n"
     ]
    },
    {
     "name": "stdout",
     "output_type": "stream",
     "text": [
      "epoch 1, loss 0.024782\n"
     ]
    },
    {
     "name": "stdout",
     "output_type": "stream",
     "text": [
      "epoch 2, loss 0.000091\n"
     ]
    },
    {
     "name": "stdout",
     "output_type": "stream",
     "text": [
      "epoch 3, loss 0.000051\n"
     ]
    }
   ],
   "source": [
    "num_epochs = 3\n",
    "for epoch in range(num_epochs):\n",
    "    for X, y in data_iter:\n",
    "        with autograd.record():\n",
    "            l = loss(net(X), y)\n",
    "        l.backward()\n",
    "        trainer.step(batch_size)\n",
    "    l = loss(net(features), labels)\n",
    "    print(f'epoch {epoch + 1}, loss {l.mean().asnumpy():f}')"
   ]
  },
  {
   "cell_type": "markdown",
   "metadata": {
    "origin_pos": 47
   },
   "source": [
    "Abaixo, nós [**comparamos os parâmetros do modelo aprendidos pelo treinamento em dados finitos\n",
    "e os parâmetros reais**] que geraram nosso *dataset*.\n",
    "Para acessar os parâmetros,\n",
    "primeiro acessamos a camada que precisamos de `net`\n",
    "e, em seguida, acessamos os pesos e a polarização dessa camada.\n",
    "Como em nossa implementação do zero,\n",
    "observe que nossos parâmetros estimados são\n",
    "perto de suas contrapartes verdadeiras.\n"
   ]
  },
  {
   "cell_type": "code",
   "execution_count": 11,
   "metadata": {
    "origin_pos": 48,
    "tab": [
     "mxnet"
    ]
   },
   "outputs": [
    {
     "name": "stdout",
     "output_type": "stream",
     "text": [
      "error in estimating w: [7.5769424e-04 1.3828278e-05]\n",
      "error in estimating b: [0.00082684]\n"
     ]
    }
   ],
   "source": [
    "w = net[0].weight.data()\n",
    "print(f'error in estimating w: {true_w - w.reshape(true_w.shape)}')\n",
    "b = net[0].bias.data()\n",
    "print(f'error in estimating b: {true_b - b}')"
   ]
  },
  {
   "cell_type": "markdown",
   "metadata": {
    "origin_pos": 51
   },
   "source": [
    "## Resumo\n"
   ]
  },
  {
   "cell_type": "markdown",
   "metadata": {
    "origin_pos": 52,
    "tab": [
     "mxnet"
    ]
   },
   "source": [
    "* Usando o Gluon, podemos implementar modelos de forma muito mais concisa.\n",
    "* No Gluon, o módulo `data` fornece ferramentas para processamento de dados, o módulo` nn` define um grande número de camadas de rede neural e o módulo `loss` define muitas funções de perda comuns.\n",
    "* O módulo `inicializador` do MXNet fornece vários métodos para inicialização dos parâmetros do modelo.\n",
    "* A dimensionalidade e o armazenamento são inferidos automaticamente, mas tome cuidado para não tentar acessar os parâmetros antes de eles serem inicializados.\n"
   ]
  },
  {
   "cell_type": "markdown",
   "metadata": {
    "origin_pos": 55
   },
   "source": [
    "## Exercícios\n"
   ]
  },
  {
   "cell_type": "markdown",
   "metadata": {
    "origin_pos": 56,
    "tab": [
     "mxnet"
    ]
   },
   "source": [
    "1. Se substituirmos `l = loss (output, y)` por `l = loss (output, y).mean()`, precisamos alterar `trainer.step(batch_size)` para `trainer.step(1)`para que o código se comporte de forma idêntica. Por quê?\n",
    "1. Revise a documentação do MXNet para ver quais funções de perda e métodos de inicialização são fornecidos nos módulos `gluon.loss` e` init`. Substitua a perda pela perda de Huber.\n",
    "1. Como você acessa o gradiente de `dense.weight`?\n",
    "\n",
    "[Discussions](https://discuss.d2l.ai/t/44)\n"
   ]
  },
  {
   "cell_type": "markdown",
   "metadata": {
    "origin_pos": 59
   },
   "source": [
    "<!--stackedit_data:\n",
    "eyJoaXN0b3J5IjpbLTUxMjc1MTc4MiwxMzgxNzE4MjMxLDE1MT\n",
    "Y2Nzk5ODgsLTMwMDU2OTMzNSwtNTUxNzY3NTUsMzYzNjY2MzMs\n",
    "LTY1Mjk5MTk1OCwtMjE0NTk5NTMwN119\n",
    "-->\n"
   ]
  }
 ],
 "metadata": {
  "kernelspec": {
   "display_name": "conda_mxnet_p36",
   "name": "conda_mxnet_p36"
  },
  "language_info": {
   "name": "python"
  }
 },
 "nbformat": 4,
 "nbformat_minor": 4
}