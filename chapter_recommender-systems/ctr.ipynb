{
 "cells": [
  {
   "cell_type": "markdown",
   "id": "4ca209ed",
   "metadata": {},
   "source": [
    "Installing (updating) the following libraries for your Sagemaker\n",
    "instance."
   ]
  },
  {
   "cell_type": "code",
   "execution_count": null,
   "id": "bc67cdf6",
   "metadata": {},
   "outputs": [],
   "source": [
    "!pip install -U mxnet-cu112==1.9.1\n",
    "!pip install ..  # installing d2l\n"
   ]
  },
  {
   "cell_type": "markdown",
   "id": "e40aee3b",
   "metadata": {
    "origin_pos": 0
   },
   "source": [
    "# Feature-Rich Recommender Systems\n",
    "\n",
    "Interaction data is the most basic indication of users' preferences and interests. It plays a critical role in former introduced models. Yet, interaction data is usually extremely sparse and can be noisy at times. To address this issue, we can integrate side information such as features of items, profiles of users, and even in which context that the interaction occurred into the recommendation model. Utilizing these features are helpful in making recommendations in that these features can be an effective predictor of users interests especially when interaction data is lacking. As such, it is essential for recommendation models also have the capability to deal with those features and give the model some content/context awareness. To demonstrate this type of recommendation models, we introduce another task on click-through rate (CTR) for online advertisement recommendations :cite:`McMahan.Holt.Sculley.ea.2013` and present an anonymous advertising dataset. Targeted advertisement services have attracted widespread attention and are often framed as recommendation engines. Recommending advertisements that match users' personal taste and interest is important for click-through rate improvement.\n",
    "\n",
    "\n",
    "Digital marketers use online advertising to display advertisements to customers. Click-through rate is a metric that measures the number of clicks advertisers receive on their ads per number of impressions and it is expressed as a percentage calculated with the formula: \n",
    "\n",
    "$$ \\textrm{CTR} = \\frac{\\#\\textrm{Clicks}} {\\#\\textrm{Impressions}} \\times 100 \\% .$$\n",
    "\n",
    "Click-through rate is an important signal that indicates the effectiveness of prediction algorithms. Click-through rate prediction is a task of predicting the likelihood that something on a website will be clicked. Models on CTR prediction can not only be employed in targeted advertising systems but also in general item (e.g., movies, news, products) recommender systems, email campaigns, and even search engines. It is also closely related to user satisfaction, conversion rate, and can be helpful in setting campaign goals as it can help advertisers to set realistic expectations.\n"
   ]
  },
  {
   "cell_type": "code",
   "execution_count": 1,
   "id": "cc4e92ab",
   "metadata": {
    "execution": {
     "iopub.execute_input": "2023-08-18T07:21:11.793557Z",
     "iopub.status.busy": "2023-08-18T07:21:11.792919Z",
     "iopub.status.idle": "2023-08-18T07:21:14.379231Z",
     "shell.execute_reply": "2023-08-18T07:21:14.378229Z"
    },
    "origin_pos": 1,
    "tab": [
     "mxnet"
    ]
   },
   "outputs": [],
   "source": [
    "import os\n",
    "from collections import defaultdict\n",
    "from mxnet import gluon, np\n",
    "from d2l import mxnet as d2l"
   ]
  },
  {
   "cell_type": "markdown",
   "id": "81b78de8",
   "metadata": {
    "origin_pos": 2
   },
   "source": [
    "## An Online Advertising Dataset\n",
    "\n",
    "With the considerable advancements of Internet and mobile technology, online advertising has become an important income resource and generates vast majority of revenue in the Internet industry. It is important to display relevant advertisements or advertisements that pique users' interests so that casual visitors can be converted into paying customers. The dataset we introduced is an online advertising dataset. It consists of 34 fields, with the first column representing the target variable that indicates if an ad was clicked (1) or not (0). All the other columns are categorical features. The columns might represent the advertisement id, site or application id, device id, time, user profiles and so on. The real semantics of the features are undisclosed due to anonymization and privacy concern.\n",
    "\n",
    "The following code downloads the dataset from our server and saves it into the local data folder.\n"
   ]
  },
  {
   "cell_type": "code",
   "execution_count": 2,
   "id": "ee9d302d",
   "metadata": {
    "attributes": {
     "classes": [],
     "id": "",
     "n": "15"
    },
    "execution": {
     "iopub.execute_input": "2023-08-18T07:21:14.383465Z",
     "iopub.status.busy": "2023-08-18T07:21:14.382762Z",
     "iopub.status.idle": "2023-08-18T07:21:14.476496Z",
     "shell.execute_reply": "2023-08-18T07:21:14.475411Z"
    },
    "origin_pos": 3,
    "tab": [
     "mxnet"
    ]
   },
   "outputs": [],
   "source": [
    "#@save\n",
    "d2l.DATA_HUB['ctr'] = (d2l.DATA_URL + 'ctr.zip',\n",
    "                       'e18327c48c8e8e5c23da714dd614e390d369843f')\n",
    "\n",
    "data_dir = d2l.download_extract('ctr')"
   ]
  },
  {
   "cell_type": "markdown",
   "id": "bc460ca1",
   "metadata": {
    "origin_pos": 4
   },
   "source": [
    "There are a training set and a test set, consisting of 15000 and 3000 samples/lines, respectively.\n",
    "\n",
    "## Dataset Wrapper\n",
    "\n",
    "For the convenience of data loading, we implement a `CTRDataset` which loads the advertising dataset from the CSV file and can be used by `DataLoader`.\n"
   ]
  },
  {
   "cell_type": "code",
   "execution_count": 3,
   "id": "a8b5a587",
   "metadata": {
    "attributes": {
     "classes": [],
     "id": "",
     "n": "13"
    },
    "execution": {
     "iopub.execute_input": "2023-08-18T07:21:14.480977Z",
     "iopub.status.busy": "2023-08-18T07:21:14.480400Z",
     "iopub.status.idle": "2023-08-18T07:21:14.492671Z",
     "shell.execute_reply": "2023-08-18T07:21:14.491851Z"
    },
    "origin_pos": 5,
    "tab": [
     "mxnet"
    ]
   },
   "outputs": [],
   "source": [
    "#@save\n",
    "class CTRDataset(gluon.data.Dataset):\n",
    "    def __init__(self, data_path, feat_mapper=None, defaults=None,\n",
    "                 min_threshold=4, num_feat=34):\n",
    "        self.NUM_FEATS, self.count, self.data = num_feat, 0, {}\n",
    "        feat_cnts = defaultdict(lambda: defaultdict(int))\n",
    "        self.feat_mapper, self.defaults = feat_mapper, defaults\n",
    "        self.field_dims = np.zeros(self.NUM_FEATS, dtype=np.int64)\n",
    "        with open(data_path) as f:\n",
    "            for line in f:\n",
    "                instance = {}\n",
    "                values = line.rstrip('\\n').split('\\t')\n",
    "                if len(values) != self.NUM_FEATS + 1:\n",
    "                    continue\n",
    "                label = np.float32([0, 0])\n",
    "                label[int(values[0])] = 1\n",
    "                instance['y'] = [np.float32(values[0])]\n",
    "                for i in range(1, self.NUM_FEATS + 1):\n",
    "                    feat_cnts[i][values[i]] += 1\n",
    "                    instance.setdefault('x', []).append(values[i])\n",
    "                self.data[self.count] = instance\n",
    "                self.count = self.count + 1\n",
    "        if self.feat_mapper is None and self.defaults is None:\n",
    "            feat_mapper = {i: {feat for feat, c in cnt.items() if c >=\n",
    "                               min_threshold} for i, cnt in feat_cnts.items()}\n",
    "            self.feat_mapper = {i: {feat_v: idx for idx, feat_v in enumerate(feat_values)}\n",
    "                                for i, feat_values in feat_mapper.items()}\n",
    "            self.defaults = {i: len(feat_values) for i, feat_values in feat_mapper.items()}\n",
    "        for i, fm in self.feat_mapper.items():\n",
    "            self.field_dims[i - 1] = len(fm) + 1\n",
    "        self.offsets = np.array((0, *np.cumsum(self.field_dims).asnumpy()\n",
    "                                 [:-1]))\n",
    "\n",
    "    def __len__(self):\n",
    "        return self.count\n",
    "\n",
    "    def __getitem__(self, idx):\n",
    "        feat = np.array([self.feat_mapper[i + 1].get(v, self.defaults[i + 1])\n",
    "                         for i, v in enumerate(self.data[idx]['x'])])\n",
    "        return feat + self.offsets, self.data[idx]['y']"
   ]
  },
  {
   "cell_type": "markdown",
   "id": "6aedb426",
   "metadata": {
    "origin_pos": 6
   },
   "source": [
    "The following example loads the training data and print out the first record.\n"
   ]
  },
  {
   "cell_type": "code",
   "execution_count": 4,
   "id": "498c237c",
   "metadata": {
    "attributes": {
     "classes": [],
     "id": "",
     "n": "16"
    },
    "execution": {
     "iopub.execute_input": "2023-08-18T07:21:14.496278Z",
     "iopub.status.busy": "2023-08-18T07:21:14.495853Z",
     "iopub.status.idle": "2023-08-18T07:21:14.978051Z",
     "shell.execute_reply": "2023-08-18T07:21:14.977142Z"
    },
    "origin_pos": 7,
    "tab": [
     "mxnet"
    ]
   },
   "outputs": [
    {
     "name": "stdout",
     "output_type": "stream",
     "text": [
      "[07:21:14] ../src/storage/storage.cc:196: Using Pooled (Naive) StorageManager for CPU\n"
     ]
    },
    {
     "data": {
      "text/plain": [
       "(array([ 143.,  146.,  227.,  263.,  957., 1250., 1471., 1566., 1624.,\n",
       "        1712., 2008., 2061., 2162., 2304., 2305., 2360., 2745., 2746.,\n",
       "        2747., 2748., 2892., 2988., 3165., 3166., 3194., 3195., 3303.,\n",
       "        3664., 3687., 3690., 3728., 3755., 3773., 3793.]),\n",
       " [1.0])"
      ]
     },
     "execution_count": 4,
     "metadata": {},
     "output_type": "execute_result"
    }
   ],
   "source": [
    "train_data = CTRDataset(os.path.join(data_dir, 'train.csv'))\n",
    "train_data[0]"
   ]
  },
  {
   "cell_type": "markdown",
   "id": "a50bad18",
   "metadata": {
    "origin_pos": 8
   },
   "source": [
    "As can be seen, all the 34 fields are categorical features. Each value represents the one-hot index of the corresponding entry. The label $0$ means that it is not clicked. This `CTRDataset` can also be used to load other datasets such as the Criteo display advertising challenge [dataset](https://labs.criteo.com/2014/02/kaggle-display-advertising-challenge-dataset/) and the Avazu click-through rate prediction [dataset](https://www.kaggle.com/c/avazu-ctr-prediction).  \n",
    "\n",
    "## Summary \n",
    "* Click-through rate is an important metric that is used to measure the effectiveness of advertising systems and recommender systems.\n",
    "* Click-through rate prediction is usually converted to a binary classification problem. The target is to predict whether an ad/item will be clicked or not based on given features.\n",
    "\n",
    "## Exercises\n",
    "\n",
    "* Can you load the Criteo and Avazu dataset with the provided `CTRDataset`. It is worth noting that the Criteo dataset consisting of real-valued features so you may have to revise the code a bit.\n"
   ]
  },
  {
   "cell_type": "markdown",
   "id": "936a7216",
   "metadata": {
    "origin_pos": 9,
    "tab": [
     "mxnet"
    ]
   },
   "source": [
    "[Discussions](https://discuss.d2l.ai/t/405)\n"
   ]
  }
 ],
 "metadata": {
  "kernelspec": {
   "display_name": "conda_mxnet_p36",
   "name": "conda_mxnet_p36"
  },
  "language_info": {
   "name": "python"
  },
  "required_libs": []
 },
 "nbformat": 4,
 "nbformat_minor": 5
}