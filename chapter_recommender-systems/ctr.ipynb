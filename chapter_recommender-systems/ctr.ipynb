{
 "cells": [
  {
   "cell_type": "markdown",
   "metadata": {},
   "source": [
    "Installing (updating) the following libraries for your Sagemaker\n",
    "instance."
   ]
  },
  {
   "cell_type": "code",
   "execution_count": null,
   "metadata": {},
   "outputs": [],
   "source": [
    "!pip install ..  # installing d2l\n",
    "!pip install -U mxnet-cu101==1.7.0\n"
   ]
  },
  {
   "cell_type": "markdown",
   "metadata": {
    "origin_pos": 0
   },
   "source": [
    "# Sistemas de recomendação com muitos recursos\n",
    "\n",
    "\n",
    "Os dados de interação são a indicação mais básica das preferências e interesses dos usuários. Ele desempenha um papel crítico em modelos anteriores introduzidos. No entanto, os dados de interação geralmente são extremamente esparsos e podem ser barulhentos às vezes. Para resolver esse problema, podemos integrar informações colaterais, como recursos de itens, perfis de usuários e até mesmo em que contexto a interação ocorreu no modelo de recomendação. A utilização desses recursos é útil para fazer recomendações, pois esses recursos podem ser um indicador eficaz dos interesses dos usuários, especialmente quando faltam dados de interação. Como tal, é essencial que os modelos de recomendação também tenham a capacidade de lidar com esses recursos e fornecer ao modelo algum conhecimento de conteúdo / contexto. Para demonstrar este tipo de modelos de recomendação, apresentamos outra tarefa sobre a taxa de cliques (CTR) para recomendações de publicidade online: cite: `McMahan.Holt.Sculley.ea.2013` e apresente dados anônimos de publicidade. Os serviços de publicidade direcionados têm atraído a atenção generalizada e muitas vezes são enquadrados como mecanismos de recomendação. Recomendar anúncios que correspondam aos gostos e interesses pessoais dos usuários é importante para a melhoria da taxa de cliques.\n",
    "\n",
    "\n",
    "Os profissionais de marketing digital usam publicidade online para exibir anúncios aos clientes. A taxa de cliques é uma métrica que mede o número de cliques que os anunciantes recebem em seus anúncios por número de impressões e é expressa como uma porcentagem calculada com a fórmula:\n",
    "\n",
    "$$ \\text{CTR} = \\frac{\\#\\text{Clicks}} {\\#\\text{Impressions}} \\times 100 \\% .$$\n",
    "\n",
    "A taxa de cliques é um sinal importante que indica a eficácia dos algoritmos de previsão. A previsão da taxa de cliques é uma tarefa de prever a probabilidade de que algo em um site será clicado. Os modelos de previsão de CTR não podem ser empregados apenas em sistemas de publicidade direcionados, mas também em sistemas de recomendação de itens gerais (por exemplo, filmes, notícias, produtos), campanhas de e-mail e até mesmo mecanismos de pesquisa. Também está intimamente relacionado à satisfação do usuário, taxa de conversão e pode ser útil na definição de metas de campanha, pois pode ajudar os anunciantes a definir expectativas realistas.\n"
   ]
  },
  {
   "cell_type": "code",
   "execution_count": 1,
   "metadata": {
    "origin_pos": 1,
    "tab": [
     "mxnet"
    ]
   },
   "outputs": [],
   "source": [
    "import os\n",
    "from collections import defaultdict\n",
    "from mxnet import gluon, np\n",
    "from d2l import mxnet as d2l"
   ]
  },
  {
   "cell_type": "markdown",
   "metadata": {
    "origin_pos": 2
   },
   "source": [
    "## Um conjunto de dados de publicidade online\n",
    "\n",
    "\n",
    "Com os avanços consideráveis da Internet e da tecnologia móvel, a publicidade online tornou-se um importante recurso de receita e gera a grande maioria das receitas da indústria da Internet. É importante exibir anúncios relevantes ou anúncios que despertem os interesses dos usuários, para que visitantes casuais possam ser convertidos em clientes pagantes. O conjunto de dados que apresentamos é um conjunto de dados de publicidade online. É composto por 34 campos, com a primeira coluna representando a variável de destino que indica se um anúncio foi clicado (1) ou não (0). Todas as outras colunas são recursos categóricos. As colunas podem representar a id do anúncio, id do site ou aplicativo, id do dispositivo, hora, perfis de usuário e assim por diante. A semântica real dos recursos não é divulgada devido ao anonimato e à preocupação com a privacidade.\n",
    "\n",
    "O código a seguir baixa o conjunto de dados de nosso servidor e o salva na pasta de dados local.\n"
   ]
  },
  {
   "cell_type": "code",
   "execution_count": 2,
   "metadata": {
    "attributes": {
     "classes": [],
     "id": "",
     "n": "15"
    },
    "origin_pos": 3,
    "tab": [
     "mxnet"
    ]
   },
   "outputs": [],
   "source": [
    "#@save\n",
    "d2l.DATA_HUB['ctr'] = (d2l.DATA_URL + 'ctr.zip',\n",
    "                       'e18327c48c8e8e5c23da714dd614e390d369843f')\n",
    "\n",
    "data_dir = d2l.download_extract('ctr')"
   ]
  },
  {
   "cell_type": "markdown",
   "metadata": {
    "origin_pos": 4
   },
   "source": [
    "Há um conjunto de treinamento e um conjunto de teste, consistindo de 15.000 e 3.000 amostras/linhas, respectivamente.\n",
    "\n",
    "## Wrapper de conjunto de dados\n",
    "\n",
    "Para a conveniência do carregamento de dados, implementamos um `CTRDataset` que carrega o conjunto de dados de publicidade do arquivo CSV e pode ser usado pelo `DataLoader`.\n"
   ]
  },
  {
   "cell_type": "code",
   "execution_count": 3,
   "metadata": {
    "attributes": {
     "classes": [],
     "id": "",
     "n": "13"
    },
    "origin_pos": 5,
    "tab": [
     "mxnet"
    ]
   },
   "outputs": [],
   "source": [
    "#@save\n",
    "class CTRDataset(gluon.data.Dataset):\n",
    "    def __init__(self, data_path, feat_mapper=None, defaults=None,\n",
    "                 min_threshold=4, num_feat=34):\n",
    "        self.NUM_FEATS, self.count, self.data = num_feat, 0, {}\n",
    "        feat_cnts = defaultdict(lambda: defaultdict(int))\n",
    "        self.feat_mapper, self.defaults = feat_mapper, defaults\n",
    "        self.field_dims = np.zeros(self.NUM_FEATS, dtype=np.int64)\n",
    "        with open(data_path) as f:\n",
    "            for line in f:\n",
    "                instance = {}\n",
    "                values = line.rstrip('\\n').split('\\t')\n",
    "                if len(values) != self.NUM_FEATS + 1:\n",
    "                    continue\n",
    "                label = np.float32([0, 0])\n",
    "                label[int(values[0])] = 1\n",
    "                instance['y'] = [np.float32(values[0])]\n",
    "                for i in range(1, self.NUM_FEATS + 1):\n",
    "                    feat_cnts[i][values[i]] += 1\n",
    "                    instance.setdefault('x', []).append(values[i])\n",
    "                self.data[self.count] = instance\n",
    "                self.count = self.count + 1\n",
    "        if self.feat_mapper is None and self.defaults is None:\n",
    "            feat_mapper = {i: {feat for feat, c in cnt.items() if c >=\n",
    "                               min_threshold} for i, cnt in feat_cnts.items()}\n",
    "            self.feat_mapper = {i: {feat_v: idx for idx, feat_v in enumerate(feat_values)}\n",
    "                                for i, feat_values in feat_mapper.items()}\n",
    "            self.defaults = {i: len(feat_values) for i, feat_values in feat_mapper.items()}\n",
    "        for i, fm in self.feat_mapper.items():\n",
    "            self.field_dims[i - 1] = len(fm) + 1\n",
    "        self.offsets = np.array((0, *np.cumsum(self.field_dims).asnumpy()\n",
    "                                 [:-1]))\n",
    "\n",
    "    def __len__(self):\n",
    "        return self.count\n",
    "\n",
    "    def __getitem__(self, idx):\n",
    "        feat = np.array([self.feat_mapper[i + 1].get(v, self.defaults[i + 1])\n",
    "                         for i, v in enumerate(self.data[idx]['x'])])\n",
    "        return feat + self.offsets, self.data[idx]['y']"
   ]
  },
  {
   "cell_type": "markdown",
   "metadata": {
    "origin_pos": 6
   },
   "source": [
    "O exemplo a seguir carrega os dados de treinamento e imprime o primeiro registro.\n"
   ]
  },
  {
   "cell_type": "code",
   "execution_count": 4,
   "metadata": {
    "attributes": {
     "classes": [],
     "id": "",
     "n": "16"
    },
    "origin_pos": 7,
    "tab": [
     "mxnet"
    ]
   },
   "outputs": [
    {
     "data": {
      "text/plain": [
       "(array([ 143.,  146.,  227.,  257.,  957., 1250., 1471., 1566., 1624.,\n",
       "        1948., 2008., 2061., 2148., 2304., 2305., 2360., 2745., 2746.,\n",
       "        2747., 2748., 2892., 2988., 3165., 3174., 3194., 3195., 3474.,\n",
       "        3681., 3687., 3710., 3732., 3752., 3773., 3798.]),\n",
       " [1.0])"
      ]
     },
     "execution_count": 4,
     "metadata": {},
     "output_type": "execute_result"
    }
   ],
   "source": [
    "train_data = CTRDataset(os.path.join(data_dir, 'train.csv'))\n",
    "train_data[0]"
   ]
  },
  {
   "cell_type": "markdown",
   "metadata": {
    "origin_pos": 8
   },
   "source": [
    "Como pode ser visto, todos os 34 campos são recursos categóricos. Cada valor representa o índice one-hot da entrada correspondente. O rótulo $0$ significa que não foi clicado. Este `CTRDataset` também pode ser usado para carregar outros conjuntos de dados, como o desafio de publicidade de exibição Criteo [Dataset](https://labs.criteo.com/2014/02/kaggle-display-advertising-challenge-dataset/) e o Previsão da taxa de cliques do Avazu [Conjunto de dados](https://www.kaggle.com/c/avazu-ctr-prediction).\n",
    "\n",
    "## Sumário\n",
    "\n",
    "* A taxa de cliques é uma métrica importante usada para medir a eficácia dos sistemas de publicidade e de recomendação.\n",
    "* A previsão da taxa de cliques geralmente é convertida em um problema de classificação binária. O objetivo é prever se um anúncio / item será clicado ou não com base em determinados recursos.\n",
    "\n",
    "## Exercícios\n",
    "\n",
    "* Você pode carregar o conjunto de dados Criteo e Avazu com o `CTRDataset` fornecido. É importante notar que o conjunto de dados da Criteo consiste em recursos com valor real, portanto, você pode ter que revisar o código um pouco.\n"
   ]
  },
  {
   "cell_type": "markdown",
   "metadata": {
    "origin_pos": 9,
    "tab": [
     "mxnet"
    ]
   },
   "source": [
    "[Discussions](https://discuss.d2l.ai/t/405)\n"
   ]
  },
  {
   "cell_type": "markdown",
   "metadata": {
    "origin_pos": 10
   },
   "source": [
    "<!--stackedit_data:\n",
    "eyJoaXN0b3J5IjpbLTYyNzAzNTk4NSwtMjAzMzQ4MTc0NV19\n",
    "-->\n"
   ]
  }
 ],
 "metadata": {
  "kernelspec": {
   "display_name": "conda_mxnet_p36",
   "name": "conda_mxnet_p36"
  },
  "language_info": {
   "name": "python"
  }
 },
 "nbformat": 4,
 "nbformat_minor": 4
}