{
 "cells": [
  {
   "cell_type": "markdown",
   "id": "bc34ec66",
   "metadata": {},
   "source": [
    "Installing (updating) the following libraries for your Sagemaker\n",
    "instance."
   ]
  },
  {
   "cell_type": "code",
   "execution_count": null,
   "id": "1f56bc85",
   "metadata": {},
   "outputs": [],
   "source": [
    "!pip install ..  # installing d2l\n",
    "!pip install -U mxnet-cu112==1.9.1\n"
   ]
  },
  {
   "cell_type": "markdown",
   "id": "2f877991",
   "metadata": {
    "origin_pos": 0
   },
   "source": [
    "# Word Similarity and Analogy\n",
    ":label:`sec_synonyms`\n",
    "\n",
    "In :numref:`sec_word2vec_pretraining`, \n",
    "we trained a word2vec model on a small dataset, \n",
    "and applied it\n",
    "to find semantically similar words \n",
    "for an input word.\n",
    "In practice,\n",
    "word vectors that are pretrained\n",
    "on large corpora can be\n",
    "applied to downstream\n",
    "natural language processing tasks,\n",
    "which will be covered later\n",
    "in :numref:`chap_nlp_app`.\n",
    "To demonstrate \n",
    "semantics of pretrained word vectors\n",
    "from large corpora in a straightforward way,\n",
    "let's apply them\n",
    "in the word similarity and analogy tasks.\n"
   ]
  },
  {
   "cell_type": "code",
   "execution_count": 1,
   "id": "71a9b344",
   "metadata": {
    "execution": {
     "iopub.execute_input": "2023-08-18T07:14:27.022255Z",
     "iopub.status.busy": "2023-08-18T07:14:27.021735Z",
     "iopub.status.idle": "2023-08-18T07:14:31.205623Z",
     "shell.execute_reply": "2023-08-18T07:14:31.203856Z"
    },
    "origin_pos": 1,
    "tab": [
     "mxnet"
    ]
   },
   "outputs": [],
   "source": [
    "import os\n",
    "from mxnet import np, npx\n",
    "from d2l import mxnet as d2l\n",
    "\n",
    "npx.set_np()"
   ]
  },
  {
   "cell_type": "markdown",
   "id": "5d6c67f6",
   "metadata": {
    "origin_pos": 3
   },
   "source": [
    "## Loading Pretrained Word Vectors\n",
    "\n",
    "Below lists pretrained GloVe embeddings of dimension 50, 100, and 300,\n",
    "which can be downloaded from the [GloVe website](https://nlp.stanford.edu/projects/glove/).\n",
    "The pretrained fastText embeddings are available in multiple languages.\n",
    "Here we consider one English version (300-dimensional \"wiki.en\") that can be downloaded from the\n",
    "[fastText website](https://fasttext.cc/).\n"
   ]
  },
  {
   "cell_type": "code",
   "execution_count": 2,
   "id": "24524a43",
   "metadata": {
    "execution": {
     "iopub.execute_input": "2023-08-18T07:14:31.212147Z",
     "iopub.status.busy": "2023-08-18T07:14:31.211324Z",
     "iopub.status.idle": "2023-08-18T07:14:31.219086Z",
     "shell.execute_reply": "2023-08-18T07:14:31.217852Z"
    },
    "origin_pos": 4,
    "tab": [
     "mxnet"
    ]
   },
   "outputs": [],
   "source": [
    "#@save\n",
    "d2l.DATA_HUB['glove.6b.50d'] = (d2l.DATA_URL + 'glove.6B.50d.zip',\n",
    "                                '0b8703943ccdb6eb788e6f091b8946e82231bc4d')\n",
    "\n",
    "#@save\n",
    "d2l.DATA_HUB['glove.6b.100d'] = (d2l.DATA_URL + 'glove.6B.100d.zip',\n",
    "                                 'cd43bfb07e44e6f27cbcc7bc9ae3d80284fdaf5a')\n",
    "\n",
    "#@save\n",
    "d2l.DATA_HUB['glove.42b.300d'] = (d2l.DATA_URL + 'glove.42B.300d.zip',\n",
    "                                  'b5116e234e9eb9076672cfeabf5469f3eec904fa')\n",
    "\n",
    "#@save\n",
    "d2l.DATA_HUB['wiki.en'] = (d2l.DATA_URL + 'wiki.en.zip',\n",
    "                           'c1816da3821ae9f43899be655002f6c723e91b88')"
   ]
  },
  {
   "cell_type": "markdown",
   "id": "270a895d",
   "metadata": {
    "origin_pos": 5
   },
   "source": [
    "To load these pretrained GloVe and fastText embeddings, we define the following `TokenEmbedding` class.\n"
   ]
  },
  {
   "cell_type": "code",
   "execution_count": 3,
   "id": "5b6af76b",
   "metadata": {
    "execution": {
     "iopub.execute_input": "2023-08-18T07:14:31.233924Z",
     "iopub.status.busy": "2023-08-18T07:14:31.233428Z",
     "iopub.status.idle": "2023-08-18T07:14:31.253419Z",
     "shell.execute_reply": "2023-08-18T07:14:31.252295Z"
    },
    "origin_pos": 6,
    "tab": [
     "mxnet"
    ]
   },
   "outputs": [],
   "source": [
    "#@save\n",
    "class TokenEmbedding:\n",
    "    \"\"\"Token Embedding.\"\"\"\n",
    "    def __init__(self, embedding_name):\n",
    "        self.idx_to_token, self.idx_to_vec = self._load_embedding(\n",
    "            embedding_name)\n",
    "        self.unknown_idx = 0\n",
    "        self.token_to_idx = {token: idx for idx, token in\n",
    "                             enumerate(self.idx_to_token)}\n",
    "\n",
    "    def _load_embedding(self, embedding_name):\n",
    "        idx_to_token, idx_to_vec = ['<unk>'], []\n",
    "        data_dir = d2l.download_extract(embedding_name)\n",
    "        # GloVe website: https://nlp.stanford.edu/projects/glove/\n",
    "        # fastText website: https://fasttext.cc/\n",
    "        with open(os.path.join(data_dir, 'vec.txt'), 'r') as f:\n",
    "            for line in f:\n",
    "                elems = line.rstrip().split(' ')\n",
    "                token, elems = elems[0], [float(elem) for elem in elems[1:]]\n",
    "                # Skip header information, such as the top row in fastText\n",
    "                if len(elems) > 1:\n",
    "                    idx_to_token.append(token)\n",
    "                    idx_to_vec.append(elems)\n",
    "        idx_to_vec = [[0] * len(idx_to_vec[0])] + idx_to_vec\n",
    "        return idx_to_token, np.array(idx_to_vec)\n",
    "\n",
    "    def __getitem__(self, tokens):\n",
    "        indices = [self.token_to_idx.get(token, self.unknown_idx)\n",
    "                   for token in tokens]\n",
    "        vecs = self.idx_to_vec[np.array(indices)]\n",
    "        return vecs\n",
    "\n",
    "    def __len__(self):\n",
    "        return len(self.idx_to_token)"
   ]
  },
  {
   "cell_type": "markdown",
   "id": "613d1db0",
   "metadata": {
    "origin_pos": 7
   },
   "source": [
    "Below we load the\n",
    "50-dimensional GloVe embeddings\n",
    "(pretrained on a Wikipedia subset).\n",
    "When creating the `TokenEmbedding` instance,\n",
    "the specified embedding file has to be downloaded if it\n",
    "was not yet.\n"
   ]
  },
  {
   "cell_type": "code",
   "execution_count": 4,
   "id": "a2d25bb5",
   "metadata": {
    "execution": {
     "iopub.execute_input": "2023-08-18T07:14:31.265063Z",
     "iopub.status.busy": "2023-08-18T07:14:31.262996Z",
     "iopub.status.idle": "2023-08-18T07:14:52.770495Z",
     "shell.execute_reply": "2023-08-18T07:14:52.768693Z"
    },
    "origin_pos": 8,
    "tab": [
     "mxnet"
    ]
   },
   "outputs": [
    {
     "name": "stdout",
     "output_type": "stream",
     "text": [
      "Downloading ../data/glove.6B.50d.zip from http://d2l-data.s3-accelerate.amazonaws.com/glove.6B.50d.zip...\n"
     ]
    },
    {
     "name": "stdout",
     "output_type": "stream",
     "text": [
      "[07:14:52] ../src/storage/storage.cc:196: Using Pooled (Naive) StorageManager for CPU\n"
     ]
    }
   ],
   "source": [
    "glove_6b50d = TokenEmbedding('glove.6b.50d')"
   ]
  },
  {
   "cell_type": "markdown",
   "id": "204c1ad6",
   "metadata": {
    "origin_pos": 9
   },
   "source": [
    "Output the vocabulary size. The vocabulary contains 400000 words (tokens) and a special unknown token.\n"
   ]
  },
  {
   "cell_type": "code",
   "execution_count": 5,
   "id": "a4ed8dad",
   "metadata": {
    "execution": {
     "iopub.execute_input": "2023-08-18T07:14:52.778316Z",
     "iopub.status.busy": "2023-08-18T07:14:52.777382Z",
     "iopub.status.idle": "2023-08-18T07:14:52.787664Z",
     "shell.execute_reply": "2023-08-18T07:14:52.786431Z"
    },
    "origin_pos": 10,
    "tab": [
     "mxnet"
    ]
   },
   "outputs": [
    {
     "data": {
      "text/plain": [
       "400001"
      ]
     },
     "execution_count": 5,
     "metadata": {},
     "output_type": "execute_result"
    }
   ],
   "source": [
    "len(glove_6b50d)"
   ]
  },
  {
   "cell_type": "markdown",
   "id": "4ea7e644",
   "metadata": {
    "origin_pos": 11
   },
   "source": [
    "We can get the index of a word in the vocabulary, and vice versa.\n"
   ]
  },
  {
   "cell_type": "code",
   "execution_count": 6,
   "id": "8f02b397",
   "metadata": {
    "execution": {
     "iopub.execute_input": "2023-08-18T07:14:52.793157Z",
     "iopub.status.busy": "2023-08-18T07:14:52.792436Z",
     "iopub.status.idle": "2023-08-18T07:14:52.802356Z",
     "shell.execute_reply": "2023-08-18T07:14:52.801105Z"
    },
    "origin_pos": 12,
    "tab": [
     "mxnet"
    ]
   },
   "outputs": [
    {
     "data": {
      "text/plain": [
       "(3367, 'beautiful')"
      ]
     },
     "execution_count": 6,
     "metadata": {},
     "output_type": "execute_result"
    }
   ],
   "source": [
    "glove_6b50d.token_to_idx['beautiful'], glove_6b50d.idx_to_token[3367]"
   ]
  },
  {
   "cell_type": "markdown",
   "id": "0bdf5a0a",
   "metadata": {
    "origin_pos": 13
   },
   "source": [
    "## Applying Pretrained Word Vectors\n",
    "\n",
    "Using the loaded GloVe vectors,\n",
    "we will demonstrate their semantics\n",
    "by applying them\n",
    "in the following word similarity and analogy tasks.\n",
    "\n",
    "\n",
    "### Word Similarity\n",
    "\n",
    "Similar to :numref:`subsec_apply-word-embed`,\n",
    "in order to find semantically similar words\n",
    "for an input word\n",
    "based on cosine similarities between\n",
    "word vectors,\n",
    "we implement the following `knn`\n",
    "($k$-nearest neighbors) function.\n"
   ]
  },
  {
   "cell_type": "code",
   "execution_count": 7,
   "id": "afaca042",
   "metadata": {
    "execution": {
     "iopub.execute_input": "2023-08-18T07:14:52.807778Z",
     "iopub.status.busy": "2023-08-18T07:14:52.807465Z",
     "iopub.status.idle": "2023-08-18T07:14:52.813691Z",
     "shell.execute_reply": "2023-08-18T07:14:52.812488Z"
    },
    "origin_pos": 14,
    "tab": [
     "mxnet"
    ]
   },
   "outputs": [],
   "source": [
    "def knn(W, x, k):\n",
    "    # Add 1e-9 for numerical stability\n",
    "    cos = np.dot(W, x.reshape(-1,)) / (\n",
    "        np.sqrt(np.sum(W * W, axis=1) + 1e-9) * np.sqrt((x * x).sum()))\n",
    "    topk = npx.topk(cos, k=k, ret_typ='indices')\n",
    "    return topk, [cos[int(i)] for i in topk]"
   ]
  },
  {
   "cell_type": "markdown",
   "id": "9d298dc1",
   "metadata": {
    "origin_pos": 16
   },
   "source": [
    "Then, we \n",
    "search for similar words\n",
    "using the pretrained word vectors \n",
    "from the `TokenEmbedding` instance `embed`.\n"
   ]
  },
  {
   "cell_type": "code",
   "execution_count": 8,
   "id": "28c3e384",
   "metadata": {
    "execution": {
     "iopub.execute_input": "2023-08-18T07:14:52.825802Z",
     "iopub.status.busy": "2023-08-18T07:14:52.825361Z",
     "iopub.status.idle": "2023-08-18T07:14:52.833575Z",
     "shell.execute_reply": "2023-08-18T07:14:52.832421Z"
    },
    "origin_pos": 17,
    "tab": [
     "mxnet"
    ]
   },
   "outputs": [],
   "source": [
    "def get_similar_tokens(query_token, k, embed):\n",
    "    topk, cos = knn(embed.idx_to_vec, embed[[query_token]], k + 1)\n",
    "    for i, c in zip(topk[1:], cos[1:]):  # Exclude the input word\n",
    "        print(f'cosine sim={float(c):.3f}: {embed.idx_to_token[int(i)]}')"
   ]
  },
  {
   "cell_type": "markdown",
   "id": "b396fbbe",
   "metadata": {
    "origin_pos": 18
   },
   "source": [
    "The vocabulary of the pretrained word vectors\n",
    "in `glove_6b50d` contains 400000 words and a special unknown token. \n",
    "Excluding the input word and unknown token,\n",
    "among this vocabulary\n",
    "let's find \n",
    "three most semantically similar words\n",
    "to word \"chip\".\n"
   ]
  },
  {
   "cell_type": "code",
   "execution_count": 9,
   "id": "9b0e997f",
   "metadata": {
    "execution": {
     "iopub.execute_input": "2023-08-18T07:14:52.839147Z",
     "iopub.status.busy": "2023-08-18T07:14:52.838280Z",
     "iopub.status.idle": "2023-08-18T07:14:53.017980Z",
     "shell.execute_reply": "2023-08-18T07:14:53.016199Z"
    },
    "origin_pos": 19,
    "tab": [
     "mxnet"
    ]
   },
   "outputs": [
    {
     "name": "stdout",
     "output_type": "stream",
     "text": [
      "cosine sim=0.856: chips\n",
      "cosine sim=0.749: intel\n",
      "cosine sim=0.749: electronics\n"
     ]
    }
   ],
   "source": [
    "get_similar_tokens('chip', 3, glove_6b50d)"
   ]
  },
  {
   "cell_type": "markdown",
   "id": "f197d895",
   "metadata": {
    "origin_pos": 20
   },
   "source": [
    "Below outputs similar words\n",
    "to \"baby\" and \"beautiful\".\n"
   ]
  },
  {
   "cell_type": "code",
   "execution_count": 10,
   "id": "bfafdee7",
   "metadata": {
    "execution": {
     "iopub.execute_input": "2023-08-18T07:14:53.023532Z",
     "iopub.status.busy": "2023-08-18T07:14:53.023104Z",
     "iopub.status.idle": "2023-08-18T07:14:53.162224Z",
     "shell.execute_reply": "2023-08-18T07:14:53.160817Z"
    },
    "origin_pos": 21,
    "tab": [
     "mxnet"
    ]
   },
   "outputs": [
    {
     "name": "stdout",
     "output_type": "stream",
     "text": [
      "cosine sim=0.839: babies\n",
      "cosine sim=0.800: boy\n",
      "cosine sim=0.792: girl\n"
     ]
    }
   ],
   "source": [
    "get_similar_tokens('baby', 3, glove_6b50d)"
   ]
  },
  {
   "cell_type": "code",
   "execution_count": 11,
   "id": "3b7aa31e",
   "metadata": {
    "execution": {
     "iopub.execute_input": "2023-08-18T07:14:53.168722Z",
     "iopub.status.busy": "2023-08-18T07:14:53.167775Z",
     "iopub.status.idle": "2023-08-18T07:14:53.354224Z",
     "shell.execute_reply": "2023-08-18T07:14:53.352682Z"
    },
    "origin_pos": 22,
    "tab": [
     "mxnet"
    ]
   },
   "outputs": [
    {
     "name": "stdout",
     "output_type": "stream",
     "text": [
      "cosine sim=0.921: lovely\n",
      "cosine sim=0.893: gorgeous\n",
      "cosine sim=0.830: wonderful\n"
     ]
    }
   ],
   "source": [
    "get_similar_tokens('beautiful', 3, glove_6b50d)"
   ]
  },
  {
   "cell_type": "markdown",
   "id": "912f313c",
   "metadata": {
    "origin_pos": 23
   },
   "source": [
    "### Word Analogy\n",
    "\n",
    "Besides finding similar words,\n",
    "we can also apply word vectors\n",
    "to word analogy tasks.\n",
    "For example,\n",
    "“man”:“woman”::“son”:“daughter”\n",
    "is the form of a word analogy:\n",
    "“man” is to “woman” as “son” is to “daughter”.\n",
    "Specifically,\n",
    "the word analogy completion task\n",
    "can be defined as:\n",
    "for a word analogy \n",
    "$a : b :: c : d$, given the first three words $a$, $b$ and $c$, find $d$. \n",
    "Denote the vector of word $w$ by $\\textrm{vec}(w)$. \n",
    "To complete the analogy,\n",
    "we will find the word \n",
    "whose vector is most similar\n",
    "to the result of $\\textrm{vec}(c)+\\textrm{vec}(b)-\\textrm{vec}(a)$.\n"
   ]
  },
  {
   "cell_type": "code",
   "execution_count": 12,
   "id": "3847bee9",
   "metadata": {
    "execution": {
     "iopub.execute_input": "2023-08-18T07:14:53.359836Z",
     "iopub.status.busy": "2023-08-18T07:14:53.359370Z",
     "iopub.status.idle": "2023-08-18T07:14:53.369546Z",
     "shell.execute_reply": "2023-08-18T07:14:53.368227Z"
    },
    "origin_pos": 24,
    "tab": [
     "mxnet"
    ]
   },
   "outputs": [],
   "source": [
    "def get_analogy(token_a, token_b, token_c, embed):\n",
    "    vecs = embed[[token_a, token_b, token_c]]\n",
    "    x = vecs[1] - vecs[0] + vecs[2]\n",
    "    topk, cos = knn(embed.idx_to_vec, x, 1)\n",
    "    return embed.idx_to_token[int(topk[0])]  # Remove unknown words"
   ]
  },
  {
   "cell_type": "markdown",
   "id": "f9cf0db7",
   "metadata": {
    "origin_pos": 25
   },
   "source": [
    "Let's verify the \"male-female\" analogy using the loaded word vectors.\n"
   ]
  },
  {
   "cell_type": "code",
   "execution_count": 13,
   "id": "f7d1f415",
   "metadata": {
    "execution": {
     "iopub.execute_input": "2023-08-18T07:14:53.375451Z",
     "iopub.status.busy": "2023-08-18T07:14:53.374421Z",
     "iopub.status.idle": "2023-08-18T07:14:53.496723Z",
     "shell.execute_reply": "2023-08-18T07:14:53.495542Z"
    },
    "origin_pos": 26,
    "tab": [
     "mxnet"
    ]
   },
   "outputs": [
    {
     "data": {
      "text/plain": [
       "'daughter'"
      ]
     },
     "execution_count": 13,
     "metadata": {},
     "output_type": "execute_result"
    }
   ],
   "source": [
    "get_analogy('man', 'woman', 'son', glove_6b50d)"
   ]
  },
  {
   "cell_type": "markdown",
   "id": "5879a2fa",
   "metadata": {
    "origin_pos": 27
   },
   "source": [
    "Below completes a\n",
    "“capital-country” analogy: \n",
    "“beijing”:“china”::“tokyo”:“japan”.\n",
    "This demonstrates \n",
    "semantics in the pretrained word vectors.\n"
   ]
  },
  {
   "cell_type": "code",
   "execution_count": 14,
   "id": "3b62a6c7",
   "metadata": {
    "execution": {
     "iopub.execute_input": "2023-08-18T07:14:53.502146Z",
     "iopub.status.busy": "2023-08-18T07:14:53.501664Z",
     "iopub.status.idle": "2023-08-18T07:14:53.666469Z",
     "shell.execute_reply": "2023-08-18T07:14:53.665151Z"
    },
    "origin_pos": 28,
    "tab": [
     "mxnet"
    ]
   },
   "outputs": [
    {
     "data": {
      "text/plain": [
       "'japan'"
      ]
     },
     "execution_count": 14,
     "metadata": {},
     "output_type": "execute_result"
    }
   ],
   "source": [
    "get_analogy('beijing', 'china', 'tokyo', glove_6b50d)"
   ]
  },
  {
   "cell_type": "markdown",
   "id": "da4fe976",
   "metadata": {
    "origin_pos": 29
   },
   "source": [
    "For the\n",
    "“adjective-superlative adjective” analogy\n",
    "such as \n",
    "“bad”:“worst”::“big”:“biggest”,\n",
    "we can see that the pretrained word vectors\n",
    "may capture the syntactic information.\n"
   ]
  },
  {
   "cell_type": "code",
   "execution_count": 15,
   "id": "8f9833c6",
   "metadata": {
    "execution": {
     "iopub.execute_input": "2023-08-18T07:14:53.672952Z",
     "iopub.status.busy": "2023-08-18T07:14:53.671791Z",
     "iopub.status.idle": "2023-08-18T07:14:53.832183Z",
     "shell.execute_reply": "2023-08-18T07:14:53.830843Z"
    },
    "origin_pos": 30,
    "tab": [
     "mxnet"
    ]
   },
   "outputs": [
    {
     "data": {
      "text/plain": [
       "'biggest'"
      ]
     },
     "execution_count": 15,
     "metadata": {},
     "output_type": "execute_result"
    }
   ],
   "source": [
    "get_analogy('bad', 'worst', 'big', glove_6b50d)"
   ]
  },
  {
   "cell_type": "markdown",
   "id": "a9946ed8",
   "metadata": {
    "origin_pos": 31
   },
   "source": [
    "To show the captured notion\n",
    "of past tense in the pretrained word vectors,\n",
    "we can test the syntax using the\n",
    "\"present tense-past tense\" analogy: “do”:“did”::“go”:“went”.\n"
   ]
  },
  {
   "cell_type": "code",
   "execution_count": 16,
   "id": "befdf1ea",
   "metadata": {
    "execution": {
     "iopub.execute_input": "2023-08-18T07:14:53.838859Z",
     "iopub.status.busy": "2023-08-18T07:14:53.837661Z",
     "iopub.status.idle": "2023-08-18T07:14:54.048419Z",
     "shell.execute_reply": "2023-08-18T07:14:54.047232Z"
    },
    "origin_pos": 32,
    "tab": [
     "mxnet"
    ]
   },
   "outputs": [
    {
     "data": {
      "text/plain": [
       "'went'"
      ]
     },
     "execution_count": 16,
     "metadata": {},
     "output_type": "execute_result"
    }
   ],
   "source": [
    "get_analogy('do', 'did', 'go', glove_6b50d)"
   ]
  },
  {
   "cell_type": "markdown",
   "id": "04cefec7",
   "metadata": {
    "origin_pos": 33
   },
   "source": [
    "## Summary\n",
    "\n",
    "* In practice, word vectors that are pretrained on large corpora can be applied to downstream natural language processing tasks.\n",
    "* Pretrained word vectors can be applied to the word similarity and analogy tasks.\n",
    "\n",
    "\n",
    "## Exercises\n",
    "\n",
    "1. Test the fastText results using `TokenEmbedding('wiki.en')`.\n",
    "1. When the vocabulary is extremely large, how can we find similar words or complete a word analogy faster?\n"
   ]
  },
  {
   "cell_type": "markdown",
   "id": "16816131",
   "metadata": {
    "origin_pos": 34,
    "tab": [
     "mxnet"
    ]
   },
   "source": [
    "[Discussions](https://discuss.d2l.ai/t/387)\n"
   ]
  }
 ],
 "metadata": {
  "kernelspec": {
   "display_name": "conda_mxnet_p36",
   "name": "conda_mxnet_p36"
  },
  "language_info": {
   "name": "python"
  },
  "required_libs": []
 },
 "nbformat": 4,
 "nbformat_minor": 5
}