{
 "cells": [
  {
   "cell_type": "markdown",
   "id": "b5d0c1b0",
   "metadata": {},
   "source": [
    "Installing (updating) the following libraries for your Sagemaker\n",
    "instance."
   ]
  },
  {
   "cell_type": "code",
   "execution_count": null,
   "id": "1ecc2ef4",
   "metadata": {},
   "outputs": [],
   "source": [
    "!pip install -U mxnet-cu101==1.7.0\n",
    "!pip install ..  # installing d2l\n"
   ]
  },
  {
   "cell_type": "markdown",
   "id": "0a1971a4",
   "metadata": {
    "origin_pos": 1
   },
   "source": [
    "# Convolutions for Images\n",
    ":label:`sec_conv_layer`\n",
    "\n",
    "Now that we understand how convolutional layers work in theory,\n",
    "we are ready to see how they work in practice.\n",
    "Building on our motivation of convolutional neural networks\n",
    "as efficient architectures for exploring structure in image data,\n",
    "we stick with images as our running example.\n",
    "\n",
    "\n",
    "## The Cross-Correlation Operation\n",
    "\n",
    "Recall that strictly speaking, convolutional layers\n",
    "are a  misnomer, since the operations they express\n",
    "are more accurately described as cross-correlations.\n",
    "Based on our descriptions of convolutional layers in :numref:`sec_why-conv`,\n",
    "in such a layer, an input tensor\n",
    "and a kernel tensor are combined\n",
    "to produce an output tensor through a (**cross-correlation operation.**)\n",
    "\n",
    "Let's ignore channels for now and see how this works\n",
    "with two-dimensional data and hidden representations.\n",
    "In :numref:`fig_correlation`,\n",
    "the input is a two-dimensional tensor\n",
    "with a height of 3 and width of 3.\n",
    "We mark the shape of the tensor as $3 \\times 3$ or ($3$, $3$).\n",
    "The height and width of the kernel are both 2.\n",
    "The shape of the *kernel window* (or *convolution window*)\n",
    "is given by the height and width of the kernel\n",
    "(here it is $2 \\times 2$).\n",
    "\n",
    "![Two-dimensional cross-correlation operation. The shaded portions are the first output element as well as the input and kernel tensor elements used for the output computation: $0\\times0+1\\times1+3\\times2+4\\times3=19$.](../img/correlation.svg)\n",
    ":label:`fig_correlation`\n",
    "\n",
    "In the two-dimensional cross-correlation operation,\n",
    "we begin with the convolution window positioned\n",
    "at the upper-left corner of the input tensor\n",
    "and slide it across the input tensor,\n",
    "both from left to right and top to bottom.\n",
    "When the convolution window slides to a certain position,\n",
    "the input subtensor contained in that window\n",
    "and the kernel tensor are multiplied elementwise\n",
    "and the resulting tensor is summed up\n",
    "yielding a single scalar value.\n",
    "This result gives the value of the output tensor\n",
    "at the corresponding location.\n",
    "Here, the output tensor has a height of 2 and width of 2\n",
    "and the four elements are derived from\n",
    "the two-dimensional cross-correlation operation:\n",
    "\n",
    "$$\n",
    "0\\times0+1\\times1+3\\times2+4\\times3=19,\\\\\n",
    "1\\times0+2\\times1+4\\times2+5\\times3=25,\\\\\n",
    "3\\times0+4\\times1+6\\times2+7\\times3=37,\\\\\n",
    "4\\times0+5\\times1+7\\times2+8\\times3=43.\n",
    "$$\n",
    "\n",
    "Note that along each axis, the output size\n",
    "is slightly smaller than the input size.\n",
    "Because the kernel has width and height greater than one,\n",
    "we can only properly compute the cross-correlation\n",
    "for locations where the kernel fits wholly within the image,\n",
    "the output size is given by the input size $n_h \\times n_w$\n",
    "minus the size of the convolution kernel $k_h \\times k_w$\n",
    "via\n",
    "\n",
    "$$(n_h-k_h+1) \\times (n_w-k_w+1).$$\n",
    "\n",
    "This is the case since we need enough space\n",
    "to \"shift\" the convolution kernel across the image.\n",
    "Later we will see how to keep the size unchanged\n",
    "by padding the image with zeros around its boundary\n",
    "so that there is enough space to shift the kernel.\n",
    "Next, we implement this process in the `corr2d` function,\n",
    "which accepts an input tensor `X` and a kernel tensor `K`\n",
    "and returns an output tensor `Y`.\n"
   ]
  },
  {
   "cell_type": "code",
   "execution_count": 1,
   "id": "d1e9a602",
   "metadata": {
    "execution": {
     "iopub.execute_input": "2022-08-29T23:02:56.197004Z",
     "iopub.status.busy": "2022-08-29T23:02:56.196215Z",
     "iopub.status.idle": "2022-08-29T23:02:59.175190Z",
     "shell.execute_reply": "2022-08-29T23:02:59.174332Z"
    },
    "origin_pos": 2,
    "tab": [
     "mxnet"
    ]
   },
   "outputs": [],
   "source": [
    "from mxnet import autograd, np, npx\n",
    "from mxnet.gluon import nn\n",
    "from d2l import mxnet as d2l\n",
    "\n",
    "npx.set_np()"
   ]
  },
  {
   "cell_type": "code",
   "execution_count": 2,
   "id": "71bda12d",
   "metadata": {
    "execution": {
     "iopub.execute_input": "2022-08-29T23:02:59.179407Z",
     "iopub.status.busy": "2022-08-29T23:02:59.178917Z",
     "iopub.status.idle": "2022-08-29T23:02:59.187062Z",
     "shell.execute_reply": "2022-08-29T23:02:59.186037Z"
    },
    "origin_pos": 4,
    "tab": [
     "mxnet"
    ]
   },
   "outputs": [],
   "source": [
    "def corr2d(X, K):  #@save\n",
    "    \"\"\"Compute 2D cross-correlation.\"\"\"\n",
    "    h, w = K.shape\n",
    "    Y = np.zeros((X.shape[0] - h + 1, X.shape[1] - w + 1))\n",
    "    for i in range(Y.shape[0]):\n",
    "        for j in range(Y.shape[1]):\n",
    "            Y[i, j] = (X[i:i + h, j:j + w] * K).sum()\n",
    "    return Y"
   ]
  },
  {
   "cell_type": "markdown",
   "id": "42355fe8",
   "metadata": {
    "origin_pos": 6
   },
   "source": [
    "We can construct the input tensor `X` and the kernel tensor `K`\n",
    "from :numref:`fig_correlation`\n",
    "to [**validate the output of the above implementation**]\n",
    "of the two-dimensional cross-correlation operation.\n"
   ]
  },
  {
   "cell_type": "code",
   "execution_count": 3,
   "id": "de4cd370",
   "metadata": {
    "execution": {
     "iopub.execute_input": "2022-08-29T23:02:59.192370Z",
     "iopub.status.busy": "2022-08-29T23:02:59.192093Z",
     "iopub.status.idle": "2022-08-29T23:02:59.210277Z",
     "shell.execute_reply": "2022-08-29T23:02:59.209139Z"
    },
    "origin_pos": 7,
    "tab": [
     "mxnet"
    ]
   },
   "outputs": [
    {
     "data": {
      "text/plain": [
       "array([[19., 25.],\n",
       "       [37., 43.]])"
      ]
     },
     "execution_count": 3,
     "metadata": {},
     "output_type": "execute_result"
    }
   ],
   "source": [
    "X = np.array([[0.0, 1.0, 2.0], [3.0, 4.0, 5.0], [6.0, 7.0, 8.0]])\n",
    "K = np.array([[0.0, 1.0], [2.0, 3.0]])\n",
    "corr2d(X, K)"
   ]
  },
  {
   "cell_type": "markdown",
   "id": "ef19e739",
   "metadata": {
    "origin_pos": 8
   },
   "source": [
    "## Convolutional Layers\n",
    "\n",
    "A convolutional layer cross-correlates the input and kernel\n",
    "and adds a scalar bias to produce an output.\n",
    "The two parameters of a convolutional layer\n",
    "are the kernel and the scalar bias.\n",
    "When training models based on convolutional layers,\n",
    "we typically initialize the kernels randomly,\n",
    "just as we would with a fully connected layer.\n",
    "\n",
    "We are now ready to [**implement a two-dimensional convolutional layer**]\n",
    "based on the `corr2d` function defined above.\n",
    "In the `__init__` constructor method,\n",
    "we declare `weight` and `bias` as the two model parameters.\n",
    "The forward propagation function\n",
    "calls the `corr2d` function and adds the bias.\n"
   ]
  },
  {
   "cell_type": "code",
   "execution_count": 4,
   "id": "400a0bd1",
   "metadata": {
    "execution": {
     "iopub.execute_input": "2022-08-29T23:02:59.214899Z",
     "iopub.status.busy": "2022-08-29T23:02:59.214257Z",
     "iopub.status.idle": "2022-08-29T23:02:59.219973Z",
     "shell.execute_reply": "2022-08-29T23:02:59.219022Z"
    },
    "origin_pos": 9,
    "tab": [
     "mxnet"
    ]
   },
   "outputs": [],
   "source": [
    "class Conv2D(nn.Block):\n",
    "    def __init__(self, kernel_size, **kwargs):\n",
    "        super().__init__(**kwargs)\n",
    "        self.weight = self.params.get('weight', shape=kernel_size)\n",
    "        self.bias = self.params.get('bias', shape=(1,))\n",
    "\n",
    "    def forward(self, x):\n",
    "        return corr2d(x, self.weight.data()) + self.bias.data()"
   ]
  },
  {
   "cell_type": "markdown",
   "id": "3ac7d428",
   "metadata": {
    "origin_pos": 12
   },
   "source": [
    "In\n",
    "$h \\times w$ convolution\n",
    "or a $h \\times w$ convolution kernel,\n",
    "the height and width of the convolution kernel are $h$ and $w$, respectively.\n",
    "We also refer to\n",
    "a convolutional layer with a $h \\times w$\n",
    "convolution kernel simply as a $h \\times w$ convolutional layer.\n",
    "\n",
    "\n",
    "## Object Edge Detection in Images\n",
    "\n",
    "Let's take a moment to parse [**a simple application of a convolutional layer:\n",
    "detecting the edge of an object in an image**]\n",
    "by finding the location of the pixel change.\n",
    "First, we construct an \"image\" of $6\\times 8$ pixels.\n",
    "The middle four columns are black (0) and the rest are white (1).\n"
   ]
  },
  {
   "cell_type": "code",
   "execution_count": 5,
   "id": "b7ae180a",
   "metadata": {
    "execution": {
     "iopub.execute_input": "2022-08-29T23:02:59.224133Z",
     "iopub.status.busy": "2022-08-29T23:02:59.223572Z",
     "iopub.status.idle": "2022-08-29T23:02:59.231261Z",
     "shell.execute_reply": "2022-08-29T23:02:59.230442Z"
    },
    "origin_pos": 13,
    "tab": [
     "mxnet"
    ]
   },
   "outputs": [
    {
     "data": {
      "text/plain": [
       "array([[1., 1., 0., 0., 0., 0., 1., 1.],\n",
       "       [1., 1., 0., 0., 0., 0., 1., 1.],\n",
       "       [1., 1., 0., 0., 0., 0., 1., 1.],\n",
       "       [1., 1., 0., 0., 0., 0., 1., 1.],\n",
       "       [1., 1., 0., 0., 0., 0., 1., 1.],\n",
       "       [1., 1., 0., 0., 0., 0., 1., 1.]])"
      ]
     },
     "execution_count": 5,
     "metadata": {},
     "output_type": "execute_result"
    }
   ],
   "source": [
    "X = np.ones((6, 8))\n",
    "X[:, 2:6] = 0\n",
    "X"
   ]
  },
  {
   "cell_type": "markdown",
   "id": "ac951cf7",
   "metadata": {
    "origin_pos": 15
   },
   "source": [
    "Next, we construct a kernel `K` with a height of 1 and a width of 2.\n",
    "When we perform the cross-correlation operation with the input,\n",
    "if the horizontally adjacent elements are the same,\n",
    "the output is 0. Otherwise, the output is non-zero.\n",
    "Note that this kernel is special case of a finite difference operator. At location $(i,j)$ it computes $x_{i,j} - x_{(i+1),j}$, i.e., it computes the difference between the values of horizontally adjacent pixels. This is a discrete approximation of the first derivative in the horizontal direction. After all, for a function $f(i,j)$ its derivative $-\\partial_i f(i,j) = \\lim_{\\epsilon \\to 0} \\frac{f(i,j) - f(i+\\epsilon,j)}{\\epsilon}$. Let's see how this works in practice.\n"
   ]
  },
  {
   "cell_type": "code",
   "execution_count": 6,
   "id": "28a5d694",
   "metadata": {
    "execution": {
     "iopub.execute_input": "2022-08-29T23:02:59.235482Z",
     "iopub.status.busy": "2022-08-29T23:02:59.234902Z",
     "iopub.status.idle": "2022-08-29T23:02:59.239521Z",
     "shell.execute_reply": "2022-08-29T23:02:59.238662Z"
    },
    "origin_pos": 16,
    "tab": [
     "mxnet"
    ]
   },
   "outputs": [],
   "source": [
    "K = np.array([[1.0, -1.0]])"
   ]
  },
  {
   "cell_type": "markdown",
   "id": "e649d998",
   "metadata": {
    "origin_pos": 17
   },
   "source": [
    "We are ready to perform the cross-correlation operation\n",
    "with arguments `X` (our input) and `K` (our kernel).\n",
    "As you can see, [**we detect 1 for the edge from white to black\n",
    "and -1 for the edge from black to white.**]\n",
    "All other outputs take value 0.\n"
   ]
  },
  {
   "cell_type": "code",
   "execution_count": 7,
   "id": "9d9d3800",
   "metadata": {
    "execution": {
     "iopub.execute_input": "2022-08-29T23:02:59.243357Z",
     "iopub.status.busy": "2022-08-29T23:02:59.242806Z",
     "iopub.status.idle": "2022-08-29T23:02:59.291309Z",
     "shell.execute_reply": "2022-08-29T23:02:59.290365Z"
    },
    "origin_pos": 18,
    "tab": [
     "mxnet"
    ]
   },
   "outputs": [
    {
     "data": {
      "text/plain": [
       "array([[ 0.,  1.,  0.,  0.,  0., -1.,  0.],\n",
       "       [ 0.,  1.,  0.,  0.,  0., -1.,  0.],\n",
       "       [ 0.,  1.,  0.,  0.,  0., -1.,  0.],\n",
       "       [ 0.,  1.,  0.,  0.,  0., -1.,  0.],\n",
       "       [ 0.,  1.,  0.,  0.,  0., -1.,  0.],\n",
       "       [ 0.,  1.,  0.,  0.,  0., -1.,  0.]])"
      ]
     },
     "execution_count": 7,
     "metadata": {},
     "output_type": "execute_result"
    }
   ],
   "source": [
    "Y = corr2d(X, K)\n",
    "Y"
   ]
  },
  {
   "cell_type": "markdown",
   "id": "46008118",
   "metadata": {
    "origin_pos": 19
   },
   "source": [
    "We can now apply the kernel to the transposed image.\n",
    "As expected, it vanishes. [**The kernel `K` only detects vertical edges.**]\n"
   ]
  },
  {
   "cell_type": "code",
   "execution_count": 8,
   "id": "5dee02b1",
   "metadata": {
    "execution": {
     "iopub.execute_input": "2022-08-29T23:02:59.295967Z",
     "iopub.status.busy": "2022-08-29T23:02:59.295414Z",
     "iopub.status.idle": "2022-08-29T23:02:59.342600Z",
     "shell.execute_reply": "2022-08-29T23:02:59.341646Z"
    },
    "origin_pos": 20,
    "tab": [
     "mxnet"
    ]
   },
   "outputs": [
    {
     "data": {
      "text/plain": [
       "array([[0., 0., 0., 0., 0.],\n",
       "       [0., 0., 0., 0., 0.],\n",
       "       [0., 0., 0., 0., 0.],\n",
       "       [0., 0., 0., 0., 0.],\n",
       "       [0., 0., 0., 0., 0.],\n",
       "       [0., 0., 0., 0., 0.],\n",
       "       [0., 0., 0., 0., 0.],\n",
       "       [0., 0., 0., 0., 0.]])"
      ]
     },
     "execution_count": 8,
     "metadata": {},
     "output_type": "execute_result"
    }
   ],
   "source": [
    "corr2d(d2l.transpose(X), K)"
   ]
  },
  {
   "cell_type": "markdown",
   "id": "e6c88349",
   "metadata": {
    "origin_pos": 21
   },
   "source": [
    "## Learning a Kernel\n",
    "\n",
    "Designing an edge detector by finite differences `[1, -1]` is neat\n",
    "if we know this is precisely what we are looking for.\n",
    "However, as we look at larger kernels,\n",
    "and consider successive layers of convolutions,\n",
    "it might be impossible to specify\n",
    "precisely what each filter should be doing manually.\n",
    "\n",
    "Now let's see whether we can [**learn the kernel that generated `Y` from `X`**]\n",
    "by looking at the input--output pairs only.\n",
    "We first construct a convolutional layer\n",
    "and initialize its kernel as a random tensor.\n",
    "Next, in each iteration, we will use the squared error\n",
    "to compare `Y` with the output of the convolutional layer.\n",
    "We can then calculate the gradient to update the kernel.\n",
    "For the sake of simplicity,\n",
    "in the following\n",
    "we use the built-in class\n",
    "for two-dimensional convolutional layers\n",
    "and ignore the bias.\n"
   ]
  },
  {
   "cell_type": "code",
   "execution_count": 9,
   "id": "acd426cd",
   "metadata": {
    "execution": {
     "iopub.execute_input": "2022-08-29T23:02:59.347449Z",
     "iopub.status.busy": "2022-08-29T23:02:59.346837Z",
     "iopub.status.idle": "2022-08-29T23:02:59.429991Z",
     "shell.execute_reply": "2022-08-29T23:02:59.428860Z"
    },
    "origin_pos": 22,
    "tab": [
     "mxnet"
    ]
   },
   "outputs": [
    {
     "name": "stdout",
     "output_type": "stream",
     "text": [
      "epoch 2, loss 4.949\n",
      "epoch 4, loss 0.831\n",
      "epoch 6, loss 0.140\n",
      "epoch 8, loss 0.024\n",
      "epoch 10, loss 0.004\n"
     ]
    },
    {
     "name": "stdout",
     "output_type": "stream",
     "text": [
      "[23:02:59] src/base.cc:49: GPU context requested, but no GPUs found.\n"
     ]
    }
   ],
   "source": [
    "# Construct a two-dimensional convolutional layer with 1 output channel and a\n",
    "# kernel of shape (1, 2). For the sake of simplicity, we ignore the bias here\n",
    "conv2d = nn.Conv2D(1, kernel_size=(1, 2), use_bias=False)\n",
    "conv2d.initialize()\n",
    "\n",
    "# The two-dimensional convolutional layer uses four-dimensional input and\n",
    "# output in the format of (example, channel, height, width), where the batch\n",
    "# size (number of examples in the batch) and the number of channels are both 1\n",
    "X = X.reshape(1, 1, 6, 8)\n",
    "Y = Y.reshape(1, 1, 6, 7)\n",
    "lr = 3e-2  # Learning rate\n",
    "\n",
    "for i in range(10):\n",
    "    with autograd.record():\n",
    "        Y_hat = conv2d(X)\n",
    "        l = (Y_hat - Y) ** 2\n",
    "    l.backward()\n",
    "    # Update the kernel\n",
    "    conv2d.weight.data()[:] -= lr * conv2d.weight.grad()\n",
    "    if (i + 1) % 2 == 0:\n",
    "        print(f'epoch {i + 1}, loss {float(l.sum()):.3f}')"
   ]
  },
  {
   "cell_type": "markdown",
   "id": "e298aba0",
   "metadata": {
    "origin_pos": 25
   },
   "source": [
    "Note that the error has dropped to a small value after 10 iterations. Now we will [**take a look at the kernel tensor we learned.**]\n"
   ]
  },
  {
   "cell_type": "code",
   "execution_count": 10,
   "id": "871b26d2",
   "metadata": {
    "execution": {
     "iopub.execute_input": "2022-08-29T23:02:59.435254Z",
     "iopub.status.busy": "2022-08-29T23:02:59.434369Z",
     "iopub.status.idle": "2022-08-29T23:02:59.444414Z",
     "shell.execute_reply": "2022-08-29T23:02:59.442667Z"
    },
    "origin_pos": 26,
    "tab": [
     "mxnet"
    ]
   },
   "outputs": [
    {
     "data": {
      "text/plain": [
       "array([[ 0.9895   , -0.9873705]])"
      ]
     },
     "execution_count": 10,
     "metadata": {},
     "output_type": "execute_result"
    }
   ],
   "source": [
    "conv2d.weight.data().reshape((1, 2))"
   ]
  },
  {
   "cell_type": "markdown",
   "id": "b4833cd7",
   "metadata": {
    "origin_pos": 29
   },
   "source": [
    "Indeed, the learned kernel tensor is remarkably close\n",
    "to the kernel tensor `K` we defined earlier.\n",
    "\n",
    "## Cross-Correlation and Convolution\n",
    "\n",
    "Recall our observation from :numref:`sec_why-conv` of the correspondence\n",
    "between the cross-correlation and convolution operations.\n",
    "Here let's continue to consider two-dimensional convolutional layers.\n",
    "What if such layers\n",
    "perform strict convolution operations\n",
    "as defined in :eqref:`eq_2d-conv-discrete`\n",
    "instead of cross-correlations?\n",
    "In order to obtain the output of the strict *convolution* operation, we only need to flip the two-dimensional kernel tensor both horizontally and vertically, and then perform the *cross-correlation* operation with the input tensor.\n",
    "\n",
    "It is noteworthy that since kernels are learned from data in deep learning,\n",
    "the outputs of convolutional layers remain unaffected\n",
    "no matter such layers\n",
    "perform\n",
    "either the strict convolution operations\n",
    "or the cross-correlation operations.\n",
    "\n",
    "To illustrate this, suppose that a convolutional layer performs *cross-correlation* and learns the kernel in :numref:`fig_correlation`, which is denoted as the matrix $\\mathbf{K}$ here.\n",
    "Assuming that other conditions remain unchanged,\n",
    "when this layer performs strict *convolution* instead,\n",
    "the learned kernel $\\mathbf{K}'$ will be the same as $\\mathbf{K}$\n",
    "after $\\mathbf{K}'$ is\n",
    "flipped both horizontally and vertically.\n",
    "That is to say,\n",
    "when the convolutional layer\n",
    "performs strict *convolution*\n",
    "for the input in :numref:`fig_correlation`\n",
    "and $\\mathbf{K}'$,\n",
    "the same output in :numref:`fig_correlation`\n",
    "(cross-correlation of the input and $\\mathbf{K}$)\n",
    "will be obtained.\n",
    "\n",
    "In keeping with standard terminology with deep learning literature,\n",
    "we will continue to refer to the cross-correlation operation\n",
    "as a convolution even though, strictly-speaking, it is slightly different.\n",
    "Besides,\n",
    "we use the term *element* to refer to\n",
    "an entry (or component) of any tensor representing a layer representation or a convolution kernel.\n",
    "\n",
    "\n",
    "## Feature Map and Receptive Field\n",
    "\n",
    "As described in :numref:`subsec_why-conv-channels`,\n",
    "the convolutional layer output in\n",
    ":numref:`fig_correlation`\n",
    "is sometimes called a *feature map*,\n",
    "as it can be regarded as\n",
    "the learned representations (features)\n",
    "in the spatial dimensions (e.g., width and height)\n",
    "to the subsequent layer.\n",
    "In CNNs,\n",
    "for any element $x$ of some layer,\n",
    "its *receptive field* refers to\n",
    "all the elements (from all the previous layers)\n",
    "that may affect the calculation of $x$\n",
    "during the forward propagation.\n",
    "Note that the receptive field\n",
    "may be larger than the actual size of the input.\n",
    "\n",
    "Let's continue to use :numref:`fig_correlation` to explain the receptive field.\n",
    "Given the $2 \\times 2$ convolution kernel,\n",
    "the receptive field of the shaded output element (of value $19$)\n",
    "is\n",
    "the four elements in the shaded portion of the input.\n",
    "Now let's denote the $2 \\times 2$\n",
    "output as $\\mathbf{Y}$\n",
    "and consider a deeper CNN\n",
    "with an additional $2 \\times 2$ convolutional layer that takes $\\mathbf{Y}$\n",
    "as its input, outputting\n",
    "a single element $z$.\n",
    "In this case,\n",
    "the receptive field of $z$\n",
    "on $\\mathbf{Y}$ includes all the four elements of $\\mathbf{Y}$,\n",
    "while\n",
    "the receptive field\n",
    "on the input includes all the nine input elements.\n",
    "Thus,\n",
    "when any element in a feature map\n",
    "needs a larger receptive field\n",
    "to detect input features over a broader area,\n",
    "we can build a deeper network.\n",
    "\n",
    "Receptive fields derive their name from neurophysiology. In a series of experiments :cite:`Hubel.Wiesel.1959,Hubel.Wiesel.1962,Hubel.Wiesel.1968` on a range of animals\n",
    "and different stimuli, Hubel and Wiesel explored the response of what is called the visual\n",
    "cortex on said stimuli. By and large they found that lower levels respond to edges and related\n",
    "shapes. Later on, :citet:`Field.1987` illustrated this effect on natural\n",
    "images with, what can only be called, convolutional kernels.\n",
    "We reprint a key figure in :numref:`field_visual` to illustrate the striking similarities.\n",
    "\n",
    "![Figure and caption taken from :citet:`Field.1987`: An example of coding with six different channels. (Left) Examples of the six types of sensor associated with each channel. (Right) Convolution of the image in (Middle) with the six sensors shown in (Left). The response of the individual sensors is determined by sampling these filtered images at a distance proportional to the size of the sensor (shown with dots). This diagram shows the response of only the even symmetric sensors.](../img/field-visual.png)\n",
    ":label:`field_visual`\n",
    "\n",
    "As it turns out, this relation even holds for the features computed by deeper layers of networks trained on image classification tasks, as demonstrated e.g.,\n",
    "in :citet:`Kuzovkin.Vicente.Petton.ea.2018`. Suffice it to say, convolutions have proven to be an incredibly powerful tool for computer vision, both in biology and in code. As such, it is not surprising (in hindsight) that they heralded the recent success in deep learning.\n",
    "\n",
    "## Summary\n",
    "\n",
    "The core computation required for a convolutional layer is a cross-correlation operation. We saw that a simple nested for-loop is all that is required to compute its value. If we have multiple input and multiple output channels, we are  performing a matrix-matrix operation between channels. As can be seen, the computation is straightforward and, most importantly, highly *local*. This affords significant hardware optimization and many recent results in computer vision are only possible due to that. After all, it means that chip designers can invest into fast computation rather than memory, when it comes to optimizing for convolutions. While this may not lead to optimal designs for other applications, it opens the door to ubiquitous and affordable computer vision.\n",
    "\n",
    "In terms of convolutions themselves, they can be used for many purposes such as to detect edges and lines, to blur images, or to sharpen them. Most importantly, it is not necessary that the statistician (or engineer) invents suitable filters. Instead, we can simply *learn* them from data. This replaces feature engineering heuristics by evidence-based statistics. Lastly, and quite delightfully, these filters are not just advantageous for building deep networks but they also correspond to receptive fields and feature maps in the brain. This gives us confidence that we are on the right track.\n",
    "\n",
    "## Exercises\n",
    "\n",
    "1. Construct an image `X` with diagonal edges.\n",
    "    1. What happens if you apply the kernel `K` in this section to it?\n",
    "    1. What happens if you transpose `X`?\n",
    "    1. What happens if you transpose `K`?\n",
    "1. Design some kernels manually.\n",
    "    1. Given a directional vector $\\mathbf{v} = (v_1, v_2)$, derive an edge-detection kernel that detects\n",
    "       edges orthogonal to $\\mathbf{v}$, i.e., edges in the direction $(v_2, -v_1)$.\n",
    "    1. Derive a finite difference operator for the second derivative. What is the minimum\n",
    "       size of the convolutional kernel associate with it? Which structures in images respond most strongly to it?\n",
    "    1. How would you design a blur kernel? Why might you want to use such a kernel?\n",
    "    1. What is the minimum size of a kernel to obtain a derivative of order $d$?\n",
    "1. When you try to automatically find the gradient for the `Conv2D` class we created, what kind of error message do you see?\n",
    "1. How do you represent a cross-correlation operation as a matrix multiplication by changing the input and kernel tensors?\n"
   ]
  },
  {
   "cell_type": "markdown",
   "id": "8a20c08a",
   "metadata": {
    "origin_pos": 30,
    "tab": [
     "mxnet"
    ]
   },
   "source": [
    "[Discussions](https://discuss.d2l.ai/t/65)\n"
   ]
  }
 ],
 "metadata": {
  "kernelspec": {
   "display_name": "conda_mxnet_p36",
   "name": "conda_mxnet_p36"
  },
  "language_info": {
   "name": "python"
  }
 },
 "nbformat": 4,
 "nbformat_minor": 5
}