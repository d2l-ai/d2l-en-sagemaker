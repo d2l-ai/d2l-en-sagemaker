{
 "cells": [
  {
   "cell_type": "markdown",
   "id": "cfa05008",
   "metadata": {},
   "source": [
    "Installing (updating) the following libraries for your Sagemaker\n",
    "instance."
   ]
  },
  {
   "cell_type": "code",
   "execution_count": null,
   "id": "abaa59f5",
   "metadata": {},
   "outputs": [],
   "source": [
    "!pip install -U mxnet-cu101==1.7.0\n"
   ]
  },
  {
   "cell_type": "markdown",
   "id": "8ee3d947",
   "metadata": {
    "origin_pos": 1
   },
   "source": [
    "# Linear Algebra\n",
    ":label:`sec_linear-algebra`\n",
    "\n",
    "By now, we can load datasets into tensors\n",
    "and manipulate these tensors \n",
    "with basic mathematical operations.\n",
    "To start building sophisticated models,\n",
    "we will also need a few tools from linear algebra. \n",
    "This section offers a gentle introduction \n",
    "to the most essential concepts,\n",
    "starting from scalar arithmetic\n",
    "and ramping up to matrix multiplication.\n",
    "\n",
    "\n",
    "\n",
    "## Scalars\n",
    "\n",
    "\n",
    "Most everyday mathematics\n",
    "consists of manipulating \n",
    "numbers one at a time.\n",
    "Formally, we call these values *scalars*.\n",
    "For example, the temperature in Palo Alto \n",
    "is a balmy $72$ degrees Fahrenheit.\n",
    "If you wanted to convert the temperature to Celsius\n",
    "you would evaluate the expression \n",
    "$c = \\frac{5}{9}(f - 32)$, setting $f$ to $72$.\n",
    "In this equation, the values \n",
    "$5$, $9$, and $32$ are scalars.\n",
    "The variables $c$ and $f$ \n",
    "represent unknown scalars.\n",
    "\n",
    "We denote scalars\n",
    "by ordinary lower-cased letters \n",
    "(e.g., $x$, $y$, and $z$)\n",
    "and the space of all (continuous) \n",
    "*real-valued* scalars by $\\mathbb{R}$.\n",
    "For expedience, we will skip past\n",
    "rigorous definitions of *spaces*.\n",
    "Just remember that the expression $x \\in \\mathbb{R}$\n",
    "is a formal way to say that $x$ is a real-valued scalar.\n",
    "The symbol $\\in$ (pronounced \"in\")\n",
    "denotes membership in a set.\n",
    "For example, $x, y \\in \\{0, 1\\}$\n",
    "indicates that $x$ and $y$ are variables\n",
    "that can only take values $0$ or $1$.\n",
    "\n",
    "(**Scalars are implemented as tensors \n",
    "that contain only one element.**)\n",
    "Below, we assign two scalars\n",
    "and perform the familiar addition, multiplication,\n",
    "division, and exponentiation operations.\n"
   ]
  },
  {
   "cell_type": "code",
   "execution_count": 1,
   "id": "28539913",
   "metadata": {
    "execution": {
     "iopub.execute_input": "2022-07-13T09:39:05.983428Z",
     "iopub.status.busy": "2022-07-13T09:39:05.982982Z",
     "iopub.status.idle": "2022-07-13T09:39:07.814383Z",
     "shell.execute_reply": "2022-07-13T09:39:07.813244Z"
    },
    "origin_pos": 2,
    "tab": [
     "mxnet"
    ]
   },
   "outputs": [
    {
     "data": {
      "text/plain": [
       "(array(5.), array(6.), array(1.5), array(9.))"
      ]
     },
     "execution_count": 1,
     "metadata": {},
     "output_type": "execute_result"
    }
   ],
   "source": [
    "from mxnet import np, npx\n",
    "\n",
    "npx.set_np()\n",
    "\n",
    "x = np.array(3.0)\n",
    "y = np.array(2.0)\n",
    "\n",
    "x + y, x * y, x / y, x ** y"
   ]
  },
  {
   "cell_type": "markdown",
   "id": "19deeeb1",
   "metadata": {
    "origin_pos": 5
   },
   "source": [
    "## Vectors\n",
    "\n",
    "For our purposes, [**you can think of vectors\n",
    "as fixed-length arrays of scalars.**]\n",
    "As with their code counterparts,\n",
    "we call these values the *elements* of the vector\n",
    "(synonyms include *entries* and *components*).\n",
    "When vectors represent examples from real-world datasets,\n",
    "their values hold some real-world significance.\n",
    "For example, if we were training a model to predict\n",
    "the risk of a loan defaulting,\n",
    "we might associate each applicant with a vector\n",
    "whose components correspond to quantities\n",
    "like their income, length of employment, \n",
    "or number of previous defaults.\n",
    "If we were studying heart attack risk,\n",
    "each vector might represent a patient\n",
    "and its components might correspond to\n",
    "their most recent vital signs, cholesterol levels, \n",
    "minutes of exercise per day, etc.\n",
    "We denote vectors by bold lowercase letters, \n",
    "(e.g., $\\mathbf{x}$, $\\mathbf{y}$, and $\\mathbf{z}$).\n",
    "\n",
    "Vectors are implemented as $1^{\\mathrm{st}}$-order tensors.\n",
    "In general, such tensors can have arbitrary lengths,\n",
    "subject to memory limitations. Caution: in Python, like in most programming languages, vector indices start at $0$, also known as *zero-based indexing*, whereas in linear algebra subscripts begin at $1$ (one-based indexing).\n"
   ]
  },
  {
   "cell_type": "code",
   "execution_count": 2,
   "id": "f5491914",
   "metadata": {
    "execution": {
     "iopub.execute_input": "2022-07-13T09:39:07.849796Z",
     "iopub.status.busy": "2022-07-13T09:39:07.848817Z",
     "iopub.status.idle": "2022-07-13T09:39:07.861101Z",
     "shell.execute_reply": "2022-07-13T09:39:07.859834Z"
    },
    "origin_pos": 6,
    "tab": [
     "mxnet"
    ]
   },
   "outputs": [
    {
     "data": {
      "text/plain": [
       "array([0., 1., 2.])"
      ]
     },
     "execution_count": 2,
     "metadata": {},
     "output_type": "execute_result"
    }
   ],
   "source": [
    "x = np.arange(3)\n",
    "x"
   ]
  },
  {
   "cell_type": "markdown",
   "id": "be39c361",
   "metadata": {
    "origin_pos": 9
   },
   "source": [
    "We can refer to an element of a vector by using a subscript.\n",
    "For example, $x_2$ denotes the second element of $\\mathbf{x}$. \n",
    "Since $x_2$ is a scalar, we do not bold it.\n",
    "By default, we visualize vectors \n",
    "by stacking their elements vertically.\n",
    "\n",
    "$$\\mathbf{x} =\\begin{bmatrix}x_{1}  \\\\ \\vdots  \\\\x_{n}\\end{bmatrix},$$\n",
    ":eqlabel:`eq_vec_def`\n",
    "\n",
    "Here $x_1, \\ldots, x_n$ are elements of the vector.\n",
    "Later on, we will distinguish between such *column vectors*\n",
    "and *row vectors* whose elements are stacked horizontally.\n",
    "Recall that [**we access a tensor's elements via indexing.**]\n"
   ]
  },
  {
   "cell_type": "code",
   "execution_count": 3,
   "id": "edd0c409",
   "metadata": {
    "execution": {
     "iopub.execute_input": "2022-07-13T09:39:07.865549Z",
     "iopub.status.busy": "2022-07-13T09:39:07.864501Z",
     "iopub.status.idle": "2022-07-13T09:39:07.874622Z",
     "shell.execute_reply": "2022-07-13T09:39:07.873402Z"
    },
    "origin_pos": 10,
    "tab": [
     "mxnet"
    ]
   },
   "outputs": [
    {
     "data": {
      "text/plain": [
       "array(2.)"
      ]
     },
     "execution_count": 3,
     "metadata": {},
     "output_type": "execute_result"
    }
   ],
   "source": [
    "x[2]"
   ]
  },
  {
   "cell_type": "markdown",
   "id": "db0531c8",
   "metadata": {
    "origin_pos": 13
   },
   "source": [
    "To indicate that a vector contains $n$ elements,\n",
    "we write $\\mathbf{x} \\in \\mathbb{R}^n$.\n",
    "Formally, we call $n$ the *dimensionality* of the vector.\n",
    "[**In code, this corresponds to the tensor's length**],\n",
    "accessible via Python's built-in `len` function.\n"
   ]
  },
  {
   "cell_type": "code",
   "execution_count": 4,
   "id": "8b0eb1d0",
   "metadata": {
    "execution": {
     "iopub.execute_input": "2022-07-13T09:39:07.879853Z",
     "iopub.status.busy": "2022-07-13T09:39:07.879320Z",
     "iopub.status.idle": "2022-07-13T09:39:07.885554Z",
     "shell.execute_reply": "2022-07-13T09:39:07.884477Z"
    },
    "origin_pos": 14,
    "tab": [
     "mxnet"
    ]
   },
   "outputs": [
    {
     "data": {
      "text/plain": [
       "3"
      ]
     },
     "execution_count": 4,
     "metadata": {},
     "output_type": "execute_result"
    }
   ],
   "source": [
    "len(x)"
   ]
  },
  {
   "cell_type": "markdown",
   "id": "bd27a301",
   "metadata": {
    "origin_pos": 17
   },
   "source": [
    "We can also access the length via the `shape` attribute.\n",
    "The shape is a tuple that indicates a tensor's length along each axis.\n",
    "(**Tensors with just one axis have shapes with just one element.**)\n"
   ]
  },
  {
   "cell_type": "code",
   "execution_count": 5,
   "id": "9e002f80",
   "metadata": {
    "execution": {
     "iopub.execute_input": "2022-07-13T09:39:07.889932Z",
     "iopub.status.busy": "2022-07-13T09:39:07.889141Z",
     "iopub.status.idle": "2022-07-13T09:39:07.902122Z",
     "shell.execute_reply": "2022-07-13T09:39:07.899581Z"
    },
    "origin_pos": 18,
    "tab": [
     "mxnet"
    ]
   },
   "outputs": [
    {
     "data": {
      "text/plain": [
       "(3,)"
      ]
     },
     "execution_count": 5,
     "metadata": {},
     "output_type": "execute_result"
    }
   ],
   "source": [
    "x.shape"
   ]
  },
  {
   "cell_type": "markdown",
   "id": "f6296b9c",
   "metadata": {
    "origin_pos": 21
   },
   "source": [
    "Oftentimes, the word \"dimension\" gets overloaded\n",
    "to mean both the number of axes \n",
    "and the length along a articular axis.\n",
    "To avoid this confusion, \n",
    "we use *order* to refer to the number of axes\n",
    "and *dimensionality* exclusively to refer \n",
    "to the number of components.\n",
    "\n",
    "\n",
    "## Matrices\n",
    "\n",
    "Just as scalars are $0^{\\mathrm{th}}$-order tensors\n",
    "and vectors are $1^{\\mathrm{st}}$-order tensors,\n",
    "matrices are $2^{\\mathrm{nd}}$-order tensors.\n",
    "We denote matrices by bold capital letters\n",
    "(e.g., $\\mathbf{X}$, $\\mathbf{Y}$, and $\\mathbf{Z}$),\n",
    "and represent them in code by tensors with two axes.\n",
    "The expression $\\mathbf{A} \\in \\mathbb{R}^{m \\times n}$\n",
    "indicates that a matrix $\\mathbf{A}$ \n",
    "contains $m \\times n$ real-valued scalars,\n",
    "arranged as $m$ rows and $n$ columns.\n",
    "When $m = n$, we say that a matrix is *square*.\n",
    "Visually, we can illustrate any matrix as a table.\n",
    "To refer to an individual element,\n",
    "we subscript both the row and column indices, e.g.,\n",
    "$a_{ij}$ is the value that belongs to $\\mathbf{A}$'s\n",
    "$i^{\\mathrm{th}}$ row and $j^{\\mathrm{th}}$ column:\n",
    "\n",
    "$$\\mathbf{A}=\\begin{bmatrix} a_{11} & a_{12} & \\cdots & a_{1n} \\\\ a_{21} & a_{22} & \\cdots & a_{2n} \\\\ \\vdots & \\vdots & \\ddots & \\vdots \\\\ a_{m1} & a_{m2} & \\cdots & a_{mn} \\\\ \\end{bmatrix}.$$\n",
    ":eqlabel:`eq_matrix_def`\n",
    "\n",
    "\n",
    "In code, we represent a matrix $\\mathbf{A} \\in \\mathbb{R}^{m \\times n}$\n",
    "by a $2^{\\mathrm{nd}}$-order tensor with shape ($m$, $n$).\n",
    "[**We can convert any appropriately size $m \\times n$ tensor \n",
    "into an $m \\times n$ matrix**] \n",
    "by passing the desired shape to `reshape`:\n"
   ]
  },
  {
   "cell_type": "code",
   "execution_count": 6,
   "id": "b6d15fa6",
   "metadata": {
    "execution": {
     "iopub.execute_input": "2022-07-13T09:39:07.906701Z",
     "iopub.status.busy": "2022-07-13T09:39:07.906119Z",
     "iopub.status.idle": "2022-07-13T09:39:07.915863Z",
     "shell.execute_reply": "2022-07-13T09:39:07.914414Z"
    },
    "origin_pos": 22,
    "tab": [
     "mxnet"
    ]
   },
   "outputs": [
    {
     "data": {
      "text/plain": [
       "array([[0., 1.],\n",
       "       [2., 3.],\n",
       "       [4., 5.]])"
      ]
     },
     "execution_count": 6,
     "metadata": {},
     "output_type": "execute_result"
    }
   ],
   "source": [
    "A = np.arange(6).reshape(3, 2)\n",
    "A"
   ]
  },
  {
   "cell_type": "markdown",
   "id": "fca35bdd",
   "metadata": {
    "origin_pos": 25
   },
   "source": [
    "Sometimes, we want to flip the axes.\n",
    "When we exchange a matrix's rows and columns,\n",
    "the result is called its *transpose*.\n",
    "Formally, we signify a matrix $\\mathbf{A}$'s transpose \n",
    "by $\\mathbf{A}^\\top$ and if $\\mathbf{B} = \\mathbf{A}^\\top$, \n",
    "then $b_{ij} = a_{ji}$ for all $i$ and $j$.\n",
    "Thus, the transpose of an $m \\times n$ matrix \n",
    "is an $n \\times m$ matrix:\n",
    "\n",
    "$$\n",
    "\\mathbf{A}^\\top =\n",
    "\\begin{bmatrix}\n",
    "    a_{11} & a_{21} & \\dots  & a_{m1} \\\\\n",
    "    a_{12} & a_{22} & \\dots  & a_{m2} \\\\\n",
    "    \\vdots & \\vdots & \\ddots  & \\vdots \\\\\n",
    "    a_{1n} & a_{2n} & \\dots  & a_{mn}\n",
    "\\end{bmatrix}.\n",
    "$$\n",
    "\n",
    "In code, we can access any (**matrix's transpose**) as follows:\n"
   ]
  },
  {
   "cell_type": "code",
   "execution_count": 7,
   "id": "a3b2452c",
   "metadata": {
    "execution": {
     "iopub.execute_input": "2022-07-13T09:39:07.920224Z",
     "iopub.status.busy": "2022-07-13T09:39:07.919437Z",
     "iopub.status.idle": "2022-07-13T09:39:07.930192Z",
     "shell.execute_reply": "2022-07-13T09:39:07.929254Z"
    },
    "origin_pos": 26,
    "tab": [
     "mxnet"
    ]
   },
   "outputs": [
    {
     "data": {
      "text/plain": [
       "array([[0., 2., 4.],\n",
       "       [1., 3., 5.]])"
      ]
     },
     "execution_count": 7,
     "metadata": {},
     "output_type": "execute_result"
    }
   ],
   "source": [
    "A.T"
   ]
  },
  {
   "cell_type": "markdown",
   "id": "834194f6",
   "metadata": {
    "origin_pos": 29
   },
   "source": [
    "[**Symmetric matrices are the subset of square matrices\n",
    "that are equal to their own transposes:\n",
    "$\\mathbf{A} = \\mathbf{A}^\\top$.**]\n",
    "The following matrix is symmetric:\n"
   ]
  },
  {
   "cell_type": "code",
   "execution_count": 8,
   "id": "43c48822",
   "metadata": {
    "execution": {
     "iopub.execute_input": "2022-07-13T09:39:07.935195Z",
     "iopub.status.busy": "2022-07-13T09:39:07.934482Z",
     "iopub.status.idle": "2022-07-13T09:39:07.950121Z",
     "shell.execute_reply": "2022-07-13T09:39:07.949179Z"
    },
    "origin_pos": 30,
    "tab": [
     "mxnet"
    ]
   },
   "outputs": [
    {
     "data": {
      "text/plain": [
       "array([[ True,  True,  True],\n",
       "       [ True,  True,  True],\n",
       "       [ True,  True,  True]])"
      ]
     },
     "execution_count": 8,
     "metadata": {},
     "output_type": "execute_result"
    }
   ],
   "source": [
    "A = np.array([[1, 2, 3], [2, 0, 4], [3, 4, 5]])\n",
    "A == A.T"
   ]
  },
  {
   "cell_type": "markdown",
   "id": "ff21ee7f",
   "metadata": {
    "origin_pos": 33
   },
   "source": [
    "Matrices are useful for representing datasets. \n",
    "Typically, rows correspond to individual records\n",
    "and columns correspond to distinct attributes.\n",
    "\n",
    "\n",
    "\n",
    "## Tensors\n",
    "\n",
    "While you can go far in your machine learning journey\n",
    "with only scalars, vectors, and matrices,\n",
    "eventually you may need to work with \n",
    "higher-order [**tensors**].\n",
    "Tensors (**give us a generic way to describe \n",
    "extensions to $n^{\\mathrm{th}}$-order arrays.**)\n",
    "We call software objects of the *tensor class* \"tensors\"\n",
    "precisely because they too can have arbitrary numbers of axes.\n",
    "While it may be confusing to use the word\n",
    "*tensor* for both the mathematical object\n",
    "and its realization in code,\n",
    "our meaning should usually be clear from context.\n",
    "We denote general tensors by capital letters \n",
    "with a special font face\n",
    "(e.g., $\\mathsf{X}$, $\\mathsf{Y}$, and $\\mathsf{Z}$)\n",
    "and their indexing mechanism \n",
    "(e.g., $x_{ijk}$ and $[\\mathsf{X}]_{1, 2i-1, 3}$) \n",
    "follows naturally from that of matrices.\n",
    "\n",
    "Tensors will become more important \n",
    "when we start working with images.\n",
    "Each image arrives as a $3^{\\mathrm{rd}}$-order tensor\n",
    "with axes corresponding to the height, width, and *channel*.\n",
    "At each spatial location, the intensities \n",
    "of each color (red, green, and blue)\n",
    "are stacked along the channel. \n",
    "Moreover a collection of images is represented \n",
    "in code by a $4^{\\mathrm{th}}$-order tensor,\n",
    "where distinct images are indexed\n",
    "along the first axis.\n",
    "Higher-order tensors are constructed analogously \n",
    "to vectors and matrices,\n",
    "by growing the number of shape components.\n"
   ]
  },
  {
   "cell_type": "code",
   "execution_count": 9,
   "id": "05c2f383",
   "metadata": {
    "execution": {
     "iopub.execute_input": "2022-07-13T09:39:07.954716Z",
     "iopub.status.busy": "2022-07-13T09:39:07.954002Z",
     "iopub.status.idle": "2022-07-13T09:39:07.964052Z",
     "shell.execute_reply": "2022-07-13T09:39:07.962888Z"
    },
    "origin_pos": 34,
    "tab": [
     "mxnet"
    ]
   },
   "outputs": [
    {
     "data": {
      "text/plain": [
       "array([[[ 0.,  1.,  2.,  3.],\n",
       "        [ 4.,  5.,  6.,  7.],\n",
       "        [ 8.,  9., 10., 11.]],\n",
       "\n",
       "       [[12., 13., 14., 15.],\n",
       "        [16., 17., 18., 19.],\n",
       "        [20., 21., 22., 23.]]])"
      ]
     },
     "execution_count": 9,
     "metadata": {},
     "output_type": "execute_result"
    }
   ],
   "source": [
    "np.arange(24).reshape(2, 3, 4)"
   ]
  },
  {
   "cell_type": "markdown",
   "id": "cd6e6c60",
   "metadata": {
    "origin_pos": 37
   },
   "source": [
    "## Basic Properties of Tensor Arithmetic\n",
    "\n",
    "Scalars, vectors, matrices, \n",
    "and higher-order tensors\n",
    "all have some handy properties. \n",
    "For example, elementwise operations\n",
    "produce outputs that have the \n",
    "same shape as their operands.\n"
   ]
  },
  {
   "cell_type": "code",
   "execution_count": 10,
   "id": "f6016191",
   "metadata": {
    "execution": {
     "iopub.execute_input": "2022-07-13T09:39:07.968561Z",
     "iopub.status.busy": "2022-07-13T09:39:07.967933Z",
     "iopub.status.idle": "2022-07-13T09:39:07.979616Z",
     "shell.execute_reply": "2022-07-13T09:39:07.978191Z"
    },
    "origin_pos": 38,
    "tab": [
     "mxnet"
    ]
   },
   "outputs": [
    {
     "data": {
      "text/plain": [
       "(array([[0., 1., 2.],\n",
       "        [3., 4., 5.]]),\n",
       " array([[ 0.,  2.,  4.],\n",
       "        [ 6.,  8., 10.]]))"
      ]
     },
     "execution_count": 10,
     "metadata": {},
     "output_type": "execute_result"
    }
   ],
   "source": [
    "A = np.arange(6).reshape(2, 3)\n",
    "B = A.copy()  # Assign a copy of `A` to `B` by allocating new memory\n",
    "A, A + B"
   ]
  },
  {
   "cell_type": "markdown",
   "id": "efead44f",
   "metadata": {
    "origin_pos": 41
   },
   "source": [
    "The [**elementwise product of two matrices\n",
    "is called their *Hadamard product***] (denoted $\\odot$).\n",
    "Below, we spell out the entries \n",
    "of the Hadamard product of two matrices \n",
    "$\\mathbf{A}, \\mathbf{B} \\in \\mathbb{R}^{m \\times n}$:\n",
    "\n",
    "\n",
    "\n",
    "$$\n",
    "\\mathbf{A} \\odot \\mathbf{B} =\n",
    "\\begin{bmatrix}\n",
    "    a_{11}  b_{11} & a_{12}  b_{12} & \\dots  & a_{1n}  b_{1n} \\\\\n",
    "    a_{21}  b_{21} & a_{22}  b_{22} & \\dots  & a_{2n}  b_{2n} \\\\\n",
    "    \\vdots & \\vdots & \\ddots & \\vdots \\\\\n",
    "    a_{m1}  b_{m1} & a_{m2}  b_{m2} & \\dots  & a_{mn}  b_{mn}\n",
    "\\end{bmatrix}.\n",
    "$$\n"
   ]
  },
  {
   "cell_type": "code",
   "execution_count": 11,
   "id": "d5cc82c4",
   "metadata": {
    "execution": {
     "iopub.execute_input": "2022-07-13T09:39:07.985318Z",
     "iopub.status.busy": "2022-07-13T09:39:07.984361Z",
     "iopub.status.idle": "2022-07-13T09:39:07.992326Z",
     "shell.execute_reply": "2022-07-13T09:39:07.991052Z"
    },
    "origin_pos": 42,
    "tab": [
     "mxnet"
    ]
   },
   "outputs": [
    {
     "data": {
      "text/plain": [
       "array([[ 0.,  1.,  4.],\n",
       "       [ 9., 16., 25.]])"
      ]
     },
     "execution_count": 11,
     "metadata": {},
     "output_type": "execute_result"
    }
   ],
   "source": [
    "A * B"
   ]
  },
  {
   "cell_type": "markdown",
   "id": "afebec1a",
   "metadata": {
    "origin_pos": 45
   },
   "source": [
    "[**Adding or multiplying a scalar and a tensor**] produces a result\n",
    "with the same shape as the original tensor.\n",
    "Here, each element of the tensor is added to (or multiplied by) the scalar.\n"
   ]
  },
  {
   "cell_type": "code",
   "execution_count": 12,
   "id": "726fe321",
   "metadata": {
    "execution": {
     "iopub.execute_input": "2022-07-13T09:39:07.998385Z",
     "iopub.status.busy": "2022-07-13T09:39:07.997643Z",
     "iopub.status.idle": "2022-07-13T09:39:08.007804Z",
     "shell.execute_reply": "2022-07-13T09:39:08.006542Z"
    },
    "origin_pos": 46,
    "tab": [
     "mxnet"
    ]
   },
   "outputs": [
    {
     "data": {
      "text/plain": [
       "(array([[[ 2.,  3.,  4.,  5.],\n",
       "         [ 6.,  7.,  8.,  9.],\n",
       "         [10., 11., 12., 13.]],\n",
       " \n",
       "        [[14., 15., 16., 17.],\n",
       "         [18., 19., 20., 21.],\n",
       "         [22., 23., 24., 25.]]]),\n",
       " (2, 3, 4))"
      ]
     },
     "execution_count": 12,
     "metadata": {},
     "output_type": "execute_result"
    }
   ],
   "source": [
    "a = 2\n",
    "X = np.arange(24).reshape(2, 3, 4)\n",
    "a + X, (a * X).shape"
   ]
  },
  {
   "cell_type": "markdown",
   "id": "fa5c6a75",
   "metadata": {
    "origin_pos": 49
   },
   "source": [
    "## Reduction\n",
    ":label:`subsec_lin-alg-reduction`\n",
    "\n",
    "Often, we wish to calculate [**the sum of a tensor's elements.**]\n",
    "To express the sum of the elements in a vector $\\mathbf{x}$ of length $n$,\n",
    "we write $\\sum_{i=1}^n x_i$. There's a simple function for it:\n"
   ]
  },
  {
   "cell_type": "code",
   "execution_count": 13,
   "id": "a1b1b9ac",
   "metadata": {
    "execution": {
     "iopub.execute_input": "2022-07-13T09:39:08.012413Z",
     "iopub.status.busy": "2022-07-13T09:39:08.011473Z",
     "iopub.status.idle": "2022-07-13T09:39:08.020013Z",
     "shell.execute_reply": "2022-07-13T09:39:08.018915Z"
    },
    "origin_pos": 50,
    "tab": [
     "mxnet"
    ]
   },
   "outputs": [
    {
     "data": {
      "text/plain": [
       "(array([0., 1., 2.]), array(3.))"
      ]
     },
     "execution_count": 13,
     "metadata": {},
     "output_type": "execute_result"
    }
   ],
   "source": [
    "x = np.arange(3)\n",
    "x, x.sum()"
   ]
  },
  {
   "cell_type": "markdown",
   "id": "1545fe8f",
   "metadata": {
    "origin_pos": 53
   },
   "source": [
    "To express [**sums over the elements of tensors of arbitrary shape**],\n",
    "we simply sum over all of its axes. \n",
    "For example, the sum of the elements \n",
    "of an $m \\times n$ matrix $\\mathbf{A}$ \n",
    "could be written $\\sum_{i=1}^{m} \\sum_{j=1}^{n} a_{ij}$.\n"
   ]
  },
  {
   "cell_type": "code",
   "execution_count": 14,
   "id": "3b8948f9",
   "metadata": {
    "execution": {
     "iopub.execute_input": "2022-07-13T09:39:08.024957Z",
     "iopub.status.busy": "2022-07-13T09:39:08.024483Z",
     "iopub.status.idle": "2022-07-13T09:39:08.032375Z",
     "shell.execute_reply": "2022-07-13T09:39:08.031521Z"
    },
    "origin_pos": 54,
    "tab": [
     "mxnet"
    ]
   },
   "outputs": [
    {
     "data": {
      "text/plain": [
       "((2, 3), array(15.))"
      ]
     },
     "execution_count": 14,
     "metadata": {},
     "output_type": "execute_result"
    }
   ],
   "source": [
    "A.shape, A.sum()"
   ]
  },
  {
   "cell_type": "markdown",
   "id": "ce95d9dc",
   "metadata": {
    "origin_pos": 57
   },
   "source": [
    "By default, invoking the sum function\n",
    "*reduces* a tensor along all of its axes,\n",
    "eventually producing a scalar.\n",
    "Our libraries also allow us to [**specify the axes \n",
    "along which the tensor should be reduced.**]\n",
    "To sum over all elements along the rows (axis 0),\n",
    "we specify `axis=0` in `sum`.\n",
    "Since the input matrix reduces along axis 0\n",
    "to generate the output vector,\n",
    "this axis is missing from the shape of the output.\n"
   ]
  },
  {
   "cell_type": "code",
   "execution_count": 15,
   "id": "eb951182",
   "metadata": {
    "execution": {
     "iopub.execute_input": "2022-07-13T09:39:08.037522Z",
     "iopub.status.busy": "2022-07-13T09:39:08.036839Z",
     "iopub.status.idle": "2022-07-13T09:39:08.045198Z",
     "shell.execute_reply": "2022-07-13T09:39:08.044162Z"
    },
    "origin_pos": 58,
    "tab": [
     "mxnet"
    ]
   },
   "outputs": [
    {
     "data": {
      "text/plain": [
       "((2, 3), (3,))"
      ]
     },
     "execution_count": 15,
     "metadata": {},
     "output_type": "execute_result"
    }
   ],
   "source": [
    "A.shape, A.sum(axis=0).shape"
   ]
  },
  {
   "cell_type": "markdown",
   "id": "09c95812",
   "metadata": {
    "origin_pos": 61
   },
   "source": [
    "Specifying `axis=1` will reduce the column dimension (axis 1) by summing up elements of all the columns.\n"
   ]
  },
  {
   "cell_type": "code",
   "execution_count": 16,
   "id": "0885dc36",
   "metadata": {
    "execution": {
     "iopub.execute_input": "2022-07-13T09:39:08.049259Z",
     "iopub.status.busy": "2022-07-13T09:39:08.048684Z",
     "iopub.status.idle": "2022-07-13T09:39:08.055215Z",
     "shell.execute_reply": "2022-07-13T09:39:08.054173Z"
    },
    "origin_pos": 62,
    "tab": [
     "mxnet"
    ]
   },
   "outputs": [
    {
     "data": {
      "text/plain": [
       "((2, 3), (2,))"
      ]
     },
     "execution_count": 16,
     "metadata": {},
     "output_type": "execute_result"
    }
   ],
   "source": [
    "A.shape, A.sum(axis=1).shape"
   ]
  },
  {
   "cell_type": "markdown",
   "id": "cd32be9c",
   "metadata": {
    "origin_pos": 65
   },
   "source": [
    "Reducing a matrix along both rows and columns via summation\n",
    "is equivalent to summing up all the elements of the matrix.\n"
   ]
  },
  {
   "cell_type": "code",
   "execution_count": 17,
   "id": "071ab168",
   "metadata": {
    "execution": {
     "iopub.execute_input": "2022-07-13T09:39:08.059057Z",
     "iopub.status.busy": "2022-07-13T09:39:08.058566Z",
     "iopub.status.idle": "2022-07-13T09:39:08.065947Z",
     "shell.execute_reply": "2022-07-13T09:39:08.064911Z"
    },
    "origin_pos": 66,
    "tab": [
     "mxnet"
    ]
   },
   "outputs": [
    {
     "data": {
      "text/plain": [
       "array(True)"
      ]
     },
     "execution_count": 17,
     "metadata": {},
     "output_type": "execute_result"
    }
   ],
   "source": [
    "A.sum(axis=[0, 1]) == A.sum() # Same as `A.sum()`"
   ]
  },
  {
   "cell_type": "markdown",
   "id": "5634b897",
   "metadata": {
    "origin_pos": 69
   },
   "source": [
    "[**A related quantity is the *mean*, also called the *average*.**]\n",
    "We calculate the mean by dividing the sum \n",
    "by the total number of elements.\n",
    "Because computing the mean is so common,\n",
    "it gets a dedicated library function \n",
    "that works analogously to `sum`.\n"
   ]
  },
  {
   "cell_type": "code",
   "execution_count": 18,
   "id": "0597b36d",
   "metadata": {
    "execution": {
     "iopub.execute_input": "2022-07-13T09:39:08.070799Z",
     "iopub.status.busy": "2022-07-13T09:39:08.069838Z",
     "iopub.status.idle": "2022-07-13T09:39:08.089350Z",
     "shell.execute_reply": "2022-07-13T09:39:08.088088Z"
    },
    "origin_pos": 70,
    "tab": [
     "mxnet"
    ]
   },
   "outputs": [
    {
     "data": {
      "text/plain": [
       "(array(2.5), array(2.5))"
      ]
     },
     "execution_count": 18,
     "metadata": {},
     "output_type": "execute_result"
    }
   ],
   "source": [
    "A.mean(), A.sum() / A.size"
   ]
  },
  {
   "cell_type": "markdown",
   "id": "83b001d4",
   "metadata": {
    "origin_pos": 73
   },
   "source": [
    "Likewise, the function for calculating the mean \n",
    "can also reduce a tensor along specific axes.\n"
   ]
  },
  {
   "cell_type": "code",
   "execution_count": 19,
   "id": "d04ef8c9",
   "metadata": {
    "execution": {
     "iopub.execute_input": "2022-07-13T09:39:08.094353Z",
     "iopub.status.busy": "2022-07-13T09:39:08.093593Z",
     "iopub.status.idle": "2022-07-13T09:39:08.114558Z",
     "shell.execute_reply": "2022-07-13T09:39:08.113490Z"
    },
    "origin_pos": 74,
    "tab": [
     "mxnet"
    ]
   },
   "outputs": [
    {
     "data": {
      "text/plain": [
       "(array([1.5, 2.5, 3.5]), array([1.5, 2.5, 3.5]))"
      ]
     },
     "execution_count": 19,
     "metadata": {},
     "output_type": "execute_result"
    }
   ],
   "source": [
    "A.mean(axis=0), A.sum(axis=0) / A.shape[0]"
   ]
  },
  {
   "cell_type": "markdown",
   "id": "e6bbe14c",
   "metadata": {
    "origin_pos": 77
   },
   "source": [
    "## Non-Reduction Sum\n",
    ":label:`subsec_lin-alg-non-reduction`\n",
    "\n",
    "Sometimes it can be useful to [**keep the number of axes unchanged**]\n",
    "when invoking the function for calculating the sum or mean. \n",
    "This matters when we want to use the broadcast mechanism.\n"
   ]
  },
  {
   "cell_type": "code",
   "execution_count": 20,
   "id": "b54527d0",
   "metadata": {
    "execution": {
     "iopub.execute_input": "2022-07-13T09:39:08.118884Z",
     "iopub.status.busy": "2022-07-13T09:39:08.118596Z",
     "iopub.status.idle": "2022-07-13T09:39:08.126264Z",
     "shell.execute_reply": "2022-07-13T09:39:08.125148Z"
    },
    "origin_pos": 78,
    "tab": [
     "mxnet"
    ]
   },
   "outputs": [
    {
     "data": {
      "text/plain": [
       "(array([[ 3.],\n",
       "        [12.]]),\n",
       " (2, 1))"
      ]
     },
     "execution_count": 20,
     "metadata": {},
     "output_type": "execute_result"
    }
   ],
   "source": [
    "sum_A = A.sum(axis=1, keepdims=True)\n",
    "sum_A, sum_A.shape"
   ]
  },
  {
   "cell_type": "markdown",
   "id": "97bc720d",
   "metadata": {
    "origin_pos": 81
   },
   "source": [
    "For instance, since `sum_A` keeps its two axes after summing each row,\n",
    "we can (**divide `A` by `sum_A` with broadcasting**) \n",
    "to create a matrix where each row sums up to $1$.\n"
   ]
  },
  {
   "cell_type": "code",
   "execution_count": 21,
   "id": "9239a10f",
   "metadata": {
    "execution": {
     "iopub.execute_input": "2022-07-13T09:39:08.130253Z",
     "iopub.status.busy": "2022-07-13T09:39:08.129691Z",
     "iopub.status.idle": "2022-07-13T09:39:08.136249Z",
     "shell.execute_reply": "2022-07-13T09:39:08.135270Z"
    },
    "origin_pos": 82,
    "tab": [
     "mxnet"
    ]
   },
   "outputs": [
    {
     "data": {
      "text/plain": [
       "array([[0.        , 0.33333334, 0.6666667 ],\n",
       "       [0.25      , 0.33333334, 0.41666666]])"
      ]
     },
     "execution_count": 21,
     "metadata": {},
     "output_type": "execute_result"
    }
   ],
   "source": [
    "A / sum_A"
   ]
  },
  {
   "cell_type": "markdown",
   "id": "91528323",
   "metadata": {
    "origin_pos": 85
   },
   "source": [
    "If we want to calculate [**the cumulative sum of elements of `A` along some axis**],\n",
    "say `axis=0` (row by row), we can call the `cumsum` function.\n",
    "By design, this function does not reduce the input tensor along any axis.\n"
   ]
  },
  {
   "cell_type": "code",
   "execution_count": 22,
   "id": "2ca1c4d8",
   "metadata": {
    "execution": {
     "iopub.execute_input": "2022-07-13T09:39:08.140008Z",
     "iopub.status.busy": "2022-07-13T09:39:08.139559Z",
     "iopub.status.idle": "2022-07-13T09:39:08.147960Z",
     "shell.execute_reply": "2022-07-13T09:39:08.146888Z"
    },
    "origin_pos": 86,
    "tab": [
     "mxnet"
    ]
   },
   "outputs": [
    {
     "data": {
      "text/plain": [
       "array([[0., 1., 2.],\n",
       "       [3., 5., 7.]])"
      ]
     },
     "execution_count": 22,
     "metadata": {},
     "output_type": "execute_result"
    }
   ],
   "source": [
    "A.cumsum(axis=0)"
   ]
  },
  {
   "cell_type": "markdown",
   "id": "1c82c33a",
   "metadata": {
    "origin_pos": 89
   },
   "source": [
    "## Dot Products\n",
    "\n",
    "So far, we have only performed elementwise operations, sums, and averages. \n",
    "And if this was all we could do, linear algebra \n",
    "would not deserve its own section.\n",
    "Fortunately, this is where things get more interesting.\n",
    "One of the most fundamental operations is the dot product.\n",
    "Given two vectors $\\mathbf{x}, \\mathbf{y} \\in \\mathbb{R}^d$,\n",
    "their *dot product* $\\mathbf{x}^\\top \\mathbf{y}$ (or $\\langle \\mathbf{x}, \\mathbf{y}  \\rangle$) \n",
    "is a sum over the products of the elements at the same position: \n",
    "$\\mathbf{x}^\\top \\mathbf{y} = \\sum_{i=1}^{d} x_i y_i$.\n",
    "\n",
    "[~~The *dot product* of two vectors is a sum over the products of the elements at the same position~~]\n"
   ]
  },
  {
   "cell_type": "code",
   "execution_count": 23,
   "id": "f28cecc8",
   "metadata": {
    "execution": {
     "iopub.execute_input": "2022-07-13T09:39:08.153238Z",
     "iopub.status.busy": "2022-07-13T09:39:08.152597Z",
     "iopub.status.idle": "2022-07-13T09:39:08.160175Z",
     "shell.execute_reply": "2022-07-13T09:39:08.159180Z"
    },
    "origin_pos": 90,
    "tab": [
     "mxnet"
    ]
   },
   "outputs": [
    {
     "data": {
      "text/plain": [
       "(array([0., 1., 2.]), array([1., 1., 1.]), array(3.))"
      ]
     },
     "execution_count": 23,
     "metadata": {},
     "output_type": "execute_result"
    }
   ],
   "source": [
    "y = np.ones(3)\n",
    "x, y, np.dot(x, y)"
   ]
  },
  {
   "cell_type": "markdown",
   "id": "80b79fcc",
   "metadata": {
    "origin_pos": 93
   },
   "source": [
    "Equivalently, (**we can calculate the dot product of two vectors \n",
    "by performing an elementwise multiplication followed by a sum:**)\n"
   ]
  },
  {
   "cell_type": "code",
   "execution_count": 24,
   "id": "4f6df544",
   "metadata": {
    "execution": {
     "iopub.execute_input": "2022-07-13T09:39:08.165019Z",
     "iopub.status.busy": "2022-07-13T09:39:08.164319Z",
     "iopub.status.idle": "2022-07-13T09:39:08.171408Z",
     "shell.execute_reply": "2022-07-13T09:39:08.170182Z"
    },
    "origin_pos": 94,
    "tab": [
     "mxnet"
    ]
   },
   "outputs": [
    {
     "data": {
      "text/plain": [
       "array(3.)"
      ]
     },
     "execution_count": 24,
     "metadata": {},
     "output_type": "execute_result"
    }
   ],
   "source": [
    "np.sum(x * y)"
   ]
  },
  {
   "cell_type": "markdown",
   "id": "ff4ce624",
   "metadata": {
    "origin_pos": 97
   },
   "source": [
    "Dot products are useful in a wide range of contexts.\n",
    "For example, given some set of values,\n",
    "denoted by a vector $\\mathbf{x}  \\in \\mathbb{R}^n$\n",
    "and a set of weights denoted by $\\mathbf{w} \\in \\mathbb{R}^n$,\n",
    "the weighted sum of the values in $\\mathbf{x}$\n",
    "according to the weights $\\mathbf{w}$\n",
    "could be expressed as the dot product $\\mathbf{x}^\\top \\mathbf{w}$.\n",
    "When the weights are non-negative\n",
    "and sum to one, i.e., $\\left(\\sum_{i=1}^{n} {w_i} = 1\\right)$,\n",
    "the dot product expresses a *weighted average*.\n",
    "After normalizing two vectors to have unit length,\n",
    "the dot products express the cosine of the angle between them.\n",
    "Later in this section, we will formally introduce this notion of *length*.\n",
    "\n",
    "\n",
    "## Matrix-Vector Products\n",
    "\n",
    "Now that we know how to calculate dot products,\n",
    "we can begin to understand the *product*\n",
    "between an $m \\times n$ matrix $\\mathbf{A}$ \n",
    "and an $n$-dimensional vector $\\mathbf{x}$.\n",
    "To start off, we visualize our matrix\n",
    "in terms of its row vectors\n",
    "\n",
    "$$\\mathbf{A}=\n",
    "\\begin{bmatrix}\n",
    "\\mathbf{a}^\\top_{1} \\\\\n",
    "\\mathbf{a}^\\top_{2} \\\\\n",
    "\\vdots \\\\\n",
    "\\mathbf{a}^\\top_m \\\\\n",
    "\\end{bmatrix},$$\n",
    "\n",
    "where each $\\mathbf{a}^\\top_{i} \\in \\mathbb{R}^n$\n",
    "is a row vector representing the $i^\\mathrm{th}$ row \n",
    "of the matrix $\\mathbf{A}$.\n",
    "\n",
    "[**The matrix-vector product $\\mathbf{A}\\mathbf{x}$\n",
    "is simply a column vector of length $m$,\n",
    "whose $i^\\mathrm{th}$ element is the dot product \n",
    "$\\mathbf{a}^\\top_i \\mathbf{x}$:**]\n",
    "\n",
    "$$\n",
    "\\mathbf{A}\\mathbf{x}\n",
    "= \\begin{bmatrix}\n",
    "\\mathbf{a}^\\top_{1} \\\\\n",
    "\\mathbf{a}^\\top_{2} \\\\\n",
    "\\vdots \\\\\n",
    "\\mathbf{a}^\\top_m \\\\\n",
    "\\end{bmatrix}\\mathbf{x}\n",
    "= \\begin{bmatrix}\n",
    " \\mathbf{a}^\\top_{1} \\mathbf{x}  \\\\\n",
    " \\mathbf{a}^\\top_{2} \\mathbf{x} \\\\\n",
    "\\vdots\\\\\n",
    " \\mathbf{a}^\\top_{m} \\mathbf{x}\\\\\n",
    "\\end{bmatrix}.\n",
    "$$\n",
    "\n",
    "We can think of multiplication with a matrix\n",
    "$\\mathbf{A}\\in \\mathbb{R}^{m \\times n}$\n",
    "as a transformation that projects vectors\n",
    "from $\\mathbb{R}^{n}$ to $\\mathbb{R}^{m}$.\n",
    "These transformations are remarkably useful.\n",
    "For example, we can represent rotations\n",
    "as multiplications by certain square matrices.\n",
    "Matrix-vector products also describe \n",
    "the key calculation involved in computing\n",
    "the outputs of each layer in a neural network\n",
    "given the outputs from the previous layer.\n"
   ]
  },
  {
   "cell_type": "markdown",
   "id": "ebba5233",
   "metadata": {
    "origin_pos": 98,
    "tab": [
     "mxnet"
    ]
   },
   "source": [
    "To express a matrix-vector product in code,\n",
    "we use the same `dot` function.\n",
    "The operation is inferred \n",
    "based on the type of the arguments.\n",
    "Note that the column dimension of `A` \n",
    "(its length along axis 1)\n",
    "must be the same as the dimension of `x` (its length).\n"
   ]
  },
  {
   "cell_type": "code",
   "execution_count": 25,
   "id": "e0c09ee9",
   "metadata": {
    "execution": {
     "iopub.execute_input": "2022-07-13T09:39:08.176642Z",
     "iopub.status.busy": "2022-07-13T09:39:08.176009Z",
     "iopub.status.idle": "2022-07-13T09:39:08.183774Z",
     "shell.execute_reply": "2022-07-13T09:39:08.182543Z"
    },
    "origin_pos": 101,
    "tab": [
     "mxnet"
    ]
   },
   "outputs": [
    {
     "data": {
      "text/plain": [
       "((2, 3), (3,), array([ 5., 14.]))"
      ]
     },
     "execution_count": 25,
     "metadata": {},
     "output_type": "execute_result"
    }
   ],
   "source": [
    "A.shape, x.shape, np.dot(A, x)"
   ]
  },
  {
   "cell_type": "markdown",
   "id": "a3d1e666",
   "metadata": {
    "origin_pos": 104
   },
   "source": [
    "## Matrix-Matrix Multiplication\n",
    "\n",
    "If you've gotten the hang of dot products and matrix-vector products,\n",
    "then *matrix-matrix multiplication* should be straightforward.\n",
    "\n",
    "Say that we have two matrices \n",
    "$\\mathbf{A} \\in \\mathbb{R}^{n \\times k}$ \n",
    "and $\\mathbf{B} \\in \\mathbb{R}^{k \\times m}$:\n",
    "\n",
    "$$\\mathbf{A}=\\begin{bmatrix}\n",
    " a_{11} & a_{12} & \\cdots & a_{1k} \\\\\n",
    " a_{21} & a_{22} & \\cdots & a_{2k} \\\\\n",
    "\\vdots & \\vdots & \\ddots & \\vdots \\\\\n",
    " a_{n1} & a_{n2} & \\cdots & a_{nk} \\\\\n",
    "\\end{bmatrix},\\quad\n",
    "\\mathbf{B}=\\begin{bmatrix}\n",
    " b_{11} & b_{12} & \\cdots & b_{1m} \\\\\n",
    " b_{21} & b_{22} & \\cdots & b_{2m} \\\\\n",
    "\\vdots & \\vdots & \\ddots & \\vdots \\\\\n",
    " b_{k1} & b_{k2} & \\cdots & b_{km} \\\\\n",
    "\\end{bmatrix}.$$\n",
    "\n",
    "\n",
    "Let $\\mathbf{a}^\\top_{i} \\in \\mathbb{R}^k$ denote \n",
    "the row vector representing the $i^\\mathrm{th}$ row \n",
    "of the matrix $\\mathbf{A}$\n",
    "and let $\\mathbf{b}_{j} \\in \\mathbb{R}^k$ denote \n",
    "the column vector from the $j^\\mathrm{th}$ column \n",
    "of the matrix $\\mathbf{B}$:\n",
    "\n",
    "$$\\mathbf{A}=\n",
    "\\begin{bmatrix}\n",
    "\\mathbf{a}^\\top_{1} \\\\\n",
    "\\mathbf{a}^\\top_{2} \\\\\n",
    "\\vdots \\\\\n",
    "\\mathbf{a}^\\top_n \\\\\n",
    "\\end{bmatrix},\n",
    "\\quad \\mathbf{B}=\\begin{bmatrix}\n",
    " \\mathbf{b}_{1} & \\mathbf{b}_{2} & \\cdots & \\mathbf{b}_{m} \\\\\n",
    "\\end{bmatrix}.\n",
    "$$\n",
    "\n",
    "\n",
    "To form the matrix product $\\mathbf{C} \\in \\mathbb{R}^{n \\times m}$,\n",
    "we simply compute each element $c_{ij}$\n",
    "as the dot product between \n",
    "the $i^{\\mathrm{th}}$ row of $\\mathbf{A}$\n",
    "and the $j^{\\mathrm{th}}$ row of $\\mathbf{B}$,\n",
    "i.e., $\\mathbf{a}^\\top_i \\mathbf{b}_j$:\n",
    "\n",
    "$$\\mathbf{C} = \\mathbf{AB} = \\begin{bmatrix}\n",
    "\\mathbf{a}^\\top_{1} \\\\\n",
    "\\mathbf{a}^\\top_{2} \\\\\n",
    "\\vdots \\\\\n",
    "\\mathbf{a}^\\top_n \\\\\n",
    "\\end{bmatrix}\n",
    "\\begin{bmatrix}\n",
    " \\mathbf{b}_{1} & \\mathbf{b}_{2} & \\cdots & \\mathbf{b}_{m} \\\\\n",
    "\\end{bmatrix}\n",
    "= \\begin{bmatrix}\n",
    "\\mathbf{a}^\\top_{1} \\mathbf{b}_1 & \\mathbf{a}^\\top_{1}\\mathbf{b}_2& \\cdots & \\mathbf{a}^\\top_{1} \\mathbf{b}_m \\\\\n",
    " \\mathbf{a}^\\top_{2}\\mathbf{b}_1 & \\mathbf{a}^\\top_{2} \\mathbf{b}_2 & \\cdots & \\mathbf{a}^\\top_{2} \\mathbf{b}_m \\\\\n",
    " \\vdots & \\vdots & \\ddots &\\vdots\\\\\n",
    "\\mathbf{a}^\\top_{n} \\mathbf{b}_1 & \\mathbf{a}^\\top_{n}\\mathbf{b}_2& \\cdots& \\mathbf{a}^\\top_{n} \\mathbf{b}_m\n",
    "\\end{bmatrix}.\n",
    "$$\n",
    "\n",
    "[**We can think of the matrix-matrix multiplication $\\mathbf{AB}$\n",
    "as performing $m$ matrix-vector products \n",
    "or $m \\times n$ dot products \n",
    "and stitching the results together \n",
    "to form an $n \\times m$ matrix.**]\n",
    "In the following snippet, \n",
    "we perform matrix multiplication on `A` and `B`.\n",
    "Here, `A` is a matrix with 2 rows and 3 columns,\n",
    "and `B` is a matrix with 3 rows and 4 columns.\n",
    "After multiplication, we obtain a matrix with 2 rows and 4 columns.\n"
   ]
  },
  {
   "cell_type": "code",
   "execution_count": 26,
   "id": "92f025ee",
   "metadata": {
    "execution": {
     "iopub.execute_input": "2022-07-13T09:39:08.188733Z",
     "iopub.status.busy": "2022-07-13T09:39:08.188096Z",
     "iopub.status.idle": "2022-07-13T09:39:08.195038Z",
     "shell.execute_reply": "2022-07-13T09:39:08.194238Z"
    },
    "origin_pos": 105,
    "tab": [
     "mxnet"
    ]
   },
   "outputs": [
    {
     "data": {
      "text/plain": [
       "array([[ 3.,  3.,  3.,  3.],\n",
       "       [12., 12., 12., 12.]])"
      ]
     },
     "execution_count": 26,
     "metadata": {},
     "output_type": "execute_result"
    }
   ],
   "source": [
    "B = np.ones(shape=(3, 4))\n",
    "np.dot(A, B)"
   ]
  },
  {
   "cell_type": "markdown",
   "id": "1dcb798e",
   "metadata": {
    "origin_pos": 108
   },
   "source": [
    "The term *matrix-matrix multiplication* is \n",
    "often simplified to *matrix multiplication*,\n",
    "and should not be confused with the Hadamard product.\n",
    "\n",
    "\n",
    "## Norms\n",
    ":label:`subsec_lin-algebra-norms`\n",
    "\n",
    "Some of the most useful operators in linear algebra are *norms*.\n",
    "Informally, the norm of a vector tells us how *big* it is. \n",
    "For instance, the $\\\\ell_2$ norm measures\n",
    "the (Euclidean) length of a vector.\n",
    "Here, we are employing a notion of *size* that concerns the magnitude a vector's components\n",
    "(not its dimensionality). \n",
    "\n",
    "A norm is a function $\\| \\cdot \\|$ that maps a vector\n",
    "to a scalar and satisfies the following three properties:\n",
    "\n",
    "1. Given any vector $\\mathbf{x}$, if we scale (all elements of) the vector \n",
    "   by a scalar $\\alpha \\in \\mathbb{R}$, its norm scales accordingly:\n",
    "   $$\\|\\alpha \\mathbf{x}\\| = |\\alpha| \\|\\mathbf{x}\\|.$$\n",
    "2. For any vectors $\\mathbf{x}$ and $\\mathbf{y}$:\n",
    "   norms satisfy the triangle inequality:\n",
    "   $$\\|\\mathbf{x} + \\mathbf{y}\\| \\leq \\|\\mathbf{x}\\| + \\|\\mathbf{y}\\|.$$\n",
    "3. The norm of a vector is nonnegative and it only vanishes if the vector is zero:\n",
    "   $$\\|\\mathbf{x}\\| > 0 \\text{ for all } \\mathbf{x} \\neq 0.$$\n",
    "\n",
    "Many functions are valid norms and different norms \n",
    "encode different notions of size. \n",
    "The Euclidean norm that we all learned in elementary school geometry\n",
    "when calculating the hypotenuse of right triangle\n",
    "is the square root of the sum of squares of a vector's elements.\n",
    "Formally, this is called [**the $\\ell_2$ *norm***] and expressed as\n",
    "\n",
    "(**$$\\|\\mathbf{x}\\|_2 = \\sqrt{\\sum_{i=1}^n x_i^2}.$$**)\n",
    "\n",
    "The method `norm` calculates the $\\ell_2$ norm.\n"
   ]
  },
  {
   "cell_type": "code",
   "execution_count": 27,
   "id": "98a527e4",
   "metadata": {
    "execution": {
     "iopub.execute_input": "2022-07-13T09:39:08.199712Z",
     "iopub.status.busy": "2022-07-13T09:39:08.199147Z",
     "iopub.status.idle": "2022-07-13T09:39:08.205807Z",
     "shell.execute_reply": "2022-07-13T09:39:08.205000Z"
    },
    "origin_pos": 109,
    "tab": [
     "mxnet"
    ]
   },
   "outputs": [
    {
     "data": {
      "text/plain": [
       "array(5.)"
      ]
     },
     "execution_count": 27,
     "metadata": {},
     "output_type": "execute_result"
    }
   ],
   "source": [
    "u = np.array([3, -4])\n",
    "np.linalg.norm(u)"
   ]
  },
  {
   "cell_type": "markdown",
   "id": "839e659d",
   "metadata": {
    "origin_pos": 112
   },
   "source": [
    "[**The $\\ell_1$ norm**] is also popular \n",
    "and the associated metric is called the Manhattan distance. \n",
    "By definition, the $\\ell_1$ norm sums \n",
    "the absolute values of a vector's elements:\n",
    "\n",
    "(**$$\\|\\mathbf{x}\\|_1 = \\sum_{i=1}^n \\left|x_i \\right|.$$**)\n",
    "\n",
    "Compared to the $\\ell_2$ norm, it is less sensitive to outliers.\n",
    "To compute the $\\ell_1$ norm, \n",
    "we compose the absolute value\n",
    "with the sum operation.\n"
   ]
  },
  {
   "cell_type": "code",
   "execution_count": 28,
   "id": "035c1a88",
   "metadata": {
    "execution": {
     "iopub.execute_input": "2022-07-13T09:39:08.210770Z",
     "iopub.status.busy": "2022-07-13T09:39:08.210182Z",
     "iopub.status.idle": "2022-07-13T09:39:08.216174Z",
     "shell.execute_reply": "2022-07-13T09:39:08.215347Z"
    },
    "origin_pos": 113,
    "tab": [
     "mxnet"
    ]
   },
   "outputs": [
    {
     "data": {
      "text/plain": [
       "array(7.)"
      ]
     },
     "execution_count": 28,
     "metadata": {},
     "output_type": "execute_result"
    }
   ],
   "source": [
    "np.abs(u).sum()"
   ]
  },
  {
   "cell_type": "markdown",
   "id": "b772b8e6",
   "metadata": {
    "origin_pos": 116
   },
   "source": [
    "Both the $\\ell_2$ and $\\ell_1$ norms are special cases\n",
    "of the more general $\\ell_p$ *norms*:\n",
    "\n",
    "$$\\|\\mathbf{x}\\|_p = \\left(\\sum_{i=1}^n \\left|x_i \\right|^p \\right)^{1/p}.$$\n",
    "\n",
    "In the case of matrices, matters are more complicated. \n",
    "After all, matrices can be viewed both as collections of individual entries \n",
    "*and* as objects that operate on vectors and transform them into other vectors. \n",
    "For instance, we can ask by how much longer \n",
    "the matrix-vector product $\\mathbf{X} \\mathbf{v}$ \n",
    "could be relative to $\\mathbf{v}$. \n",
    "This line of thought leads to a norm called the *spectral* norm. \n",
    "For now, we introduce [**the *Frobenius norm*, \n",
    "which is much easier to compute**] and defined as\n",
    "the square root of the sum of the squares \n",
    "of a matrix's elements:\n",
    "\n",
    "[**$$\\|\\mathbf{X}\\|_F = \\sqrt{\\sum_{i=1}^m \\sum_{j=1}^n x_{ij}^2}.$$**]\n",
    "\n",
    "The Frobenius norm behaves as if it were \n",
    "an $\\ell_2$ norm of a matrix-shaped vector.\n",
    "Invoking the following function will calculate \n",
    "the Frobenius norm of a matrix.\n"
   ]
  },
  {
   "cell_type": "code",
   "execution_count": 29,
   "id": "91bd6689",
   "metadata": {
    "execution": {
     "iopub.execute_input": "2022-07-13T09:39:08.220916Z",
     "iopub.status.busy": "2022-07-13T09:39:08.220373Z",
     "iopub.status.idle": "2022-07-13T09:39:08.226770Z",
     "shell.execute_reply": "2022-07-13T09:39:08.225971Z"
    },
    "origin_pos": 117,
    "tab": [
     "mxnet"
    ]
   },
   "outputs": [
    {
     "data": {
      "text/plain": [
       "array(6.)"
      ]
     },
     "execution_count": 29,
     "metadata": {},
     "output_type": "execute_result"
    }
   ],
   "source": [
    "np.linalg.norm(np.ones((4, 9)))"
   ]
  },
  {
   "cell_type": "markdown",
   "id": "ad3beb0a",
   "metadata": {
    "origin_pos": 120
   },
   "source": [
    "While we do not want to get too far ahead of ourselves,\n",
    "we can plant some intuition already about why these concepts are useful.\n",
    "In deep learning, we are often trying to solve optimization problems:\n",
    "*maximize* the probability assigned to observed data;\n",
    "*maximize* the revenue associated with a recommender model; \n",
    "*minimize* the distance between predictions\n",
    "and the ground-truth observations; \n",
    "*minimize* the distance between representations \n",
    "of photos of the same person \n",
    "while *maximizing* the distance between representations \n",
    "of photos of different people. \n",
    "These distances, which constitute \n",
    "the objectives of deep learning algorithms, \n",
    "are often expressed as norms. \n",
    "\n",
    "\n",
    "## Discussion\n",
    "\n",
    "In this section, we reviewed all the linear algebra\n",
    "that you will need to understand\n",
    "a remarkable chunk of modern deep learning.\n",
    "There is a lot more to linear algebra\n",
    "and much of it is useful for machine learning.\n",
    "For example, matrices can be decomposed into factors,\n",
    "and these decompositions can reveal\n",
    "low-dimensional structure in real-world datasets.\n",
    "There are entire subfields of machine learning\n",
    "that focus on using matrix decompositions\n",
    "and their generalizations to high-order tensors\n",
    "to discover structure in datasets \n",
    "and solve prediction problems.\n",
    "But this book focuses on deep learning.\n",
    "And we believe you will be more inclined \n",
    "to learn more mathematics\n",
    "once you have gotten your hands dirty\n",
    "applying machine learning to real datasets.\n",
    "So while we reserve the right \n",
    "to introduce more mathematics later on,\n",
    "we wrap up this section here.\n",
    "\n",
    "If you are eager to learn more linear algebra,\n",
    "there are many excellent books and online resources.\n",
    "For a more advanced crash course, consider checking out\n",
    ":cite:`Strang.1993,Kolter.2008,Petersen.Pedersen.ea.2008`.\n",
    "\n",
    "To recap:\n",
    "\n",
    "* Scalars, vectors, matrices, and tensors are \n",
    "  the basic mathematical objects used in linear algebra \n",
    "  and have zero, one, two, and an arbitrary number of axes, respectively.\n",
    "* Tensors can be sliced or reduced along specified axes \n",
    "  via indexing, or operations such as `sum` and `mean`, respectively.\n",
    "* Elementwise products are called Hadamard products. \n",
    "  By contrast, dot products, matrix-vector products, and matrix-matrix products \n",
    "  are not elementwise operations and in general return objects \n",
    "  that have different shapes than the operands. \n",
    "* Compared to Hadamard products, matrix-matrix products \n",
    "  take considerably longer to compute (cubic rather than quadratic time).\n",
    "* Norms capture various notions of the magnitude of a vector, \n",
    "  and are commonly applied to the difference of two vectors \n",
    "  to measure their distance.\n",
    " * Common vector norms include the $\\ell_1$ and $\\ell_2$ norms, \n",
    "   and common matrix norms include the *spectral* and *Frobenius* norms.\n",
    "\n",
    "\n",
    "## Exercises\n",
    "\n",
    "1. Prove that the transpose of the transpose of a matrix is the matrix itself: $(\\mathbf{A}^\\top)^\\top = \\mathbf{A}$.\n",
    "1. Given two matrices $\\mathbf{A}$ and $\\mathbf{B}$, show that sum and transposition commute: $\\mathbf{A}^\\top + \\mathbf{B}^\\top = (\\mathbf{A} + \\mathbf{B})^\\top$.\n",
    "1. Given any square matrix $\\mathbf{A}$, is $\\mathbf{A} + \\mathbf{A}^\\top$ always symmetric? Can you prove the result by using only the result of the previous two exercises?\n",
    "1. We defined the tensor `X` of shape (2, 3, 4) in this section. What is the output of `len(X)`? Write your answer without implementing any code, then check your answer using code. \n",
    "1. For a tensor `X` of arbitrary shape, does `len(X)` always correspond to the length of a certain axis of `X`? What is that axis?\n",
    "1. Run `A / A.sum(axis=1)` and see what happens. Can you analyze the reason?\n",
    "1. When traveling between two points in downtown Manhattan, what is the distance that you need to cover in terms of the coordinates, i.e., in terms of avenues and streets? Can you travel diagonally?\n",
    "1. Consider a tensor with shape (2, 3, 4). What are the shapes of the summation outputs along axis 0, 1, and 2?\n",
    "1. Feed a tensor with 3 or more axes to the `linalg.norm` function and observe its output. What does this function compute for tensors of arbitrary shape?\n",
    "1. Define three large matrices, say $\\mathbf{A} \\in \\mathbb{R}^{2^{10} \\times 2^{16}}$, $\\mathbf{B} \\in \\mathbb{R}^{2^{16} \\times 2^{5}}$ and $\\mathbf{C} \\in \\mathbb{R}^{2^{5} \\times 2^{14}}$, for instance initialized with Gaussian random variables. You want to compute the product $\\mathbf{A} \\mathbf{B} \\mathbf{C}$. Is there any difference in memory footprint and speed, depending on whether you compute $(\\mathbf{A} \\mathbf{B}) \\mathbf{C}$ or $\\mathbf{A} (\\mathbf{B} \\mathbf{C})$. Why?\n",
    "1. Define three large matrices, say $\\mathbf{A} \\in \\mathbb{R}^{2^{10} \\times 2^{16}}$, $\\mathbf{B} \\in \\mathbb{R}^{2^{16} \\times 2^{5}}$ and $\\mathbf{C} \\in \\mathbb{R}^{2^{5} \\times 2^{16}}$. Is there any difference in speed depending on whether you compute $\\mathbf{A} \\mathbf{B}$ or $\\mathbf{A} \\mathbf{C}^\\top$? Why? What changes if you initialize $\\mathbf{C} = \\mathbf{B}^\\top$ without cloning memory? Why?\n",
    "1. Define three matrices, say $\\mathbf{A}, \\mathbf{B}, \\mathbf{C} \\in \\mathbb{R}^{100 \\times 200}$. Constitute a tensor with 3 axes by stacking $[\\mathbf{A}, \\mathbf{B}, \\mathbf{C}]$. What is the dimensionality? Slice out the second coordinate of the third axis to recover $\\mathbf{B}$. Check that your answer is correct.\n"
   ]
  },
  {
   "cell_type": "markdown",
   "id": "2231df3e",
   "metadata": {
    "origin_pos": 121,
    "tab": [
     "mxnet"
    ]
   },
   "source": [
    "[Discussions](https://discuss.d2l.ai/t/30)\n"
   ]
  }
 ],
 "metadata": {
  "kernelspec": {
   "display_name": "conda_mxnet_p36",
   "name": "conda_mxnet_p36"
  },
  "language_info": {
   "name": "python"
  }
 },
 "nbformat": 4,
 "nbformat_minor": 5
}