{
 "cells": [
  {
   "cell_type": "markdown",
   "id": "8cee69ab",
   "metadata": {},
   "source": [
    "Installing (updating) the following libraries for your Sagemaker\n",
    "instance."
   ]
  },
  {
   "cell_type": "code",
   "execution_count": null,
   "id": "a2a099ef",
   "metadata": {},
   "outputs": [],
   "source": [
    "!pip install -U mxnet-cu101==1.7.0\n"
   ]
  },
  {
   "cell_type": "markdown",
   "id": "9e547b0f",
   "metadata": {
    "origin_pos": 1
   },
   "source": [
    "# Automatic Differentiation\n",
    ":label:`sec_autograd`\n",
    "\n",
    "Recall from :numref:`sec_calculus` \n",
    "that calculating derivatives is the crucial step\n",
    "in all of the optimization algorithms\n",
    "that we will use to train deep networks.\n",
    "While the calculations are straightforward,\n",
    "working them out by hand can be tedious and error-prone, \n",
    "and this problem only grows\n",
    "as our models become more complex.\n",
    "\n",
    "Fortunately all modern deep learning frameworks\n",
    "take this work off of our plates\n",
    "by offering *automatic differentiation*\n",
    "(often shortened to *autograd*). \n",
    "As we pass data through each successive function,\n",
    "the framework builds a *computational graph* \n",
    "that tracks how each value depends on others.\n",
    "To calculate derivatives, \n",
    "automatic differentiation \n",
    "works backwards through this graph\n",
    "applying the chain rule. \n",
    "The computational algorithm for applying the chain rule\n",
    "in this fashion is called *backpropagation*.\n",
    "\n",
    "While autograd libraries have become\n",
    "a hot concern over the past decade,\n",
    "they have a long history. \n",
    "In fact the earliest references to autograd\n",
    "date back over half of a century :cite:`Wengert.1964`.\n",
    "The core ideas behind modern backpropagation\n",
    "date to a PhD thesis from 1980 :cite:`Speelpenning.1980`\n",
    "and were further developed in the late 1980s :cite:`Griewank.1989`.\n",
    "While backpropagation has become the default method \n",
    "for computing gradients, it is not the only option. \n",
    "For instance, the Julia programming language employs \n",
    "forward propagation :cite:`Revels.Lubin.Papamarkou.2016`. \n",
    "Before exploring methods, \n",
    "let's first master the autograd package.\n"
   ]
  },
  {
   "cell_type": "code",
   "execution_count": 1,
   "id": "3d61533a",
   "metadata": {
    "execution": {
     "iopub.execute_input": "2023-02-10T09:38:28.889827Z",
     "iopub.status.busy": "2023-02-10T09:38:28.889517Z",
     "iopub.status.idle": "2023-02-10T09:38:35.422248Z",
     "shell.execute_reply": "2023-02-10T09:38:35.415920Z"
    },
    "origin_pos": 2,
    "tab": [
     "mxnet"
    ]
   },
   "outputs": [],
   "source": [
    "from mxnet import autograd, np, npx\n",
    "\n",
    "npx.set_np()"
   ]
  },
  {
   "cell_type": "markdown",
   "id": "ea241495",
   "metadata": {
    "origin_pos": 6
   },
   "source": [
    "## A Simple Function\n",
    "\n",
    "Let's assume that we are interested\n",
    "in (**differentiating the function\n",
    "$y = 2\\mathbf{x}^{\\top}\\mathbf{x}$\n",
    "with respect to the column vector $\\mathbf{x}$.**)\n",
    "To start, we assign `x` an initial value.\n"
   ]
  },
  {
   "cell_type": "code",
   "execution_count": 2,
   "id": "84fc7777",
   "metadata": {
    "attributes": {
     "classes": [],
     "id": "",
     "n": "1"
    },
    "execution": {
     "iopub.execute_input": "2023-02-10T09:38:35.429856Z",
     "iopub.status.busy": "2023-02-10T09:38:35.429206Z",
     "iopub.status.idle": "2023-02-10T09:38:35.491357Z",
     "shell.execute_reply": "2023-02-10T09:38:35.490450Z"
    },
    "origin_pos": 7,
    "tab": [
     "mxnet"
    ]
   },
   "outputs": [
    {
     "data": {
      "text/plain": [
       "array([0., 1., 2., 3.])"
      ]
     },
     "execution_count": 2,
     "metadata": {},
     "output_type": "execute_result"
    }
   ],
   "source": [
    "x = np.arange(4.0)\n",
    "x"
   ]
  },
  {
   "cell_type": "markdown",
   "id": "31ae04c9",
   "metadata": {
    "origin_pos": 11,
    "tab": [
     "mxnet"
    ]
   },
   "source": [
    "[**Before we calculate the gradient\n",
    "of $y$ with respect to $\\mathbf{x}$,\n",
    "we need a place to store it.**]\n",
    "In general, we avoid allocating new memory\n",
    "every time we take a derivative \n",
    "because deep learning requires \n",
    "successively computing derivatives\n",
    "with respect to the same parameters\n",
    "thousands or millions of times,\n",
    "and we might risk running out of memory.\n",
    "Note that the gradient of a scalar-valued function\n",
    "with respect to a vector $\\mathbf{x}$\n",
    "is vector-valued and has \n",
    "the same shape as $\\mathbf{x}$.\n"
   ]
  },
  {
   "cell_type": "code",
   "execution_count": 3,
   "id": "660434c9",
   "metadata": {
    "attributes": {
     "classes": [],
     "id": "",
     "n": "8"
    },
    "execution": {
     "iopub.execute_input": "2023-02-10T09:38:35.496230Z",
     "iopub.status.busy": "2023-02-10T09:38:35.494639Z",
     "iopub.status.idle": "2023-02-10T09:38:35.504782Z",
     "shell.execute_reply": "2023-02-10T09:38:35.503952Z"
    },
    "origin_pos": 12,
    "tab": [
     "mxnet"
    ]
   },
   "outputs": [
    {
     "data": {
      "text/plain": [
       "array([0., 0., 0., 0.])"
      ]
     },
     "execution_count": 3,
     "metadata": {},
     "output_type": "execute_result"
    }
   ],
   "source": [
    "# We allocate memory for a tensor's gradient by invoking `attach_grad`\n",
    "x.attach_grad()\n",
    "# After we calculate a gradient taken with respect to `x`, we will be able to\n",
    "# access it via the `grad` attribute, whose values are initialized with 0s\n",
    "x.grad"
   ]
  },
  {
   "cell_type": "markdown",
   "id": "1d275ce6",
   "metadata": {
    "origin_pos": 15
   },
   "source": [
    "(**We now calculate our function of `x` and assign the result to `y`.**)\n"
   ]
  },
  {
   "cell_type": "code",
   "execution_count": 4,
   "id": "77043fa2",
   "metadata": {
    "attributes": {
     "classes": [],
     "id": "",
     "n": "10"
    },
    "execution": {
     "iopub.execute_input": "2023-02-10T09:38:35.508457Z",
     "iopub.status.busy": "2023-02-10T09:38:35.507871Z",
     "iopub.status.idle": "2023-02-10T09:38:35.527048Z",
     "shell.execute_reply": "2023-02-10T09:38:35.526071Z"
    },
    "origin_pos": 16,
    "tab": [
     "mxnet"
    ]
   },
   "outputs": [
    {
     "data": {
      "text/plain": [
       "array(28.)"
      ]
     },
     "execution_count": 4,
     "metadata": {},
     "output_type": "execute_result"
    }
   ],
   "source": [
    "# Our code is inside an `autograd.record` scope to build the computational\n",
    "# graph\n",
    "with autograd.record():\n",
    "    y = 2 * np.dot(x, x)\n",
    "y"
   ]
  },
  {
   "cell_type": "markdown",
   "id": "a0b9d992",
   "metadata": {
    "origin_pos": 20,
    "tab": [
     "mxnet"
    ]
   },
   "source": [
    "[**We can now take the gradient of `y`\n",
    "with respect to `x`**] by calling \n",
    "its `backward` method.\n",
    "Next, we can access the gradient \n",
    "via `x`'s `grad` attribute.\n"
   ]
  },
  {
   "cell_type": "code",
   "execution_count": 5,
   "id": "ce9caa19",
   "metadata": {
    "execution": {
     "iopub.execute_input": "2023-02-10T09:38:35.533101Z",
     "iopub.status.busy": "2023-02-10T09:38:35.530653Z",
     "iopub.status.idle": "2023-02-10T09:38:36.936164Z",
     "shell.execute_reply": "2023-02-10T09:38:36.933474Z"
    },
    "origin_pos": 24,
    "tab": [
     "mxnet"
    ]
   },
   "outputs": [
    {
     "name": "stdout",
     "output_type": "stream",
     "text": [
      "[09:38:36] src/base.cc:49: GPU context requested, but no GPUs found.\n"
     ]
    },
    {
     "data": {
      "text/plain": [
       "array([ 0.,  4.,  8., 12.])"
      ]
     },
     "execution_count": 5,
     "metadata": {},
     "output_type": "execute_result"
    }
   ],
   "source": [
    "y.backward()\n",
    "x.grad"
   ]
  },
  {
   "cell_type": "markdown",
   "id": "45558598",
   "metadata": {
    "origin_pos": 28
   },
   "source": [
    "(**We already know that the gradient of the function $y = 2\\mathbf{x}^{\\top}\\mathbf{x}$\n",
    "with respect to $\\mathbf{x}$ should be $4\\mathbf{x}$.**)\n",
    "We can now verify that the automatic gradient computation\n",
    "and the expected result are identical.\n"
   ]
  },
  {
   "cell_type": "code",
   "execution_count": 6,
   "id": "28762c7a",
   "metadata": {
    "attributes": {
     "classes": [],
     "id": "",
     "n": "13"
    },
    "execution": {
     "iopub.execute_input": "2023-02-10T09:38:36.943634Z",
     "iopub.status.busy": "2023-02-10T09:38:36.942161Z",
     "iopub.status.idle": "2023-02-10T09:38:36.955707Z",
     "shell.execute_reply": "2023-02-10T09:38:36.952871Z"
    },
    "origin_pos": 29,
    "tab": [
     "mxnet"
    ]
   },
   "outputs": [
    {
     "data": {
      "text/plain": [
       "array([ True,  True,  True,  True])"
      ]
     },
     "execution_count": 6,
     "metadata": {},
     "output_type": "execute_result"
    }
   ],
   "source": [
    "x.grad == 4 * x"
   ]
  },
  {
   "cell_type": "markdown",
   "id": "295d1150",
   "metadata": {
    "origin_pos": 33,
    "tab": [
     "mxnet"
    ]
   },
   "source": [
    "[**Now let's calculate \n",
    "another function of `x`\n",
    "and take its gradient.**] \n",
    "Note that MXNet resets the gradient buffer \n",
    "whenever we record a new gradient.\n"
   ]
  },
  {
   "cell_type": "code",
   "execution_count": 7,
   "id": "27bbf507",
   "metadata": {
    "execution": {
     "iopub.execute_input": "2023-02-10T09:38:36.967200Z",
     "iopub.status.busy": "2023-02-10T09:38:36.964391Z",
     "iopub.status.idle": "2023-02-10T09:38:37.002876Z",
     "shell.execute_reply": "2023-02-10T09:38:37.001881Z"
    },
    "origin_pos": 36,
    "tab": [
     "mxnet"
    ]
   },
   "outputs": [
    {
     "data": {
      "text/plain": [
       "array([1., 1., 1., 1.])"
      ]
     },
     "execution_count": 7,
     "metadata": {},
     "output_type": "execute_result"
    }
   ],
   "source": [
    "with autograd.record():\n",
    "    y = x.sum()\n",
    "y.backward()\n",
    "x.grad  # Overwritten by the newly calculated gradient"
   ]
  },
  {
   "cell_type": "markdown",
   "id": "7750fe91",
   "metadata": {
    "origin_pos": 40
   },
   "source": [
    "## Backward for Non-Scalar Variables\n",
    "\n",
    "When `y` is a vector, \n",
    "the most natural interpretation \n",
    "of the derivative of  `y`\n",
    "with respect to a vector `x` \n",
    "is a matrix called the *Jacobian*\n",
    "that contains the partial derivatives\n",
    "of each component of `y` \n",
    "with respect to each component of `x`.\n",
    "Likewise, for higher-order `y` and `x`,\n",
    "the differentiation result could be an even higher-order tensor.\n",
    "\n",
    "While Jacobians do show up in some\n",
    "advanced machine learning techniques,\n",
    "more commonly we want to sum up \n",
    "the gradients of each component of `y`\n",
    "with respect to the full vector `x`,\n",
    "yielding a vector of the same shape as `x`.\n",
    "For example, we often have a vector \n",
    "representing the value of our loss function\n",
    "calculated separately for each example among\n",
    "a *batch* of training examples.\n",
    "Here, we just want to (**sum up the gradients\n",
    "computed individually for each example**).\n"
   ]
  },
  {
   "cell_type": "markdown",
   "id": "d589e923",
   "metadata": {
    "origin_pos": 41,
    "tab": [
     "mxnet"
    ]
   },
   "source": [
    "MXNet handles this problem by reducing all tensors to scalars \n",
    "by summing before computing a gradient. \n",
    "In other words, rather than returning the Jacobian \n",
    "$\\partial_{\\mathbf{x}} \\mathbf{y}$,\n",
    "it returns the gradient of the sum\n",
    "$\\partial_{\\mathbf{x}} \\sum_i y_i$.\n"
   ]
  },
  {
   "cell_type": "code",
   "execution_count": 8,
   "id": "c1461c45",
   "metadata": {
    "execution": {
     "iopub.execute_input": "2023-02-10T09:38:37.007469Z",
     "iopub.status.busy": "2023-02-10T09:38:37.006112Z",
     "iopub.status.idle": "2023-02-10T09:38:37.040526Z",
     "shell.execute_reply": "2023-02-10T09:38:37.039683Z"
    },
    "origin_pos": 44,
    "tab": [
     "mxnet"
    ]
   },
   "outputs": [
    {
     "data": {
      "text/plain": [
       "array([0., 2., 4., 6.])"
      ]
     },
     "execution_count": 8,
     "metadata": {},
     "output_type": "execute_result"
    }
   ],
   "source": [
    "with autograd.record():\n",
    "    y = x * x\n",
    "y.backward()\n",
    "x.grad  # Equals the gradient of y = sum(x * x)"
   ]
  },
  {
   "cell_type": "markdown",
   "id": "24de9e04",
   "metadata": {
    "origin_pos": 48
   },
   "source": [
    "## Detaching Computation\n",
    "\n",
    "Sometimes, we wish to [**move some calculations\n",
    "outside of the recorded computational graph.**]\n",
    "For example, say that we use the input \n",
    "to create some auxiliary intermediate terms \n",
    "for which we do not want to compute a gradient. \n",
    "In this case, we need to *detach* \n",
    "the respective computational graph\n",
    "from the final result. \n",
    "The following toy example makes this clearer: \n",
    "suppose we have `z = x * y` and `y = x * x` \n",
    "but we want to focus on the *direct* influence of `x` on `z` \n",
    "rather than the influence conveyed via `y`. \n",
    "In this case, we can create a new variable `u`\n",
    "that takes the same value as `y` \n",
    "but whose *provenance* (how it was created)\n",
    "has been wiped out.\n",
    "Thus `u` has no ancestors in the graph\n",
    "and gradients do not flow through `u` to `x`.\n",
    "For example, taking the gradient of `z = x * u`\n",
    "will yield the result `x`,\n",
    "(not `3 * x * x` as you might have \n",
    "expected since `z = x * x * x`).\n"
   ]
  },
  {
   "cell_type": "code",
   "execution_count": 9,
   "id": "c81b72a3",
   "metadata": {
    "execution": {
     "iopub.execute_input": "2023-02-10T09:38:37.045520Z",
     "iopub.status.busy": "2023-02-10T09:38:37.044305Z",
     "iopub.status.idle": "2023-02-10T09:38:37.069246Z",
     "shell.execute_reply": "2023-02-10T09:38:37.068387Z"
    },
    "origin_pos": 49,
    "tab": [
     "mxnet"
    ]
   },
   "outputs": [
    {
     "data": {
      "text/plain": [
       "array([ True,  True,  True,  True])"
      ]
     },
     "execution_count": 9,
     "metadata": {},
     "output_type": "execute_result"
    }
   ],
   "source": [
    "with autograd.record():\n",
    "    y = x * x\n",
    "    u = y.detach()\n",
    "    z = u * x\n",
    "z.backward()\n",
    "x.grad == u"
   ]
  },
  {
   "cell_type": "markdown",
   "id": "9bf41a86",
   "metadata": {
    "origin_pos": 53
   },
   "source": [
    "Note that while this procedure\n",
    "detaches `y`'s ancestors\n",
    "from the graph leading to `z`, \n",
    "the computational graph leading to `y` \n",
    "persists and thus we can calculate\n",
    "the gradient of `y` with respect to `x`.\n"
   ]
  },
  {
   "cell_type": "code",
   "execution_count": 10,
   "id": "ae55bdd6",
   "metadata": {
    "execution": {
     "iopub.execute_input": "2023-02-10T09:38:37.074164Z",
     "iopub.status.busy": "2023-02-10T09:38:37.072988Z",
     "iopub.status.idle": "2023-02-10T09:38:37.105140Z",
     "shell.execute_reply": "2023-02-10T09:38:37.104246Z"
    },
    "origin_pos": 54,
    "tab": [
     "mxnet"
    ]
   },
   "outputs": [
    {
     "data": {
      "text/plain": [
       "array([ True,  True,  True,  True])"
      ]
     },
     "execution_count": 10,
     "metadata": {},
     "output_type": "execute_result"
    }
   ],
   "source": [
    "y.backward()\n",
    "x.grad == 2 * x"
   ]
  },
  {
   "cell_type": "markdown",
   "id": "6fb48c68",
   "metadata": {
    "origin_pos": 58
   },
   "source": [
    "## Gradients and Python Control Flow\n",
    "\n",
    "So far we reviewed cases where the path from input to output \n",
    "was well-defined via a function such as `z = x * x * x`.\n",
    "Programming offers us a lot more freedom in how we compute results. \n",
    "For instance, we can make them depend on auxiliary variables \n",
    "or condition choices on intermediate results. \n",
    "One benefit of using automatic differentiation\n",
    "is that [**even if**] building the computational graph of \n",
    "(**a function required passing through a maze of Python control flow**)\n",
    "(e.g., conditionals, loops, and arbitrary function calls),\n",
    "(**we can still calculate the gradient of the resulting variable.**)\n",
    "To illustrate this, consider the following code snippet where \n",
    "the number of iterations of the `while` loop\n",
    "and the evaluation of the `if` statement\n",
    "both depend on the value of the input `a`.\n"
   ]
  },
  {
   "cell_type": "code",
   "execution_count": 11,
   "id": "1c4697c6",
   "metadata": {
    "execution": {
     "iopub.execute_input": "2023-02-10T09:38:37.112525Z",
     "iopub.status.busy": "2023-02-10T09:38:37.108931Z",
     "iopub.status.idle": "2023-02-10T09:38:37.125539Z",
     "shell.execute_reply": "2023-02-10T09:38:37.122838Z"
    },
    "origin_pos": 59,
    "tab": [
     "mxnet"
    ]
   },
   "outputs": [],
   "source": [
    "def f(a):\n",
    "    b = a * 2\n",
    "    while np.linalg.norm(b) < 1000:\n",
    "        b = b * 2\n",
    "    if b.sum() > 0:\n",
    "        c = b\n",
    "    else:\n",
    "        c = 100 * b\n",
    "    return c"
   ]
  },
  {
   "cell_type": "markdown",
   "id": "e19425e5",
   "metadata": {
    "origin_pos": 63
   },
   "source": [
    "Below, we call this function, passing in a random value as input.\n",
    "Since the input is a random variable, \n",
    "we do not know what form \n",
    "the computational graph will take.\n",
    "However, whenever we execute `f(a)` \n",
    "on a specific input, we realize \n",
    "a specific computational graph\n",
    "and can subsequently run `backward`.\n"
   ]
  },
  {
   "cell_type": "code",
   "execution_count": 12,
   "id": "a0909f40",
   "metadata": {
    "execution": {
     "iopub.execute_input": "2023-02-10T09:38:37.131743Z",
     "iopub.status.busy": "2023-02-10T09:38:37.131177Z",
     "iopub.status.idle": "2023-02-10T09:38:37.292368Z",
     "shell.execute_reply": "2023-02-10T09:38:37.291504Z"
    },
    "origin_pos": 64,
    "tab": [
     "mxnet"
    ]
   },
   "outputs": [],
   "source": [
    "a = np.random.normal()\n",
    "a.attach_grad()\n",
    "with autograd.record():\n",
    "    d = f(a)\n",
    "d.backward()"
   ]
  },
  {
   "cell_type": "markdown",
   "id": "3b675756",
   "metadata": {
    "origin_pos": 68
   },
   "source": [
    "Even though our function `f` is a bit \n",
    "contrived for demonstration purposes,\n",
    "its dependence on the input is quite simple: \n",
    "it is a *linear* function of `a` \n",
    "with piecewise defined scale. \n",
    "As such, `f(a) / a` is a vector of constant entries \n",
    "and, moreover, `f(a) / a` needs to match \n",
    "the gradient of `f(a)` with respect to `a`.\n"
   ]
  },
  {
   "cell_type": "code",
   "execution_count": 13,
   "id": "2b66793e",
   "metadata": {
    "execution": {
     "iopub.execute_input": "2023-02-10T09:38:37.296344Z",
     "iopub.status.busy": "2023-02-10T09:38:37.296017Z",
     "iopub.status.idle": "2023-02-10T09:38:37.309069Z",
     "shell.execute_reply": "2023-02-10T09:38:37.308212Z"
    },
    "origin_pos": 69,
    "tab": [
     "mxnet"
    ]
   },
   "outputs": [
    {
     "data": {
      "text/plain": [
       "array(True)"
      ]
     },
     "execution_count": 13,
     "metadata": {},
     "output_type": "execute_result"
    }
   ],
   "source": [
    "a.grad == d / a"
   ]
  },
  {
   "cell_type": "markdown",
   "id": "77673fcd",
   "metadata": {
    "origin_pos": 73
   },
   "source": [
    "Dynamic control flow is very common in deep learning. \n",
    "For instance, when processing text, the computational graph\n",
    "depends on the length of the input. \n",
    "In these cases, automatic differentiation \n",
    "becomes vital for statistical modeling \n",
    "since it is impossible to compute the gradient a priori. \n",
    "\n",
    "## Discussion\n",
    "\n",
    "You have now gotten a taste of the power of automatic differentiation. \n",
    "The development of libraries for calculating derivatives\n",
    "both automatically and efficiently \n",
    "has been a massive productivity booster\n",
    "for deep learning practitioners,\n",
    "liberating them to focus on loftier concerns.\n",
    "Moreover, autograd permits us to design massive models\n",
    "for which pen and paper gradient computations \n",
    "would be prohibitively time consuming.\n",
    "Interestingly, while we use autograd to *optimize* models\n",
    "(in a statistical sense)\n",
    "the *optimization* of autograd libraries themselves\n",
    "(in a computational sense)\n",
    "is a rich subject\n",
    "of vital interest to framework designers.\n",
    "Here, tools from compilers and graph manipulation \n",
    "are leveraged to compute results \n",
    "in the most expedient and memory-efficient manner. \n",
    "\n",
    "For now, try to remember these basics: (i) attach gradients to those variables with respect to which we desire derivatives; (ii) record the computation of the target value; (iii) execute the backpropagation function; and  (iv) access the resulting gradient.\n",
    "\n",
    "\n",
    "## Exercises\n",
    "\n",
    "1. Why is the second derivative much more expensive to compute than the first derivative?\n",
    "1. After running the function for backpropagation, immediately run it again and see what happens. Why?\n",
    "1. In the control flow example where we calculate the derivative of `d` with respect to `a`, what would happen if we changed the variable `a` to a random vector or a matrix? At this point, the result of the calculation `f(a)` is no longer a scalar. What happens to the result? How do we analyze this?\n",
    "1. Let $f(x) = \\sin(x)$. Plot the graph of $f$ and of its derivative $f'$. Do not exploit the fact that $f'(x) = \\cos(x)$ but rather use automatic differentiation to get the result. \n",
    "1. Let $f(x) = ((\\log x^2) \\cdot \\sin x) + x^{-1}$. Write out a dependency graph tracing results from $x$ to $f(x)$. \n",
    "1. Use the chain rule to compute the derivative $\\frac{df}{dx}$ of the aforementioned function, placing each term on the dependency graph that you constructed previously. \n",
    "1. Given the graph and the intermediate derivative results, you have a number of options when computing the gradient. Evaluate the result once starting from $x$ to $f$ and once from $f$ tracing back to $x$. The path from $x$ to $f$ is commonly known as *forward differentiation*, whereas the path from $f$ to $x$ is known as backward differentiation. \n",
    "1. When might you want to use forward differentiation and when backward differentiation? Hint: consider the amount of intermediate data needed, the ability to parallelize steps, and the size of matrices and vectors involved.\n"
   ]
  },
  {
   "cell_type": "markdown",
   "id": "d62173a2",
   "metadata": {
    "origin_pos": 74,
    "tab": [
     "mxnet"
    ]
   },
   "source": [
    "[Discussions](https://discuss.d2l.ai/t/34)\n"
   ]
  }
 ],
 "metadata": {
  "kernelspec": {
   "display_name": "conda_mxnet_p36",
   "name": "conda_mxnet_p36"
  },
  "language_info": {
   "name": "python"
  }
 },
 "nbformat": 4,
 "nbformat_minor": 5
}