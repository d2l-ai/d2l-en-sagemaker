{
 "cells": [
  {
   "cell_type": "markdown",
   "id": "16c19ba4",
   "metadata": {},
   "source": [
    "Installing (updating) the following libraries for your Sagemaker\n",
    "instance."
   ]
  },
  {
   "cell_type": "code",
   "execution_count": null,
   "id": "a3deb1a1",
   "metadata": {},
   "outputs": [],
   "source": [
    "!pip install -U mxnet-cu112==1.9.1\n"
   ]
  },
  {
   "cell_type": "markdown",
   "id": "1bec5ba0",
   "metadata": {
    "origin_pos": 1
   },
   "source": [
    "# Documentation\n"
   ]
  },
  {
   "cell_type": "markdown",
   "id": "7453307c",
   "metadata": {
    "origin_pos": 2,
    "tab": [
     "mxnet"
    ]
   },
   "source": [
    "While we cannot possibly introduce every single MXNet function and class \n",
    "(and the information might become outdated quickly), \n",
    "the [API documentation](https://mxnet.apache.org/versions/1.8.0/api) \n",
    "and additional [tutorials](https://mxnet.apache.org/versions/1.8.0/api/python/docs/tutorials/) and examples \n",
    "provide such documentation. \n",
    "This section provides some guidance for how to explore the MXNet API.\n"
   ]
  },
  {
   "cell_type": "code",
   "execution_count": 1,
   "id": "2015df5c",
   "metadata": {
    "execution": {
     "iopub.execute_input": "2023-08-18T07:00:04.052039Z",
     "iopub.status.busy": "2023-08-18T07:00:04.051257Z",
     "iopub.status.idle": "2023-08-18T07:00:06.028803Z",
     "shell.execute_reply": "2023-08-18T07:00:06.027896Z"
    },
    "origin_pos": 5,
    "tab": [
     "mxnet"
    ]
   },
   "outputs": [],
   "source": [
    "from mxnet import np"
   ]
  },
  {
   "cell_type": "markdown",
   "id": "70e6408f",
   "metadata": {
    "origin_pos": 9
   },
   "source": [
    "## Functions and Classes in a Module\n",
    "\n",
    "To know which functions and classes can be called in a module,\n",
    "we invoke the `dir` function. For instance, we can\n",
    "(**query all properties in the module for generating random numbers**):\n"
   ]
  },
  {
   "cell_type": "code",
   "execution_count": 2,
   "id": "91e147a9",
   "metadata": {
    "attributes": {
     "classes": [],
     "id": "",
     "n": "1"
    },
    "execution": {
     "iopub.execute_input": "2023-08-18T07:00:06.034264Z",
     "iopub.status.busy": "2023-08-18T07:00:06.033685Z",
     "iopub.status.idle": "2023-08-18T07:00:06.039084Z",
     "shell.execute_reply": "2023-08-18T07:00:06.038048Z"
    },
    "origin_pos": 10,
    "tab": [
     "mxnet"
    ]
   },
   "outputs": [
    {
     "name": "stdout",
     "output_type": "stream",
     "text": [
      "['__all__', '__builtins__', '__cached__', '__doc__', '__file__', '__loader__', '__name__', '__package__', '__spec__', '_mx_nd_np', 'beta', 'chisquare', 'choice', 'exponential', 'gamma', 'gumbel', 'logistic', 'lognormal', 'multinomial', 'multivariate_normal', 'normal', 'pareto', 'power', 'rand', 'randint', 'randn', 'rayleigh', 'shuffle', 'uniform', 'weibull']\n"
     ]
    }
   ],
   "source": [
    "print(dir(np.random))"
   ]
  },
  {
   "cell_type": "markdown",
   "id": "e6f1fc50",
   "metadata": {
    "origin_pos": 14
   },
   "source": [
    "Generally, we can ignore functions that start and end with `__` (special objects in Python) \n",
    "or functions that start with a single `_`(usually internal functions). \n",
    "Based on the remaining function or attribute names, \n",
    "we might hazard a guess that this module offers \n",
    "various methods for generating random numbers, \n",
    "including sampling from the uniform distribution (`uniform`), \n",
    "normal distribution (`normal`), and multinomial distribution (`multinomial`).\n",
    "\n",
    "## Specific Functions and Classes\n",
    "\n",
    "For specific instructions on how to use a given function or class,\n",
    "we can invoke the  `help` function. As an example, let's\n",
    "[**explore the usage instructions for tensors' `ones` function**].\n"
   ]
  },
  {
   "cell_type": "code",
   "execution_count": 3,
   "id": "ce9cabb9",
   "metadata": {
    "execution": {
     "iopub.execute_input": "2023-08-18T07:00:06.045024Z",
     "iopub.status.busy": "2023-08-18T07:00:06.044649Z",
     "iopub.status.idle": "2023-08-18T07:00:06.051176Z",
     "shell.execute_reply": "2023-08-18T07:00:06.049860Z"
    },
    "origin_pos": 15,
    "tab": [
     "mxnet"
    ]
   },
   "outputs": [
    {
     "name": "stdout",
     "output_type": "stream",
     "text": [
      "Help on function ones in module mxnet.numpy:\n",
      "\n",
      "ones(shape, dtype=<class 'numpy.float32'>, order='C', ctx=None)\n",
      "    Return a new array of given shape and type, filled with ones.\n",
      "    This function currently only supports storing multi-dimensional data\n",
      "    in row-major (C-style).\n",
      "    \n",
      "    Parameters\n",
      "    ----------\n",
      "    shape : int or tuple of int\n",
      "        The shape of the empty array.\n",
      "    dtype : str or numpy.dtype, optional\n",
      "        An optional value type. Default is `numpy.float32`. Note that this\n",
      "        behavior is different from NumPy's `ones` function where `float64`\n",
      "        is the default value, because `float32` is considered as the default\n",
      "        data type in deep learning.\n",
      "    order : {'C'}, optional, default: 'C'\n",
      "        How to store multi-dimensional data in memory, currently only row-major\n",
      "        (C-style) is supported.\n",
      "    ctx : Context, optional\n",
      "        An optional device context (default is the current default context).\n",
      "    \n",
      "    Returns\n",
      "    -------\n",
      "    out : ndarray\n",
      "        Array of ones with the given shape, dtype, and ctx.\n",
      "    \n",
      "    Examples\n",
      "    --------\n",
      "    >>> np.ones(5)\n",
      "    array([1., 1., 1., 1., 1.])\n",
      "    \n",
      "    >>> np.ones((5,), dtype=int)\n",
      "    array([1, 1, 1, 1, 1], dtype=int64)\n",
      "    \n",
      "    >>> np.ones((2, 1))\n",
      "    array([[1.],\n",
      "           [1.]])\n",
      "    \n",
      "    >>> s = (2,2)\n",
      "    >>> np.ones(s)\n",
      "    array([[1., 1.],\n",
      "           [1., 1.]])\n",
      "\n"
     ]
    }
   ],
   "source": [
    "help(np.ones)"
   ]
  },
  {
   "cell_type": "markdown",
   "id": "f9f4d8dd",
   "metadata": {
    "origin_pos": 19
   },
   "source": [
    "From the documentation, we can see that the `ones` function \n",
    "creates a new tensor with the specified shape \n",
    "and sets all the elements to the value of 1. \n",
    "Whenever possible, you should (**run a quick test**) \n",
    "to confirm your interpretation:\n"
   ]
  },
  {
   "cell_type": "code",
   "execution_count": 4,
   "id": "06ddb353",
   "metadata": {
    "execution": {
     "iopub.execute_input": "2023-08-18T07:00:06.055216Z",
     "iopub.status.busy": "2023-08-18T07:00:06.054451Z",
     "iopub.status.idle": "2023-08-18T07:00:06.067761Z",
     "shell.execute_reply": "2023-08-18T07:00:06.066905Z"
    },
    "origin_pos": 20,
    "tab": [
     "mxnet"
    ]
   },
   "outputs": [
    {
     "name": "stdout",
     "output_type": "stream",
     "text": [
      "[07:00:06] ../src/storage/storage.cc:196: Using Pooled (Naive) StorageManager for CPU\n"
     ]
    },
    {
     "data": {
      "text/plain": [
       "array([1., 1., 1., 1.])"
      ]
     },
     "execution_count": 4,
     "metadata": {},
     "output_type": "execute_result"
    }
   ],
   "source": [
    "np.ones(4)"
   ]
  },
  {
   "cell_type": "markdown",
   "id": "8e0a9f7e",
   "metadata": {
    "origin_pos": 24
   },
   "source": [
    "In the Jupyter notebook, we can use `?` to display the document in another\n",
    "window. For example, `list?` will create content\n",
    "that is almost identical to `help(list)`,\n",
    "displaying it in a new browser window.\n",
    "In addition, if we use two question marks, such as `list??`,\n",
    "the Python code implementing the function will also be displayed.\n",
    "\n",
    "The official documentation provides plenty of descriptions and examples that are beyond this book. \n",
    "We emphasize important use cases \n",
    "that will get you started quickly with practical problems, \n",
    "rather than completeness of coverage. \n",
    "We also encourage you to study the source code of the libraries \n",
    "to see examples of high-quality implementations of production code. \n",
    "By doing this you will become a better engineer \n",
    "in addition to becoming a better scientist.\n"
   ]
  },
  {
   "cell_type": "markdown",
   "id": "7b7380d4",
   "metadata": {
    "origin_pos": 25,
    "tab": [
     "mxnet"
    ]
   },
   "source": [
    "[Discussions](https://discuss.d2l.ai/t/38)\n"
   ]
  }
 ],
 "metadata": {
  "kernelspec": {
   "display_name": "conda_mxnet_p36",
   "name": "conda_mxnet_p36"
  },
  "language_info": {
   "name": "python"
  },
  "required_libs": []
 },
 "nbformat": 4,
 "nbformat_minor": 5
}