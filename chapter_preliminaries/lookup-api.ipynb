{
 "cells": [
  {
   "cell_type": "markdown",
   "id": "27bc10d5",
   "metadata": {},
   "source": [
    "Installing (updating) the following libraries for your Sagemaker\n",
    "instance."
   ]
  },
  {
   "cell_type": "code",
   "execution_count": null,
   "id": "b112e07e",
   "metadata": {},
   "outputs": [],
   "source": [
    "!pip install -U mxnet-cu101==1.7.0\n"
   ]
  },
  {
   "cell_type": "markdown",
   "id": "7798f205",
   "metadata": {
    "origin_pos": 1
   },
   "source": [
    "# Documentation\n"
   ]
  },
  {
   "cell_type": "markdown",
   "id": "2929c935",
   "metadata": {
    "origin_pos": 2,
    "tab": [
     "mxnet"
    ]
   },
   "source": [
    "While we cannot possibly introduce every single MXNet function and class \n",
    "(and the information might become outdated quickly), \n",
    "the [API documentation](https://mxnet.apache.org/versions/1.8.0/api) \n",
    "and additional [tutorials](https://mxnet.apache.org/versions/1.8.0/api/python/docs/tutorials/) and examples \n",
    "provide such documentation. \n",
    "This section provides some guidance for how to explore the MXNet API.\n"
   ]
  },
  {
   "cell_type": "markdown",
   "id": "388fcb0f",
   "metadata": {
    "origin_pos": 5
   },
   "source": [
    "## Functions and Classes in a Module\n",
    "\n",
    "In order to know which functions and classes can be called in a module,\n",
    "we invoke the `dir` function. For instance, we can\n",
    "(**query all properties in the module for generating random numbers**):\n"
   ]
  },
  {
   "cell_type": "code",
   "execution_count": 1,
   "id": "34228fdd",
   "metadata": {
    "attributes": {
     "classes": [],
     "id": "",
     "n": "1"
    },
    "execution": {
     "iopub.execute_input": "2022-08-29T22:47:55.892902Z",
     "iopub.status.busy": "2022-08-29T22:47:55.892248Z",
     "iopub.status.idle": "2022-08-29T22:47:57.291661Z",
     "shell.execute_reply": "2022-08-29T22:47:57.290819Z"
    },
    "origin_pos": 6,
    "tab": [
     "mxnet"
    ]
   },
   "outputs": [
    {
     "name": "stdout",
     "output_type": "stream",
     "text": [
      "['__all__', '__builtins__', '__cached__', '__doc__', '__file__', '__loader__', '__name__', '__package__', '__spec__', '_mx_nd_np', 'beta', 'chisquare', 'choice', 'exponential', 'gamma', 'gumbel', 'logistic', 'lognormal', 'multinomial', 'multivariate_normal', 'normal', 'pareto', 'power', 'rand', 'randint', 'randn', 'rayleigh', 'shuffle', 'uniform', 'weibull']\n"
     ]
    }
   ],
   "source": [
    "from mxnet import np\n",
    "\n",
    "print(dir(np.random))"
   ]
  },
  {
   "cell_type": "markdown",
   "id": "42176bd3",
   "metadata": {
    "origin_pos": 9
   },
   "source": [
    "Generally, we can ignore functions that start and end with `__` (special objects in Python) \n",
    "or functions that start with a single `_`(usually internal functions). \n",
    "Based on the remaining function or attribute names, \n",
    "we might hazard a guess that this module offers \n",
    "various methods for generating random numbers, \n",
    "including sampling from the uniform distribution (`uniform`), \n",
    "normal distribution (`normal`), and multinomial distribution (`multinomial`).\n",
    "\n",
    "## Specific Functions and Classes\n",
    "\n",
    "For more specific instructions on how to use a given function or class,\n",
    "we can invoke the  `help` function. As an example, let's\n",
    "[**explore the usage instructions for tensors' `ones` function**].\n"
   ]
  },
  {
   "cell_type": "code",
   "execution_count": 2,
   "id": "a1d63fd2",
   "metadata": {
    "execution": {
     "iopub.execute_input": "2022-08-29T22:47:57.295516Z",
     "iopub.status.busy": "2022-08-29T22:47:57.294955Z",
     "iopub.status.idle": "2022-08-29T22:47:57.300106Z",
     "shell.execute_reply": "2022-08-29T22:47:57.299291Z"
    },
    "origin_pos": 10,
    "tab": [
     "mxnet"
    ]
   },
   "outputs": [
    {
     "name": "stdout",
     "output_type": "stream",
     "text": [
      "Help on function ones in module mxnet.numpy:\n",
      "\n",
      "ones(shape, dtype=<class 'numpy.float32'>, order='C', ctx=None)\n",
      "    Return a new array of given shape and type, filled with ones.\n",
      "    This function currently only supports storing multi-dimensional data\n",
      "    in row-major (C-style).\n",
      "    \n",
      "    Parameters\n",
      "    ----------\n",
      "    shape : int or tuple of int\n",
      "        The shape of the empty array.\n",
      "    dtype : str or numpy.dtype, optional\n",
      "        An optional value type. Default is `numpy.float32`. Note that this\n",
      "        behavior is different from NumPy's `ones` function where `float64`\n",
      "        is the default value, because `float32` is considered as the default\n",
      "        data type in deep learning.\n",
      "    order : {'C'}, optional, default: 'C'\n",
      "        How to store multi-dimensional data in memory, currently only row-major\n",
      "        (C-style) is supported.\n",
      "    ctx : Context, optional\n",
      "        An optional device context (default is the current default context).\n",
      "    \n",
      "    Returns\n",
      "    -------\n",
      "    out : ndarray\n",
      "        Array of ones with the given shape, dtype, and ctx.\n",
      "    \n",
      "    Examples\n",
      "    --------\n",
      "    >>> np.ones(5)\n",
      "    array([1., 1., 1., 1., 1.])\n",
      "    \n",
      "    >>> np.ones((5,), dtype=int)\n",
      "    array([1, 1, 1, 1, 1], dtype=int64)\n",
      "    \n",
      "    >>> np.ones((2, 1))\n",
      "    array([[1.],\n",
      "           [1.]])\n",
      "    \n",
      "    >>> s = (2,2)\n",
      "    >>> np.ones(s)\n",
      "    array([[1., 1.],\n",
      "           [1., 1.]])\n",
      "\n"
     ]
    }
   ],
   "source": [
    "help(np.ones)"
   ]
  },
  {
   "cell_type": "markdown",
   "id": "f4e4c0b3",
   "metadata": {
    "origin_pos": 13
   },
   "source": [
    "From the documentation, we can see that the `ones` function \n",
    "creates a new tensor with the specified shape \n",
    "and sets all the elements to the value of 1. \n",
    "Whenever possible, you should (**run a quick test**) \n",
    "to confirm your interpretation:\n"
   ]
  },
  {
   "cell_type": "code",
   "execution_count": 3,
   "id": "3cb1976d",
   "metadata": {
    "execution": {
     "iopub.execute_input": "2022-08-29T22:47:57.303407Z",
     "iopub.status.busy": "2022-08-29T22:47:57.302966Z",
     "iopub.status.idle": "2022-08-29T22:47:57.314633Z",
     "shell.execute_reply": "2022-08-29T22:47:57.313845Z"
    },
    "origin_pos": 14,
    "tab": [
     "mxnet"
    ]
   },
   "outputs": [
    {
     "data": {
      "text/plain": [
       "array([1., 1., 1., 1.])"
      ]
     },
     "execution_count": 3,
     "metadata": {},
     "output_type": "execute_result"
    }
   ],
   "source": [
    "np.ones(4)"
   ]
  },
  {
   "cell_type": "markdown",
   "id": "35f1609f",
   "metadata": {
    "origin_pos": 17
   },
   "source": [
    "In the Jupyter notebook, we can use `?` to display the document in another\n",
    "window. For example, `list?` will create content\n",
    "that is almost identical to `help(list)`,\n",
    "displaying it in a new browser window.\n",
    "In addition, if we use two question marks, such as `list??`,\n",
    "the Python code implementing the function will also be displayed.\n",
    "\n",
    "The official documentation provides plenty of descriptions and examples that are beyond this book. \n",
    "Our emphasis lies on covering important use cases \n",
    "that will allow you to get started quickly with practical problems, \n",
    "rather than completeness of coverage. \n",
    "We also encourage you to study the source code of the libraries \n",
    "to see examples of high quality implementations for production code. \n",
    "By doing this you will become a better engineer \n",
    "in addition to becoming a better scientist.\n"
   ]
  },
  {
   "cell_type": "markdown",
   "id": "9d2f703c",
   "metadata": {
    "origin_pos": 18,
    "tab": [
     "mxnet"
    ]
   },
   "source": [
    "[Discussions](https://discuss.d2l.ai/t/38)\n"
   ]
  }
 ],
 "metadata": {
  "kernelspec": {
   "display_name": "conda_mxnet_p36",
   "name": "conda_mxnet_p36"
  },
  "language_info": {
   "name": "python"
  }
 },
 "nbformat": 4,
 "nbformat_minor": 5
}