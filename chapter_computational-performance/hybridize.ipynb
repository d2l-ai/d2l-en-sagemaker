{
 "cells": [
  {
   "cell_type": "markdown",
   "id": "7bf815b8",
   "metadata": {},
   "source": [
    "Installing (updating) the following libraries for your Sagemaker\n",
    "instance."
   ]
  },
  {
   "cell_type": "code",
   "execution_count": null,
   "id": "0e47d785",
   "metadata": {},
   "outputs": [],
   "source": [
    "!pip install -U mxnet-cu112==1.9.1\n",
    "!pip install ..  # installing d2l\n"
   ]
  },
  {
   "cell_type": "markdown",
   "id": "b4587026",
   "metadata": {
    "origin_pos": 0
   },
   "source": [
    "# Compilers and Interpreters\n",
    ":label:`sec_hybridize`\n",
    "\n",
    "So far, this book has focused on imperative programming, which makes use of statements such as `print`, `+`, and `if` to change a program's state. Consider the following example of a simple imperative program.\n"
   ]
  },
  {
   "cell_type": "code",
   "execution_count": 1,
   "id": "0ee74804",
   "metadata": {
    "execution": {
     "iopub.execute_input": "2023-08-14T16:29:31.312276Z",
     "iopub.status.busy": "2023-08-14T16:29:31.311516Z",
     "iopub.status.idle": "2023-08-14T16:29:31.321850Z",
     "shell.execute_reply": "2023-08-14T16:29:31.320828Z"
    },
    "origin_pos": 1,
    "tab": [
     "mxnet"
    ]
   },
   "outputs": [
    {
     "name": "stdout",
     "output_type": "stream",
     "text": [
      "10\n"
     ]
    }
   ],
   "source": [
    "def add(a, b):\n",
    "    return a + b\n",
    "\n",
    "def fancy_func(a, b, c, d):\n",
    "    e = add(a, b)\n",
    "    f = add(c, d)\n",
    "    g = add(e, f)\n",
    "    return g\n",
    "\n",
    "print(fancy_func(1, 2, 3, 4))"
   ]
  },
  {
   "cell_type": "markdown",
   "id": "41076f43",
   "metadata": {
    "origin_pos": 2
   },
   "source": [
    "Python is an *interpreted language*. When evaluating the above `fancy_func` function it performs the operations making up the function's body *in sequence*. That is, it will evaluate `e = add(a, b)` and store the results as variable `e`, thereby changing the program's state. The next two statements `f = add(c, d)` and `g = add(e, f)` will be executed similarly, performing additions and storing the results as variables. :numref:`fig_compute_graph` illustrates the flow of data.\n",
    "\n",
    "![Data flow in an imperative program.](../img/computegraph.svg)\n",
    ":label:`fig_compute_graph`\n",
    "\n",
    "Although imperative programming is convenient, it may be inefficient. On the one hand, even if the `add` function is repeatedly called throughout `fancy_func`, Python will execute the three function calls individually. If these are executed, say, on a GPU (or even on multiple GPUs), the overhead arising from the Python interpreter can become overwhelming. Moreover, it will need to save the variable values of `e` and `f` until all the statements in `fancy_func` have been executed. This is because we do not know whether the variables `e` and `f` will be used by other parts of the program after the statements `e = add(a, b)` and `f = add(c, d)` are executed.\n",
    "\n",
    "## Symbolic Programming\n",
    "\n",
    "Consider the alternative, *symbolic programming*, where computation is usually performed only once the process has been fully defined. This strategy is used by multiple deep learning frameworks, including Theano and TensorFlow (the latter has acquired imperative extensions). It usually involves the following steps:\n",
    "\n",
    "1. Define the operations to be executed.\n",
    "1. Compile the operations into an executable program.\n",
    "1. Provide the required inputs and call the compiled program for execution.\n",
    "\n",
    "This allows for a significant amount of optimization. First, we can skip the Python interpreter in many cases, thus removing a performance bottleneck that can become significant on multiple fast GPUs paired with a single Python thread on a CPU. \n",
    "Second, a compiler might optimize and rewrite the above code into `print((1 + 2) + (3 + 4))` or even `print(10)`. This is possible since a compiler gets to see the full code before turning it into machine instructions. For instance, it can release memory (or never allocate it) whenever a variable is no longer needed. Or it can transform the code entirely into an equivalent piece.\n",
    "To get a better idea, consider the following simulation of imperative programming (it is Python after all) below.\n"
   ]
  },
  {
   "cell_type": "code",
   "execution_count": 2,
   "id": "ed5b89ad",
   "metadata": {
    "execution": {
     "iopub.execute_input": "2023-08-14T16:29:31.325330Z",
     "iopub.status.busy": "2023-08-14T16:29:31.325052Z",
     "iopub.status.idle": "2023-08-14T16:29:31.331552Z",
     "shell.execute_reply": "2023-08-14T16:29:31.330558Z"
    },
    "origin_pos": 3,
    "tab": [
     "mxnet"
    ]
   },
   "outputs": [
    {
     "name": "stdout",
     "output_type": "stream",
     "text": [
      "\n",
      "def add(a, b):\n",
      "    return a + b\n",
      "\n",
      "def fancy_func(a, b, c, d):\n",
      "    e = add(a, b)\n",
      "    f = add(c, d)\n",
      "    g = add(e, f)\n",
      "    return g\n",
      "print(fancy_func(1, 2, 3, 4))\n",
      "10\n"
     ]
    }
   ],
   "source": [
    "def add_():\n",
    "    return '''\n",
    "def add(a, b):\n",
    "    return a + b\n",
    "'''\n",
    "\n",
    "def fancy_func_():\n",
    "    return '''\n",
    "def fancy_func(a, b, c, d):\n",
    "    e = add(a, b)\n",
    "    f = add(c, d)\n",
    "    g = add(e, f)\n",
    "    return g\n",
    "'''\n",
    "\n",
    "def evoke_():\n",
    "    return add_() + fancy_func_() + 'print(fancy_func(1, 2, 3, 4))'\n",
    "\n",
    "prog = evoke_()\n",
    "print(prog)\n",
    "y = compile(prog, '', 'exec')\n",
    "exec(y)"
   ]
  },
  {
   "cell_type": "markdown",
   "id": "d021c6b6",
   "metadata": {
    "origin_pos": 4
   },
   "source": [
    "The differences between imperative (interpreted) programming and symbolic programming are as follows:\n",
    "\n",
    "* Imperative programming is easier. When imperative programming is used in Python, the majority of the code is straightforward and easy to write. It is also easier to debug imperative programming code. This is because it is easier to obtain and print all relevant intermediate variable values, or use Python's built-in debugging tools.\n",
    "* Symbolic programming is more efficient and easier to port. Symbolic programming makes it easier to optimize the code during compilation, while also having the ability to port the program into a format independent of Python. This allows the program to be run in a non-Python environment, thus avoiding any potential performance issues related to the Python interpreter.\n",
    "\n",
    "\n",
    "## Hybrid Programming\n",
    "\n",
    "Historically most deep learning frameworks choose between an imperative or a symbolic approach. For example, Theano, TensorFlow (inspired by the former), Keras, and CNTK formulate models symbolically. Conversely, Chainer and PyTorch take an imperative approach. An imperative mode was added to TensorFlow 2.0 and Keras in later revisions.\n"
   ]
  },
  {
   "cell_type": "markdown",
   "id": "702af96d",
   "metadata": {
    "origin_pos": 5,
    "tab": [
     "mxnet"
    ]
   },
   "source": [
    "When designing Gluon, developers considered whether it would be possible to combine the benefits of both programming paradigms. This led to a hybrid model that lets users develop and debug with pure imperative programming, while having the ability to convert most programs into symbolic programs to be run when product-level computing performance and deployment are required.\n",
    "\n",
    "In practice this means that we build models using the `HybridBlock` or `HybridSequential` class. By default, either of them is executed in the same way the `Block` or `Sequential` class is executed in imperative programming. \n",
    "The `HybridSequential` class is a subclass of `HybridBlock` (just like `Sequential` subclasses `Block`). When the `hybridize` function is called, Gluon compiles the model into the form used in symbolic programming. This allows one to optimize the computation-intensive components without sacrifices in the way a model is implemented. We will illustrate the benefits below, focusing on sequential models and blocks.\n"
   ]
  },
  {
   "cell_type": "markdown",
   "id": "3663d69c",
   "metadata": {
    "origin_pos": 8
   },
   "source": [
    "## Hybridizing the `Sequential` Class\n",
    "\n",
    "The easiest way to get a feel for how hybridization works is to consider deep networks with multiple layers. Conventionally the Python interpreter will need to execute the code for all layers to generate an instruction that can then be forwarded to a CPU or a GPU. For a single (fast) computing device this does not cause any major issues. On the other hand, if we use an advanced 8-GPU server such as an AWS P3dn.24xlarge instance Python will struggle to keep all GPUs busy. The single-threaded Python interpreter becomes the bottleneck here. Let's see how we can address this for significant parts of the code by replacing `Sequential` with `HybridSequential`. We begin by defining a simple MLP.\n"
   ]
  },
  {
   "cell_type": "code",
   "execution_count": 3,
   "id": "899cc1b2",
   "metadata": {
    "execution": {
     "iopub.execute_input": "2023-08-14T16:29:31.335767Z",
     "iopub.status.busy": "2023-08-14T16:29:31.335221Z",
     "iopub.status.idle": "2023-08-14T16:29:33.945476Z",
     "shell.execute_reply": "2023-08-14T16:29:33.944531Z"
    },
    "origin_pos": 9,
    "tab": [
     "mxnet"
    ]
   },
   "outputs": [
    {
     "name": "stdout",
     "output_type": "stream",
     "text": [
      "[16:29:33] ../src/storage/storage.cc:196: Using Pooled (Naive) StorageManager for CPU\n"
     ]
    },
    {
     "data": {
      "text/plain": [
       "array([[ 0.16526175, -0.14005634]])"
      ]
     },
     "execution_count": 3,
     "metadata": {},
     "output_type": "execute_result"
    }
   ],
   "source": [
    "from mxnet import np, npx\n",
    "from mxnet.gluon import nn\n",
    "from d2l import mxnet as d2l\n",
    "\n",
    "npx.set_np()\n",
    "\n",
    "# Factory for networks\n",
    "def get_net():\n",
    "    net = nn.HybridSequential()\n",
    "    net.add(nn.Dense(256, activation='relu'),\n",
    "            nn.Dense(128, activation='relu'),\n",
    "            nn.Dense(2))\n",
    "    net.initialize()\n",
    "    return net\n",
    "\n",
    "x = np.random.normal(size=(1, 512))\n",
    "net = get_net()\n",
    "net(x)"
   ]
  },
  {
   "cell_type": "markdown",
   "id": "bb84a220",
   "metadata": {
    "origin_pos": 12,
    "tab": [
     "mxnet"
    ]
   },
   "source": [
    "By calling the `hybridize` function, we are able to compile and optimize the computation in the MLP. The model's computation result remains unchanged.\n"
   ]
  },
  {
   "cell_type": "code",
   "execution_count": 4,
   "id": "16fb8724",
   "metadata": {
    "execution": {
     "iopub.execute_input": "2023-08-14T16:29:33.951938Z",
     "iopub.status.busy": "2023-08-14T16:29:33.951224Z",
     "iopub.status.idle": "2023-08-14T16:29:33.960571Z",
     "shell.execute_reply": "2023-08-14T16:29:33.959770Z"
    },
    "origin_pos": 15,
    "tab": [
     "mxnet"
    ]
   },
   "outputs": [
    {
     "data": {
      "text/plain": [
       "array([[ 0.16526175, -0.14005634]])"
      ]
     },
     "execution_count": 4,
     "metadata": {},
     "output_type": "execute_result"
    }
   ],
   "source": [
    "net.hybridize()\n",
    "net(x)"
   ]
  },
  {
   "cell_type": "markdown",
   "id": "9353923c",
   "metadata": {
    "origin_pos": 18,
    "tab": [
     "mxnet"
    ]
   },
   "source": [
    "This seems almost too good to be true: simply designate a block to be `HybridSequential`, write the same code as before and invoke `hybridize`. Once this happens the network is optimized (we will benchmark the performance below). Unfortunately this does not work magically for every layer. That said, a layer will not be optimized if it inherits from the `Block` class instead of the `HybridBlock` class.\n"
   ]
  },
  {
   "cell_type": "markdown",
   "id": "863601ca",
   "metadata": {
    "origin_pos": 21
   },
   "source": [
    "### Acceleration by Hybridization\n",
    "\n",
    "To demonstrate the performance improvement gained by compilation we compare the time needed to evaluate `net(x)` before and after hybridization. Let's define a class to measure this time first. It will come handy throughout the chapter as we set out to measure (and improve) performance.\n"
   ]
  },
  {
   "cell_type": "code",
   "execution_count": 5,
   "id": "084c64b7",
   "metadata": {
    "execution": {
     "iopub.execute_input": "2023-08-14T16:29:33.965260Z",
     "iopub.status.busy": "2023-08-14T16:29:33.964690Z",
     "iopub.status.idle": "2023-08-14T16:29:33.969749Z",
     "shell.execute_reply": "2023-08-14T16:29:33.968959Z"
    },
    "origin_pos": 22,
    "tab": [
     "mxnet"
    ]
   },
   "outputs": [],
   "source": [
    "#@save\n",
    "class Benchmark:\n",
    "    \"\"\"For measuring running time.\"\"\"\n",
    "    def __init__(self, description='Done'):\n",
    "        self.description = description\n",
    "\n",
    "    def __enter__(self):\n",
    "        self.timer = d2l.Timer()\n",
    "        return self\n",
    "\n",
    "    def __exit__(self, *args):\n",
    "        print(f'{self.description}: {self.timer.stop():.4f} sec')"
   ]
  },
  {
   "cell_type": "markdown",
   "id": "4b8766d2",
   "metadata": {
    "origin_pos": 23,
    "tab": [
     "mxnet"
    ]
   },
   "source": [
    "Now we can invoke the network twice, once with and once without hybridization.\n"
   ]
  },
  {
   "cell_type": "code",
   "execution_count": 6,
   "id": "f4f93186",
   "metadata": {
    "execution": {
     "iopub.execute_input": "2023-08-14T16:29:33.974066Z",
     "iopub.status.busy": "2023-08-14T16:29:33.973532Z",
     "iopub.status.idle": "2023-08-14T16:29:35.060514Z",
     "shell.execute_reply": "2023-08-14T16:29:35.059575Z"
    },
    "origin_pos": 26,
    "tab": [
     "mxnet"
    ]
   },
   "outputs": [
    {
     "name": "stdout",
     "output_type": "stream",
     "text": [
      "Without hybridization: 0.6420 sec\n"
     ]
    },
    {
     "name": "stdout",
     "output_type": "stream",
     "text": [
      "With hybridization: 0.4358 sec\n"
     ]
    }
   ],
   "source": [
    "net = get_net()\n",
    "with Benchmark('Without hybridization'):\n",
    "    for i in range(1000): net(x)\n",
    "    npx.waitall()\n",
    "\n",
    "net.hybridize()\n",
    "with Benchmark('With hybridization'):\n",
    "    for i in range(1000): net(x)\n",
    "    npx.waitall()"
   ]
  },
  {
   "cell_type": "markdown",
   "id": "3c9d3832",
   "metadata": {
    "origin_pos": 29,
    "tab": [
     "mxnet"
    ]
   },
   "source": [
    "As is observed in the above results, after a `HybridSequential` instance calls the `hybridize` function, computing performance is improved through the use of symbolic programming.\n"
   ]
  },
  {
   "cell_type": "markdown",
   "id": "2638a1ef",
   "metadata": {
    "origin_pos": 32
   },
   "source": [
    "### Serialization\n"
   ]
  },
  {
   "cell_type": "markdown",
   "id": "2aa6c2c0",
   "metadata": {
    "origin_pos": 33,
    "tab": [
     "mxnet"
    ]
   },
   "source": [
    "One of the benefits of compiling the models is that we can serialize (save) the model and its parameters to disk. This allows us to store a model in a manner that is independent of the front-end language of choice. This allows us to deploy trained models to other devices and easily use other front-end programming languages. At the same time the code is often faster than what can be achieved in imperative programming. Let's see the `export` function in action.\n"
   ]
  },
  {
   "cell_type": "code",
   "execution_count": 7,
   "id": "9fda394f",
   "metadata": {
    "execution": {
     "iopub.execute_input": "2023-08-14T16:29:35.064691Z",
     "iopub.status.busy": "2023-08-14T16:29:35.063971Z",
     "iopub.status.idle": "2023-08-14T16:29:35.229074Z",
     "shell.execute_reply": "2023-08-14T16:29:35.227880Z"
    },
    "origin_pos": 36,
    "tab": [
     "mxnet"
    ]
   },
   "outputs": [
    {
     "name": "stdout",
     "output_type": "stream",
     "text": [
      "-rw-r--r-- 1 ci ci 643K Aug 14 16:29 my_mlp-0000.params\r\n",
      "-rw-r--r-- 1 ci ci 3.2K Aug 14 16:29 my_mlp-symbol.json\r\n"
     ]
    }
   ],
   "source": [
    "net.export('my_mlp')\n",
    "!ls -lh my_mlp*"
   ]
  },
  {
   "cell_type": "markdown",
   "id": "93d8ac8a",
   "metadata": {
    "origin_pos": 39,
    "tab": [
     "mxnet"
    ]
   },
   "source": [
    "The model is decomposed into a (large binary) parameter file and a JSON description of the program required to execute the model computation. The files can be read by other front-end languages supported by Python or MXNet, such as C++, R, Scala, and Perl. Let's have a look at the first few lines in the model description.\n"
   ]
  },
  {
   "cell_type": "code",
   "execution_count": 8,
   "id": "782e971e",
   "metadata": {
    "execution": {
     "iopub.execute_input": "2023-08-14T16:29:35.234043Z",
     "iopub.status.busy": "2023-08-14T16:29:35.233261Z",
     "iopub.status.idle": "2023-08-14T16:29:35.390882Z",
     "shell.execute_reply": "2023-08-14T16:29:35.389753Z"
    },
    "origin_pos": 40,
    "tab": [
     "mxnet"
    ]
   },
   "outputs": [
    {
     "name": "stdout",
     "output_type": "stream",
     "text": [
      "{\r\n",
      "  \"nodes\": [\r\n",
      "    {\r\n",
      "      \"op\": \"null\", \r\n",
      "      \"name\": \"data\", \r\n",
      "      \"inputs\": []\r\n",
      "    }, \r\n",
      "    {\r\n",
      "      \"op\": \"null\", \r\n",
      "      \"name\": \"dense3_weight\", \r\n"
     ]
    }
   ],
   "source": [
    "!head my_mlp-symbol.json"
   ]
  },
  {
   "cell_type": "markdown",
   "id": "e3580706",
   "metadata": {
    "origin_pos": 41,
    "tab": [
     "mxnet"
    ]
   },
   "source": [
    "Earlier, we demonstrated that, after calling the `hybridize` function, the model is able to achieve superior computing performance and portability. Note, though that hybridization can affect model flexibility, in particular in terms of control flow. \n",
    "\n",
    "Besides, contrary to the `Block` instance, which needs to use the `forward` function, for a `HybridBlock` instance we need to use the `hybrid_forward` function.\n"
   ]
  },
  {
   "cell_type": "code",
   "execution_count": 9,
   "id": "e9118827",
   "metadata": {
    "execution": {
     "iopub.execute_input": "2023-08-14T16:29:35.395132Z",
     "iopub.status.busy": "2023-08-14T16:29:35.394454Z",
     "iopub.status.idle": "2023-08-14T16:29:35.400570Z",
     "shell.execute_reply": "2023-08-14T16:29:35.399716Z"
    },
    "origin_pos": 42,
    "tab": [
     "mxnet"
    ]
   },
   "outputs": [],
   "source": [
    "class HybridNet(nn.HybridBlock):\n",
    "    def __init__(self, **kwargs):\n",
    "        super(HybridNet, self).__init__(**kwargs)\n",
    "        self.hidden = nn.Dense(4)\n",
    "        self.output = nn.Dense(2)\n",
    "\n",
    "    def hybrid_forward(self, F, x):\n",
    "        print('module F: ', F)\n",
    "        print('value  x: ', x)\n",
    "        x = F.npx.relu(self.hidden(x))\n",
    "        print('result  : ', x)\n",
    "        return self.output(x)"
   ]
  },
  {
   "cell_type": "markdown",
   "id": "a00947d1",
   "metadata": {
    "origin_pos": 43,
    "tab": [
     "mxnet"
    ]
   },
   "source": [
    "The code above implements a simple network with 4 hidden units and 2 outputs. The `hybrid_forward` function takes an additional argument `F`. This is needed since, depending on whether the code has been hybridized or not, it will use a slightly different library (`ndarray` or `symbol`) for processing. Both classes perform very similar functions and MXNet automatically determines the argument. To understand what is going on we print the arguments as part of the function invocation.\n"
   ]
  },
  {
   "cell_type": "code",
   "execution_count": 10,
   "id": "7afc0915",
   "metadata": {
    "execution": {
     "iopub.execute_input": "2023-08-14T16:29:35.404307Z",
     "iopub.status.busy": "2023-08-14T16:29:35.403593Z",
     "iopub.status.idle": "2023-08-14T16:29:35.424514Z",
     "shell.execute_reply": "2023-08-14T16:29:35.423315Z"
    },
    "origin_pos": 44,
    "tab": [
     "mxnet"
    ]
   },
   "outputs": [
    {
     "name": "stdout",
     "output_type": "stream",
     "text": [
      "module F:  <module 'mxnet.ndarray' from '/opt/mxnet/python/mxnet/ndarray/__init__.py'>\n",
      "value  x:  [[-0.6338663   0.40156594  0.46456942]]\n",
      "result  :  [[0.01641375 0.         0.         0.        ]]\n"
     ]
    },
    {
     "data": {
      "text/plain": [
       "array([[0.00097611, 0.00019453]])"
      ]
     },
     "execution_count": 10,
     "metadata": {},
     "output_type": "execute_result"
    }
   ],
   "source": [
    "net = HybridNet()\n",
    "net.initialize()\n",
    "x = np.random.normal(size=(1, 3))\n",
    "net(x)"
   ]
  },
  {
   "cell_type": "markdown",
   "id": "5295ad93",
   "metadata": {
    "origin_pos": 45,
    "tab": [
     "mxnet"
    ]
   },
   "source": [
    "Repeating the forward computation will lead to the same output (we omit details). Now let's see what happens if we invoke the `hybridize` function.\n"
   ]
  },
  {
   "cell_type": "code",
   "execution_count": 11,
   "id": "cfa4f7a5",
   "metadata": {
    "execution": {
     "iopub.execute_input": "2023-08-14T16:29:35.428606Z",
     "iopub.status.busy": "2023-08-14T16:29:35.427857Z",
     "iopub.status.idle": "2023-08-14T16:29:35.438400Z",
     "shell.execute_reply": "2023-08-14T16:29:35.437525Z"
    },
    "origin_pos": 46,
    "tab": [
     "mxnet"
    ]
   },
   "outputs": [
    {
     "name": "stdout",
     "output_type": "stream",
     "text": [
      "module F:  <module 'mxnet.symbol' from '/opt/mxnet/python/mxnet/symbol/__init__.py'>\n",
      "value  x:  <_Symbol data>\n",
      "result  :  <_Symbol hybridnet0_relu0>\n"
     ]
    },
    {
     "data": {
      "text/plain": [
       "array([[0.00097611, 0.00019453]])"
      ]
     },
     "execution_count": 11,
     "metadata": {},
     "output_type": "execute_result"
    }
   ],
   "source": [
    "net.hybridize()\n",
    "net(x)"
   ]
  },
  {
   "cell_type": "markdown",
   "id": "fa785f1f",
   "metadata": {
    "origin_pos": 47,
    "tab": [
     "mxnet"
    ]
   },
   "source": [
    "Instead of using `ndarray` we now use the `symbol` module for `F`. Moreover, even though the input is of `ndarray` type, the data flowing through the network is now converted to `symbol` type as part of the compilation process. Repeating the function call leads to a surprising outcome:\n"
   ]
  },
  {
   "cell_type": "code",
   "execution_count": 12,
   "id": "892ef8e7",
   "metadata": {
    "execution": {
     "iopub.execute_input": "2023-08-14T16:29:35.442431Z",
     "iopub.status.busy": "2023-08-14T16:29:35.441688Z",
     "iopub.status.idle": "2023-08-14T16:29:35.449299Z",
     "shell.execute_reply": "2023-08-14T16:29:35.448428Z"
    },
    "origin_pos": 48,
    "tab": [
     "mxnet"
    ]
   },
   "outputs": [
    {
     "data": {
      "text/plain": [
       "array([[0.00097611, 0.00019453]])"
      ]
     },
     "execution_count": 12,
     "metadata": {},
     "output_type": "execute_result"
    }
   ],
   "source": [
    "net(x)"
   ]
  },
  {
   "cell_type": "markdown",
   "id": "cc2a396e",
   "metadata": {
    "origin_pos": 49,
    "tab": [
     "mxnet"
    ]
   },
   "source": [
    "This is quite different from what we saw previously. All print statements, as defined in `hybrid_forward`, are omitted. Indeed, after hybridization the execution of `net(x)` does not involve the Python interpreter any longer. This means that any spurious Python code is omitted (such as print statements) in favor of a much more streamlined execution and better performance. Instead, MXNet directly calls the C++ backend. Also note that some functions are not supported in the `symbol` module (e.g.,  `asnumpy`) and operations in-place such as `a += b` and `a[:] = a + b` must be rewritten as `a = a + b`. Nonetheless, compilation of models is worth the effort whenever speed matters. The benefit can range from small percentage points to more than twice the speed, depending on the complexity of the model, the speed of the CPU, and the speed and number of GPUs.\n"
   ]
  },
  {
   "cell_type": "markdown",
   "id": "02b748b5",
   "metadata": {
    "origin_pos": 50
   },
   "source": [
    "## Summary\n",
    "\n",
    "\n",
    "* Imperative programming makes it easy to design new models since it is possible to write code with control flow and the ability to use a large amount of the Python software ecosystem.\n",
    "* Symbolic programming requires that we specify the program and compile it before executing it. The benefit is improved performance.\n"
   ]
  },
  {
   "cell_type": "markdown",
   "id": "a78ed696",
   "metadata": {
    "origin_pos": 51,
    "tab": [
     "mxnet"
    ]
   },
   "source": [
    "* MXNet is able to combine the advantages of both approaches as needed.\n",
    "* Models constructed by the `HybridSequential` and `HybridBlock` classes are able to convert imperative programs into symbolic programs by calling the `hybridize` function.\n"
   ]
  },
  {
   "cell_type": "markdown",
   "id": "2fcc17f7",
   "metadata": {
    "origin_pos": 52
   },
   "source": [
    "## Exercises\n"
   ]
  },
  {
   "cell_type": "markdown",
   "id": "a0de45cf",
   "metadata": {
    "origin_pos": 53,
    "tab": [
     "mxnet"
    ]
   },
   "source": [
    "1. Add `x.asnumpy()` to the first line of the `hybrid_forward` function of the `HybridNet` class in this section. Execute the code and observe the errors you encounter. Why do they happen?\n",
    "1. What happens if we add control flow, i.e., the Python statements `if` and `for` in the `hybrid_forward` function?\n",
    "1. Review the models that interest you in the previous chapters. Can you improve their computational performance by reimplementing them?\n"
   ]
  },
  {
   "cell_type": "markdown",
   "id": "3ae09f2f",
   "metadata": {
    "origin_pos": 55,
    "tab": [
     "mxnet"
    ]
   },
   "source": [
    "[Discussions](https://discuss.d2l.ai/t/360)\n"
   ]
  }
 ],
 "metadata": {
  "kernelspec": {
   "display_name": "conda_mxnet_p36",
   "name": "conda_mxnet_p36"
  },
  "language_info": {
   "name": "python"
  },
  "required_libs": []
 },
 "nbformat": 4,
 "nbformat_minor": 5
}