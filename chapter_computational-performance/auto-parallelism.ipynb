{
 "cells": [
  {
   "cell_type": "markdown",
   "id": "b67cbd44",
   "metadata": {},
   "source": [
    "Installing (updating) the following libraries for your Sagemaker\n",
    "instance."
   ]
  },
  {
   "cell_type": "code",
   "execution_count": null,
   "id": "4ea7e77b",
   "metadata": {},
   "outputs": [],
   "source": [
    "!pip install ..  # installing d2l\n",
    "!pip install -U mxnet-cu101==1.7.0\n"
   ]
  },
  {
   "cell_type": "markdown",
   "id": "3b10bf3d",
   "metadata": {
    "origin_pos": 0
   },
   "source": [
    "# Automatic Parallelism\n",
    ":label:`sec_auto_para`\n",
    "\n",
    "\n",
    "Deep learning frameworks (e.g., MXNet and PyTorch) automatically construct computational graphs at the backend. Using a\n",
    "computational graph, the system is aware of all the dependencies,\n",
    "and can selectively execute multiple non-interdependent tasks in parallel to\n",
    "improve speed. For instance, :numref:`fig_asyncgraph` in :numref:`sec_async` initializes two variables independently. Consequently the system can choose to execute them in parallel.\n",
    "\n",
    "\n",
    "Typically, a single operator will use all the computational resources on all CPUs or on a single GPU. For example, the `dot` operator will use all cores (and threads) on all CPUs, even if there are multiple CPU processors on a single machine. The same applies to a single GPU. Hence parallelization is not quite so useful for single-device computers. With multiple devices things matter more. While parallelization is typically most relevant between multiple GPUs, adding the local CPU will increase performance slightly. For example, see :citet:`Hadjis.Zhang.Mitliagkas.ea.2016` that focuses on training computer vision models combining a GPU and a CPU. With the convenience of an automatically parallelizing framework we can accomplish the same goal in a few lines of Python code. More broadly, our discussion of automatic parallel computation focuses on parallel computation using both CPUs and GPUs, as well as the parallelization of computation and communication.\n",
    "\n",
    "Note that we need at least two GPUs to run the experiments in this section.\n"
   ]
  },
  {
   "cell_type": "code",
   "execution_count": 1,
   "id": "939f5426",
   "metadata": {
    "execution": {
     "iopub.execute_input": "2023-02-10T07:17:24.478141Z",
     "iopub.status.busy": "2023-02-10T07:17:24.477767Z",
     "iopub.status.idle": "2023-02-10T07:17:30.568342Z",
     "shell.execute_reply": "2023-02-10T07:17:30.567421Z"
    },
    "origin_pos": 1,
    "tab": [
     "mxnet"
    ]
   },
   "outputs": [],
   "source": [
    "from mxnet import np, npx\n",
    "from d2l import mxnet as d2l\n",
    "\n",
    "npx.set_np()"
   ]
  },
  {
   "cell_type": "markdown",
   "id": "4ae1414d",
   "metadata": {
    "origin_pos": 3
   },
   "source": [
    "## Parallel Computation on GPUs\n",
    "\n",
    "Let's start by defining a reference workload to test: the `run` function below performs 10 matrix-matrix multiplications on the device of our choice using data allocated into two variables: `x_gpu1` and `x_gpu2`.\n"
   ]
  },
  {
   "cell_type": "code",
   "execution_count": 2,
   "id": "d12b78cc",
   "metadata": {
    "execution": {
     "iopub.execute_input": "2023-02-10T07:17:30.572333Z",
     "iopub.status.busy": "2023-02-10T07:17:30.571728Z",
     "iopub.status.idle": "2023-02-10T07:17:42.611753Z",
     "shell.execute_reply": "2023-02-10T07:17:42.609648Z"
    },
    "origin_pos": 4,
    "tab": [
     "mxnet"
    ]
   },
   "outputs": [],
   "source": [
    "devices = d2l.try_all_gpus()\n",
    "def run(x):\n",
    "    return [x.dot(x) for _ in range(50)]\n",
    "\n",
    "x_gpu1 = np.random.uniform(size=(4000, 4000), ctx=devices[0])\n",
    "x_gpu2 = np.random.uniform(size=(4000, 4000), ctx=devices[1])"
   ]
  },
  {
   "cell_type": "markdown",
   "id": "277dde1f",
   "metadata": {
    "origin_pos": 6,
    "tab": [
     "mxnet"
    ]
   },
   "source": [
    "Now we apply the function to the data. To ensure that caching does not play a role in the results we warm up the devices by performing a single pass on either of them prior to measuring.\n"
   ]
  },
  {
   "cell_type": "code",
   "execution_count": 3,
   "id": "0efb79d0",
   "metadata": {
    "execution": {
     "iopub.execute_input": "2023-02-10T07:17:42.617293Z",
     "iopub.status.busy": "2023-02-10T07:17:42.616806Z",
     "iopub.status.idle": "2023-02-10T07:17:44.202548Z",
     "shell.execute_reply": "2023-02-10T07:17:44.201415Z"
    },
    "origin_pos": 8,
    "tab": [
     "mxnet"
    ]
   },
   "outputs": [
    {
     "name": "stdout",
     "output_type": "stream",
     "text": [
      "GPU1 time: 0.5233 sec\n"
     ]
    },
    {
     "name": "stdout",
     "output_type": "stream",
     "text": [
      "GPU2 time: 0.5158 sec\n"
     ]
    }
   ],
   "source": [
    "run(x_gpu1)  # Warm-up both devices\n",
    "run(x_gpu2)\n",
    "npx.waitall()\n",
    "\n",
    "with d2l.Benchmark('GPU1 time'):\n",
    "    run(x_gpu1)\n",
    "    npx.waitall()\n",
    "\n",
    "with d2l.Benchmark('GPU2 time'):\n",
    "    run(x_gpu2)\n",
    "    npx.waitall()"
   ]
  },
  {
   "cell_type": "markdown",
   "id": "77f4b0cb",
   "metadata": {
    "origin_pos": 10,
    "tab": [
     "mxnet"
    ]
   },
   "source": [
    "If we remove the `waitall` statement between both tasks the system is free to parallelize computation on both devices automatically.\n"
   ]
  },
  {
   "cell_type": "code",
   "execution_count": 4,
   "id": "71123743",
   "metadata": {
    "execution": {
     "iopub.execute_input": "2023-02-10T07:17:44.206674Z",
     "iopub.status.busy": "2023-02-10T07:17:44.206180Z",
     "iopub.status.idle": "2023-02-10T07:17:44.735202Z",
     "shell.execute_reply": "2023-02-10T07:17:44.733895Z"
    },
    "origin_pos": 12,
    "tab": [
     "mxnet"
    ]
   },
   "outputs": [
    {
     "name": "stdout",
     "output_type": "stream",
     "text": [
      "GPU1 & GPU2: 0.5214 sec\n"
     ]
    }
   ],
   "source": [
    "with d2l.Benchmark('GPU1 & GPU2'):\n",
    "    run(x_gpu1)\n",
    "    run(x_gpu2)\n",
    "    npx.waitall()"
   ]
  },
  {
   "cell_type": "markdown",
   "id": "a6753097",
   "metadata": {
    "origin_pos": 14
   },
   "source": [
    "In the above case the total execution time is less than the sum of its parts, since the deep learning framework automatically schedules computation on both GPU devices without the need for sophisticated code on behalf of the user.\n",
    "\n",
    "\n",
    "\n",
    "## Parallel Computation and Communication\n",
    "\n",
    "In many cases we need to move data between different devices, say between the CPU and GPU, or between different GPUs.\n",
    "For instance,\n",
    "this occurs when we want to perform distributed optimization where we need to aggregate the gradients over multiple accelerator cards. Let's simulate this by computing on the GPU and then copying the results back to the CPU.\n"
   ]
  },
  {
   "cell_type": "code",
   "execution_count": 5,
   "id": "73b1b69a",
   "metadata": {
    "execution": {
     "iopub.execute_input": "2023-02-10T07:17:44.741421Z",
     "iopub.status.busy": "2023-02-10T07:17:44.740324Z",
     "iopub.status.idle": "2023-02-10T07:17:48.428563Z",
     "shell.execute_reply": "2023-02-10T07:17:48.427634Z"
    },
    "origin_pos": 15,
    "tab": [
     "mxnet"
    ]
   },
   "outputs": [
    {
     "name": "stdout",
     "output_type": "stream",
     "text": [
      "Run on GPU1: 0.5796 sec\n"
     ]
    },
    {
     "name": "stdout",
     "output_type": "stream",
     "text": [
      "Copy to CPU: 3.0989 sec\n"
     ]
    }
   ],
   "source": [
    "def copy_to_cpu(x):\n",
    "    return [y.copyto(npx.cpu()) for y in x]\n",
    "\n",
    "with d2l.Benchmark('Run on GPU1'):\n",
    "    y = run(x_gpu1)\n",
    "    npx.waitall()\n",
    "\n",
    "with d2l.Benchmark('Copy to CPU'):\n",
    "    y_cpu = copy_to_cpu(y)\n",
    "    npx.waitall()"
   ]
  },
  {
   "cell_type": "markdown",
   "id": "ed753ce5",
   "metadata": {
    "origin_pos": 17,
    "tab": [
     "mxnet"
    ]
   },
   "source": [
    "This is somewhat inefficient. Note that we could already start copying parts of `y` to the CPU while the remainder of the list is still being computed. This situation occurs, e.g., when we compute the gradient on a minibatch. The gradients of some of the parameters will be available earlier than that of others. Hence it works to our advantage to start using PCI-Express bus bandwidth while the GPU is still running. Removing `waitall` between both parts allows us to simulate this scenario.\n"
   ]
  },
  {
   "cell_type": "code",
   "execution_count": 6,
   "id": "d5fa8f4f",
   "metadata": {
    "execution": {
     "iopub.execute_input": "2023-02-10T07:17:48.433671Z",
     "iopub.status.busy": "2023-02-10T07:17:48.433189Z",
     "iopub.status.idle": "2023-02-10T07:17:51.792956Z",
     "shell.execute_reply": "2023-02-10T07:17:51.791537Z"
    },
    "origin_pos": 19,
    "tab": [
     "mxnet"
    ]
   },
   "outputs": [
    {
     "name": "stdout",
     "output_type": "stream",
     "text": [
      "Run on GPU1 and copy to CPU: 3.3488 sec\n"
     ]
    }
   ],
   "source": [
    "with d2l.Benchmark('Run on GPU1 and copy to CPU'):\n",
    "    y = run(x_gpu1)\n",
    "    y_cpu = copy_to_cpu(y)\n",
    "    npx.waitall()"
   ]
  },
  {
   "cell_type": "markdown",
   "id": "f9b6dbe0",
   "metadata": {
    "origin_pos": 21
   },
   "source": [
    "The total time required for both operations is (as expected) less than the sum of their parts.\n",
    "Note that this task is different from parallel computation as it uses a different resource: the bus between the CPU and GPUs. In fact, we could compute on both devices and communicate, all at the same time. As noted above, there is a dependency between computation and communication: `y[i]` must be computed before it can be copied to the CPU. Fortunately, the system can copy `y[i-1]` while computing `y[i]` to reduce the total running time.\n",
    "\n",
    "We conclude with an illustration of the computational graph and its dependencies for a simple two-layer MLP when training on a CPU and two GPUs, as depicted in :numref:`fig_twogpu`. It would be quite painful to schedule the parallel program resulting from this manually. This is where it is advantageous to have a graph-based computing backend for optimization.\n",
    "\n",
    "![The computational graph and its dependencies of a two-layer MLP on a CPU and two GPUs.](../img/twogpu.svg)\n",
    ":label:`fig_twogpu`\n",
    "\n",
    "\n",
    "## Summary\n",
    "\n",
    "* Modern systems have a variety of devices, such as multiple GPUs and CPUs. They can be used in parallel, asynchronously.\n",
    "* Modern systems also have a variety of resources for communication, such as PCI Express, storage (typically solid-state drives or via networks), and network bandwidth. They can be used in parallel for peak efficiency.\n",
    "* The backend can improve performance through automatic parallel computation and communication.\n",
    "\n",
    "## Exercises\n",
    "\n",
    "1. Eight operations were performed in the `run` function defined in this section. There are no dependencies between them. Design an experiment to see if the deep learning framework will automatically execute them in parallel.\n",
    "1. When the workload of an individual operator is sufficiently small, parallelization can help even on a single CPU or GPU. Design an experiment to verify this.\n",
    "1. Design an experiment that uses parallel computation on CPUs, GPUs, and communication between both devices.\n",
    "1. Use a debugger such as NVIDIA's [Nsight](https://developer.nvidia.com/nsight-compute-2019_5) to verify that your code is efficient.\n",
    "1. Designing computation tasks that include more complex data dependencies, and run experiments to see if you can obtain the correct results while improving performance.\n"
   ]
  },
  {
   "cell_type": "markdown",
   "id": "afb7169e",
   "metadata": {
    "origin_pos": 22,
    "tab": [
     "mxnet"
    ]
   },
   "source": [
    "[Discussions](https://discuss.d2l.ai/t/362)\n"
   ]
  }
 ],
 "metadata": {
  "kernelspec": {
   "display_name": "conda_mxnet_p36",
   "name": "conda_mxnet_p36"
  },
  "language_info": {
   "name": "python"
  }
 },
 "nbformat": 4,
 "nbformat_minor": 5
}