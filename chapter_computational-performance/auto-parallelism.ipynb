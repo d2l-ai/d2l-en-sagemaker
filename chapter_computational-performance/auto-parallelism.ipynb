{
 "cells": [
  {
   "cell_type": "markdown",
   "id": "21d8ca1b",
   "metadata": {},
   "source": [
    "Installing (updating) the following libraries for your Sagemaker\n",
    "instance."
   ]
  },
  {
   "cell_type": "code",
   "execution_count": null,
   "id": "ad9d48a7",
   "metadata": {},
   "outputs": [],
   "source": [
    "!pip install -U mxnet-cu101==1.7.0\n",
    "!pip install ..  # installing d2l\n"
   ]
  },
  {
   "cell_type": "markdown",
   "id": "26dc11e5",
   "metadata": {
    "origin_pos": 0
   },
   "source": [
    "# Automatic Parallelism\n",
    ":label:`sec_auto_para`\n",
    "\n",
    "\n",
    "Deep learning frameworks (e.g., MXNet and PyTorch) automatically construct computational graphs at the backend. Using a\n",
    "computational graph, the system is aware of all the dependencies,\n",
    "and can selectively execute multiple non-interdependent tasks in parallel to\n",
    "improve speed. For instance, :numref:`fig_asyncgraph` in :numref:`sec_async` initializes two variables independently. Consequently the system can choose to execute them in parallel.\n",
    "\n",
    "\n",
    "Typically, a single operator will use all the computational resources on all CPUs or on a single GPU. For example, the `dot` operator will use all cores (and threads) on all CPUs, even if there are multiple CPU processors on a single machine. The same applies to a single GPU. Hence parallelization is not quite so useful for single-device computers. With multiple devices things matter more. While parallelization is typically most relevant between multiple GPUs, adding the local CPU will increase performance slightly. For example, see :citet:`Hadjis.Zhang.Mitliagkas.ea.2016` that focuses on training computer vision models combining a GPU and a CPU. With the convenience of an automatically parallelizing framework we can accomplish the same goal in a few lines of Python code. More broadly, our discussion of automatic parallel computation focuses on parallel computation using both CPUs and GPUs, as well as the parallelization of computation and communication.\n",
    "\n",
    "Note that we need at least two GPUs to run the experiments in this section.\n"
   ]
  },
  {
   "cell_type": "code",
   "execution_count": 1,
   "id": "da60b8b6",
   "metadata": {
    "execution": {
     "iopub.execute_input": "2022-08-29T23:01:53.246578Z",
     "iopub.status.busy": "2022-08-29T23:01:53.245801Z",
     "iopub.status.idle": "2022-08-29T23:01:55.785663Z",
     "shell.execute_reply": "2022-08-29T23:01:55.784657Z"
    },
    "origin_pos": 1,
    "tab": [
     "mxnet"
    ]
   },
   "outputs": [],
   "source": [
    "from mxnet import np, npx\n",
    "from d2l import mxnet as d2l\n",
    "\n",
    "npx.set_np()"
   ]
  },
  {
   "cell_type": "markdown",
   "id": "a5c741b9",
   "metadata": {
    "origin_pos": 3
   },
   "source": [
    "## Parallel Computation on GPUs\n",
    "\n",
    "Let's start by defining a reference workload to test: the `run` function below performs 10 matrix-matrix multiplications on the device of our choice using data allocated into two variables: `x_gpu1` and `x_gpu2`.\n"
   ]
  },
  {
   "cell_type": "code",
   "execution_count": 2,
   "id": "e32cba63",
   "metadata": {
    "execution": {
     "iopub.execute_input": "2022-08-29T23:01:55.791180Z",
     "iopub.status.busy": "2022-08-29T23:01:55.790418Z",
     "iopub.status.idle": "2022-08-29T23:02:02.890903Z",
     "shell.execute_reply": "2022-08-29T23:02:02.890044Z"
    },
    "origin_pos": 4,
    "tab": [
     "mxnet"
    ]
   },
   "outputs": [],
   "source": [
    "devices = d2l.try_all_gpus()\n",
    "def run(x):\n",
    "    return [x.dot(x) for _ in range(50)]\n",
    "\n",
    "x_gpu1 = np.random.uniform(size=(4000, 4000), ctx=devices[0])\n",
    "x_gpu2 = np.random.uniform(size=(4000, 4000), ctx=devices[1])"
   ]
  },
  {
   "cell_type": "markdown",
   "id": "e72afcf4",
   "metadata": {
    "origin_pos": 6,
    "tab": [
     "mxnet"
    ]
   },
   "source": [
    "Now we apply the function to the data. To ensure that caching does not play a role in the results we warm up the devices by performing a single pass on either of them prior to measuring.\n"
   ]
  },
  {
   "cell_type": "code",
   "execution_count": 3,
   "id": "610f5ac3",
   "metadata": {
    "execution": {
     "iopub.execute_input": "2022-08-29T23:02:02.895061Z",
     "iopub.status.busy": "2022-08-29T23:02:02.894446Z",
     "iopub.status.idle": "2022-08-29T23:02:04.456330Z",
     "shell.execute_reply": "2022-08-29T23:02:04.455491Z"
    },
    "origin_pos": 8,
    "tab": [
     "mxnet"
    ]
   },
   "outputs": [
    {
     "name": "stdout",
     "output_type": "stream",
     "text": [
      "GPU1 time: 0.5154 sec\n"
     ]
    },
    {
     "name": "stdout",
     "output_type": "stream",
     "text": [
      "GPU2 time: 0.5183 sec\n"
     ]
    }
   ],
   "source": [
    "run(x_gpu1)  # Warm-up both devices\n",
    "run(x_gpu2)\n",
    "npx.waitall()\n",
    "\n",
    "with d2l.Benchmark('GPU1 time'):\n",
    "    run(x_gpu1)\n",
    "    npx.waitall()\n",
    "\n",
    "with d2l.Benchmark('GPU2 time'):\n",
    "    run(x_gpu2)\n",
    "    npx.waitall()"
   ]
  },
  {
   "cell_type": "markdown",
   "id": "f3305fb1",
   "metadata": {
    "origin_pos": 10,
    "tab": [
     "mxnet"
    ]
   },
   "source": [
    "If we remove the `waitall` statement between both tasks the system is free to parallelize computation on both devices automatically.\n"
   ]
  },
  {
   "cell_type": "code",
   "execution_count": 4,
   "id": "68bde927",
   "metadata": {
    "execution": {
     "iopub.execute_input": "2022-08-29T23:02:04.460054Z",
     "iopub.status.busy": "2022-08-29T23:02:04.459474Z",
     "iopub.status.idle": "2022-08-29T23:02:04.982800Z",
     "shell.execute_reply": "2022-08-29T23:02:04.981924Z"
    },
    "origin_pos": 12,
    "tab": [
     "mxnet"
    ]
   },
   "outputs": [
    {
     "name": "stdout",
     "output_type": "stream",
     "text": [
      "GPU1 & GPU2: 0.5186 sec\n"
     ]
    }
   ],
   "source": [
    "with d2l.Benchmark('GPU1 & GPU2'):\n",
    "    run(x_gpu1)\n",
    "    run(x_gpu2)\n",
    "    npx.waitall()"
   ]
  },
  {
   "cell_type": "markdown",
   "id": "7a40fa01",
   "metadata": {
    "origin_pos": 14
   },
   "source": [
    "In the above case the total execution time is less than the sum of its parts, since the deep learning framework automatically schedules computation on both GPU devices without the need for sophisticated code on behalf of the user.\n",
    "\n",
    "\n",
    "\n",
    "## Parallel Computation and Communication\n",
    "\n",
    "In many cases we need to move data between different devices, say between the CPU and GPU, or between different GPUs.\n",
    "For instance,\n",
    "this occurs when we want to perform distributed optimization where we need to aggregate the gradients over multiple accelerator cards. Let's simulate this by computing on the GPU and then copying the results back to the CPU.\n"
   ]
  },
  {
   "cell_type": "code",
   "execution_count": 5,
   "id": "a8b8f134",
   "metadata": {
    "execution": {
     "iopub.execute_input": "2022-08-29T23:02:04.986604Z",
     "iopub.status.busy": "2022-08-29T23:02:04.986023Z",
     "iopub.status.idle": "2022-08-29T23:02:07.906443Z",
     "shell.execute_reply": "2022-08-29T23:02:07.905606Z"
    },
    "origin_pos": 15,
    "tab": [
     "mxnet"
    ]
   },
   "outputs": [
    {
     "name": "stdout",
     "output_type": "stream",
     "text": [
      "Run on GPU1: 0.5433 sec\n"
     ]
    },
    {
     "name": "stdout",
     "output_type": "stream",
     "text": [
      "Copy to CPU: 2.3712 sec\n"
     ]
    }
   ],
   "source": [
    "def copy_to_cpu(x):\n",
    "    return [y.copyto(npx.cpu()) for y in x]\n",
    "\n",
    "with d2l.Benchmark('Run on GPU1'):\n",
    "    y = run(x_gpu1)\n",
    "    npx.waitall()\n",
    "\n",
    "with d2l.Benchmark('Copy to CPU'):\n",
    "    y_cpu = copy_to_cpu(y)\n",
    "    npx.waitall()"
   ]
  },
  {
   "cell_type": "markdown",
   "id": "af890be7",
   "metadata": {
    "origin_pos": 17,
    "tab": [
     "mxnet"
    ]
   },
   "source": [
    "This is somewhat inefficient. Note that we could already start copying parts of `y` to the CPU while the remainder of the list is still being computed. This situation occurs, e.g., when we compute the gradient on a minibatch. The gradients of some of the parameters will be available earlier than that of others. Hence it works to our advantage to start using PCI-Express bus bandwidth while the GPU is still running. Removing `waitall` between both parts allows us to simulate this scenario.\n"
   ]
  },
  {
   "cell_type": "code",
   "execution_count": 6,
   "id": "86b10ac5",
   "metadata": {
    "execution": {
     "iopub.execute_input": "2022-08-29T23:02:07.910154Z",
     "iopub.status.busy": "2022-08-29T23:02:07.909608Z",
     "iopub.status.idle": "2022-08-29T23:02:10.374130Z",
     "shell.execute_reply": "2022-08-29T23:02:10.373260Z"
    },
    "origin_pos": 19,
    "tab": [
     "mxnet"
    ]
   },
   "outputs": [
    {
     "name": "stdout",
     "output_type": "stream",
     "text": [
      "Run on GPU1 and copy to CPU: 2.4596 sec\n"
     ]
    }
   ],
   "source": [
    "with d2l.Benchmark('Run on GPU1 and copy to CPU'):\n",
    "    y = run(x_gpu1)\n",
    "    y_cpu = copy_to_cpu(y)\n",
    "    npx.waitall()"
   ]
  },
  {
   "cell_type": "markdown",
   "id": "b06a425c",
   "metadata": {
    "origin_pos": 21
   },
   "source": [
    "The total time required for both operations is (as expected) less than the sum of their parts.\n",
    "Note that this task is different from parallel computation as it uses a different resource: the bus between the CPU and GPUs. In fact, we could compute on both devices and communicate, all at the same time. As noted above, there is a dependency between computation and communication: `y[i]` must be computed before it can be copied to the CPU. Fortunately, the system can copy `y[i-1]` while computing `y[i]` to reduce the total running time.\n",
    "\n",
    "We conclude with an illustration of the computational graph and its dependencies for a simple two-layer MLP when training on a CPU and two GPUs, as depicted in :numref:`fig_twogpu`. It would be quite painful to schedule the parallel program resulting from this manually. This is where it is advantageous to have a graph-based computing backend for optimization.\n",
    "\n",
    "![The computational graph and its dependencies of a two-layer MLP on a CPU and two GPUs.](../img/twogpu.svg)\n",
    ":label:`fig_twogpu`\n",
    "\n",
    "\n",
    "## Summary\n",
    "\n",
    "* Modern systems have a variety of devices, such as multiple GPUs and CPUs. They can be used in parallel, asynchronously.\n",
    "* Modern systems also have a variety of resources for communication, such as PCI Express, storage (typically solid-state drives or via networks), and network bandwidth. They can be used in parallel for peak efficiency.\n",
    "* The backend can improve performance through automatic parallel computation and communication.\n",
    "\n",
    "## Exercises\n",
    "\n",
    "1. Eight operations were performed in the `run` function defined in this section. There are no dependencies between them. Design an experiment to see if the deep learning framework will automatically execute them in parallel.\n",
    "1. When the workload of an individual operator is sufficiently small, parallelization can help even on a single CPU or GPU. Design an experiment to verify this.\n",
    "1. Design an experiment that uses parallel computation on CPUs, GPUs, and communication between both devices.\n",
    "1. Use a debugger such as NVIDIA's [Nsight](https://developer.nvidia.com/nsight-compute-2019_5) to verify that your code is efficient.\n",
    "1. Designing computation tasks that include more complex data dependencies, and run experiments to see if you can obtain the correct results while improving performance.\n"
   ]
  },
  {
   "cell_type": "markdown",
   "id": "ec0633ed",
   "metadata": {
    "origin_pos": 22,
    "tab": [
     "mxnet"
    ]
   },
   "source": [
    "[Discussions](https://discuss.d2l.ai/t/362)\n"
   ]
  }
 ],
 "metadata": {
  "kernelspec": {
   "display_name": "conda_mxnet_p36",
   "name": "conda_mxnet_p36"
  },
  "language_info": {
   "name": "python"
  }
 },
 "nbformat": 4,
 "nbformat_minor": 5
}