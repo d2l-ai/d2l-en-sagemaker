{
 "cells": [
  {
   "cell_type": "markdown",
   "metadata": {},
   "source": [
    "Installing (updating) the following libraries for your Sagemaker\n",
    "instance."
   ]
  },
  {
   "cell_type": "code",
   "execution_count": null,
   "metadata": {},
   "outputs": [],
   "source": [
    "!pip install ..  # installing d2l\n",
    "!pip install -U mxnet-cu101==1.7.0\n"
   ]
  },
  {
   "cell_type": "markdown",
   "metadata": {
    "origin_pos": 0
   },
   "source": [
    "# Convolução Transposta\n",
    ":label:`sec_transposed_conv`\n",
    "\n",
    "As camadas que apresentamos até agora para redes neurais convolucionais, incluindo camadas convolucionais (:numref:`sec_conv_layer`) e camadas de pooling (:numref:`sec_pooling`), geralmente reduzem a largura e altura de entrada ou as mantêm inalteradas. Aplicativos como segmentação semântica (:numref:`sec_semantic_segmentation`) e redes adversárias geradoras (:numref:`sec_dcgan`), no entanto, exigem prever valores para cada pixel e, portanto, precisam aumentar a largura e altura de entrada. A convolução transposta, também chamada de convolução fracionada :cite:`Dumoulin.Visin.2016` ou deconvolução :cite:`Long.Shelhamer.Darrell.2015`, serve a este propósito.\n"
   ]
  },
  {
   "cell_type": "code",
   "execution_count": 1,
   "metadata": {
    "origin_pos": 1,
    "tab": [
     "mxnet"
    ]
   },
   "outputs": [],
   "source": [
    "from mxnet import init, np, npx\n",
    "from mxnet.gluon import nn\n",
    "from d2l import mxnet as d2l\n",
    "\n",
    "npx.set_np()"
   ]
  },
  {
   "cell_type": "markdown",
   "metadata": {
    "origin_pos": 3
   },
   "source": [
    "## Convolução Transposta 2D Básica\n",
    "\n",
    "Vamos considerar um caso básico em que os canais de entrada e saída são 1, com 0 preenchimento e 1 passo. :numref:`fig_trans_conv` ilustra como a convolução transposta com um *kernel* $2\\times 2$ é calculada na matriz de entrada $2\\times 2$.\n",
    "\n",
    "![Camada de convolução transposta com um *kernel* $2\\times 2$.](../img/trans-conv.svg)\n",
    ":label:`fig_trans_conv`\n",
    "\n",
    "Podemos implementar essa operação fornecendo o *kernel* da matriz $K$ e a entrada da matriz $X$.\n"
   ]
  },
  {
   "cell_type": "code",
   "execution_count": 2,
   "metadata": {
    "origin_pos": 4,
    "tab": [
     "mxnet"
    ]
   },
   "outputs": [],
   "source": [
    "def trans_conv(X, K):\n",
    "    h, w = K.shape\n",
    "    Y = np.zeros((X.shape[0] + h - 1, X.shape[1] + w - 1))\n",
    "    for i in range(X.shape[0]):\n",
    "        for j in range(X.shape[1]):\n",
    "            Y[i: i + h, j: j + w] += X[i, j] * K\n",
    "    return Y"
   ]
  },
  {
   "cell_type": "markdown",
   "metadata": {
    "origin_pos": 5
   },
   "source": [
    "Lembre-se de que a convolução calcula os resultados por `Y[i, j] = (X[i: i + h, j: j + w] * K).sum()` (consulte `corr2d` em :numref:`sec_conv_layer`), que resume os valores de entrada por meio do *kernel*. Enquanto a convolução transposta transmite valores de entrada por meio do *kernel*, o que resulta em uma forma de saída maior.\n",
    "\n",
    "Verifique os resultados em :numref:`fig_trans_conv`.\n"
   ]
  },
  {
   "cell_type": "code",
   "execution_count": 3,
   "metadata": {
    "origin_pos": 6,
    "tab": [
     "mxnet"
    ]
   },
   "outputs": [
    {
     "data": {
      "text/plain": [
       "array([[ 0.,  0.,  1.],\n",
       "       [ 0.,  4.,  6.],\n",
       "       [ 4., 12.,  9.]])"
      ]
     },
     "execution_count": 3,
     "metadata": {},
     "output_type": "execute_result"
    }
   ],
   "source": [
    "X = np.array([[0., 1], [2, 3]])\n",
    "K = np.array([[0., 1], [2, 3]])\n",
    "trans_conv(X, K)"
   ]
  },
  {
   "cell_type": "markdown",
   "metadata": {
    "origin_pos": 7,
    "tab": [
     "mxnet"
    ]
   },
   "source": [
    "Ou podemos usar `nn.Conv2DTranspose` para obter os mesmos resultados. Como `nn.Conv2D`, tanto a entrada quanto o *kernel* devem ser tensores 4-D.\n"
   ]
  },
  {
   "cell_type": "code",
   "execution_count": 4,
   "metadata": {
    "origin_pos": 9,
    "tab": [
     "mxnet"
    ]
   },
   "outputs": [
    {
     "data": {
      "text/plain": [
       "array([[[[ 0.,  0.,  1.],\n",
       "         [ 0.,  4.,  6.],\n",
       "         [ 4., 12.,  9.]]]])"
      ]
     },
     "execution_count": 4,
     "metadata": {},
     "output_type": "execute_result"
    }
   ],
   "source": [
    "X, K = X.reshape(1, 1, 2, 2), K.reshape(1, 1, 2, 2)\n",
    "tconv = nn.Conv2DTranspose(1, kernel_size=2)\n",
    "tconv.initialize(init.Constant(K))\n",
    "tconv(X)"
   ]
  },
  {
   "cell_type": "markdown",
   "metadata": {
    "origin_pos": 11
   },
   "source": [
    "## Preenchimento, Passos e Canais\n",
    "\n",
    "Aplicamos elementos de preenchimento à entrada em convolução, enquanto eles são aplicados à saída em convolução transposta. Um preenchimento $1\\times 1$ significa que primeiro calculamos a saída como normal e, em seguida, removemos as primeiras/últimas linhas e colunas.\n"
   ]
  },
  {
   "cell_type": "code",
   "execution_count": 5,
   "metadata": {
    "origin_pos": 12,
    "tab": [
     "mxnet"
    ]
   },
   "outputs": [
    {
     "data": {
      "text/plain": [
       "array([[[[4.]]]])"
      ]
     },
     "execution_count": 5,
     "metadata": {},
     "output_type": "execute_result"
    }
   ],
   "source": [
    "tconv = nn.Conv2DTranspose(1, kernel_size=2, padding=1)\n",
    "tconv.initialize(init.Constant(K))\n",
    "tconv(X)"
   ]
  },
  {
   "cell_type": "markdown",
   "metadata": {
    "origin_pos": 14
   },
   "source": [
    "Da mesma forma, os avanços também são aplicados às saídas.\n"
   ]
  },
  {
   "cell_type": "code",
   "execution_count": 6,
   "metadata": {
    "origin_pos": 15,
    "tab": [
     "mxnet"
    ]
   },
   "outputs": [
    {
     "data": {
      "text/plain": [
       "array([[[[0., 0., 0., 1.],\n",
       "         [0., 0., 2., 3.],\n",
       "         [0., 2., 0., 3.],\n",
       "         [4., 6., 6., 9.]]]])"
      ]
     },
     "execution_count": 6,
     "metadata": {},
     "output_type": "execute_result"
    }
   ],
   "source": [
    "tconv = nn.Conv2DTranspose(1, kernel_size=2, strides=2)\n",
    "tconv.initialize(init.Constant(K))\n",
    "tconv(X)"
   ]
  },
  {
   "cell_type": "markdown",
   "metadata": {
    "origin_pos": 17
   },
   "source": [
    "A extensão multicanal da convolução transposta é igual à convolução. Quando a entrada tem vários canais, denotados por $c_i$, a convolução transposta atribui uma matriz de *kernel* $k_h\\times k_w$ a cada canal de entrada. Se a saída tem um tamanho de canal $c_o$, então temos um *kernel* $c_i\\times k_h\\times k_w$ para cada canal de saída.\n",
    "\n",
    "\n",
    "Como resultado, se alimentarmos $X$ em uma camada convolucional $f$ para calcular $Y=f(X)$ e criarmos uma camada de convolução transposta $g$ com os mesmos hiperparâmetros de $f$, exceto para o conjunto de canais de saída para ter o tamanho do canal de $X$, então $g(Y)$ deve ter o mesmo formato que $X$. Deixe-nos verificar esta afirmação.\n"
   ]
  },
  {
   "cell_type": "code",
   "execution_count": 7,
   "metadata": {
    "origin_pos": 18,
    "tab": [
     "mxnet"
    ]
   },
   "outputs": [
    {
     "data": {
      "text/plain": [
       "True"
      ]
     },
     "execution_count": 7,
     "metadata": {},
     "output_type": "execute_result"
    }
   ],
   "source": [
    "X = np.random.uniform(size=(1, 10, 16, 16))\n",
    "conv = nn.Conv2D(20, kernel_size=5, padding=2, strides=3)\n",
    "tconv = nn.Conv2DTranspose(10, kernel_size=5, padding=2, strides=3)\n",
    "conv.initialize()\n",
    "tconv.initialize()\n",
    "tconv(conv(X)).shape == X.shape"
   ]
  },
  {
   "cell_type": "markdown",
   "metadata": {
    "origin_pos": 20
   },
   "source": [
    "## Analogia à Transposição de Matriz\n",
    "\n",
    "A convolução transposta leva o nome da transposição da matriz. Na verdade, as operações de convolução também podem ser realizadas por multiplicação de matrizes. No exemplo abaixo, definimos uma entrada $X$ $3\\times 3$ com *kernel* $K$ $2\\times 2$, e então usamos `corr2d` para calcular a saída da convolução.\n"
   ]
  },
  {
   "cell_type": "code",
   "execution_count": 8,
   "metadata": {
    "origin_pos": 21,
    "tab": [
     "mxnet"
    ]
   },
   "outputs": [
    {
     "data": {
      "text/plain": [
       "array([[19., 25.],\n",
       "       [37., 43.]])"
      ]
     },
     "execution_count": 8,
     "metadata": {},
     "output_type": "execute_result"
    }
   ],
   "source": [
    "X = np.arange(9.0).reshape(3, 3)\n",
    "K = np.array([[0, 1], [2, 3]])\n",
    "Y = d2l.corr2d(X, K)\n",
    "Y"
   ]
  },
  {
   "cell_type": "markdown",
   "metadata": {
    "origin_pos": 22
   },
   "source": [
    "A seguir, reescrevemos o *kernel* de convolução $K$ como uma matriz $W$. Sua forma será $(4, 9)$, onde a linha $i^\\mathrm{th}$ presente aplicando o *kernel* à entrada para gerar o $i^\\mathrm{th}$ elemento de saída.\n"
   ]
  },
  {
   "cell_type": "code",
   "execution_count": 9,
   "metadata": {
    "origin_pos": 23,
    "tab": [
     "mxnet"
    ]
   },
   "outputs": [
    {
     "data": {
      "text/plain": [
       "array([[0., 1., 0., 2., 3., 0., 0., 0., 0.],\n",
       "       [0., 0., 1., 0., 2., 3., 0., 0., 0.],\n",
       "       [0., 0., 0., 0., 1., 0., 2., 3., 0.],\n",
       "       [0., 0., 0., 0., 0., 1., 0., 2., 3.]])"
      ]
     },
     "execution_count": 9,
     "metadata": {},
     "output_type": "execute_result"
    }
   ],
   "source": [
    "def kernel2matrix(K):\n",
    "    k, W = np.zeros(5), np.zeros((4, 9))\n",
    "    k[:2], k[3:5] = K[0, :], K[1, :]\n",
    "    W[0, :5], W[1, 1:6], W[2, 3:8], W[3, 4:] = k, k, k, k\n",
    "    return W\n",
    "\n",
    "W = kernel2matrix(K)\n",
    "W"
   ]
  },
  {
   "cell_type": "markdown",
   "metadata": {
    "origin_pos": 24
   },
   "source": [
    "Então, o operador de convolução pode ser implementado por multiplicação de matriz com remodelagem adequada.\n"
   ]
  },
  {
   "cell_type": "code",
   "execution_count": 10,
   "metadata": {
    "origin_pos": 25,
    "tab": [
     "mxnet"
    ]
   },
   "outputs": [
    {
     "data": {
      "text/plain": [
       "array([[ True,  True],\n",
       "       [ True,  True]])"
      ]
     },
     "execution_count": 10,
     "metadata": {},
     "output_type": "execute_result"
    }
   ],
   "source": [
    "Y == np.dot(W, X.reshape(-1)).reshape(2, 2)"
   ]
  },
  {
   "cell_type": "markdown",
   "metadata": {
    "origin_pos": 27
   },
   "source": [
    "Podemos implementar a convolução transposta como uma multiplicação de matriz reutilizando `kernel2matrix`. Para reutilizar o $W$ gerado, construímos uma entrada $2\\times 2$, de modo que a matriz de peso correspondente terá uma forma $(9, 4)$, que é $W^\\top$. Deixe-nos verificar os resultados.\n"
   ]
  },
  {
   "cell_type": "code",
   "execution_count": 11,
   "metadata": {
    "origin_pos": 28,
    "tab": [
     "mxnet"
    ]
   },
   "outputs": [
    {
     "data": {
      "text/plain": [
       "array([[ True,  True,  True],\n",
       "       [ True,  True,  True],\n",
       "       [ True,  True,  True]])"
      ]
     },
     "execution_count": 11,
     "metadata": {},
     "output_type": "execute_result"
    }
   ],
   "source": [
    "X = np.array([[0, 1], [2, 3]])\n",
    "Y = trans_conv(X, K)\n",
    "Y == np.dot(W.T, X.reshape(-1)).reshape(3, 3)"
   ]
  },
  {
   "cell_type": "markdown",
   "metadata": {
    "origin_pos": 30
   },
   "source": [
    "## Resumo\n",
    "\n",
    "* Em comparação com as convoluções que reduzem as entradas por meio de *kernels*, as convoluções transpostas transmitem as entradas.\n",
    "* Se uma camada de convolução reduz a largura e altura de entrada em $n_w$ e $h_h$ tempo, respectivamente. Então, uma camada de convolução transposta com os mesmos tamanhos de *kernel*, preenchimento e passos aumentará a largura e altura de entrada em $n_w$ e $h_h$, respectivamente.\n",
    "* Podemos implementar operações de convolução pela multiplicação da matriz, as convoluções transpostas correspondentes podem ser feitas pela multiplicação da matriz transposta.\n",
    "\n",
    "## Exercícios\n",
    "\n",
    "1. É eficiente usar a multiplicação de matrizes para implementar operações de convolução? Por quê?\n"
   ]
  },
  {
   "cell_type": "markdown",
   "metadata": {
    "origin_pos": 31,
    "tab": [
     "mxnet"
    ]
   },
   "source": [
    "[Discussões](https://discuss.d2l.ai/t/376)\n"
   ]
  },
  {
   "cell_type": "markdown",
   "metadata": {
    "origin_pos": 33
   },
   "source": [
    "<!--stackedit_data:\n",
    "eyJoaXN0b3J5IjpbLTExNTE1Njg5MDEsLTE0MzgzMjU5MzUsMT\n",
    "U0MjgyNDE5Ml19\n",
    "-->\n"
   ]
  }
 ],
 "metadata": {
  "kernelspec": {
   "display_name": "conda_mxnet_p36",
   "name": "conda_mxnet_p36"
  },
  "language_info": {
   "name": "python"
  }
 },
 "nbformat": 4,
 "nbformat_minor": 4
}