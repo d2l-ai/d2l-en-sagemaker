{
 "cells": [
  {
   "cell_type": "markdown",
   "id": "0fd2a5b5",
   "metadata": {},
   "source": [
    "Installing (updating) the following libraries for your Sagemaker\n",
    "instance."
   ]
  },
  {
   "cell_type": "code",
   "execution_count": null,
   "id": "b61d200b",
   "metadata": {},
   "outputs": [],
   "source": [
    "!pip install ..  # installing d2l\n",
    "!pip install -U mxnet-cu101==1.7.0\n"
   ]
  },
  {
   "cell_type": "markdown",
   "id": "ea760dce",
   "metadata": {
    "origin_pos": 0
   },
   "source": [
    "# Transposed Convolution\n",
    ":label:`sec_transposed_conv`\n",
    "\n",
    "The CNN layers we have seen so far,\n",
    "such as convolutional layers (:numref:`sec_conv_layer`) and pooling layers (:numref:`sec_pooling`),\n",
    "typically reduce (downsample) the spatial dimensions (height and width) of the input,\n",
    "or keep them unchanged.\n",
    "In semantic segmentation\n",
    "that classifies at pixel-level,\n",
    "it will be convenient if\n",
    "the spatial dimensions of the\n",
    "input and output are the same.\n",
    "For example,\n",
    "the channel dimension at one output pixel \n",
    "can hold the classification results\n",
    "for the input pixel at the same spatial position.\n",
    "\n",
    "\n",
    "To achieve this, especially after \n",
    "the spatial dimensions are reduced by CNN layers,\n",
    "we can use another type\n",
    "of CNN layers\n",
    "that can increase (upsample) the spatial dimensions\n",
    "of intermediate feature maps.\n",
    "In this section,\n",
    "we will introduce \n",
    "*transposed convolution*, which is also called *fractionally-strided convolution* :cite:`Dumoulin.Visin.2016`, \n",
    "for reversing downsampling operations\n",
    "by the convolution.\n"
   ]
  },
  {
   "cell_type": "code",
   "execution_count": 1,
   "id": "cf8cdad2",
   "metadata": {
    "execution": {
     "iopub.execute_input": "2022-07-13T09:06:57.246711Z",
     "iopub.status.busy": "2022-07-13T09:06:57.246084Z",
     "iopub.status.idle": "2022-07-13T09:06:59.995628Z",
     "shell.execute_reply": "2022-07-13T09:06:59.994204Z"
    },
    "origin_pos": 1,
    "tab": [
     "mxnet"
    ]
   },
   "outputs": [],
   "source": [
    "from mxnet import init, np, npx\n",
    "from mxnet.gluon import nn\n",
    "from d2l import mxnet as d2l\n",
    "\n",
    "npx.set_np()"
   ]
  },
  {
   "cell_type": "markdown",
   "id": "8d854fd2",
   "metadata": {
    "origin_pos": 3
   },
   "source": [
    "## Basic Operation\n",
    "\n",
    "Ignoring channels for now,\n",
    "let's begin with\n",
    "the basic transposed convolution operation\n",
    "with stride of 1 and no padding.\n",
    "Suppose that\n",
    "we are given a \n",
    "$n_h \\times n_w$ input tensor\n",
    "and a $k_h \\times k_w$ kernel.\n",
    "Sliding the kernel window with stride of 1\n",
    "for $n_w$ times in each row\n",
    "and $n_h$ times in each column\n",
    "yields \n",
    "a total of $n_h n_w$ intermediate results.\n",
    "Each intermediate result is\n",
    "a $(n_h + k_h - 1) \\times (n_w + k_w - 1)$\n",
    "tensor that are initialized as zeros.\n",
    "To compute each intermediate tensor,\n",
    "each element in the input tensor\n",
    "is multiplied by the kernel\n",
    "so that the resulting $k_h \\times k_w$ tensor\n",
    "replaces a portion in\n",
    "each intermediate tensor.\n",
    "Note that\n",
    "the position of the replaced portion in each\n",
    "intermediate tensor corresponds to the position of the element\n",
    "in the input tensor used for the computation.\n",
    "In the end, all the intermediate results\n",
    "are summed over to produce the output.\n",
    "\n",
    "As an example,\n",
    ":numref:`fig_trans_conv` illustrates\n",
    "how transposed convolution with a $2\\times 2$ kernel is computed for a $2\\times 2$ input tensor.\n",
    "\n",
    "\n",
    "![Transposed convolution with a $2\\times 2$ kernel. The shaded portions are a portion of an intermediate tensor as well as the input and kernel tensor elements used for the  computation.](../img/trans_conv.svg)\n",
    ":label:`fig_trans_conv`\n",
    "\n",
    "\n",
    "We can (**implement this basic transposed convolution operation**) `trans_conv` for a input matrix `X` and a kernel matrix `K`.\n"
   ]
  },
  {
   "cell_type": "code",
   "execution_count": 2,
   "id": "28fd6d64",
   "metadata": {
    "execution": {
     "iopub.execute_input": "2022-07-13T09:07:00.038195Z",
     "iopub.status.busy": "2022-07-13T09:07:00.037293Z",
     "iopub.status.idle": "2022-07-13T09:07:00.047198Z",
     "shell.execute_reply": "2022-07-13T09:07:00.045933Z"
    },
    "origin_pos": 4,
    "tab": [
     "mxnet"
    ]
   },
   "outputs": [],
   "source": [
    "def trans_conv(X, K):\n",
    "    h, w = K.shape\n",
    "    Y = np.zeros((X.shape[0] + h - 1, X.shape[1] + w - 1))\n",
    "    for i in range(X.shape[0]):\n",
    "        for j in range(X.shape[1]):\n",
    "            Y[i: i + h, j: j + w] += X[i, j] * K\n",
    "    return Y"
   ]
  },
  {
   "cell_type": "markdown",
   "id": "90742715",
   "metadata": {
    "origin_pos": 5
   },
   "source": [
    "In contrast to the regular convolution (in :numref:`sec_conv_layer`) that *reduces* input elements\n",
    "via the kernel,\n",
    "the transposed convolution\n",
    "*broadcasts* input elements \n",
    "via the kernel, thereby\n",
    "producing an output\n",
    "that is larger than the input.\n",
    "We can construct the input tensor `X` and the kernel tensor `K` from :numref:`fig_trans_conv` to [**validate the output of the above implementation**] of the basic two-dimensional transposed convolution operation.\n"
   ]
  },
  {
   "cell_type": "code",
   "execution_count": 3,
   "id": "a7d79a84",
   "metadata": {
    "execution": {
     "iopub.execute_input": "2022-07-13T09:07:00.052779Z",
     "iopub.status.busy": "2022-07-13T09:07:00.052231Z",
     "iopub.status.idle": "2022-07-13T09:07:00.071411Z",
     "shell.execute_reply": "2022-07-13T09:07:00.070327Z"
    },
    "origin_pos": 6,
    "tab": [
     "mxnet"
    ]
   },
   "outputs": [
    {
     "data": {
      "text/plain": [
       "array([[ 0.,  0.,  1.],\n",
       "       [ 0.,  4.,  6.],\n",
       "       [ 4., 12.,  9.]])"
      ]
     },
     "execution_count": 3,
     "metadata": {},
     "output_type": "execute_result"
    }
   ],
   "source": [
    "X = np.array([[0.0, 1.0], [2.0, 3.0]])\n",
    "K = np.array([[0.0, 1.0], [2.0, 3.0]])\n",
    "trans_conv(X, K)"
   ]
  },
  {
   "cell_type": "markdown",
   "id": "814d933d",
   "metadata": {
    "origin_pos": 7
   },
   "source": [
    "Alternatively,\n",
    "when the input `X` and kernel `K` are both\n",
    "four-dimensional tensors,\n",
    "we can [**use high-level APIs to obtain the same results**].\n"
   ]
  },
  {
   "cell_type": "code",
   "execution_count": 4,
   "id": "afa0c39a",
   "metadata": {
    "execution": {
     "iopub.execute_input": "2022-07-13T09:07:00.076549Z",
     "iopub.status.busy": "2022-07-13T09:07:00.076190Z",
     "iopub.status.idle": "2022-07-13T09:07:00.125037Z",
     "shell.execute_reply": "2022-07-13T09:07:00.123922Z"
    },
    "origin_pos": 8,
    "tab": [
     "mxnet"
    ]
   },
   "outputs": [
    {
     "data": {
      "text/plain": [
       "array([[[[ 0.,  0.,  1.],\n",
       "         [ 0.,  4.,  6.],\n",
       "         [ 4., 12.,  9.]]]])"
      ]
     },
     "execution_count": 4,
     "metadata": {},
     "output_type": "execute_result"
    }
   ],
   "source": [
    "X, K = X.reshape(1, 1, 2, 2), K.reshape(1, 1, 2, 2)\n",
    "tconv = nn.Conv2DTranspose(1, kernel_size=2)\n",
    "tconv.initialize(init.Constant(K))\n",
    "tconv(X)"
   ]
  },
  {
   "cell_type": "markdown",
   "id": "a6dfd6b2",
   "metadata": {
    "origin_pos": 10
   },
   "source": [
    "## [**Padding, Strides, and Multiple Channels**]\n",
    "\n",
    "Different from in the regular convolution\n",
    "where padding is applied to input,\n",
    "it is applied to output\n",
    "in the transposed convolution.\n",
    "For example,\n",
    "when specifying the padding number\n",
    "on either side of the height and width \n",
    "as 1,\n",
    "the first and last rows and columns\n",
    "will be removed from the transposed convolution output.\n"
   ]
  },
  {
   "cell_type": "code",
   "execution_count": 5,
   "id": "69a5c60b",
   "metadata": {
    "execution": {
     "iopub.execute_input": "2022-07-13T09:07:00.129972Z",
     "iopub.status.busy": "2022-07-13T09:07:00.129289Z",
     "iopub.status.idle": "2022-07-13T09:07:00.146821Z",
     "shell.execute_reply": "2022-07-13T09:07:00.145787Z"
    },
    "origin_pos": 11,
    "tab": [
     "mxnet"
    ]
   },
   "outputs": [
    {
     "data": {
      "text/plain": [
       "array([[[[4.]]]])"
      ]
     },
     "execution_count": 5,
     "metadata": {},
     "output_type": "execute_result"
    }
   ],
   "source": [
    "tconv = nn.Conv2DTranspose(1, kernel_size=2, padding=1)\n",
    "tconv.initialize(init.Constant(K))\n",
    "tconv(X)"
   ]
  },
  {
   "cell_type": "markdown",
   "id": "c7550f71",
   "metadata": {
    "origin_pos": 13
   },
   "source": [
    "In the transposed convolution,\n",
    "strides are specified for intermediate results (thus output), not for input.\n",
    "Using the same input and kernel tensors\n",
    "from :numref:`fig_trans_conv`,\n",
    "changing the stride from 1 to 2\n",
    "increases both the height and weight\n",
    "of intermediate tensors, hence the output tensor\n",
    "in :numref:`fig_trans_conv_stride2`.\n",
    "\n",
    "\n",
    "![Transposed convolution with a $2\\times 2$ kernel with stride of 2. The shaded portions are a portion of an intermediate tensor as well as the input and kernel tensor elements used for the  computation.](../img/trans_conv_stride2.svg)\n",
    ":label:`fig_trans_conv_stride2`\n",
    "\n",
    "\n",
    "\n",
    "The following code snippet can validate the transposed convolution output for stride of 2 in :numref:`fig_trans_conv_stride2`.\n"
   ]
  },
  {
   "cell_type": "code",
   "execution_count": 6,
   "id": "8f2a4b0e",
   "metadata": {
    "execution": {
     "iopub.execute_input": "2022-07-13T09:07:00.152322Z",
     "iopub.status.busy": "2022-07-13T09:07:00.151482Z",
     "iopub.status.idle": "2022-07-13T09:07:00.175488Z",
     "shell.execute_reply": "2022-07-13T09:07:00.174596Z"
    },
    "origin_pos": 14,
    "tab": [
     "mxnet"
    ]
   },
   "outputs": [
    {
     "data": {
      "text/plain": [
       "array([[[[0., 0., 0., 1.],\n",
       "         [0., 0., 2., 3.],\n",
       "         [0., 2., 0., 3.],\n",
       "         [4., 6., 6., 9.]]]])"
      ]
     },
     "execution_count": 6,
     "metadata": {},
     "output_type": "execute_result"
    }
   ],
   "source": [
    "tconv = nn.Conv2DTranspose(1, kernel_size=2, strides=2)\n",
    "tconv.initialize(init.Constant(K))\n",
    "tconv(X)"
   ]
  },
  {
   "cell_type": "markdown",
   "id": "f8f5713a",
   "metadata": {
    "origin_pos": 16
   },
   "source": [
    "For multiple input and output channels,\n",
    "the transposed convolution\n",
    "works in the same way as the regular convolution.\n",
    "Suppose that\n",
    "the input has $c_i$ channels,\n",
    "and that the transposed convolution\n",
    "assigns a $k_h\\times k_w$ kernel tensor\n",
    "to each input channel.\n",
    "When multiple output channels \n",
    "are specified,\n",
    "we will have a $c_i\\times k_h\\times k_w$ kernel for each output channel.\n",
    "\n",
    "\n",
    "As in all, if we feed $\\mathsf{X}$ into a convolutional layer $f$ to output $\\mathsf{Y}=f(\\mathsf{X})$ and create a transposed convolutional layer $g$ with the same hyperparameters as $f$ except \n",
    "for the number of output channels \n",
    "being the number of channels in $\\mathsf{X}$,\n",
    "then $g(Y)$ will have the same shape as $\\mathsf{X}$.\n",
    "This can be illustrated in the following example.\n"
   ]
  },
  {
   "cell_type": "code",
   "execution_count": 7,
   "id": "93c4ea31",
   "metadata": {
    "execution": {
     "iopub.execute_input": "2022-07-13T09:07:00.180229Z",
     "iopub.status.busy": "2022-07-13T09:07:00.179741Z",
     "iopub.status.idle": "2022-07-13T09:07:00.210580Z",
     "shell.execute_reply": "2022-07-13T09:07:00.209713Z"
    },
    "origin_pos": 17,
    "tab": [
     "mxnet"
    ]
   },
   "outputs": [
    {
     "data": {
      "text/plain": [
       "True"
      ]
     },
     "execution_count": 7,
     "metadata": {},
     "output_type": "execute_result"
    }
   ],
   "source": [
    "X = np.random.uniform(size=(1, 10, 16, 16))\n",
    "conv = nn.Conv2D(20, kernel_size=5, padding=2, strides=3)\n",
    "tconv = nn.Conv2DTranspose(10, kernel_size=5, padding=2, strides=3)\n",
    "conv.initialize()\n",
    "tconv.initialize()\n",
    "tconv(conv(X)).shape == X.shape"
   ]
  },
  {
   "cell_type": "markdown",
   "id": "7962f315",
   "metadata": {
    "origin_pos": 19
   },
   "source": [
    "## [**Connection to Matrix Transposition**]\n",
    ":label:`subsec-connection-to-mat-transposition`\n",
    "\n",
    "The transposed convolution is named after\n",
    "the matrix transposition.\n",
    "To explain,\n",
    "let's first\n",
    "see how to implement convolutions\n",
    "using matrix multiplications.\n",
    "In the example below, we define a $3\\times 3$ input `X` and a $2\\times 2$ convolution kernel `K`, and then use the `corr2d` function to compute the convolution output `Y`.\n"
   ]
  },
  {
   "cell_type": "code",
   "execution_count": 8,
   "id": "383c0c5b",
   "metadata": {
    "execution": {
     "iopub.execute_input": "2022-07-13T09:07:00.217239Z",
     "iopub.status.busy": "2022-07-13T09:07:00.215579Z",
     "iopub.status.idle": "2022-07-13T09:07:00.293943Z",
     "shell.execute_reply": "2022-07-13T09:07:00.292838Z"
    },
    "origin_pos": 20,
    "tab": [
     "mxnet"
    ]
   },
   "outputs": [
    {
     "data": {
      "text/plain": [
       "array([[27., 37.],\n",
       "       [57., 67.]])"
      ]
     },
     "execution_count": 8,
     "metadata": {},
     "output_type": "execute_result"
    }
   ],
   "source": [
    "X = np.arange(9.0).reshape(3, 3)\n",
    "K = np.array([[1.0, 2.0], [3.0, 4.0]])\n",
    "Y = d2l.corr2d(X, K)\n",
    "Y"
   ]
  },
  {
   "cell_type": "markdown",
   "id": "b204adfe",
   "metadata": {
    "origin_pos": 21
   },
   "source": [
    "Next, we rewrite the convolution kernel `K` as\n",
    "a sparse weight matrix `W`\n",
    "containing a lot of zeros. \n",
    "The shape of the weight matrix is ($4$, $9$),\n",
    "where the non-zero elements come from\n",
    "the convolution kernel `K`.\n"
   ]
  },
  {
   "cell_type": "code",
   "execution_count": 9,
   "id": "c2ccda27",
   "metadata": {
    "execution": {
     "iopub.execute_input": "2022-07-13T09:07:00.298726Z",
     "iopub.status.busy": "2022-07-13T09:07:00.297868Z",
     "iopub.status.idle": "2022-07-13T09:07:00.312925Z",
     "shell.execute_reply": "2022-07-13T09:07:00.311880Z"
    },
    "origin_pos": 22,
    "tab": [
     "mxnet"
    ]
   },
   "outputs": [
    {
     "data": {
      "text/plain": [
       "array([[1., 2., 0., 3., 4., 0., 0., 0., 0.],\n",
       "       [0., 1., 2., 0., 3., 4., 0., 0., 0.],\n",
       "       [0., 0., 0., 1., 2., 0., 3., 4., 0.],\n",
       "       [0., 0., 0., 0., 1., 2., 0., 3., 4.]])"
      ]
     },
     "execution_count": 9,
     "metadata": {},
     "output_type": "execute_result"
    }
   ],
   "source": [
    "def kernel2matrix(K):\n",
    "    k, W = np.zeros(5), np.zeros((4, 9))\n",
    "    k[:2], k[3:5] = K[0, :], K[1, :]\n",
    "    W[0, :5], W[1, 1:6], W[2, 3:8], W[3, 4:] = k, k, k, k\n",
    "    return W\n",
    "\n",
    "W = kernel2matrix(K)\n",
    "W"
   ]
  },
  {
   "cell_type": "markdown",
   "id": "9cefd2cd",
   "metadata": {
    "origin_pos": 23
   },
   "source": [
    "Concatenate the input `X` row by row to get a vector of length 9. Then the matrix multiplication of `W` and the vectorized `X` gives a vector of length 4.\n",
    "After reshaping it, we can obtain the same result `Y`\n",
    "from the original convolution operation above:\n",
    "we just implemented convolutions using matrix multiplications.\n"
   ]
  },
  {
   "cell_type": "code",
   "execution_count": 10,
   "id": "130ac533",
   "metadata": {
    "execution": {
     "iopub.execute_input": "2022-07-13T09:07:00.316951Z",
     "iopub.status.busy": "2022-07-13T09:07:00.316445Z",
     "iopub.status.idle": "2022-07-13T09:07:00.330556Z",
     "shell.execute_reply": "2022-07-13T09:07:00.329450Z"
    },
    "origin_pos": 24,
    "tab": [
     "mxnet"
    ]
   },
   "outputs": [
    {
     "data": {
      "text/plain": [
       "array([[ True,  True],\n",
       "       [ True,  True]])"
      ]
     },
     "execution_count": 10,
     "metadata": {},
     "output_type": "execute_result"
    }
   ],
   "source": [
    "Y == np.dot(W, X.reshape(-1)).reshape(2, 2)"
   ]
  },
  {
   "cell_type": "markdown",
   "id": "9f83bd69",
   "metadata": {
    "origin_pos": 25
   },
   "source": [
    "Likewise, we can implement transposed convolutions using\n",
    "matrix multiplications.\n",
    "In the following example,\n",
    "we take the $2 \\times 2$ output `Y` from the above\n",
    "regular convolution\n",
    "as input to the transposed convolution.\n",
    "To implement this operation by multiplying matrices,\n",
    "we only need to transpose the weight matrix `W`\n",
    "with the new shape $(9, 4)$.\n"
   ]
  },
  {
   "cell_type": "code",
   "execution_count": 11,
   "id": "dc2972ee",
   "metadata": {
    "execution": {
     "iopub.execute_input": "2022-07-13T09:07:00.336046Z",
     "iopub.status.busy": "2022-07-13T09:07:00.335442Z",
     "iopub.status.idle": "2022-07-13T09:07:00.386419Z",
     "shell.execute_reply": "2022-07-13T09:07:00.385257Z"
    },
    "origin_pos": 26,
    "tab": [
     "mxnet"
    ]
   },
   "outputs": [
    {
     "data": {
      "text/plain": [
       "array([[ True,  True,  True],\n",
       "       [ True,  True,  True],\n",
       "       [ True,  True,  True]])"
      ]
     },
     "execution_count": 11,
     "metadata": {},
     "output_type": "execute_result"
    }
   ],
   "source": [
    "Z = trans_conv(Y, K)\n",
    "Z == np.dot(W.T, Y.reshape(-1)).reshape(3, 3)"
   ]
  },
  {
   "cell_type": "markdown",
   "id": "d9bfc580",
   "metadata": {
    "origin_pos": 27
   },
   "source": [
    "Consider implementing the convolution\n",
    "by multiplying matrices.\n",
    "Given an input vector $\\mathbf{x}$\n",
    "and a weight matrix $\\mathbf{W}$,\n",
    "the forward propagation function of the convolution\n",
    "can be implemented\n",
    "by multiplying its input with the weight matrix\n",
    "and outputting a vector \n",
    "$\\mathbf{y}=\\mathbf{W}\\mathbf{x}$.\n",
    "Since backpropagation\n",
    "follows the chain rule\n",
    "and $\\nabla_{\\mathbf{x}}\\mathbf{y}=\\mathbf{W}^\\top$,\n",
    "the backpropagation function of the convolution\n",
    "can be implemented\n",
    "by multiplying its input with the \n",
    "transposed weight matrix $\\mathbf{W}^\\top$.\n",
    "Therefore, \n",
    "the transposed convolutional layer\n",
    "can just exchange the forward propagation function\n",
    "and the backpropagation function of the convolutional layer:\n",
    "its forward propagation \n",
    "and backpropagation functions\n",
    "multiply their input vector with \n",
    "$\\mathbf{W}^\\top$ and $\\mathbf{W}$, respectively.\n",
    "\n",
    "\n",
    "## Summary\n",
    "\n",
    "* In contrast to the regular convolution that reduces input elements via the kernel, the transposed convolution broadcasts input elements via the kernel, thereby producing an output that is larger than the input.\n",
    "* If we feed $\\mathsf{X}$ into a convolutional layer $f$ to output $\\mathsf{Y}=f(\\mathsf{X})$ and create a transposed convolutional layer $g$ with the same hyperparameters as $f$ except for the number of output channels being the number of channels in $\\mathsf{X}$, then $g(Y)$ will have the same shape as $\\mathsf{X}$.\n",
    "* We can implement convolutions using matrix multiplications. The transposed convolutional layer can just exchange the forward propagation function and the backpropagation function of the convolutional layer.\n",
    "\n",
    "\n",
    "## Exercises\n",
    "\n",
    "1. In :numref:`subsec-connection-to-mat-transposition`, the convolution input `X` and the transposed convolution output `Z` have the same shape. Do they have the same value? Why?\n",
    "1. Is it efficient to use matrix multiplications to implement convolutions? Why?\n"
   ]
  },
  {
   "cell_type": "markdown",
   "id": "6ce8adb9",
   "metadata": {
    "origin_pos": 28,
    "tab": [
     "mxnet"
    ]
   },
   "source": [
    "[Discussions](https://discuss.d2l.ai/t/376)\n"
   ]
  }
 ],
 "metadata": {
  "kernelspec": {
   "display_name": "conda_mxnet_p36",
   "name": "conda_mxnet_p36"
  },
  "language_info": {
   "name": "python"
  }
 },
 "nbformat": 4,
 "nbformat_minor": 5
}