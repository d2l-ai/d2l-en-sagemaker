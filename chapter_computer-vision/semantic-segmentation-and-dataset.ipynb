{
 "cells": [
  {
   "cell_type": "markdown",
   "id": "04410f7b",
   "metadata": {},
   "source": [
    "Installing (updating) the following libraries for your Sagemaker\n",
    "instance."
   ]
  },
  {
   "cell_type": "code",
   "execution_count": null,
   "id": "d67ccfc8",
   "metadata": {},
   "outputs": [],
   "source": [
    "!pip install ..  # installing d2l\n",
    "!pip install -U mxnet-cu101==1.7.0\n"
   ]
  },
  {
   "cell_type": "markdown",
   "id": "d8b3227b",
   "metadata": {
    "origin_pos": 0
   },
   "source": [
    "# Semantic Segmentation and the Dataset\n",
    ":label:`sec_semantic_segmentation`\n",
    "\n",
    "When discussing object detection tasks\n",
    "in :numref:`sec_bbox`--:numref:`sec_rcnn`,\n",
    "rectangular bounding boxes\n",
    "are used to label and predict objects in images.\n",
    "This section will discuss the problem of *semantic segmentation*,\n",
    "which focuses on how to divide an image into regions belonging to different semantic classes.\n",
    "Different from object detection,\n",
    "semantic segmentation\n",
    "recognizes and understands\n",
    "what are in images in pixel level:\n",
    "its labeling and prediction of semantic regions are\n",
    "in pixel level.\n",
    ":numref:`fig_segmentation` shows the labels\n",
    "of the dog, cat, and background of the image in semantic segmentation.\n",
    "Compared with in object detection,\n",
    "the pixel-level borders labeled\n",
    "in semantic segmentation are obviously more fine-grained.\n",
    "\n",
    "\n",
    "![Labels of the dog, cat, and background of the image in semantic segmentation.](../img/segmentation.svg)\n",
    ":label:`fig_segmentation`\n",
    "\n",
    "\n",
    "## Image Segmentation and Instance Segmentation\n",
    "\n",
    "There are also two important tasks\n",
    "in the field of computer vision that are similar to semantic segmentation,\n",
    "namely image segmentation and instance segmentation.\n",
    "We will briefly\n",
    "distinguish them from semantic segmentation as follows.\n",
    "\n",
    "* *Image segmentation* divides an image into several constituent regions. The methods for this type of problem usually make use of the correlation between pixels in the image. It does not need label information about image pixels during training, and it cannot guarantee that the segmented regions will have the semantics that we hope to obtain during prediction. Taking the image in :numref:`fig_segmentation` as input, image segmentation may divide the dog into two regions: one covers the mouth and eyes which are mainly black, and the other covers the rest of the body which is mainly yellow.\n",
    "* *Instance segmentation* is also called *simultaneous detection and segmentation*. It studies how to recognize the pixel-level regions of each object instance in an image. Different from semantic segmentation, instance segmentation needs to distinguish not only semantics, but also different object instances. For example, if there are two dogs in the image, instance segmentation needs to distinguish which of the two dogs a pixel belongs to.\n",
    "\n",
    "\n",
    "\n",
    "## The Pascal VOC2012 Semantic Segmentation Dataset\n",
    "\n",
    "[**On of the most important semantic segmentation dataset\n",
    "is [Pascal VOC2012](http://host.robots.ox.ac.uk/pascal/VOC/voc2012/).**]\n",
    "In the following,\n",
    "we will take a look at this dataset.\n"
   ]
  },
  {
   "cell_type": "code",
   "execution_count": 1,
   "id": "02081733",
   "metadata": {
    "execution": {
     "iopub.execute_input": "2022-07-13T09:27:29.318648Z",
     "iopub.status.busy": "2022-07-13T09:27:29.318012Z",
     "iopub.status.idle": "2022-07-13T09:27:31.768033Z",
     "shell.execute_reply": "2022-07-13T09:27:31.767169Z"
    },
    "origin_pos": 1,
    "tab": [
     "mxnet"
    ]
   },
   "outputs": [],
   "source": [
    "%matplotlib inline\n",
    "import os\n",
    "from mxnet import gluon, image, np, npx\n",
    "from d2l import mxnet as d2l\n",
    "\n",
    "npx.set_np()"
   ]
  },
  {
   "cell_type": "markdown",
   "id": "94557587",
   "metadata": {
    "origin_pos": 3
   },
   "source": [
    "The tar file of the dataset is about 2 GB,\n",
    "so it may take a while to download the file.\n",
    "The extracted dataset is located at `../data/VOCdevkit/VOC2012`.\n"
   ]
  },
  {
   "cell_type": "code",
   "execution_count": 2,
   "id": "14bcca40",
   "metadata": {
    "execution": {
     "iopub.execute_input": "2022-07-13T09:27:31.772343Z",
     "iopub.status.busy": "2022-07-13T09:27:31.771760Z",
     "iopub.status.idle": "2022-07-13T09:28:26.387465Z",
     "shell.execute_reply": "2022-07-13T09:28:26.386495Z"
    },
    "origin_pos": 4,
    "tab": [
     "mxnet"
    ]
   },
   "outputs": [
    {
     "name": "stdout",
     "output_type": "stream",
     "text": [
      "Downloading ../data/VOCtrainval_11-May-2012.tar from http://d2l-data.s3-accelerate.amazonaws.com/VOCtrainval_11-May-2012.tar...\n"
     ]
    }
   ],
   "source": [
    "#@save\n",
    "d2l.DATA_HUB['voc2012'] = (d2l.DATA_URL + 'VOCtrainval_11-May-2012.tar',\n",
    "                           '4e443f8a2eca6b1dac8a6c57641b67dd40621a49')\n",
    "\n",
    "voc_dir = d2l.download_extract('voc2012', 'VOCdevkit/VOC2012')"
   ]
  },
  {
   "cell_type": "markdown",
   "id": "27f38d93",
   "metadata": {
    "origin_pos": 5
   },
   "source": [
    "After entering the path `../data/VOCdevkit/VOC2012`,\n",
    "we can see the different components of the dataset.\n",
    "The `ImageSets/Segmentation` path contains text files\n",
    "that specify training and test samples,\n",
    "while the `JPEGImages` and `SegmentationClass` paths\n",
    "store the input image and label for each example, respectively.\n",
    "The label here is also in the image format,\n",
    "with the same size\n",
    "as its labeled input image.\n",
    "Besides,\n",
    "pixels with the same color in any label image belong to the same semantic class.\n",
    "The following defines the `read_voc_images` function to [**read all the input images and labels into the memory**].\n"
   ]
  },
  {
   "cell_type": "code",
   "execution_count": 3,
   "id": "f9551e0e",
   "metadata": {
    "execution": {
     "iopub.execute_input": "2022-07-13T09:28:26.393221Z",
     "iopub.status.busy": "2022-07-13T09:28:26.392133Z",
     "iopub.status.idle": "2022-07-13T09:28:26.859073Z",
     "shell.execute_reply": "2022-07-13T09:28:26.856326Z"
    },
    "origin_pos": 6,
    "tab": [
     "mxnet"
    ]
   },
   "outputs": [],
   "source": [
    "#@save\n",
    "def read_voc_images(voc_dir, is_train=True):\n",
    "    \"\"\"Read all VOC feature and label images.\"\"\"\n",
    "    txt_fname = os.path.join(voc_dir, 'ImageSets', 'Segmentation',\n",
    "                             'train.txt' if is_train else 'val.txt')\n",
    "    with open(txt_fname, 'r') as f:\n",
    "        images = f.read().split()\n",
    "    features, labels = [], []\n",
    "    for i, fname in enumerate(images):\n",
    "        features.append(image.imread(os.path.join(\n",
    "            voc_dir, 'JPEGImages', f'{fname}.jpg')))\n",
    "        labels.append(image.imread(os.path.join(\n",
    "            voc_dir, 'SegmentationClass', f'{fname}.png')))\n",
    "    return features, labels\n",
    "\n",
    "train_features, train_labels = read_voc_images(voc_dir, True)"
   ]
  },
  {
   "cell_type": "markdown",
   "id": "21df4a0d",
   "metadata": {
    "origin_pos": 8
   },
   "source": [
    "We [**draw the first five input images and their labels**].\n",
    "In the label images, white and black represent borders and  background, respectively, while the other colors correspond to different classes.\n"
   ]
  },
  {
   "cell_type": "code",
   "execution_count": 4,
   "id": "3b52c1dd",
   "metadata": {
    "execution": {
     "iopub.execute_input": "2022-07-13T09:28:26.865038Z",
     "iopub.status.busy": "2022-07-13T09:28:26.864739Z",
     "iopub.status.idle": "2022-07-13T09:28:27.812895Z",
     "shell.execute_reply": "2022-07-13T09:28:27.811759Z"
    },
    "origin_pos": 9,
    "tab": [
     "mxnet"
    ]
   },
   "outputs": [
    {
     "data": {
      "image/png": "[encoded data removed]",
      "text/plain": [
       "<Figure size 540x216 with 10 Axes>"
      ]
     },
     "metadata": {
      "needs_background": "light"
     },
     "output_type": "display_data"
    }
   ],
   "source": [
    "n = 5\n",
    "imgs = train_features[:n] + train_labels[:n]\n",
    "d2l.show_images(imgs, 2, n);"
   ]
  },
  {
   "cell_type": "markdown",
   "id": "9f2e3243",
   "metadata": {
    "origin_pos": 11
   },
   "source": [
    "Next, we [**enumerate\n",
    "the RGB color values and class names**]\n",
    "for all the labels in this dataset.\n"
   ]
  },
  {
   "cell_type": "code",
   "execution_count": 5,
   "id": "4932de76",
   "metadata": {
    "execution": {
     "iopub.execute_input": "2022-07-13T09:28:27.818561Z",
     "iopub.status.busy": "2022-07-13T09:28:27.817991Z",
     "iopub.status.idle": "2022-07-13T09:28:27.829729Z",
     "shell.execute_reply": "2022-07-13T09:28:27.828364Z"
    },
    "origin_pos": 12,
    "tab": [
     "mxnet"
    ]
   },
   "outputs": [],
   "source": [
    "#@save\n",
    "VOC_COLORMAP = [[0, 0, 0], [128, 0, 0], [0, 128, 0], [128, 128, 0],\n",
    "                [0, 0, 128], [128, 0, 128], [0, 128, 128], [128, 128, 128],\n",
    "                [64, 0, 0], [192, 0, 0], [64, 128, 0], [192, 128, 0],\n",
    "                [64, 0, 128], [192, 0, 128], [64, 128, 128], [192, 128, 128],\n",
    "                [0, 64, 0], [128, 64, 0], [0, 192, 0], [128, 192, 0],\n",
    "                [0, 64, 128]]\n",
    "\n",
    "#@save\n",
    "VOC_CLASSES = ['background', 'aeroplane', 'bicycle', 'bird', 'boat',\n",
    "               'bottle', 'bus', 'car', 'cat', 'chair', 'cow',\n",
    "               'diningtable', 'dog', 'horse', 'motorbike', 'person',\n",
    "               'potted plant', 'sheep', 'sofa', 'train', 'tv/monitor']"
   ]
  },
  {
   "cell_type": "markdown",
   "id": "1959d9ce",
   "metadata": {
    "origin_pos": 13
   },
   "source": [
    "With the two constants defined above,\n",
    "we can conveniently\n",
    "[**find the class index for each pixel in a label**].\n",
    "We define the `voc_colormap2label` function\n",
    "to build the mapping from the above RGB color values\n",
    "to class indices,\n",
    "and the `voc_label_indices` function\n",
    "to map any RGB values to their class indices in this Pascal VOC2012 dataset.\n"
   ]
  },
  {
   "cell_type": "code",
   "execution_count": 6,
   "id": "3bac30e5",
   "metadata": {
    "execution": {
     "iopub.execute_input": "2022-07-13T09:28:27.835135Z",
     "iopub.status.busy": "2022-07-13T09:28:27.834450Z",
     "iopub.status.idle": "2022-07-13T09:28:27.842444Z",
     "shell.execute_reply": "2022-07-13T09:28:27.841218Z"
    },
    "origin_pos": 14,
    "tab": [
     "mxnet"
    ]
   },
   "outputs": [],
   "source": [
    "#@save\n",
    "def voc_colormap2label():\n",
    "    \"\"\"Build the mapping from RGB to class indices for VOC labels.\"\"\"\n",
    "    colormap2label = np.zeros(256 ** 3)\n",
    "    for i, colormap in enumerate(VOC_COLORMAP):\n",
    "        colormap2label[\n",
    "            (colormap[0] * 256 + colormap[1]) * 256 + colormap[2]] = i\n",
    "    return colormap2label\n",
    "\n",
    "#@save\n",
    "def voc_label_indices(colormap, colormap2label):\n",
    "    \"\"\"Map any RGB values in VOC labels to their class indices.\"\"\"\n",
    "    colormap = colormap.astype(np.int32)\n",
    "    idx = ((colormap[:, :, 0] * 256 + colormap[:, :, 1]) * 256\n",
    "           + colormap[:, :, 2])\n",
    "    return colormap2label[idx]"
   ]
  },
  {
   "cell_type": "markdown",
   "id": "734b23b4",
   "metadata": {
    "origin_pos": 16
   },
   "source": [
    "[**For example**], in the first example image,\n",
    "the class index for the front part of the airplane is 1,\n",
    "while the background index is 0.\n"
   ]
  },
  {
   "cell_type": "code",
   "execution_count": 7,
   "id": "8171badf",
   "metadata": {
    "execution": {
     "iopub.execute_input": "2022-07-13T09:28:27.847717Z",
     "iopub.status.busy": "2022-07-13T09:28:27.846946Z",
     "iopub.status.idle": "2022-07-13T09:28:38.044264Z",
     "shell.execute_reply": "2022-07-13T09:28:38.043203Z"
    },
    "origin_pos": 17,
    "tab": [
     "mxnet"
    ]
   },
   "outputs": [
    {
     "data": {
      "text/plain": [
       "(array([[0., 0., 0., 0., 0., 0., 0., 0., 0., 1.],\n",
       "        [0., 0., 0., 0., 0., 0., 0., 1., 1., 1.],\n",
       "        [0., 0., 0., 0., 0., 0., 1., 1., 1., 1.],\n",
       "        [0., 0., 0., 0., 0., 1., 1., 1., 1., 1.],\n",
       "        [0., 0., 0., 0., 0., 1., 1., 1., 1., 1.],\n",
       "        [0., 0., 0., 0., 1., 1., 1., 1., 1., 1.],\n",
       "        [0., 0., 0., 0., 0., 1., 1., 1., 1., 1.],\n",
       "        [0., 0., 0., 0., 0., 1., 1., 1., 1., 1.],\n",
       "        [0., 0., 0., 0., 0., 0., 1., 1., 1., 1.],\n",
       "        [0., 0., 0., 0., 0., 0., 0., 0., 1., 1.]]),\n",
       " 'aeroplane')"
      ]
     },
     "execution_count": 7,
     "metadata": {},
     "output_type": "execute_result"
    }
   ],
   "source": [
    "y = voc_label_indices(train_labels[0], voc_colormap2label())\n",
    "y[105:115, 130:140], VOC_CLASSES[1]"
   ]
  },
  {
   "cell_type": "markdown",
   "id": "740ad9b6",
   "metadata": {
    "origin_pos": 18
   },
   "source": [
    "### Data Preprocessing\n",
    "\n",
    "In previous experiments\n",
    "such as in :numref:`sec_alexnet`--:numref:`sec_googlenet`,\n",
    "images are rescaled\n",
    "to fit the model's required input shape.\n",
    "However, in semantic segmentation,\n",
    "doing so\n",
    "requires rescaling the predicted pixel classes\n",
    "back to the original shape of the input image.\n",
    "Such rescaling may be inaccurate,\n",
    "especially for segmented regions with different classes. To avoid this issue,\n",
    "we crop the image to a *fixed* shape instead of rescaling. Specifically, [**using random cropping from image augmentation, we crop the same area of\n",
    "the input image and the label**].\n"
   ]
  },
  {
   "cell_type": "code",
   "execution_count": 8,
   "id": "05f3cf19",
   "metadata": {
    "execution": {
     "iopub.execute_input": "2022-07-13T09:28:38.048955Z",
     "iopub.status.busy": "2022-07-13T09:28:38.048381Z",
     "iopub.status.idle": "2022-07-13T09:28:38.053926Z",
     "shell.execute_reply": "2022-07-13T09:28:38.052807Z"
    },
    "origin_pos": 19,
    "tab": [
     "mxnet"
    ]
   },
   "outputs": [],
   "source": [
    "#@save\n",
    "def voc_rand_crop(feature, label, height, width):\n",
    "    \"\"\"Randomly crop both feature and label images.\"\"\"\n",
    "    feature, rect = image.random_crop(feature, (width, height))\n",
    "    label = image.fixed_crop(label, *rect)\n",
    "    return feature, label"
   ]
  },
  {
   "cell_type": "code",
   "execution_count": 9,
   "id": "0b67762a",
   "metadata": {
    "execution": {
     "iopub.execute_input": "2022-07-13T09:28:38.058327Z",
     "iopub.status.busy": "2022-07-13T09:28:38.057774Z",
     "iopub.status.idle": "2022-07-13T09:28:38.570891Z",
     "shell.execute_reply": "2022-07-13T09:28:38.569888Z"
    },
    "origin_pos": 21,
    "tab": [
     "mxnet"
    ]
   },
   "outputs": [
    {
     "data": {
      "image/png": "[encoded data removed]",
      "text/plain": [
       "<Figure size 540x216 with 10 Axes>"
      ]
     },
     "metadata": {
      "needs_background": "light"
     },
     "output_type": "display_data"
    }
   ],
   "source": [
    "imgs = []\n",
    "for _ in range(n):\n",
    "    imgs += voc_rand_crop(train_features[0], train_labels[0], 200, 300)\n",
    "d2l.show_images(imgs[::2] + imgs[1::2], 2, n);"
   ]
  },
  {
   "cell_type": "markdown",
   "id": "9050f951",
   "metadata": {
    "origin_pos": 23
   },
   "source": [
    "### [**Custom Semantic Segmentation Dataset Class**]\n",
    "\n",
    "We define a custom semantic segmentation dataset class `VOCSegDataset` by inheriting the `Dataset` class provided by high-level APIs.\n",
    "By implementing the `__getitem__` function,\n",
    "we can arbitrarily access the input image indexed as `idx` in the dataset and the class index of each pixel in this image.\n",
    "Since some images in the dataset\n",
    "have a smaller size\n",
    "than the output size of random cropping,\n",
    "these examples are filtered out\n",
    "by a custom `filter` function.\n",
    "In addition, we also\n",
    "define the `normalize_image` function to\n",
    "standardize the values of the three RGB channels of input images.\n"
   ]
  },
  {
   "cell_type": "code",
   "execution_count": 10,
   "id": "6a13d016",
   "metadata": {
    "execution": {
     "iopub.execute_input": "2022-07-13T09:28:38.579085Z",
     "iopub.status.busy": "2022-07-13T09:28:38.577634Z",
     "iopub.status.idle": "2022-07-13T09:28:38.589744Z",
     "shell.execute_reply": "2022-07-13T09:28:38.588690Z"
    },
    "origin_pos": 24,
    "tab": [
     "mxnet"
    ]
   },
   "outputs": [],
   "source": [
    "#@save\n",
    "class VOCSegDataset(gluon.data.Dataset):\n",
    "    \"\"\"A customized dataset to load the VOC dataset.\"\"\"\n",
    "    def __init__(self, is_train, crop_size, voc_dir):\n",
    "        self.rgb_mean = np.array([0.485, 0.456, 0.406])\n",
    "        self.rgb_std = np.array([0.229, 0.224, 0.225])\n",
    "        self.crop_size = crop_size\n",
    "        features, labels = read_voc_images(voc_dir, is_train=is_train)\n",
    "        self.features = [self.normalize_image(feature)\n",
    "                         for feature in self.filter(features)]\n",
    "        self.labels = self.filter(labels)\n",
    "        self.colormap2label = voc_colormap2label()\n",
    "        print('read ' + str(len(self.features)) + ' examples')\n",
    "\n",
    "    def normalize_image(self, img):\n",
    "        return (img.astype('float32') / 255 - self.rgb_mean) / self.rgb_std\n",
    "\n",
    "    def filter(self, imgs):\n",
    "        return [img for img in imgs if (\n",
    "            img.shape[0] >= self.crop_size[0] and\n",
    "            img.shape[1] >= self.crop_size[1])]\n",
    "\n",
    "    def __getitem__(self, idx):\n",
    "        feature, label = voc_rand_crop(self.features[idx], self.labels[idx],\n",
    "                                       *self.crop_size)\n",
    "        return (feature.transpose(2, 0, 1),\n",
    "                voc_label_indices(label, self.colormap2label))\n",
    "\n",
    "    def __len__(self):\n",
    "        return len(self.features)"
   ]
  },
  {
   "cell_type": "markdown",
   "id": "06b010cd",
   "metadata": {
    "origin_pos": 26
   },
   "source": [
    "### [**Reading the Dataset**]\n",
    "\n",
    "We use the custom `VOCSegDatase`t class to\n",
    "create instances of the training set and test set, respectively.\n",
    "Suppose that\n",
    "we specify that the output shape of randomly cropped images is $320\\times 480$.\n",
    "Below we can view the number of examples\n",
    "that are retained in the training set and test set.\n"
   ]
  },
  {
   "cell_type": "code",
   "execution_count": 11,
   "id": "6a11d388",
   "metadata": {
    "execution": {
     "iopub.execute_input": "2022-07-13T09:28:38.594456Z",
     "iopub.status.busy": "2022-07-13T09:28:38.593861Z",
     "iopub.status.idle": "2022-07-13T09:28:53.077626Z",
     "shell.execute_reply": "2022-07-13T09:28:53.076143Z"
    },
    "origin_pos": 27,
    "tab": [
     "mxnet"
    ]
   },
   "outputs": [
    {
     "name": "stdout",
     "output_type": "stream",
     "text": [
      "read 1114 examples\n"
     ]
    },
    {
     "name": "stdout",
     "output_type": "stream",
     "text": [
      "read 1078 examples\n"
     ]
    }
   ],
   "source": [
    "crop_size = (320, 480)\n",
    "voc_train = VOCSegDataset(True, crop_size, voc_dir)\n",
    "voc_test = VOCSegDataset(False, crop_size, voc_dir)"
   ]
  },
  {
   "cell_type": "markdown",
   "id": "993ab7ae",
   "metadata": {
    "origin_pos": 28
   },
   "source": [
    "Setting the batch size to 64,\n",
    "we define the data iterator for the training set.\n",
    "Let's print the shape of the first minibatch.\n",
    "Different from in image classification or object detection, labels here are three-dimensional tensors.\n"
   ]
  },
  {
   "cell_type": "code",
   "execution_count": 12,
   "id": "ea53efdd",
   "metadata": {
    "execution": {
     "iopub.execute_input": "2022-07-13T09:28:53.083973Z",
     "iopub.status.busy": "2022-07-13T09:28:53.083370Z",
     "iopub.status.idle": "2022-07-13T09:29:09.344032Z",
     "shell.execute_reply": "2022-07-13T09:29:09.342406Z"
    },
    "origin_pos": 29,
    "tab": [
     "mxnet"
    ]
   },
   "outputs": [
    {
     "name": "stdout",
     "output_type": "stream",
     "text": [
      "(64, 3, 320, 480)\n",
      "(64, 320, 480)\n"
     ]
    }
   ],
   "source": [
    "batch_size = 64\n",
    "train_iter = gluon.data.DataLoader(voc_train, batch_size, shuffle=True,\n",
    "                                   last_batch='discard',\n",
    "                                   num_workers=d2l.get_dataloader_workers())\n",
    "for X, Y in train_iter:\n",
    "    print(X.shape)\n",
    "    print(Y.shape)\n",
    "    break"
   ]
  },
  {
   "cell_type": "markdown",
   "id": "b1596464",
   "metadata": {
    "origin_pos": 31
   },
   "source": [
    "### [**Putting All Things Together**]\n",
    "\n",
    "Finally, we define the following `load_data_voc` function\n",
    "to download and read the Pascal VOC2012 semantic segmentation dataset.\n",
    "It returns data iterators for both the training and test datasets.\n"
   ]
  },
  {
   "cell_type": "code",
   "execution_count": 13,
   "id": "7277768e",
   "metadata": {
    "execution": {
     "iopub.execute_input": "2022-07-13T09:29:09.350485Z",
     "iopub.status.busy": "2022-07-13T09:29:09.349457Z",
     "iopub.status.idle": "2022-07-13T09:29:09.359355Z",
     "shell.execute_reply": "2022-07-13T09:29:09.357933Z"
    },
    "origin_pos": 32,
    "tab": [
     "mxnet"
    ]
   },
   "outputs": [],
   "source": [
    "#@save\n",
    "def load_data_voc(batch_size, crop_size):\n",
    "    \"\"\"Load the VOC semantic segmentation dataset.\"\"\"\n",
    "    voc_dir = d2l.download_extract('voc2012', os.path.join(\n",
    "        'VOCdevkit', 'VOC2012'))\n",
    "    num_workers = d2l.get_dataloader_workers()\n",
    "    train_iter = gluon.data.DataLoader(\n",
    "        VOCSegDataset(True, crop_size, voc_dir), batch_size,\n",
    "        shuffle=True, last_batch='discard', num_workers=num_workers)\n",
    "    test_iter = gluon.data.DataLoader(\n",
    "        VOCSegDataset(False, crop_size, voc_dir), batch_size,\n",
    "        last_batch='discard', num_workers=num_workers)\n",
    "    return train_iter, test_iter"
   ]
  },
  {
   "cell_type": "markdown",
   "id": "d258809d",
   "metadata": {
    "origin_pos": 34
   },
   "source": [
    "## Summary\n",
    "\n",
    "* Semantic segmentation recognizes and understands what are in an image in pixel level by dividing the image into regions belonging to different semantic classes.\n",
    "* One of the most important semantic segmentation dataset is Pascal VOC2012.\n",
    "* In semantic segmentation, since the input image and  label correspond one-to-one on the pixel, the input image is randomly cropped to a fixed shape rather than rescaled.\n",
    "\n",
    "\n",
    "## Exercises\n",
    "\n",
    "1. How can semantic segmentation be applied in autonomous vehicles and medical image diagnostics? Can you think of other applications?\n",
    "1. Recall the descriptions of data augmentation in :numref:`sec_image_augmentation`. Which of the image augmentation methods used in image classification would be infeasible to be applied in semantic segmentation?\n"
   ]
  },
  {
   "cell_type": "markdown",
   "id": "2f5d574c",
   "metadata": {
    "origin_pos": 35,
    "tab": [
     "mxnet"
    ]
   },
   "source": [
    "[Discussions](https://discuss.d2l.ai/t/375)\n"
   ]
  }
 ],
 "metadata": {
  "kernelspec": {
   "display_name": "conda_mxnet_p36",
   "name": "conda_mxnet_p36"
  },
  "language_info": {
   "name": "python"
  }
 },
 "nbformat": 4,
 "nbformat_minor": 5
}