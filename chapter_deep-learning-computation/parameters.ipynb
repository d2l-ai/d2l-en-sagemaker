{
 "cells": [
  {
   "cell_type": "markdown",
   "metadata": {},
   "source": [
    "Installing (updating) the following libraries for your Sagemaker\n",
    "instance."
   ]
  },
  {
   "cell_type": "code",
   "execution_count": null,
   "metadata": {},
   "outputs": [],
   "source": [
    "!pip install -U mxnet-cu101==1.7.0\n"
   ]
  },
  {
   "cell_type": "markdown",
   "metadata": {
    "origin_pos": 0
   },
   "source": [
    "# Gerenciamento de Parâmetros\n",
    "\n",
    "Depois de escolher uma arquitetura\n",
    "e definir nossos hiperparâmetros,\n",
    "passamos para o ciclo de treinamento,\n",
    "onde nosso objetivo é encontrar valores de parâmetro\n",
    "que minimizam nossa função de perda.\n",
    "Após o treinamento, precisaremos desses parâmetros\n",
    "para fazer previsões futuras.\n",
    "Além disso, às vezes desejamos\n",
    "para extrair os parâmetros\n",
    "seja para reutilizá-los em algum outro contexto,\n",
    "para salvar nosso modelo em disco para que\n",
    "pode ser executado em outro *software*,\n",
    "ou para exame na esperança de\n",
    "ganhar compreensão científica.\n",
    "\n",
    "Na maioria das vezes, seremos capazes de\n",
    "ignorar os detalhes essenciais\n",
    "de como os parâmetros são declarados\n",
    "e manipulado, contando com estruturas de *Deep Learning*\n",
    "para fazer o trabalho pesado.\n",
    "No entanto, quando nos afastamos de\n",
    "arquiteturas empilhadas com camadas padrão,\n",
    "às vezes precisaremos \n",
    "declarar e manipular parâmetros.\n",
    "Nesta seção, cobrimos o seguinte:\n",
    "\n",
    "* Parâmetros de acesso para depuração, diagnóstico e visualizações.\n",
    "* Inicialização de parâmetros.\n",
    "* Parâmetros de compartilhamento em diferentes componentes do modelo.\n",
    "\n",
    "Começamos nos concentrando em um MLP com uma camada oculta.\n"
   ]
  },
  {
   "cell_type": "code",
   "execution_count": 1,
   "metadata": {
    "origin_pos": 1,
    "tab": [
     "mxnet"
    ]
   },
   "outputs": [
    {
     "data": {
      "text/plain": [
       "array([[0.0054572 ],\n",
       "       [0.00488594]])"
      ]
     },
     "execution_count": 1,
     "metadata": {},
     "output_type": "execute_result"
    }
   ],
   "source": [
    "from mxnet import init, np, npx\n",
    "from mxnet.gluon import nn\n",
    "\n",
    "npx.set_np()\n",
    "\n",
    "net = nn.Sequential()\n",
    "net.add(nn.Dense(8, activation='relu'))\n",
    "net.add(nn.Dense(1))\n",
    "net.initialize()  # Use o método de inicialização padrão\n",
    "\n",
    "X = np.random.uniform(size=(2, 4))\n",
    "net(X)  # Forward computation"
   ]
  },
  {
   "cell_type": "markdown",
   "metadata": {
    "origin_pos": 4
   },
   "source": [
    "## Acesso a Parâmetros\n",
    "\n",
    "Vamos começar explicando como acessar os parâmetros\n",
    "dos modelos que você já conhece.\n",
    "Quando um modelo é definido por meio da classe `Sequential`,\n",
    "podemos primeiro acessar qualquer camada indexando\n",
    "no modelo como se fosse uma lista.\n",
    "Os parâmetros de cada camada são convenientemente\n",
    "localizado em seu atributo.\n",
    "Podemos inspecionar os parâmetros da segunda camada totalmente conectada da seguinte maneira.\n"
   ]
  },
  {
   "cell_type": "code",
   "execution_count": 2,
   "metadata": {
    "origin_pos": 5,
    "tab": [
     "mxnet"
    ]
   },
   "outputs": [
    {
     "name": "stdout",
     "output_type": "stream",
     "text": [
      "dense1_ (\n",
      "  Parameter dense1_weight (shape=(1, 8), dtype=float32)\n",
      "  Parameter dense1_bias (shape=(1,), dtype=float32)\n",
      ")\n"
     ]
    }
   ],
   "source": [
    "print(net[1].params)"
   ]
  },
  {
   "cell_type": "markdown",
   "metadata": {
    "origin_pos": 8
   },
   "source": [
    "A saída nos diz algumas coisas importantes.\n",
    "Primeiro, esta camada totalmente conectada\n",
    "contém dois parâmetros,\n",
    "correspondendo aos\n",
    "pesos e vieses, respectivamente.\n",
    "Ambos são armazenados como *floats* de precisão simples (float32).\n",
    "Observe que os nomes dos parâmetros\n",
    "nos permitem identificar de forma única\n",
    "parâmetros de cada camada,\n",
    "mesmo em uma rede contendo centenas de camadas.\n",
    "\n",
    "\n",
    "### Parâmetros Direcionados\n",
    "\n",
    "Observe que cada parâmetro é representado\n",
    "como uma instância da classe de parâmetro.\n",
    "Para fazer algo útil com os parâmetros,\n",
    "primeiro precisamos acessar os valores numéricos subjacentes.\n",
    "Existem várias maneiras de fazer isso.\n",
    "Alguns são mais simples, enquanto outros são mais gerais.\n",
    "O código a seguir extrai o viés\n",
    "da segunda camada de rede neural, que retorna uma instância de classe de parâmetro, e\n",
    "acessa posteriormente o valor desse parâmetro.\n"
   ]
  },
  {
   "cell_type": "code",
   "execution_count": 3,
   "metadata": {
    "origin_pos": 9,
    "tab": [
     "mxnet"
    ]
   },
   "outputs": [
    {
     "name": "stdout",
     "output_type": "stream",
     "text": [
      "<class 'mxnet.gluon.parameter.Parameter'>\n",
      "Parameter dense1_bias (shape=(1,), dtype=float32)\n",
      "[0.]\n"
     ]
    }
   ],
   "source": [
    "print(type(net[1].bias))\n",
    "print(net[1].bias)\n",
    "print(net[1].bias.data())"
   ]
  },
  {
   "cell_type": "markdown",
   "metadata": {
    "origin_pos": 12,
    "tab": [
     "mxnet"
    ]
   },
   "source": [
    "Os parâmetros são objetos complexos,\n",
    "contendo valores, gradientes,\n",
    "e informações adicionais.\n",
    "É por isso que precisamos solicitar o valor explicitamente.\n",
    "\n",
    "Além do valor, cada parâmetro também nos permite acessar o gradiente. Como ainda não invocamos a *backpropagation* para esta rede, ela está em seu estado inicial.\n"
   ]
  },
  {
   "cell_type": "code",
   "execution_count": 4,
   "metadata": {
    "origin_pos": 13,
    "tab": [
     "mxnet"
    ]
   },
   "outputs": [
    {
     "data": {
      "text/plain": [
       "array([[0., 0., 0., 0., 0., 0., 0., 0.]])"
      ]
     },
     "execution_count": 4,
     "metadata": {},
     "output_type": "execute_result"
    }
   ],
   "source": [
    "net[1].weight.grad()"
   ]
  },
  {
   "cell_type": "markdown",
   "metadata": {
    "origin_pos": 15
   },
   "source": [
    "### Todos os Parâmetros de Uma Vez\n",
    "\n",
    "Quando precisamos realizar operações em todos os parâmetros,\n",
    "acessá-los um por um pode se tornar tedioso.\n",
    "A situação pode ficar especialmente complicada\n",
    "quando trabalhamos com blocos mais complexos (por exemplo, blocos aninhados),\n",
    "uma vez que precisaríamos voltar recursivamente\n",
    "através de toda a árvore para extrair\n",
    "parâmetros de cada sub-bloco. Abaixo, demonstramos como acessar os parâmetros da primeira camada totalmente conectada versus acessar todas as camadas.\n"
   ]
  },
  {
   "cell_type": "code",
   "execution_count": 5,
   "metadata": {
    "origin_pos": 16,
    "tab": [
     "mxnet"
    ]
   },
   "outputs": [
    {
     "name": "stdout",
     "output_type": "stream",
     "text": [
      "dense0_ (\n",
      "  Parameter dense0_weight (shape=(8, 4), dtype=float32)\n",
      "  Parameter dense0_bias (shape=(8,), dtype=float32)\n",
      ")\n",
      "sequential0_ (\n",
      "  Parameter dense0_weight (shape=(8, 4), dtype=float32)\n",
      "  Parameter dense0_bias (shape=(8,), dtype=float32)\n",
      "  Parameter dense1_weight (shape=(1, 8), dtype=float32)\n",
      "  Parameter dense1_bias (shape=(1,), dtype=float32)\n",
      ")\n"
     ]
    }
   ],
   "source": [
    "print(net[0].collect_params())\n",
    "print(net.collect_params())"
   ]
  },
  {
   "cell_type": "markdown",
   "metadata": {
    "origin_pos": 19
   },
   "source": [
    "Isso nos fornece outra maneira de acessar os parâmetros da rede como segue.\n"
   ]
  },
  {
   "cell_type": "code",
   "execution_count": 6,
   "metadata": {
    "origin_pos": 20,
    "tab": [
     "mxnet"
    ]
   },
   "outputs": [
    {
     "data": {
      "text/plain": [
       "array([0.])"
      ]
     },
     "execution_count": 6,
     "metadata": {},
     "output_type": "execute_result"
    }
   ],
   "source": [
    "net.collect_params()['dense1_bias'].data()"
   ]
  },
  {
   "cell_type": "markdown",
   "metadata": {
    "origin_pos": 23
   },
   "source": [
    "### Coletando Parâmetros de Blocos Aninhados\n",
    "\n",
    "Vamos ver como funcionam as convenções de nomenclatura de parâmetros\n",
    "se aninharmos vários blocos uns dentro dos outros.\n",
    "Para isso, primeiro definimos uma função que produz blocos\n",
    "(uma fábrica de blocos, por assim dizer) e então\n",
    "combine-os dentro de blocos ainda maiores.\n"
   ]
  },
  {
   "cell_type": "code",
   "execution_count": 7,
   "metadata": {
    "origin_pos": 24,
    "tab": [
     "mxnet"
    ]
   },
   "outputs": [
    {
     "data": {
      "text/plain": [
       "array([[-6.3465846e-09, -1.1096752e-09,  6.4161787e-09,  6.6354140e-09,\n",
       "        -1.1265507e-09,  1.3284951e-10,  9.3619388e-09,  3.2229084e-09,\n",
       "         5.9429879e-09,  8.8181435e-09],\n",
       "       [-8.6219423e-09, -7.5150686e-10,  8.3133251e-09,  8.9321128e-09,\n",
       "        -1.6740003e-09,  3.2405989e-10,  1.2115976e-08,  4.4926449e-09,\n",
       "         8.0741742e-09,  1.2075874e-08]])"
      ]
     },
     "execution_count": 7,
     "metadata": {},
     "output_type": "execute_result"
    }
   ],
   "source": [
    "def block1():\n",
    "    net = nn.Sequential()\n",
    "    net.add(nn.Dense(32, activation='relu'))\n",
    "    net.add(nn.Dense(16, activation='relu'))\n",
    "    return net\n",
    "\n",
    "def block2():\n",
    "    net = nn.Sequential()\n",
    "    for _ in range(4):\n",
    "        # Nested here\n",
    "        net.add(block1())\n",
    "    return net\n",
    "\n",
    "rgnet = nn.Sequential()\n",
    "rgnet.add(block2())\n",
    "rgnet.add(nn.Dense(10))\n",
    "rgnet.initialize()\n",
    "rgnet(X)"
   ]
  },
  {
   "cell_type": "markdown",
   "metadata": {
    "origin_pos": 27
   },
   "source": [
    "Agora que projetamos a rede,\n",
    "vamos ver como está organizado.\n"
   ]
  },
  {
   "cell_type": "code",
   "execution_count": 8,
   "metadata": {
    "origin_pos": 28,
    "tab": [
     "mxnet"
    ]
   },
   "outputs": [
    {
     "name": "stdout",
     "output_type": "stream",
     "text": [
      "<bound method Block.collect_params of Sequential(\n",
      "  (0): Sequential(\n",
      "    (0): Sequential(\n",
      "      (0): Dense(4 -> 32, Activation(relu))\n",
      "      (1): Dense(32 -> 16, Activation(relu))\n",
      "    )\n",
      "    (1): Sequential(\n",
      "      (0): Dense(16 -> 32, Activation(relu))\n",
      "      (1): Dense(32 -> 16, Activation(relu))\n",
      "    )\n",
      "    (2): Sequential(\n",
      "      (0): Dense(16 -> 32, Activation(relu))\n",
      "      (1): Dense(32 -> 16, Activation(relu))\n",
      "    )\n",
      "    (3): Sequential(\n",
      "      (0): Dense(16 -> 32, Activation(relu))\n",
      "      (1): Dense(32 -> 16, Activation(relu))\n",
      "    )\n",
      "  )\n",
      "  (1): Dense(16 -> 10, linear)\n",
      ")>\n",
      "sequential1_ (\n",
      "  Parameter dense2_weight (shape=(32, 4), dtype=float32)\n",
      "  Parameter dense2_bias (shape=(32,), dtype=float32)\n",
      "  Parameter dense3_weight (shape=(16, 32), dtype=float32)\n",
      "  Parameter dense3_bias (shape=(16,), dtype=float32)\n",
      "  Parameter dense4_weight (shape=(32, 16), dtype=float32)\n",
      "  Parameter dense4_bias (shape=(32,), dtype=float32)\n",
      "  Parameter dense5_weight (shape=(16, 32), dtype=float32)\n",
      "  Parameter dense5_bias (shape=(16,), dtype=float32)\n",
      "  Parameter dense6_weight (shape=(32, 16), dtype=float32)\n",
      "  Parameter dense6_bias (shape=(32,), dtype=float32)\n",
      "  Parameter dense7_weight (shape=(16, 32), dtype=float32)\n",
      "  Parameter dense7_bias (shape=(16,), dtype=float32)\n",
      "  Parameter dense8_weight (shape=(32, 16), dtype=float32)\n",
      "  Parameter dense8_bias (shape=(32,), dtype=float32)\n",
      "  Parameter dense9_weight (shape=(16, 32), dtype=float32)\n",
      "  Parameter dense9_bias (shape=(16,), dtype=float32)\n",
      "  Parameter dense10_weight (shape=(10, 16), dtype=float32)\n",
      "  Parameter dense10_bias (shape=(10,), dtype=float32)\n",
      ")\n"
     ]
    }
   ],
   "source": [
    "print(rgnet.collect_params)\n",
    "print(rgnet.collect_params())"
   ]
  },
  {
   "cell_type": "markdown",
   "metadata": {
    "origin_pos": 31
   },
   "source": [
    "Uma vez que as camadas são aninhadas hierarquicamente,\n",
    "também podemos acessá-los como se\n",
    "indexação por meio de listas aninhadas.\n",
    "Por exemplo, podemos acessar o primeiro bloco principal,\n",
    "dentro dele o segundo sub-bloco,\n",
    "e dentro disso o viés da primeira camada,\n",
    "com o seguinte.\n"
   ]
  },
  {
   "cell_type": "code",
   "execution_count": 9,
   "metadata": {
    "origin_pos": 32,
    "tab": [
     "mxnet"
    ]
   },
   "outputs": [
    {
     "data": {
      "text/plain": [
       "array([0., 0., 0., 0., 0., 0., 0., 0., 0., 0., 0., 0., 0., 0., 0., 0., 0.,\n",
       "       0., 0., 0., 0., 0., 0., 0., 0., 0., 0., 0., 0., 0., 0., 0.])"
      ]
     },
     "execution_count": 9,
     "metadata": {},
     "output_type": "execute_result"
    }
   ],
   "source": [
    "rgnet[0][1][0].bias.data()"
   ]
  },
  {
   "cell_type": "markdown",
   "metadata": {
    "origin_pos": 35
   },
   "source": [
    "## Inicialização de Parâmetros\n",
    "\n",
    "Agora que sabemos como acessar os parâmetros,\n",
    "vamos ver como inicializá-los corretamente.\n",
    "Discutimos a necessidade de inicialização adequada em :numref:`sec_numerical_stability`.\n",
    "A estrutura de *Deep Learning* fornece inicializações aleatórias padrão para suas camadas.\n",
    "No entanto, muitas vezes queremos inicializar nossos pesos\n",
    "de acordo com vários outros protocolos. A estrutura fornece mais comumente\n",
    "protocolos usados e também permite criar um inicializador personalizado.\n"
   ]
  },
  {
   "cell_type": "markdown",
   "metadata": {
    "origin_pos": 36,
    "tab": [
     "mxnet"
    ]
   },
   "source": [
    "Por padrão, MXNet inicializa os parâmetros de peso ao desenhar aleatoriamente de uma distribuição uniforme $U(-0.07, 0.07)$,\n",
    "limpar os parâmetros de polarização para zero.\n",
    "O módulo `init` do MXNet oferece uma variedade\n",
    "de métodos de inicialização predefinidos.\n"
   ]
  },
  {
   "cell_type": "markdown",
   "metadata": {
    "origin_pos": 39
   },
   "source": [
    "### Inicialização *Built-in* \n",
    "\n",
    "Vamos começar chamando inicializadores integrados.\n",
    "O código abaixo inicializa todos os parâmetros de peso\n",
    "como variáveis aleatórias gaussianas\n",
    "com desvio padrão de 0,01, enquanto os parâmetros de polarização são zerados.\n"
   ]
  },
  {
   "cell_type": "code",
   "execution_count": 10,
   "metadata": {
    "origin_pos": 40,
    "tab": [
     "mxnet"
    ]
   },
   "outputs": [
    {
     "data": {
      "text/plain": [
       "array([-0.00324057, -0.00895028, -0.00698632,  0.01030831])"
      ]
     },
     "execution_count": 10,
     "metadata": {},
     "output_type": "execute_result"
    }
   ],
   "source": [
    "# Aqui `force_reinit` garante que os parâmetros são inciados mesmo se\n",
    "# eles já foram iniciados anteriormente\n",
    "net.initialize(init=init.Normal(sigma=0.01), force_reinit=True)\n",
    "net[0].weight.data()[0]"
   ]
  },
  {
   "cell_type": "markdown",
   "metadata": {
    "origin_pos": 43
   },
   "source": [
    "Também podemos inicializar todos os parâmetros\n",
    "a um determinado valor constante (digamos, 1).\n"
   ]
  },
  {
   "cell_type": "code",
   "execution_count": 11,
   "metadata": {
    "origin_pos": 44,
    "tab": [
     "mxnet"
    ]
   },
   "outputs": [
    {
     "data": {
      "text/plain": [
       "array([1., 1., 1., 1.])"
      ]
     },
     "execution_count": 11,
     "metadata": {},
     "output_type": "execute_result"
    }
   ],
   "source": [
    "net.initialize(init=init.Constant(1), force_reinit=True)\n",
    "net[0].weight.data()[0]"
   ]
  },
  {
   "cell_type": "markdown",
   "metadata": {
    "origin_pos": 47
   },
   "source": [
    "Também podemos aplicar inicializadores diferentes para certos blocos.\n",
    "Por exemplo, abaixo inicializamos a primeira camada\n",
    "com o inicializador Xavier\n",
    "e inicializar a segunda camada\n",
    "para um valor constante de 42.\n"
   ]
  },
  {
   "cell_type": "code",
   "execution_count": 12,
   "metadata": {
    "origin_pos": 48,
    "tab": [
     "mxnet"
    ]
   },
   "outputs": [
    {
     "name": "stdout",
     "output_type": "stream",
     "text": [
      "[-0.17594433  0.02314097 -0.1992535   0.09509248]\n",
      "[[42. 42. 42. 42. 42. 42. 42. 42.]]\n"
     ]
    }
   ],
   "source": [
    "net[0].weight.initialize(init=init.Xavier(), force_reinit=True)\n",
    "net[1].initialize(init=init.Constant(42), force_reinit=True)\n",
    "print(net[0].weight.data()[0])\n",
    "print(net[1].weight.data())"
   ]
  },
  {
   "cell_type": "markdown",
   "metadata": {
    "origin_pos": 51
   },
   "source": [
    "### Inicialização Customizada\n",
    "\n",
    "Às vezes, os métodos de inicialização de que precisamos\n",
    "não são fornecidos pela estrutura de *Deep Learning*.\n",
    "No exemplo abaixo, definimos um inicializador\n",
    "para qualquer parâmetro de peso $w$ usando a seguinte distribuição estranha:\n",
    "\n",
    "$$\n",
    "\\begin{aligned}\n",
    "    w \\sim \\begin{cases}\n",
    "        U(5, 10) & \\text{ with probability } \\frac{1}{4} \\\\\n",
    "            0    & \\text{ with probability } \\frac{1}{2} \\\\\n",
    "        U(-10, -5) & \\text{ with probability } \\frac{1}{4}\n",
    "    \\end{cases}\n",
    "\\end{aligned}\n",
    "$$\n"
   ]
  },
  {
   "cell_type": "markdown",
   "metadata": {
    "origin_pos": 52,
    "tab": [
     "mxnet"
    ]
   },
   "source": [
    "Aqui definimos uma subclasse da classe `Initializer`.\n",
    "Normalmente, só precisamos implementar a função `_init_weight`\n",
    "que leva um argumento tensor (`data`)\n",
    "e atribui a ele os valores inicializados desejados.\n"
   ]
  },
  {
   "cell_type": "code",
   "execution_count": 13,
   "metadata": {
    "origin_pos": 55,
    "tab": [
     "mxnet"
    ]
   },
   "outputs": [
    {
     "name": "stdout",
     "output_type": "stream",
     "text": [
      "Init dense0_weight (8, 4)\n",
      "Init dense1_weight (1, 8)\n"
     ]
    },
    {
     "data": {
      "text/plain": [
       "array([[ 0.       , -0.       , -0.       ,  8.522827 ],\n",
       "       [ 0.       , -8.828651 , -0.       , -5.6012006]])"
      ]
     },
     "execution_count": 13,
     "metadata": {},
     "output_type": "execute_result"
    }
   ],
   "source": [
    "class MyInit(init.Initializer):\n",
    "    def _init_weight(self, name, data):\n",
    "        print('Init', name, data.shape)\n",
    "        data[:] = np.random.uniform(-10, 10, data.shape)\n",
    "        data *= np.abs(data) >= 5\n",
    "\n",
    "net.initialize(MyInit(), force_reinit=True)\n",
    "net[0].weight.data()[:2]"
   ]
  },
  {
   "cell_type": "markdown",
   "metadata": {
    "origin_pos": 58
   },
   "source": [
    "Observe que sempre temos a opção\n",
    "de definir parâmetros diretamente.\n"
   ]
  },
  {
   "cell_type": "code",
   "execution_count": 14,
   "metadata": {
    "origin_pos": 59,
    "tab": [
     "mxnet"
    ]
   },
   "outputs": [
    {
     "data": {
      "text/plain": [
       "array([42.      ,  1.      ,  1.      ,  9.522827])"
      ]
     },
     "execution_count": 14,
     "metadata": {},
     "output_type": "execute_result"
    }
   ],
   "source": [
    "net[0].weight.data()[:] += 1\n",
    "net[0].weight.data()[0, 0] = 42\n",
    "net[0].weight.data()[0]"
   ]
  },
  {
   "cell_type": "markdown",
   "metadata": {
    "origin_pos": 62,
    "tab": [
     "mxnet"
    ]
   },
   "source": [
    "Uma observação para usuários avançados:\n",
    "se você quiser ajustar os parâmetros dentro de um escopo `autograd`,\n",
    "você precisa usar `set_data` para evitar confundir\n",
    "a mecânica de diferenciação automática.\n"
   ]
  },
  {
   "cell_type": "markdown",
   "metadata": {
    "origin_pos": 63
   },
   "source": [
    "## Parâmetros *Tied*\n",
    "\n",
    "\n",
    "Frequentemente, queremos compartilhar parâmetros em várias camadas.\n",
    "Vamos ver como fazer isso com elegância.\n",
    "A seguir, alocamos uma camada densa\n",
    "e usar seus parâmetros especificamente\n",
    "para definir os de outra camada.\n"
   ]
  },
  {
   "cell_type": "code",
   "execution_count": 15,
   "metadata": {
    "origin_pos": 64,
    "tab": [
     "mxnet"
    ]
   },
   "outputs": [
    {
     "name": "stdout",
     "output_type": "stream",
     "text": [
      "[ True  True  True  True  True  True  True  True]\n",
      "[ True  True  True  True  True  True  True  True]\n"
     ]
    }
   ],
   "source": [
    "net = nn.Sequential()\n",
    "# Precisamos dar as camadas compartilhadas um nome\n",
    "# para que possamos referenciar seus parâmetros\n",
    "shared = nn.Dense(8, activation='relu')\n",
    "net.add(nn.Dense(8, activation='relu'),\n",
    "        shared,\n",
    "        nn.Dense(8, activation='relu', params=shared.params),\n",
    "        nn.Dense(10))\n",
    "net.initialize()\n",
    "\n",
    "X = np.random.uniform(size=(2, 20))\n",
    "net(X)\n",
    "\n",
    "# Checar se são os mesmos parâmetros\n",
    "print(net[1].weight.data()[0] == net[2].weight.data()[0])\n",
    "net[1].weight.data()[0, 0] = 100\n",
    "# Garantindo que são o mesmo objeto ao invés de ter\n",
    "# apenas o mesmo valor\n",
    "\n",
    "print(net[1].weight.data()[0] == net[2].weight.data()[0])"
   ]
  },
  {
   "cell_type": "markdown",
   "metadata": {
    "origin_pos": 67,
    "tab": [
     "mxnet"
    ]
   },
   "source": [
    "Este exemplo mostra que os parâmetros\n",
    "da segunda e terceira camadas são amarrados.\n",
    "Eles não são apenas iguais, eles são\n",
    "representado pelo mesmo tensor exato.\n",
    "Assim, se mudarmos um dos parâmetros,\n",
    "o outro também muda.\n",
    "Você pode se perguntar,\n",
    "quando os parâmetros são amarrados\n",
    "o que acontece com os gradientes?\n",
    "Uma vez que os parâmetros do modelo contêm gradientes,\n",
    "os gradientes da segunda camada oculta\n",
    "e a terceira camada oculta são adicionadas juntas\n",
    "durante a retropropagação.\n"
   ]
  },
  {
   "cell_type": "markdown",
   "metadata": {
    "origin_pos": 68
   },
   "source": [
    "## Sumário\n",
    "\n",
    "* Temos várias maneiras de acessar, inicializar e vincular os parâmetros do modelo.\n",
    "* Podemos usar inicialização personalizada.\n",
    "\n",
    "\n",
    "## Exercícios\n",
    "\n",
    "1. Use o modelo `FancyMLP` definido em :numref:`sec_model_construction` e acesse os parâmetros das várias camadas.\n",
    "1. Observe o documento do módulo de inicialização para explorar diferentes inicializadores.\n",
    "1. Construa um MLP contendo uma camada de parâmetros compartilhados e treine-o. Durante o processo de treinamento, observe os parâmetros do modelo e gradientes de cada camada.\n",
    "1. Por que compartilhar parâmetros é uma boa ideia?\n"
   ]
  },
  {
   "cell_type": "markdown",
   "metadata": {
    "origin_pos": 69,
    "tab": [
     "mxnet"
    ]
   },
   "source": [
    "[Discussão](https://discuss.d2l.ai/t/56)\n"
   ]
  },
  {
   "cell_type": "markdown",
   "metadata": {
    "origin_pos": 72
   },
   "source": [
    "<!--stackedit_data:\n",
    "eyJoaXN0b3J5IjpbMjI3MjUyNjYwLC03MTk0NTg0ODEsMjUwMT\n",
    "g4NTk3LC0xNTkzNzg3NzI4LDE2NDI5Nzg1MDFdfQ==\n",
    "-->\n"
   ]
  }
 ],
 "metadata": {
  "kernelspec": {
   "display_name": "conda_mxnet_p36",
   "name": "conda_mxnet_p36"
  },
  "language_info": {
   "name": "python"
  }
 },
 "nbformat": 4,
 "nbformat_minor": 4
}