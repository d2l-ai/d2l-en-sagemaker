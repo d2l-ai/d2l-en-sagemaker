{
 "cells": [
  {
   "cell_type": "markdown",
   "metadata": {},
   "source": [
    "Installing (updating) the following libraries for your Sagemaker\n",
    "instance."
   ]
  },
  {
   "cell_type": "code",
   "execution_count": null,
   "metadata": {},
   "outputs": [],
   "source": [
    "!pip install -U mxnet-cu101==1.7.0\n"
   ]
  },
  {
   "cell_type": "markdown",
   "metadata": {
    "origin_pos": 0
   },
   "source": [
    "# Entrada e Saída de Arquivos\n",
    "\n",
    "Até agora, discutimos como processar dados e como\n",
    "para construir, treinar e testar modelos de *Deep Learning*.\n",
    "No entanto, em algum momento, esperamos ser felizes o suficiente\n",
    "com os modelos aprendidos que queremos\n",
    "para salvar os resultados para uso posterior em vários contextos\n",
    "(talvez até mesmo para fazer previsões na implantação).\n",
    "Além disso, ao executar um longo processo de treinamento,\n",
    "a prática recomendada é salvar resultados intermediários periodicamente (pontos de verificação)\n",
    "para garantir que não perdemos vários dias de computação\n",
    "se tropeçarmos no cabo de alimentação do nosso servidor.\n",
    "Portanto, é hora de aprender como carregar e armazenar\n",
    "ambos os vetores de peso individuais e modelos inteiros.\n",
    "Esta seção aborda ambos os problemas.\n",
    "\n",
    "## Carregando e Salvando Tensores\n",
    "\n",
    "Para tensores individuais, podemos diretamente\n",
    "invocar as funções `load` e `save`\n",
    "para ler e escrever respectivamente.\n",
    "Ambas as funções exigem que forneçamos um nome,\n",
    "e `save` requer como entrada a variável a ser salva.\n"
   ]
  },
  {
   "cell_type": "code",
   "execution_count": 1,
   "metadata": {
    "origin_pos": 1,
    "tab": [
     "mxnet"
    ]
   },
   "outputs": [],
   "source": [
    "from mxnet import np, npx\n",
    "from mxnet.gluon import nn\n",
    "\n",
    "npx.set_np()\n",
    "\n",
    "x = np.arange(4)\n",
    "npx.save('x-file', x)"
   ]
  },
  {
   "cell_type": "markdown",
   "metadata": {
    "origin_pos": 4
   },
   "source": [
    "Agora podemos ler os dados do arquivo armazenado de volta na memória.\n"
   ]
  },
  {
   "cell_type": "code",
   "execution_count": 2,
   "metadata": {
    "origin_pos": 5,
    "tab": [
     "mxnet"
    ]
   },
   "outputs": [
    {
     "data": {
      "text/plain": [
       "[array([0., 1., 2., 3.])]"
      ]
     },
     "execution_count": 2,
     "metadata": {},
     "output_type": "execute_result"
    }
   ],
   "source": [
    "x2 = npx.load('x-file')\n",
    "x2"
   ]
  },
  {
   "cell_type": "markdown",
   "metadata": {
    "origin_pos": 8
   },
   "source": [
    "Podemos armazenar uma lista de tensores e lê-los de volta na memória.\n"
   ]
  },
  {
   "cell_type": "code",
   "execution_count": 3,
   "metadata": {
    "origin_pos": 9,
    "tab": [
     "mxnet"
    ]
   },
   "outputs": [
    {
     "data": {
      "text/plain": [
       "(array([0., 1., 2., 3.]), array([0., 0., 0., 0.]))"
      ]
     },
     "execution_count": 3,
     "metadata": {},
     "output_type": "execute_result"
    }
   ],
   "source": [
    "y = np.zeros(4)\n",
    "npx.save('x-files', [x, y])\n",
    "x2, y2 = npx.load('x-files')\n",
    "(x2, y2)"
   ]
  },
  {
   "cell_type": "markdown",
   "metadata": {
    "origin_pos": 12
   },
   "source": [
    "Podemos até escrever e ler um dicionário que mapeia\n",
    "de *strings* a tensores.\n",
    "Isso é conveniente quando queremos \n",
    "ler ou escrever todos os pesos em um modelo.\n"
   ]
  },
  {
   "cell_type": "code",
   "execution_count": 4,
   "metadata": {
    "origin_pos": 13,
    "tab": [
     "mxnet"
    ]
   },
   "outputs": [
    {
     "data": {
      "text/plain": [
       "{'x': array([0., 1., 2., 3.]), 'y': array([0., 0., 0., 0.])}"
      ]
     },
     "execution_count": 4,
     "metadata": {},
     "output_type": "execute_result"
    }
   ],
   "source": [
    "mydict = {'x': x, 'y': y}\n",
    "npx.save('mydict', mydict)\n",
    "mydict2 = npx.load('mydict')\n",
    "mydict2"
   ]
  },
  {
   "cell_type": "markdown",
   "metadata": {
    "origin_pos": 16
   },
   "source": [
    "## Carregando e Salvando Parâmetros de Modelos\n",
    "\n",
    "Salvar vetores de peso individuais (ou outros tensores) é útil,\n",
    "mas fica muito tedioso se quisermos salvar\n",
    "(e depois carregar) um modelo inteiro.\n",
    "Afinal, podemos ter centenas de\n",
    "grupos de parâmetros espalhados por toda parte.\n",
    "Por esta razão, a estrutura de *Deep Learning* fornece funcionalidades integradas\n",
    "para carregar e salvar redes inteiras.\n",
    "Um detalhe importante a notar é que este\n",
    "salva o modelo *parâmetros* e não o modelo inteiro.\n",
    "Por exemplo, se tivermos um MLP de 3 camadas,\n",
    "precisamos especificar a arquitetura separadamente.\n",
    "A razão para isso é que os próprios modelos podem conter código arbitrário,\n",
    "portanto, eles não podem ser serializados naturalmente.\n",
    "Assim, para restabelecer um modelo, precisamos\n",
    "para gerar a arquitetura em código\n",
    "e carregue os parâmetros do disco.\n",
    "Vamos começar com nosso MLP familiar.\n"
   ]
  },
  {
   "cell_type": "code",
   "execution_count": 5,
   "metadata": {
    "origin_pos": 17,
    "tab": [
     "mxnet"
    ]
   },
   "outputs": [],
   "source": [
    "class MLP(nn.Block):\n",
    "    def __init__(self, **kwargs):\n",
    "        super(MLP, self).__init__(**kwargs)\n",
    "        self.hidden = nn.Dense(256, activation='relu')\n",
    "        self.output = nn.Dense(10)\n",
    "\n",
    "    def forward(self, x):\n",
    "        return self.output(self.hidden(x))\n",
    "\n",
    "net = MLP()\n",
    "net.initialize()\n",
    "X = np.random.uniform(size=(2, 20))\n",
    "Y = net(X)"
   ]
  },
  {
   "cell_type": "markdown",
   "metadata": {
    "origin_pos": 20
   },
   "source": [
    "A seguir, armazenamos os parâmetros do modelo como um arquivo com o nome \"mlp.params\".\n"
   ]
  },
  {
   "cell_type": "code",
   "execution_count": 6,
   "metadata": {
    "origin_pos": 21,
    "tab": [
     "mxnet"
    ]
   },
   "outputs": [],
   "source": [
    "net.save_parameters('mlp.params')"
   ]
  },
  {
   "cell_type": "markdown",
   "metadata": {
    "origin_pos": 24
   },
   "source": [
    "Para recuperar o modelo, instanciamos um clone\n",
    "do modelo MLP original.\n",
    "Em vez de inicializar aleatoriamente os parâmetros do modelo,\n",
    "lemos os parâmetros armazenados no arquivo diretamente.\n"
   ]
  },
  {
   "cell_type": "code",
   "execution_count": 7,
   "metadata": {
    "origin_pos": 25,
    "tab": [
     "mxnet"
    ]
   },
   "outputs": [],
   "source": [
    "clone = MLP()\n",
    "clone.load_parameters('mlp.params')"
   ]
  },
  {
   "cell_type": "markdown",
   "metadata": {
    "origin_pos": 28
   },
   "source": [
    "Uma vez que ambas as instâncias têm os mesmos parâmetros de modelo,\n",
    "o resultado computacional da mesma entrada `X` deve ser o mesmo.\n",
    "Deixe-nos verificar isso.\n"
   ]
  },
  {
   "cell_type": "code",
   "execution_count": 8,
   "metadata": {
    "origin_pos": 29,
    "tab": [
     "mxnet"
    ]
   },
   "outputs": [
    {
     "data": {
      "text/plain": [
       "array([[ True,  True,  True,  True,  True,  True,  True,  True,  True,\n",
       "         True],\n",
       "       [ True,  True,  True,  True,  True,  True,  True,  True,  True,\n",
       "         True]])"
      ]
     },
     "execution_count": 8,
     "metadata": {},
     "output_type": "execute_result"
    }
   ],
   "source": [
    "Y_clone = clone(X)\n",
    "Y_clone == Y"
   ]
  },
  {
   "cell_type": "markdown",
   "metadata": {
    "origin_pos": 32
   },
   "source": [
    "## Sumário\n",
    "\n",
    "* As funções `save` e `load` podem ser usadas para executar E/S de arquivo para objetos tensores.\n",
    "* Podemos salvar e carregar todos os conjuntos de parâmetros de uma rede por meio de um dicionário de parâmetros.\n",
    "* Salvar a arquitetura deve ser feito em código e não em parâmetros.\n",
    "\n",
    "## Exercícios\n",
    "\n",
    "1. Mesmo se não houver necessidade de implantar modelos treinados em um dispositivo diferente, quais são os benefícios práticos de armazenar parâmetros de modelo?\n",
    "1. Suponha que desejamos reutilizar apenas partes de uma rede para serem incorporadas a uma rede de arquitetura diferente. Como você usaria, digamos, as duas primeiras camadas de uma rede anterior em uma nova rede?\n",
    "1. Como você salvaria a arquitetura e os parâmetros da rede? Que restrições você imporia à arquitetura?\n"
   ]
  },
  {
   "cell_type": "markdown",
   "metadata": {
    "origin_pos": 33,
    "tab": [
     "mxnet"
    ]
   },
   "source": [
    "[Discussão](https://discuss.d2l.ai/t/60)\n"
   ]
  },
  {
   "cell_type": "markdown",
   "metadata": {
    "origin_pos": 36
   },
   "source": [
    "<!--stackedit_data:\n",
    "eyJoaXN0b3J5IjpbMzc3NjU2MDM4XX0=\n",
    "-->\n"
   ]
  }
 ],
 "metadata": {
  "kernelspec": {
   "display_name": "conda_mxnet_p36",
   "name": "conda_mxnet_p36"
  },
  "language_info": {
   "name": "python"
  }
 },
 "nbformat": 4,
 "nbformat_minor": 4
}