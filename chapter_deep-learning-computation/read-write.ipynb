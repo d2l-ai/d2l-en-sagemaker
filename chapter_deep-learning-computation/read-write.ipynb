{
 "cells": [
  {
   "cell_type": "markdown",
   "id": "2908e273",
   "metadata": {},
   "source": [
    "Installing (updating) the following libraries for your Sagemaker\n",
    "instance."
   ]
  },
  {
   "cell_type": "code",
   "execution_count": null,
   "id": "9c0d043b",
   "metadata": {},
   "outputs": [],
   "source": [
    "!pip install -U mxnet-cu101==1.7.0\n"
   ]
  },
  {
   "cell_type": "markdown",
   "id": "211db2ba",
   "metadata": {
    "origin_pos": 0
   },
   "source": [
    "# File I/O\n",
    "\n",
    "So far we discussed how to process data and how\n",
    "to build, train, and test deep learning models.\n",
    "However, at some point, we will hopefully be happy enough\n",
    "with the learned models that we will want\n",
    "to save the results for later use in various contexts\n",
    "(perhaps even to make predictions in deployment).\n",
    "Additionally, when running a long training process,\n",
    "the best practice is to periodically save intermediate results (checkpointing)\n",
    "to ensure that we do not lose several days worth of computation\n",
    "if we trip over the power cord of our server.\n",
    "Thus it is time to learn how to load and store\n",
    "both individual weight vectors and entire models.\n",
    "This section addresses both issues.\n",
    "\n",
    "## (**Loading and Saving Tensors**)\n",
    "\n",
    "For individual tensors, we can directly\n",
    "invoke the `load` and `save` functions\n",
    "to read and write them respectively.\n",
    "Both functions require that we supply a name,\n",
    "and `save` requires as input the variable to be saved.\n"
   ]
  },
  {
   "cell_type": "code",
   "execution_count": 1,
   "id": "000b4842",
   "metadata": {
    "execution": {
     "iopub.execute_input": "2022-07-10T01:00:44.589050Z",
     "iopub.status.busy": "2022-07-10T01:00:44.588409Z",
     "iopub.status.idle": "2022-07-10T01:00:46.354598Z",
     "shell.execute_reply": "2022-07-10T01:00:46.353699Z"
    },
    "origin_pos": 1,
    "tab": [
     "mxnet"
    ]
   },
   "outputs": [],
   "source": [
    "from mxnet import np, npx\n",
    "from mxnet.gluon import nn\n",
    "\n",
    "npx.set_np()\n",
    "\n",
    "x = np.arange(4)\n",
    "npx.save('x-file', x)"
   ]
  },
  {
   "cell_type": "markdown",
   "id": "05f86843",
   "metadata": {
    "origin_pos": 4
   },
   "source": [
    "We can now read the data from the stored file back into memory.\n"
   ]
  },
  {
   "cell_type": "code",
   "execution_count": 2,
   "id": "55d408c1",
   "metadata": {
    "execution": {
     "iopub.execute_input": "2022-07-10T01:00:46.359161Z",
     "iopub.status.busy": "2022-07-10T01:00:46.358361Z",
     "iopub.status.idle": "2022-07-10T01:00:46.370342Z",
     "shell.execute_reply": "2022-07-10T01:00:46.369607Z"
    },
    "origin_pos": 5,
    "tab": [
     "mxnet"
    ]
   },
   "outputs": [
    {
     "data": {
      "text/plain": [
       "[array([0., 1., 2., 3.])]"
      ]
     },
     "execution_count": 2,
     "metadata": {},
     "output_type": "execute_result"
    }
   ],
   "source": [
    "x2 = npx.load('x-file')\n",
    "x2"
   ]
  },
  {
   "cell_type": "markdown",
   "id": "362dc44f",
   "metadata": {
    "origin_pos": 8
   },
   "source": [
    "We can [**store a list of tensors and read them back into memory.**]\n"
   ]
  },
  {
   "cell_type": "code",
   "execution_count": 3,
   "id": "906f9b3a",
   "metadata": {
    "execution": {
     "iopub.execute_input": "2022-07-10T01:00:46.373817Z",
     "iopub.status.busy": "2022-07-10T01:00:46.373377Z",
     "iopub.status.idle": "2022-07-10T01:00:46.379970Z",
     "shell.execute_reply": "2022-07-10T01:00:46.379247Z"
    },
    "origin_pos": 9,
    "tab": [
     "mxnet"
    ]
   },
   "outputs": [
    {
     "data": {
      "text/plain": [
       "(array([0., 1., 2., 3.]), array([0., 0., 0., 0.]))"
      ]
     },
     "execution_count": 3,
     "metadata": {},
     "output_type": "execute_result"
    }
   ],
   "source": [
    "y = np.zeros(4)\n",
    "npx.save('x-files', [x, y])\n",
    "x2, y2 = npx.load('x-files')\n",
    "(x2, y2)"
   ]
  },
  {
   "cell_type": "markdown",
   "id": "a67f7af5",
   "metadata": {
    "origin_pos": 12
   },
   "source": [
    "We can even [**write and read a dictionary that maps\n",
    "from strings to tensors.**]\n",
    "This is convenient when we want\n",
    "to read or write all the weights in a model.\n"
   ]
  },
  {
   "cell_type": "code",
   "execution_count": 4,
   "id": "17cd2136",
   "metadata": {
    "execution": {
     "iopub.execute_input": "2022-07-10T01:00:46.383327Z",
     "iopub.status.busy": "2022-07-10T01:00:46.382893Z",
     "iopub.status.idle": "2022-07-10T01:00:46.389276Z",
     "shell.execute_reply": "2022-07-10T01:00:46.388347Z"
    },
    "origin_pos": 13,
    "tab": [
     "mxnet"
    ]
   },
   "outputs": [
    {
     "data": {
      "text/plain": [
       "{'x': array([0., 1., 2., 3.]), 'y': array([0., 0., 0., 0.])}"
      ]
     },
     "execution_count": 4,
     "metadata": {},
     "output_type": "execute_result"
    }
   ],
   "source": [
    "mydict = {'x': x, 'y': y}\n",
    "npx.save('mydict', mydict)\n",
    "mydict2 = npx.load('mydict')\n",
    "mydict2"
   ]
  },
  {
   "cell_type": "markdown",
   "id": "bb448732",
   "metadata": {
    "origin_pos": 16
   },
   "source": [
    "## [**Loading and Saving Model Parameters**]\n",
    "\n",
    "Saving individual weight vectors (or other tensors) is useful,\n",
    "but it gets very tedious if we want to save\n",
    "(and later load) an entire model.\n",
    "After all, we might have hundreds of\n",
    "parameter groups sprinkled throughout.\n",
    "For this reason the deep learning framework provides built-in functionalities\n",
    "to load and save entire networks.\n",
    "An important detail to note is that this\n",
    "saves model *parameters* and not the entire model.\n",
    "For example, if we have a 3-layer MLP,\n",
    "we need to specify the architecture separately.\n",
    "The reason for this is that the models themselves can contain arbitrary code,\n",
    "hence they cannot be serialized as naturally.\n",
    "Thus, in order to reinstate a model, we need\n",
    "to generate the architecture in code\n",
    "and then load the parameters from disk.\n",
    "(**Let us start with our familiar MLP.**)\n"
   ]
  },
  {
   "cell_type": "code",
   "execution_count": 5,
   "id": "1c825738",
   "metadata": {
    "execution": {
     "iopub.execute_input": "2022-07-10T01:00:46.394200Z",
     "iopub.status.busy": "2022-07-10T01:00:46.393336Z",
     "iopub.status.idle": "2022-07-10T01:00:46.405917Z",
     "shell.execute_reply": "2022-07-10T01:00:46.404818Z"
    },
    "origin_pos": 17,
    "tab": [
     "mxnet"
    ]
   },
   "outputs": [],
   "source": [
    "class MLP(nn.Block):\n",
    "    def __init__(self, **kwargs):\n",
    "        super(MLP, self).__init__(**kwargs)\n",
    "        self.hidden = nn.Dense(256, activation='relu')\n",
    "        self.output = nn.Dense(10)\n",
    "\n",
    "    def forward(self, x):\n",
    "        return self.output(self.hidden(x))\n",
    "\n",
    "net = MLP()\n",
    "net.initialize()\n",
    "X = np.random.uniform(size=(2, 20))\n",
    "Y = net(X)"
   ]
  },
  {
   "cell_type": "markdown",
   "id": "74080a61",
   "metadata": {
    "origin_pos": 20
   },
   "source": [
    "Next, we [**store the parameters of the model as a file**] with the name \"mlp.params\".\n"
   ]
  },
  {
   "cell_type": "code",
   "execution_count": 6,
   "id": "1f888c3d",
   "metadata": {
    "execution": {
     "iopub.execute_input": "2022-07-10T01:00:46.409866Z",
     "iopub.status.busy": "2022-07-10T01:00:46.409207Z",
     "iopub.status.idle": "2022-07-10T01:00:46.437018Z",
     "shell.execute_reply": "2022-07-10T01:00:46.435961Z"
    },
    "origin_pos": 21,
    "tab": [
     "mxnet"
    ]
   },
   "outputs": [],
   "source": [
    "net.save_parameters('mlp.params')"
   ]
  },
  {
   "cell_type": "markdown",
   "id": "a9a3fdf7",
   "metadata": {
    "origin_pos": 24
   },
   "source": [
    "To recover the model, we instantiate a clone\n",
    "of the original MLP model.\n",
    "Instead of randomly initializing the model parameters,\n",
    "we [**read the parameters stored in the file directly**].\n"
   ]
  },
  {
   "cell_type": "code",
   "execution_count": 7,
   "id": "b91fe83a",
   "metadata": {
    "execution": {
     "iopub.execute_input": "2022-07-10T01:00:46.440634Z",
     "iopub.status.busy": "2022-07-10T01:00:46.440155Z",
     "iopub.status.idle": "2022-07-10T01:00:46.446272Z",
     "shell.execute_reply": "2022-07-10T01:00:46.445436Z"
    },
    "origin_pos": 25,
    "tab": [
     "mxnet"
    ]
   },
   "outputs": [],
   "source": [
    "clone = MLP()\n",
    "clone.load_parameters('mlp.params')"
   ]
  },
  {
   "cell_type": "markdown",
   "id": "ab357e84",
   "metadata": {
    "origin_pos": 28
   },
   "source": [
    "Since both instances have the same model parameters,\n",
    "the computational result of the same input `X` should be the same.\n",
    "Let us verify this.\n"
   ]
  },
  {
   "cell_type": "code",
   "execution_count": 8,
   "id": "78b2d559",
   "metadata": {
    "execution": {
     "iopub.execute_input": "2022-07-10T01:00:46.449694Z",
     "iopub.status.busy": "2022-07-10T01:00:46.449217Z",
     "iopub.status.idle": "2022-07-10T01:00:46.457299Z",
     "shell.execute_reply": "2022-07-10T01:00:46.456210Z"
    },
    "origin_pos": 29,
    "tab": [
     "mxnet"
    ]
   },
   "outputs": [
    {
     "data": {
      "text/plain": [
       "array([[ True,  True,  True,  True,  True,  True,  True,  True,  True,\n",
       "         True],\n",
       "       [ True,  True,  True,  True,  True,  True,  True,  True,  True,\n",
       "         True]])"
      ]
     },
     "execution_count": 8,
     "metadata": {},
     "output_type": "execute_result"
    }
   ],
   "source": [
    "Y_clone = clone(X)\n",
    "Y_clone == Y"
   ]
  },
  {
   "cell_type": "markdown",
   "id": "6d1ab259",
   "metadata": {
    "origin_pos": 32
   },
   "source": [
    "## Summary\n",
    "\n",
    "* The `save` and `load` functions can be used to perform file I/O for tensor objects.\n",
    "* We can save and load the entire sets of parameters for a network via a parameter dictionary.\n",
    "* Saving the architecture has to be done in code rather than in parameters.\n",
    "\n",
    "## Exercises\n",
    "\n",
    "1. Even if there is no need to deploy trained models to a different device, what are the practical benefits of storing model parameters?\n",
    "1. Assume that we want to reuse only parts of a network to be incorporated into a network of a different architecture. How would you go about using, say the first two layers from a previous network in a new network?\n",
    "1. How would you go about saving the network architecture and parameters? What restrictions would you impose on the architecture?\n"
   ]
  },
  {
   "cell_type": "markdown",
   "id": "0fe3b06e",
   "metadata": {
    "origin_pos": 33,
    "tab": [
     "mxnet"
    ]
   },
   "source": [
    "[Discussions](https://discuss.d2l.ai/t/60)\n"
   ]
  }
 ],
 "metadata": {
  "kernelspec": {
   "display_name": "conda_mxnet_p36",
   "name": "conda_mxnet_p36"
  },
  "language_info": {
   "name": "python"
  }
 },
 "nbformat": 4,
 "nbformat_minor": 5
}