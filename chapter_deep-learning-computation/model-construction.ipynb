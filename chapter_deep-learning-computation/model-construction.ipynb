{
 "cells": [
  {
   "cell_type": "markdown",
   "metadata": {},
   "source": [
    "Installing (updating) the following libraries for your Sagemaker\n",
    "instance."
   ]
  },
  {
   "cell_type": "code",
   "execution_count": null,
   "metadata": {},
   "outputs": [],
   "source": [
    "!pip install -U mxnet-cu101==1.7.0\n"
   ]
  },
  {
   "cell_type": "markdown",
   "metadata": {
    "origin_pos": 0
   },
   "source": [
    "# Camadas e Blocos\n",
    ":label:`sec_model_construction`\n",
    "\n",
    "Quando introduzimos as redes neurais pela primeira vez,\n",
    "focamos em modelos lineares com uma única saída.\n",
    "Aqui, todo o modelo consiste em apenas um único neurônio.\n",
    "Observe que um único neurônio\n",
    "(i) leva algum conjunto de entradas;\n",
    "(ii) gera uma saída escalar correspondente;\n",
    "e (iii) tem um conjunto de parâmetros associados que podem ser atualizados\n",
    "para otimizar alguma função objetivo de interesse.\n",
    "Então, quando começamos a pensar em redes com múltiplas saídas,\n",
    "nós alavancamos a aritmética vetorizada\n",
    "para caracterizar uma camada inteira de neurônios.\n",
    "Assim como os neurônios individuais,\n",
    "camadas (i) recebem um conjunto de entradas,\n",
    "(ii) gerar resultados correspondentes,\n",
    "e (iii) são descritos por um conjunto de parâmetros ajustáveis.\n",
    "Quando trabalhamos com a regressão softmax,\n",
    "uma única camada era ela própria o modelo.\n",
    "No entanto, mesmo quando subsequentemente\n",
    "introduziu MLPs,\n",
    "ainda podemos pensar no modelo como\n",
    "mantendo esta mesma estrutura básica.\n",
    "\n",
    "Curiosamente, para MLPs,\n",
    "todo o modelo e suas camadas constituintes\n",
    "compartilham essa estrutura.\n",
    "Todo o modelo recebe entradas brutas (os recursos),\n",
    "gera resultados (as previsões),\n",
    "e possui parâmetros\n",
    "(os parâmetros combinados de todas as camadas constituintes).\n",
    "Da mesma forma, cada camada individual ingere entradas\n",
    "(fornecido pela camada anterior)\n",
    "gera saídas (as entradas para a camada subsequente),\n",
    "e possui um conjunto de parâmetros ajustáveis que são atualizados\n",
    "de acordo com o sinal que flui para trás\n",
    "da camada subsequente.\n",
    "\n",
    "Embora você possa pensar que neurônios, camadas e modelos\n",
    "dê-nos abstrações suficientes para cuidar de nossos negócios,\n",
    "Acontece que muitas vezes achamos conveniente\n",
    "para falar sobre componentes que são\n",
    "maior do que uma camada individual\n",
    "mas menor do que o modelo inteiro.\n",
    "Por exemplo, a arquitetura ResNet-152,\n",
    "que é muito popular na visão computacional,\n",
    "possui centenas de camadas.\n",
    "Essas camadas consistem em padrões repetidos de *grupos de camadas*. Implementar uma camada de rede por vez pode se tornar tedioso.\n",
    "Essa preocupação não é apenas hipotética --- tal\n",
    "padrões de projeto são comuns na prática.\n",
    "A arquitetura ResNet mencionada acima\n",
    "venceu as competições de visão computacional ImageNet e COCO 2015\n",
    "para reconhecimento e detecção :cite:`He.Zhang.Ren.ea.2016`\n",
    "e continua sendo uma arquitetura indispensável para muitas tarefas de visão.\n",
    "Arquiteturas semelhantes nas quais as camadas são organizadas\n",
    "em vários padrões repetidos\n",
    "agora são onipresentes em outros domínios,\n",
    "incluindo processamento de linguagem natural e fala.\n",
    "\n",
    "Para implementar essas redes complexas,\n",
    "introduzimos o conceito de uma rede neural *block*.\n",
    "Um bloco pode descrever uma única camada,\n",
    "um componente que consiste em várias camadas,\n",
    "ou o próprio modelo inteiro!\n",
    "Uma vantagem de trabalhar com a abstração de bloco\n",
    "é que eles podem ser combinados em artefatos maiores,\n",
    "frequentemente recursivamente. Isso é ilustrado em :numref:`fig_blocks`. Definindo o código para gerar blocos\n",
    "de complexidade arbitrária sob demanda,\n",
    "podemos escrever código surpreendentemente compacto\n",
    "e ainda implementar redes neurais complexas.\n",
    "\n",
    "![Múltiplas camadas são combinadas em blocos, formando padrões repetitivos de um modelo maior.](../img/blocks.svg)\n",
    ":label:`fig_blocks`\n",
    "\n",
    "Do ponto de vista da programação, um bloco é representado por uma *classe*.\n",
    "Qualquer subclasse dele deve definir uma função de propagação direta\n",
    "que transforma sua entrada em saída\n",
    "e deve armazenar todos os parâmetros necessários.\n",
    "Observe que alguns blocos não requerem nenhum parâmetro.\n",
    "Finalmente, um bloco deve possuir uma função de retropropagação,\n",
    "para fins de cálculo de gradientes.\n",
    "Felizmente, devido a alguma magia dos bastidores\n",
    "fornecido pela diferenciação automática\n",
    "(introduzido em :numref:`sec_autograd`)\n",
    "ao definir nosso próprio bloco,\n",
    "só precisamos nos preocupar com os parâmetros\n",
    "e a função de propagação direta.\n",
    "\n",
    "Para começar, revisitamos o código\n",
    "que usamos para implementar MLPs\n",
    "(:numref:`sec_mlp_concise`).\n",
    "O código a seguir gera uma rede\n",
    "com uma camada oculta totalmente conectada\n",
    "com 256 unidades e ativação ReLU,\n",
    "seguido por uma camada de saída totalmente conectada\n",
    "com 10 unidades (sem função de ativação).\n"
   ]
  },
  {
   "cell_type": "code",
   "execution_count": 1,
   "metadata": {
    "origin_pos": 1,
    "tab": [
     "mxnet"
    ]
   },
   "outputs": [
    {
     "data": {
      "text/plain": [
       "array([[ 0.06240274, -0.03268593,  0.02582653,  0.02254181, -0.03728798,\n",
       "        -0.04253785,  0.00540612, -0.01364185, -0.09915454, -0.02272737],\n",
       "       [ 0.02816679, -0.03341204,  0.03565665,  0.02506384, -0.04136416,\n",
       "        -0.04941844,  0.01738529,  0.01081963, -0.09932579, -0.01176296]])"
      ]
     },
     "execution_count": 1,
     "metadata": {},
     "output_type": "execute_result"
    }
   ],
   "source": [
    "from mxnet import np, npx\n",
    "from mxnet.gluon import nn\n",
    "\n",
    "npx.set_np()\n",
    "\n",
    "net = nn.Sequential()\n",
    "net.add(nn.Dense(256, activation='relu'))\n",
    "net.add(nn.Dense(10))\n",
    "net.initialize()\n",
    "\n",
    "X = np.random.uniform(size=(2, 20))\n",
    "net(X)"
   ]
  },
  {
   "cell_type": "markdown",
   "metadata": {
    "origin_pos": 4,
    "tab": [
     "mxnet"
    ]
   },
   "source": [
    "Neste exemplo, nós construímos\n",
    "nosso modelo instanciando um `nn.Sequential`,\n",
    "atribuindo o objeto retornado à variável `net`.\n",
    "Em seguida, chamamos repetidamente sua função `add`,\n",
    "anexando camadas no pedido\n",
    "que eles devem ser executados.\n",
    "Em suma, `nn.Sequential` define um tipo especial de` Block`,\n",
    "a classe que apresenta um bloco em Gluon.\n",
    "Ele mantém uma lista ordenada de `Block` constituintes.\n",
    "A função `add` simplesmente facilita\n",
    "a adição de cada `Bloco` sucessivo à lista.\n",
    "Observe que cada camada é uma instância da classe `Dense`\n",
    "que é uma subclasse de `Block`.\n",
    "A função de propagação direta (`forward`) também é notavelmente simples:\n",
    "ele encadeia cada `Block` na lista,\n",
    "passando a saída de cada um como entrada para o próximo.\n",
    "Observe que, até agora, temos invocado nossos modelos\n",
    "através da construção `net (X)` para obter seus resultados.\n",
    "Na verdade, isso é apenas um atalho para `net.forward (X)`,\n",
    "um truque Python habilidoso alcançado via\n",
    "a função `__call__` da classe` Block`.\n"
   ]
  },
  {
   "cell_type": "markdown",
   "metadata": {
    "origin_pos": 7
   },
   "source": [
    "## Um Bloco Personalizado\n",
    "\n",
    "Talvez a maneira mais fácil de desenvolver intuição\n",
    "sobre como funciona um bloco\n",
    "é implementar um nós mesmos.\n",
    "Antes de implementar nosso próprio bloco personalizado,\n",
    "resumimos brevemente a funcionalidade básica\n",
    "que cada bloco deve fornecer:\n",
    "\n",
    "1. Ingerir dados de entrada como argumentos para sua função de propagação direta.\n",
    "1. Gere uma saída fazendo com que a função de propagação direta retorne um valor. Observe que a saída pode ter uma forma diferente da entrada. Por exemplo, a primeira camada totalmente conectada em nosso modelo acima ingere uma entrada de dimensão arbitrária, mas retorna uma saída de dimensão 256.\n",
    "1. Calcule o gradiente de sua saída em relação à sua entrada, que pode ser acessado por meio de sua função de retropropagação. Normalmente, isso acontece automaticamente.\n",
    "1. Armazene e forneça acesso aos parâmetros necessários\n",
    "    para executar o cálculo de propagação direta.\n",
    "1. Inicialize os parâmetros do modelo conforme necessário.\n",
    "\n",
    "No seguinte trecho de código,\n",
    "nós codificamos um bloco do zero\n",
    "correspondendo a um MLP\n",
    "com uma camada oculta com 256 unidades ocultas,\n",
    "e uma camada de saída de 10 dimensões.\n",
    "Observe que a classe `MLP` abaixo herda a classe que representa um bloco.\n",
    "Vamos contar muito com as funções da classe pai,\n",
    "fornecendo apenas nosso próprio construtor (a função `__init__` em Python) e a função de propagação direta.\n"
   ]
  },
  {
   "cell_type": "code",
   "execution_count": 2,
   "metadata": {
    "origin_pos": 8,
    "tab": [
     "mxnet"
    ]
   },
   "outputs": [],
   "source": [
    "class MLP(nn.Block):\n",
    "    # Declare uma camada com parâmetros de modelo.\n",
    "    # Aqui, nós declaramos duas camadas completamente conectadas\n",
    "    def __init__(self, **kwargs):\n",
    "        # Chame o construtor da classe pai `MLP` `Block` para realizar\n",
    "        # as inicializações necessárias. Desta forma, outros argumentos das funções\n",
    "        # também podem ser especificados durante a instalação da classe,\n",
    "        # da mesma forma que os parâmetros do modelo, 'params' (a ser descrito posteriormente)\n",
    "        super().__init__(**kwargs)\n",
    "        self.hidden = nn.Dense(256, activation='relu')  # Hidden layer\n",
    "        self.out = nn.Dense(10)  # Output layer\n",
    "\n",
    "    # Defina a propagação direta do modelo, ou seja, como retornar\n",
    "    # a saída do modelo requirido baseado na entrada 'X'\n",
    "    def forward(self, X):\n",
    "        return self.out(self.hidden(X))"
   ]
  },
  {
   "cell_type": "markdown",
   "metadata": {
    "origin_pos": 11
   },
   "source": [
    "Vamos primeiro nos concentrar na função de propagação direta.\n",
    "Observe que leva `X` como entrada,\n",
    "calcula a representação oculta\n",
    "com a função de ativação aplicada,\n",
    "e produz seus *logits*.\n",
    "Nesta implementação `MLP`,\n",
    "ambas as camadas são variáveis de instância.\n",
    "Para ver por que isso é razoável, imagine\n",
    "instanciando dois MLPs, `net1` e` net2`,\n",
    "e treiná-los em dados diferentes.\n",
    "Naturalmente, esperaríamos que eles\n",
    "para representar dois modelos aprendidos diferentes.\n",
    "\n",
    "Nós instanciamos as camadas do MLP\n",
    "no construtor\n",
    "e posteriormente invocar essas camadas\n",
    "em cada chamada para a função de propagação direta.\n",
    "Observe alguns detalhes importantes:\n",
    "Primeiro, nossa função `__init__` personalizada\n",
    "invoca a função `__init__` da classe pai\n",
    "via `super().__ init __()`\n",
    "poupando-nos da dor de reafirmar o\n",
    "código padrão aplicável à maioria dos blocos.\n",
    "Em seguida, instanciamos nossas duas camadas totalmente conectadas,\n",
    "atribuindo-os a `self.hidden` e` self.out`.\n",
    "Observe que, a menos que implementemos um novo operador,\n",
    "não precisamos nos preocupar com a função de *backpropagation*\n",
    "ou inicialização de parâmetro.\n",
    "O sistema irá gerar essas funções automaticamente.\n",
    "Vamos tentar fazer isso.\n"
   ]
  },
  {
   "cell_type": "code",
   "execution_count": 3,
   "metadata": {
    "origin_pos": 12,
    "tab": [
     "mxnet"
    ]
   },
   "outputs": [
    {
     "data": {
      "text/plain": [
       "array([[-0.03989595, -0.10414709,  0.06799038,  0.05245074,  0.0252606 ,\n",
       "        -0.00640342,  0.04182098, -0.01665318, -0.02067345, -0.07863816],\n",
       "       [-0.03612847, -0.07210435,  0.09159479,  0.07890773,  0.02494171,\n",
       "        -0.01028665,  0.01732427, -0.02843244,  0.03772651, -0.06671703]])"
      ]
     },
     "execution_count": 3,
     "metadata": {},
     "output_type": "execute_result"
    }
   ],
   "source": [
    "net = MLP()\n",
    "net.initialize()\n",
    "net(X)"
   ]
  },
  {
   "cell_type": "markdown",
   "metadata": {
    "origin_pos": 15
   },
   "source": [
    "Uma virtude fundamental da abstração em bloco é sua versatilidade.\n",
    "Podemos criar uma subclasse de um bloco para criar camadas\n",
    "(como a classe de camada totalmente conectada),\n",
    "modelos inteiros (como a classe `MLP` acima),\n",
    "ou vários componentes de complexidade intermediária.\n",
    "Nós exploramos essa versatilidade\n",
    "ao longo dos capítulos seguintes,\n",
    "como ao abordar\n",
    "redes neurais convolucionais.\n",
    "\n",
    "\n",
    "## O Bloco Sequencial\n",
    "\n",
    "Agora podemos dar uma olhada mais de perto\n",
    "em como a classe `Sequential` funciona.\n",
    "Lembre-se de que `Sequential` foi projetado\n",
    "para conectar outros blocos em série.\n",
    "Para construir nosso próprio `MySequential` simplificado,\n",
    "só precisamos definir duas funções principais:\n",
    "1. Uma função para anexar um blocos a uma lista.\n",
    "2. Uma função de propagação direta para passar uma entrada através da cadeia de blocos, na mesma ordem em que foram acrescentados.\n",
    "\n",
    "A seguinte classe `MySequential` oferece o mesmo\n",
    "funcionalidade da classe `Sequential` padrão.\n"
   ]
  },
  {
   "cell_type": "code",
   "execution_count": 4,
   "metadata": {
    "origin_pos": 16,
    "tab": [
     "mxnet"
    ]
   },
   "outputs": [],
   "source": [
    "class MySequential(nn.Block):\n",
    "    def add(self, block):\n",
    "        # Here, `block` is an instance of a `Block` subclass, and we assume\n",
    "        #\n",
    "        # that it has a unique name. We save it in the member variable\n",
    "        #\n",
    "        # `_children` of the `Block` class, and its type is OrderedDict. When\n",
    "        #\n",
    "        # the `MySequential` instance calls the `initialize` function, the\n",
    "        #\n",
    "        # system automatically initializes all members of `_children`\n",
    "        #\n",
    "        self._children[block.name] = block\n",
    "\n",
    "    def forward(self, X):\n",
    "        # OrderedDict guarantees that members will be traversed in the order\n",
    "        #\n",
    "        # they were added\n",
    "        #\n",
    "        for block in self._children.values():\n",
    "            X = block(X)\n",
    "        return X"
   ]
  },
  {
   "cell_type": "markdown",
   "metadata": {
    "origin_pos": 19,
    "tab": [
     "mxnet"
    ]
   },
   "source": [
    "A função `add` adiciona um único bloco\n",
    "para o dicionário ordenado `_children`.\n",
    "Você deve estar se perguntando por que todo bloco de Gluon\n",
    "possui um atributo `_children`\n",
    "e por que o usamos em vez de apenas\n",
    "definir uma lista Python nós mesmos.\n",
    "Resumindo, a principal vantagem das `_children`\n",
    "é que durante a inicialização do parâmetro do nosso bloco,\n",
    "Gluon sabe olhar dentro do dicionário `_children` para encontrar sub-blocos cujo\n",
    "os parâmetros também precisam ser inicializados.\n"
   ]
  },
  {
   "cell_type": "markdown",
   "metadata": {
    "origin_pos": 21
   },
   "source": [
    "Quando a função de propagação direta de nosso `MySequential` é invocada,\n",
    "cada bloco adicionado é executado\n",
    "na ordem em que foram adicionados.\n",
    "Agora podemos reimplementar um MLP\n",
    "usando nossa classe `MySequential`.\n"
   ]
  },
  {
   "cell_type": "code",
   "execution_count": 5,
   "metadata": {
    "origin_pos": 22,
    "tab": [
     "mxnet"
    ]
   },
   "outputs": [
    {
     "data": {
      "text/plain": [
       "array([[-0.0764568 , -0.01130233,  0.04952145, -0.04651389, -0.04131571,\n",
       "        -0.05884131, -0.06213811,  0.01311471, -0.01379425, -0.02514282],\n",
       "       [-0.05124623,  0.00711232, -0.00155933, -0.07555379, -0.06675334,\n",
       "        -0.01762914,  0.00589085,  0.0144719 , -0.04330775,  0.03317727]])"
      ]
     },
     "execution_count": 5,
     "metadata": {},
     "output_type": "execute_result"
    }
   ],
   "source": [
    "net = MySequential()\n",
    "net.add(nn.Dense(256, activation='relu'))\n",
    "net.add(nn.Dense(10))\n",
    "net.initialize()\n",
    "net(X)"
   ]
  },
  {
   "cell_type": "markdown",
   "metadata": {
    "origin_pos": 25
   },
   "source": [
    "Observe que este uso de `MySequential`\n",
    "é idêntico ao código que escrevemos anteriormente\n",
    "para a classe `Sequential`\n",
    "(conforme descrito em :numref:`sec_mlp_concise`).\n",
    "\n",
    "## Execução de Código na Função de Propagação Direta\n",
    "\n",
    "A classe `Sequential` facilita a construção do modelo,\n",
    "nos permitindo montar novas arquiteturas\n",
    "sem ter que definir nossa própria classe.\n",
    "No entanto, nem todas as arquiteturas são cadeias simples.\n",
    "Quando uma maior flexibilidade é necessária,\n",
    "vamos querer definir nossos próprios blocos.\n",
    "Por exemplo, podemos querer executar o\n",
    "controle de fluxo do Python dentro da função de propagação direta.\n",
    "Além disso, podemos querer realizar\n",
    "operações matemáticas arbitrárias,\n",
    "não simplesmente depender de camadas de rede neural predefinidas.\n",
    "\n",
    "Você deve ter notado que até agora,\n",
    "todas as operações em nossas redes\n",
    "agiram de acordo com as ativações de nossa rede\n",
    "e seus parâmetros.\n",
    "Às vezes, no entanto, podemos querer\n",
    "incorporar termos\n",
    "que não são resultado de camadas anteriores\n",
    "nem parâmetros atualizáveis.\n",
    "Chamamos isso de *parâmetros constantes*.\n",
    "Digamos, por exemplo, que queremos uma camada\n",
    "que calcula a função\n",
    "$f(\\mathbf{x},\\mathbf{w}) = c \\cdot \\mathbf{w}^\\top \\mathbf{x}$,\n",
    "onde $\\mathbf{x}$ é a entrada, $\\mathbf{w}$ é nosso parâmetro,\n",
    "e $c$ é alguma constante especificada\n",
    "que não é atualizado durante a otimização.\n",
    "Portanto, implementamos uma classe `FixedHiddenMLP` como a seguir.\n"
   ]
  },
  {
   "cell_type": "code",
   "execution_count": 6,
   "metadata": {
    "origin_pos": 26,
    "tab": [
     "mxnet"
    ]
   },
   "outputs": [],
   "source": [
    "class FixedHiddenMLP(nn.Block):\n",
    "    def __init__(self, **kwargs):\n",
    "        super().__init__(**kwargs)\n",
    "        # Parâmetros de peso aleatórios criados com a função `get_constant`\n",
    "        # não são atualizados durante o treinamento (ou seja, parâmetros constantes)\n",
    "        self.rand_weight = self.params.get_constant(\n",
    "            'rand_weight', np.random.uniform(size=(20, 20)))\n",
    "        self.dense = nn.Dense(20, activation='relu')\n",
    "\n",
    "    def forward(self, X):\n",
    "        X = self.dense(X)\n",
    "        # Use os parâmetros constantes criados, bem como as funções `relu` e` dot`\n",
    "        X = npx.relu(np.dot(X, self.rand_weight.data()) + 1)\n",
    "        # Reutilize a camada totalmente conectada. Isso é equivalente a compartilhar\n",
    "        # parâmetros com duas camadas totalmente conectadas\n",
    "        X = self.dense(X)\n",
    "        # Control flow\n",
    "        while np.abs(X).sum() > 1:\n",
    "            X /= 2\n",
    "        return X.sum()"
   ]
  },
  {
   "cell_type": "markdown",
   "metadata": {
    "origin_pos": 29
   },
   "source": [
    "Neste modelo `FixedHiddenMLP`,\n",
    "implementamos uma camada oculta cujos pesos\n",
    "(`self.rand_weight`) são inicializados aleatoriamente\n",
    "na instanciação e daí em diante constantes.\n",
    "Este peso não é um parâmetro do modelo\n",
    "e, portanto, nunca é atualizado por *backpropagation*.\n",
    "A rede então passa a saída desta camada \"fixa\"\n",
    "através de uma camada totalmente conectada.\n",
    "\n",
    "Observe que antes de retornar a saída,\n",
    "nosso modelo fez algo incomum.\n",
    "Executamos um *loop while*, testando\n",
    "na condição de que sua norma $L_1$ seja maior que $1$,\n",
    "e dividindo nosso vetor de produção por $2$\n",
    "até que satisfizesse a condição.\n",
    "Finalmente, retornamos a soma das entradas em `X`.\n",
    "Até onde sabemos, nenhuma rede neural padrão\n",
    "executa esta operação.\n",
    "Observe que esta operação em particular pode não ser útil\n",
    "em qualquer tarefa do mundo real.\n",
    "Nosso objetivo é apenas mostrar como integrar\n",
    "código arbitrário no fluxo de seu\n",
    "cálculos de rede neural.\n"
   ]
  },
  {
   "cell_type": "code",
   "execution_count": 7,
   "metadata": {
    "origin_pos": 30,
    "tab": [
     "mxnet"
    ]
   },
   "outputs": [
    {
     "data": {
      "text/plain": [
       "array(0.52637565)"
      ]
     },
     "execution_count": 7,
     "metadata": {},
     "output_type": "execute_result"
    }
   ],
   "source": [
    "net = FixedHiddenMLP()\n",
    "net.initialize()\n",
    "net(X)"
   ]
  },
  {
   "cell_type": "markdown",
   "metadata": {
    "origin_pos": 32
   },
   "source": [
    "Podemos misturar e combinar vários\n",
    "maneiras de montar blocos juntos.\n",
    "No exemplo a seguir, aninhamos blocos\n",
    "de algumas maneiras criativas.\n"
   ]
  },
  {
   "cell_type": "code",
   "execution_count": 8,
   "metadata": {
    "origin_pos": 33,
    "tab": [
     "mxnet"
    ]
   },
   "outputs": [
    {
     "data": {
      "text/plain": [
       "array(0.9772054)"
      ]
     },
     "execution_count": 8,
     "metadata": {},
     "output_type": "execute_result"
    }
   ],
   "source": [
    "class NestMLP(nn.Block):\n",
    "    def __init__(self, **kwargs):\n",
    "        super().__init__(**kwargs)\n",
    "        self.net = nn.Sequential()\n",
    "        self.net.add(nn.Dense(64, activation='relu'),\n",
    "                     nn.Dense(32, activation='relu'))\n",
    "        self.dense = nn.Dense(16, activation='relu')\n",
    "\n",
    "    def forward(self, X):\n",
    "        return self.dense(self.net(X))\n",
    "\n",
    "chimera = nn.Sequential()\n",
    "chimera.add(NestMLP(), nn.Dense(20), FixedHiddenMLP())\n",
    "chimera.initialize()\n",
    "chimera(X)"
   ]
  },
  {
   "cell_type": "markdown",
   "metadata": {
    "origin_pos": 36
   },
   "source": [
    "## Eficiência\n"
   ]
  },
  {
   "cell_type": "markdown",
   "metadata": {
    "origin_pos": 37,
    "tab": [
     "mxnet"
    ]
   },
   "source": [
    "O leitor ávido pode começar a se preocupar\n",
    "sobre a eficiência de algumas dessas operações.\n",
    "Afinal, temos muitas pesquisas de dicionário,\n",
    "execução de código e muitas outras coisas Pythônicas\n",
    "ocorrendo no que deveria ser\n",
    "uma biblioteca de *Deep Learning* de alto desempenho.\n",
    "Os problemas do [Bloqueio do Interprete Global](https://wiki.python.org/moin/GlobalInterpreterLock) do Python são bem conhecidos.\n",
    "No contexto de *Deep Learning*,\n",
    "podemos nos preocupar que nossas GPU(s) extremamente rápidas\n",
    "pode ter que esperar até uma CPU insignificante\n",
    "executa o código Python antes de obter outro trabalho para ser executado.\n",
    "A melhor maneira de acelerar o Python é evitá-lo completamente.\n",
    "\n",
    "Uma maneira de o Gluon fazer isso é permitindo\n",
    "*hibridização*, que será descrita mais tarde.\n",
    "Aqui, o interpretador Python executa um bloco\n",
    "na primeira vez que é invocado.\n",
    "O tempo de execução do Gluon registra o que está acontecendo\n",
    "e, da próxima vez, provoca um curto-circuito nas chamadas para Python.\n",
    "Isso pode acelerar as coisas consideravelmente em alguns casos\n",
    "mas é preciso ter cuidado ao controlar o fluxo (como acima)\n",
    "pois conduz a diferentes ramos em diferentes passagens através da rede.\n",
    "Recomendamos que o leitor interessado verifique\n",
    "a seção de hibridização (:numref:`sec_hybridize`)\n",
    "para aprender sobre a compilação depois de terminar o capítulo atual.\n"
   ]
  },
  {
   "cell_type": "markdown",
   "metadata": {
    "origin_pos": 40
   },
   "source": [
    "## Sumário\n",
    "\n",
    "* Camadas são blocos.\n",
    "* Muitas camadas podem incluir um bloco.\n",
    "* Muitos blocos podem incluir um bloco.\n",
    "* Um bloco pode conter código.\n",
    "* Os blocos cuidam de muitas tarefas domésticas, incluindo inicialização de parâmetros e *backpropagation*.\n",
    "* As concatenações sequenciais de camadas e blocos são tratadas pelo bloco `Sequencial`.\n",
    "\n",
    "\n",
    "## Exercícios\n",
    "\n",
    "1. Que tipos de problemas ocorrerão se você alterar `MySequential` para armazenar blocos em uma lista Python?\n",
    "1. Implemente um bloco que tenha dois blocos como argumento, digamos `net1` e `net2` e retorne a saída concatenada de ambas as redes na propagação direta. Isso também é chamado de bloco paralelo.\n",
    "1. Suponha que você deseja concatenar várias instâncias da mesma rede. Implemente uma função de fábrica que gere várias instâncias do mesmo bloco e construa uma rede maior a partir dele.\n"
   ]
  },
  {
   "cell_type": "markdown",
   "metadata": {
    "origin_pos": 41,
    "tab": [
     "mxnet"
    ]
   },
   "source": [
    "[Discussions](https://discuss.d2l.ai/t/54)\n"
   ]
  },
  {
   "cell_type": "markdown",
   "metadata": {
    "origin_pos": 44
   },
   "source": [
    "<!--stackedit_data:\n",
    "eyJoaXN0b3J5IjpbLTE3MjkyMDczNzIsMTQwNjIzOTk0NiwtOD\n",
    "U2NjE0MzM3LDM1NTY2MzgxMSw4Mzc5MjY4NDcsMTc3MDI4MDk3\n",
    "NCwtMTYzNzgyOTQ5MF19\n",
    "-->\n"
   ]
  }
 ],
 "metadata": {
  "kernelspec": {
   "display_name": "conda_mxnet_p36",
   "name": "conda_mxnet_p36"
  },
  "language_info": {
   "name": "python"
  }
 },
 "nbformat": 4,
 "nbformat_minor": 4
}