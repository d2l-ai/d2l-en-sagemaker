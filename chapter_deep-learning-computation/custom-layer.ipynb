{
 "cells": [
  {
   "cell_type": "markdown",
   "metadata": {},
   "source": [
    "Installing (updating) the following libraries for your Sagemaker\n",
    "instance."
   ]
  },
  {
   "cell_type": "code",
   "execution_count": null,
   "metadata": {},
   "outputs": [],
   "source": [
    "!pip install -U mxnet-cu101==1.7.0\n"
   ]
  },
  {
   "cell_type": "markdown",
   "metadata": {
    "origin_pos": 0
   },
   "source": [
    "# Camadas Personalizadas\n",
    "\n",
    "Um fator por trás do sucesso do *Deep Learning*\n",
    "é a disponibilidade de uma ampla gama de camadas\n",
    "que pode ser composto de maneiras criativas\n",
    "projetar arquiteturas adequadas\n",
    "para uma ampla variedade de tarefas.\n",
    "Por exemplo, os pesquisadores inventaram camadas\n",
    "especificamente para lidar com imagens, texto,\n",
    "loop sobre dados sequenciais,\n",
    "e\n",
    "realizando programação dinâmica.\n",
    "Mais cedo ou mais tarde, você encontrará ou inventará\n",
    "uma camada que ainda não existe na estrutura de *Deep Learning*.\n",
    "Nesses casos, você deve construir uma camada personalizada.\n",
    "Nesta seção, mostramos como.\n",
    "\n",
    "## Camadas Sem Parâmetros\n",
    "\n",
    "Para começar, construímos uma camada personalizada\n",
    "que não possui parâmetros próprios.\n",
    "Isso deve parecer familiar, se você se lembra de nosso\n",
    "introdução ao bloco em :numref:`sec_model_construction`.\n",
    "A seguinte classe `CenteredLayer` simplesmente\n",
    "subtrai a média de sua entrada.\n",
    "Para construí-lo, simplesmente precisamos herdar\n",
    "da classe da camada base e implementar a função de propagação direta.\n"
   ]
  },
  {
   "cell_type": "code",
   "execution_count": 1,
   "metadata": {
    "origin_pos": 1,
    "tab": [
     "mxnet"
    ]
   },
   "outputs": [],
   "source": [
    "from mxnet import np, npx\n",
    "from mxnet.gluon import nn\n",
    "\n",
    "npx.set_np()\n",
    "\n",
    "class CenteredLayer(nn.Block):\n",
    "    def __init__(self, **kwargs):\n",
    "        super().__init__(**kwargs)\n",
    "\n",
    "    def forward(self, X):\n",
    "        return X - X.mean()"
   ]
  },
  {
   "cell_type": "markdown",
   "metadata": {
    "origin_pos": 4
   },
   "source": [
    "Vamos verificar se nossa camada funciona conforme o esperado, alimentando alguns dados por meio dela.\n"
   ]
  },
  {
   "cell_type": "code",
   "execution_count": 2,
   "metadata": {
    "origin_pos": 5,
    "tab": [
     "mxnet"
    ]
   },
   "outputs": [
    {
     "data": {
      "text/plain": [
       "array([-2., -1.,  0.,  1.,  2.])"
      ]
     },
     "execution_count": 2,
     "metadata": {},
     "output_type": "execute_result"
    }
   ],
   "source": [
    "layer = CenteredLayer()\n",
    "layer(np.array([1, 2, 3, 4, 5]))"
   ]
  },
  {
   "cell_type": "markdown",
   "metadata": {
    "origin_pos": 8
   },
   "source": [
    "Agora podemos incorporar nossa camada como um componente\n",
    "na construção de modelos mais complexos.\n"
   ]
  },
  {
   "cell_type": "code",
   "execution_count": 3,
   "metadata": {
    "origin_pos": 9,
    "tab": [
     "mxnet"
    ]
   },
   "outputs": [],
   "source": [
    "net = nn.Sequential()\n",
    "net.add(nn.Dense(128), CenteredLayer())\n",
    "net.initialize()"
   ]
  },
  {
   "cell_type": "markdown",
   "metadata": {
    "origin_pos": 12
   },
   "source": [
    "Como uma verificação extra de sanidade, podemos enviar dados aleatórios\n",
    "através da rede e verificar se a média é de fato 0.\n",
    "Porque estamos lidando com números de ponto flutuante,\n",
    "ainda podemos ver um número muito pequeno diferente de zero\n",
    "devido à quantização.\n"
   ]
  },
  {
   "cell_type": "code",
   "execution_count": 4,
   "metadata": {
    "origin_pos": 13,
    "tab": [
     "mxnet"
    ]
   },
   "outputs": [
    {
     "data": {
      "text/plain": [
       "array(3.783498e-10)"
      ]
     },
     "execution_count": 4,
     "metadata": {},
     "output_type": "execute_result"
    }
   ],
   "source": [
    "Y = net(np.random.uniform(size=(4, 8)))\n",
    "Y.mean()"
   ]
  },
  {
   "cell_type": "markdown",
   "metadata": {
    "origin_pos": 16
   },
   "source": [
    "## Camadas com Parâmetros\n",
    "\n",
    "Agora que sabemos como definir camadas simples,\n",
    "vamos prosseguir para a definição de camadas com parâmetros\n",
    "que pode ser ajustado por meio de treinamento.\n",
    "Podemos usar funções integradas para criar parâmetros, que\n",
    "fornecem algumas funcionalidades básicas de manutenção.\n",
    "Em particular, eles governam o acesso, inicialização,\n",
    "compartilhar, salvar e carregar parâmetros do modelo.\n",
    "Dessa forma, entre outros benefícios, não precisaremos escrever\n",
    "rotinas de serialização personalizadas para cada camada personalizada.\n",
    "\n",
    "Agora, vamos implementar nossa própria versão da camada totalmente conectada.\n",
    "Lembre-se de que esta camada requer dois parâmetros,\n",
    "um para representar o peso e outro para o viés.\n",
    "Nesta implementação, preparamos a ativação do ReLU como padrão.\n",
    "Esta camada requer a entrada de argumentos: `in_units` e `units`, que\n",
    "denotam o número de entradas e saídas, respectivamente.\n"
   ]
  },
  {
   "cell_type": "code",
   "execution_count": 5,
   "metadata": {
    "origin_pos": 17,
    "tab": [
     "mxnet"
    ]
   },
   "outputs": [],
   "source": [
    "class MyDense(nn.Block):\n",
    "    def __init__(self, units, in_units, **kwargs):\n",
    "        super().__init__(**kwargs)\n",
    "        self.weight = self.params.get('weight', shape=(in_units, units))\n",
    "        self.bias = self.params.get('bias', shape=(units,))\n",
    "\n",
    "    def forward(self, x):\n",
    "        linear = np.dot(x, self.weight.data(ctx=x.ctx)) + self.bias.data(\n",
    "            ctx=x.ctx)\n",
    "        return npx.relu(linear)"
   ]
  },
  {
   "cell_type": "markdown",
   "metadata": {
    "origin_pos": 20
   },
   "source": [
    "Em seguida, instanciamos a classe `MyDense`\n",
    "e acessar seus parâmetros de modelo.\n"
   ]
  },
  {
   "cell_type": "code",
   "execution_count": 6,
   "metadata": {
    "origin_pos": 21,
    "tab": [
     "mxnet"
    ]
   },
   "outputs": [
    {
     "data": {
      "text/plain": [
       "mydense0_ (\n",
       "  Parameter mydense0_weight (shape=(5, 3), dtype=<class 'numpy.float32'>)\n",
       "  Parameter mydense0_bias (shape=(3,), dtype=<class 'numpy.float32'>)\n",
       ")"
      ]
     },
     "execution_count": 6,
     "metadata": {},
     "output_type": "execute_result"
    }
   ],
   "source": [
    "dense = MyDense(units=3, in_units=5)\n",
    "dense.params"
   ]
  },
  {
   "cell_type": "markdown",
   "metadata": {
    "origin_pos": 24
   },
   "source": [
    "Podemos realizar cálculos de propagação direta usando camadas personalizadas.\n"
   ]
  },
  {
   "cell_type": "code",
   "execution_count": 7,
   "metadata": {
    "origin_pos": 25,
    "tab": [
     "mxnet"
    ]
   },
   "outputs": [
    {
     "data": {
      "text/plain": [
       "array([[0.        , 0.01633355, 0.        ],\n",
       "       [0.        , 0.01581812, 0.        ]])"
      ]
     },
     "execution_count": 7,
     "metadata": {},
     "output_type": "execute_result"
    }
   ],
   "source": [
    "dense.initialize()\n",
    "dense(np.random.uniform(size=(2, 5)))"
   ]
  },
  {
   "cell_type": "markdown",
   "metadata": {
    "origin_pos": 28
   },
   "source": [
    "Também podemos construir modelos usando camadas personalizadas.\n",
    "Assim que tivermos isso, podemos usá-lo como a camada totalmente conectada integrada.\n"
   ]
  },
  {
   "cell_type": "code",
   "execution_count": 8,
   "metadata": {
    "origin_pos": 29,
    "tab": [
     "mxnet"
    ]
   },
   "outputs": [
    {
     "data": {
      "text/plain": [
       "array([[0.06508517],\n",
       "       [0.0615553 ]])"
      ]
     },
     "execution_count": 8,
     "metadata": {},
     "output_type": "execute_result"
    }
   ],
   "source": [
    "net = nn.Sequential()\n",
    "net.add(MyDense(8, in_units=64),\n",
    "        MyDense(1, in_units=8))\n",
    "net.initialize()\n",
    "net(np.random.uniform(size=(2, 64)))"
   ]
  },
  {
   "cell_type": "markdown",
   "metadata": {
    "origin_pos": 32
   },
   "source": [
    "## Sumário\n",
    "\n",
    "* Podemos projetar camadas personalizadas por meio da classe de camada básica. Isso nos permite definir novas camadas flexíveis que se comportam de maneira diferente de quaisquer camadas existentes na biblioteca.\n",
    "* Uma vez definidas, as camadas personalizadas podem ser chamadas em contextos e arquiteturas arbitrários.\n",
    "* As camadas podem ter parâmetros locais, que podem ser criados por meio de funções integradas.\n",
    "\n",
    "\n",
    "## Exercícios\n",
    "\n",
    "3. Projete uma camada que recebe uma entrada e calcula uma redução de tensor,\n",
    "    ou seja, ele retorna $y_k = \\sum_{i, j} W_{ijk} x_i x_j$.\n",
    "4. Projete uma camada que retorne a metade anterior dos coeficientes de Fourier dos dados.\n"
   ]
  },
  {
   "cell_type": "markdown",
   "metadata": {
    "origin_pos": 33,
    "tab": [
     "mxnet"
    ]
   },
   "source": [
    "[Discussão](https://discuss.d2l.ai/t/58)\n"
   ]
  },
  {
   "cell_type": "markdown",
   "metadata": {
    "origin_pos": 36
   },
   "source": [
    "<!--stackedit_data:\n",
    "eyJoaXN0b3J5IjpbMTE0MTM0NDQ0OSw2MzczMzk3NTZdfQ==\n",
    "-->\n"
   ]
  }
 ],
 "metadata": {
  "kernelspec": {
   "display_name": "conda_mxnet_p36",
   "name": "conda_mxnet_p36"
  },
  "language_info": {
   "name": "python"
  }
 },
 "nbformat": 4,
 "nbformat_minor": 4
}