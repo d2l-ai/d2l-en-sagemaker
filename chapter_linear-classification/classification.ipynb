{
 "cells": [
  {
   "cell_type": "markdown",
   "id": "a2486421",
   "metadata": {},
   "source": [
    "Installing (updating) the following libraries for your Sagemaker\n",
    "instance."
   ]
  },
  {
   "cell_type": "code",
   "execution_count": null,
   "id": "98adc4c0",
   "metadata": {},
   "outputs": [],
   "source": [
    "!pip install ..  # installing d2l\n",
    "!pip install -U mxnet-cu112==1.9.1\n"
   ]
  },
  {
   "cell_type": "markdown",
   "id": "69109b28",
   "metadata": {
    "origin_pos": 1
   },
   "source": [
    "# The Base Classification Model\n",
    ":label:`sec_classification`\n",
    "\n",
    "You may have noticed that the implementations from scratch and the concise implementation using framework functionality were quite similar in the case of regression. The same is true for classification. Since many models in this book deal with classification, it is worth adding functionalities to support this setting specifically. This section provides a base class for classification models to simplify future code.\n"
   ]
  },
  {
   "cell_type": "code",
   "execution_count": 1,
   "id": "9694e5ee",
   "metadata": {
    "execution": {
     "iopub.execute_input": "2023-08-18T22:02:38.273406Z",
     "iopub.status.busy": "2023-08-18T22:02:38.272664Z",
     "iopub.status.idle": "2023-08-18T22:02:40.942689Z",
     "shell.execute_reply": "2023-08-18T22:02:40.941650Z"
    },
    "origin_pos": 2,
    "tab": [
     "mxnet"
    ]
   },
   "outputs": [],
   "source": [
    "from mxnet import autograd, gluon, np, npx\n",
    "from d2l import mxnet as d2l\n",
    "\n",
    "npx.set_np()"
   ]
  },
  {
   "cell_type": "markdown",
   "id": "dabd432e",
   "metadata": {
    "origin_pos": 6
   },
   "source": [
    "## The `Classifier` Class\n"
   ]
  },
  {
   "cell_type": "markdown",
   "id": "1d2ca493",
   "metadata": {
    "origin_pos": 7,
    "tab": [
     "mxnet"
    ]
   },
   "source": [
    "We define the `Classifier` class below. In the `validation_step` we report both the loss value and the classification accuracy on a validation batch. We draw an update for every `num_val_batches` batches. This has the benefit of generating the averaged loss and accuracy on the whole validation data. These average numbers are not exactly correct if the final batch contains fewer examples, but we ignore this minor difference to keep the code simple.\n"
   ]
  },
  {
   "cell_type": "code",
   "execution_count": 2,
   "id": "3abea389",
   "metadata": {
    "execution": {
     "iopub.execute_input": "2023-08-18T22:02:40.947275Z",
     "iopub.status.busy": "2023-08-18T22:02:40.946560Z",
     "iopub.status.idle": "2023-08-18T22:02:40.952599Z",
     "shell.execute_reply": "2023-08-18T22:02:40.951745Z"
    },
    "origin_pos": 9,
    "tab": [
     "mxnet"
    ]
   },
   "outputs": [],
   "source": [
    "class Classifier(d2l.Module):  #@save\n",
    "    \"\"\"The base class of classification models.\"\"\"\n",
    "    def validation_step(self, batch):\n",
    "        Y_hat = self(*batch[:-1])\n",
    "        self.plot('loss', self.loss(Y_hat, batch[-1]), train=False)\n",
    "        self.plot('acc', self.accuracy(Y_hat, batch[-1]), train=False)"
   ]
  },
  {
   "cell_type": "markdown",
   "id": "d0c12745",
   "metadata": {
    "origin_pos": 11
   },
   "source": [
    "By default we use a stochastic gradient descent optimizer, operating on minibatches, just as we did in the context of linear regression.\n"
   ]
  },
  {
   "cell_type": "code",
   "execution_count": 3,
   "id": "d3280f11",
   "metadata": {
    "execution": {
     "iopub.execute_input": "2023-08-18T22:02:40.956428Z",
     "iopub.status.busy": "2023-08-18T22:02:40.955828Z",
     "iopub.status.idle": "2023-08-18T22:02:40.960877Z",
     "shell.execute_reply": "2023-08-18T22:02:40.959886Z"
    },
    "origin_pos": 12,
    "tab": [
     "mxnet"
    ]
   },
   "outputs": [],
   "source": [
    "@d2l.add_to_class(d2l.Module)  #@save\n",
    "def configure_optimizers(self):\n",
    "    params = self.parameters()\n",
    "    if isinstance(params, list):\n",
    "        return d2l.SGD(params, self.lr)\n",
    "    return gluon.Trainer(params, 'sgd', {'learning_rate': self.lr})"
   ]
  },
  {
   "cell_type": "markdown",
   "id": "4de2450b",
   "metadata": {
    "origin_pos": 16
   },
   "source": [
    "## Accuracy\n",
    "\n",
    "Given the predicted probability distribution `y_hat`,\n",
    "we typically choose the class with the highest predicted probability\n",
    "whenever we must output a hard prediction.\n",
    "Indeed, many applications require that we make a choice.\n",
    "For instance, Gmail must categorize an email into \"Primary\", \"Social\", \"Updates\", \"Forums\", or \"Spam\".\n",
    "It might estimate probabilities internally,\n",
    "but at the end of the day it has to choose one among the classes.\n",
    "\n",
    "When predictions are consistent with the label class `y`, they are correct.\n",
    "The classification accuracy is the fraction of all predictions that are correct.\n",
    "Although it can be difficult to optimize accuracy directly (it is not differentiable),\n",
    "it is often the performance measure that we care about the most. It is often *the*\n",
    "relevant quantity in benchmarks. As such, we will nearly always report it when training classifiers.\n",
    "\n",
    "Accuracy is computed as follows.\n",
    "First, if `y_hat` is a matrix,\n",
    "we assume that the second dimension stores prediction scores for each class.\n",
    "We use `argmax` to obtain the predicted class by the index for the largest entry in each row.\n",
    "Then we [**compare the predicted class with the ground truth `y` elementwise.**]\n",
    "Since the equality operator `==` is sensitive to data types,\n",
    "we convert `y_hat`'s data type to match that of `y`.\n",
    "The result is a tensor containing entries of 0 (false) and 1 (true).\n",
    "Taking the sum yields the number of correct predictions.\n"
   ]
  },
  {
   "cell_type": "code",
   "execution_count": 4,
   "id": "4e9b1b2f",
   "metadata": {
    "attributes": {
     "classes": [],
     "id": "",
     "n": "9"
    },
    "execution": {
     "iopub.execute_input": "2023-08-18T22:02:40.964771Z",
     "iopub.status.busy": "2023-08-18T22:02:40.963966Z",
     "iopub.status.idle": "2023-08-18T22:02:40.969407Z",
     "shell.execute_reply": "2023-08-18T22:02:40.968607Z"
    },
    "origin_pos": 17,
    "tab": [
     "mxnet"
    ]
   },
   "outputs": [],
   "source": [
    "@d2l.add_to_class(Classifier)  #@save\n",
    "def accuracy(self, Y_hat, Y, averaged=True):\n",
    "    \"\"\"Compute the number of correct predictions.\"\"\"\n",
    "    Y_hat = Y_hat.reshape((-1, Y_hat.shape[-1]))\n",
    "    preds = Y_hat.argmax(axis=1).astype(Y.dtype)\n",
    "    compare = (preds == Y.reshape(-1)).astype(np.float32)\n",
    "    return compare.mean() if averaged else compare"
   ]
  },
  {
   "cell_type": "code",
   "execution_count": 5,
   "id": "bd3a73be",
   "metadata": {
    "attributes": {
     "classes": [],
     "id": "",
     "n": "10"
    },
    "execution": {
     "iopub.execute_input": "2023-08-18T22:02:40.972909Z",
     "iopub.status.busy": "2023-08-18T22:02:40.972302Z",
     "iopub.status.idle": "2023-08-18T22:02:40.978672Z",
     "shell.execute_reply": "2023-08-18T22:02:40.977746Z"
    },
    "origin_pos": 19,
    "tab": [
     "mxnet"
    ]
   },
   "outputs": [],
   "source": [
    "@d2l.add_to_class(d2l.Module)  #@save\n",
    "def get_scratch_params(self):\n",
    "    params = []\n",
    "    for attr in dir(self):\n",
    "        a = getattr(self, attr)\n",
    "        if isinstance(a, np.ndarray):\n",
    "            params.append(a)\n",
    "        if isinstance(a, d2l.Module):\n",
    "            params.extend(a.get_scratch_params())\n",
    "    return params\n",
    "\n",
    "@d2l.add_to_class(d2l.Module)  #@save\n",
    "def parameters(self):\n",
    "    params = self.collect_params()\n",
    "    return params if isinstance(params, gluon.parameter.ParameterDict) and len(\n",
    "        params.keys()) else self.get_scratch_params()"
   ]
  },
  {
   "cell_type": "markdown",
   "id": "a3d13d09",
   "metadata": {
    "origin_pos": 20
   },
   "source": [
    "## Summary\n",
    "\n",
    "Classification is a sufficiently common problem that it warrants its own convenience functions. Of central importance in classification is the *accuracy* of the classifier. Note that while we often care primarily about accuracy, we train classifiers to optimize a variety of other objectives for statistical and computational reasons. However, regardless of which loss function was minimized during training, it is useful to have a convenience method for assessing the accuracy of our classifier empirically. \n",
    "\n",
    "\n",
    "## Exercises\n",
    "\n",
    "1. Denote by $L_\\textrm{v}$ the validation loss, and let $L_\\textrm{v}^\\textrm{q}$ be its quick and dirty estimate computed by the loss function averaging in this section. Lastly, denote by $l_\\textrm{v}^\\textrm{b}$ the loss on the last minibatch. Express $L_\\textrm{v}$ in terms of $L_\\textrm{v}^\\textrm{q}$, $l_\\textrm{v}^\\textrm{b}$, and the sample and minibatch sizes.\n",
    "1. Show that the quick and dirty estimate $L_\\textrm{v}^\\textrm{q}$ is unbiased. That is, show that $E[L_\\textrm{v}] = E[L_\\textrm{v}^\\textrm{q}]$. Why would you still want to use $L_\\textrm{v}$ instead?\n",
    "1. Given a multiclass classification loss, denoting by $l(y,y')$ the penalty of estimating $y'$ when we see $y$ and given a probabilty $p(y \\mid x)$, formulate the rule for an optimal selection of $y'$. Hint: express the expected loss, using $l$ and $p(y \\mid x)$.\n"
   ]
  },
  {
   "cell_type": "markdown",
   "id": "efb21a14",
   "metadata": {
    "origin_pos": 21,
    "tab": [
     "mxnet"
    ]
   },
   "source": [
    "[Discussions](https://discuss.d2l.ai/t/6808)\n"
   ]
  }
 ],
 "metadata": {
  "kernelspec": {
   "display_name": "conda_mxnet_p36",
   "name": "conda_mxnet_p36"
  },
  "language_info": {
   "name": "python"
  },
  "required_libs": []
 },
 "nbformat": 4,
 "nbformat_minor": 5
}